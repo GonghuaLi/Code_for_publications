{
 "cells": [
  {
   "cell_type": "markdown",
   "metadata": {
    "hide_input": true
   },
   "source": [
    "# setwd"
   ]
  },
  {
   "cell_type": "code",
   "execution_count": 1,
   "metadata": {},
   "outputs": [
    {
     "name": "stderr",
     "output_type": "stream",
     "text": [
      "Registered S3 methods overwritten by 'tibble':\n",
      "  method     from  \n",
      "  format.tbl pillar\n",
      "  print.tbl  pillar\n",
      "\n",
      "Loading required package: lattice\n",
      "\n",
      "Loading required package: plyr\n",
      "\n",
      "Loading required package: survival\n",
      "\n",
      "Loading required package: Formula\n",
      "\n",
      "\n",
      "Attaching package: 'Hmisc'\n",
      "\n",
      "\n",
      "The following objects are masked from 'package:plyr':\n",
      "\n",
      "    is.discrete, summarize\n",
      "\n",
      "\n",
      "The following objects are masked from 'package:base':\n",
      "\n",
      "    format.pval, units\n",
      "\n",
      "\n",
      "Loading required package: ggrepel\n",
      "\n",
      "\n",
      "Attaching package: 'pracma'\n",
      "\n",
      "\n",
      "The following object is masked from 'package:Hmisc':\n",
      "\n",
      "    ceil\n",
      "\n",
      "\n",
      "Loading required package: carData\n",
      "\n",
      "\n",
      "Attaching package: 'car'\n",
      "\n",
      "\n",
      "The following object is masked from 'package:pracma':\n",
      "\n",
      "    logit\n",
      "\n",
      "\n",
      "Loading required package: limma\n",
      "\n",
      "Loading required package: Biobase\n",
      "\n",
      "Loading required package: BiocGenerics\n",
      "\n",
      "Loading required package: parallel\n",
      "\n",
      "\n",
      "Attaching package: 'BiocGenerics'\n",
      "\n",
      "\n",
      "The following objects are masked from 'package:parallel':\n",
      "\n",
      "    clusterApply, clusterApplyLB, clusterCall, clusterEvalQ,\n",
      "    clusterExport, clusterMap, parApply, parCapply, parLapply,\n",
      "    parLapplyLB, parRapply, parSapply, parSapplyLB\n",
      "\n",
      "\n",
      "The following object is masked from 'package:gridExtra':\n",
      "\n",
      "    combine\n",
      "\n",
      "\n",
      "The following object is masked from 'package:limma':\n",
      "\n",
      "    plotMA\n",
      "\n",
      "\n",
      "The following objects are masked from 'package:stats':\n",
      "\n",
      "    IQR, mad, sd, var, xtabs\n",
      "\n",
      "\n",
      "The following objects are masked from 'package:base':\n",
      "\n",
      "    anyDuplicated, append, as.data.frame, basename, cbind, colnames,\n",
      "    dirname, do.call, duplicated, eval, evalq, Filter, Find, get, grep,\n",
      "    grepl, intersect, is.unsorted, lapply, Map, mapply, match, mget,\n",
      "    order, paste, pmax, pmax.int, pmin, pmin.int, Position, rank,\n",
      "    rbind, Reduce, rownames, sapply, setdiff, sort, table, tapply,\n",
      "    union, unique, unsplit, which, which.max, which.min\n",
      "\n",
      "\n",
      "Welcome to Bioconductor\n",
      "\n",
      "    Vignettes contain introductory material; view with\n",
      "    'browseVignettes()'. To cite Bioconductor, see\n",
      "    'citation(\"Biobase\")', and for packages 'citation(\"pkgname\")'.\n",
      "\n",
      "\n",
      "\n",
      "Attaching package: 'Biobase'\n",
      "\n",
      "\n",
      "The following object is masked from 'package:Hmisc':\n",
      "\n",
      "    contents\n",
      "\n",
      "\n",
      "Loading required package: e1071\n",
      "\n",
      "\n",
      "Attaching package: 'e1071'\n",
      "\n",
      "\n",
      "The following object is masked from 'package:pracma':\n",
      "\n",
      "    sigmoid\n",
      "\n",
      "\n",
      "The following object is masked from 'package:Hmisc':\n",
      "\n",
      "    impute\n",
      "\n",
      "\n",
      "\n",
      "Attaching package: 'widgetTools'\n",
      "\n",
      "\n",
      "The following object is masked from 'package:Hmisc':\n",
      "\n",
      "    label\n",
      "\n",
      "\n",
      "\n",
      "Attaching package: 'DynDoc'\n",
      "\n",
      "\n",
      "The following object is masked from 'package:BiocGenerics':\n",
      "\n",
      "    path\n",
      "\n",
      "\n",
      "\n",
      "Attaching package: 'data.table'\n",
      "\n",
      "\n",
      "The following objects are masked from 'package:reshape2':\n",
      "\n",
      "    dcast, melt\n",
      "\n",
      "\n",
      "\n",
      "Attaching package: 'genefilter'\n",
      "\n",
      "\n",
      "The following object is masked from 'package:car':\n",
      "\n",
      "    Anova\n",
      "\n",
      "\n"
     ]
    }
   ],
   "source": [
    "options(warn = -1)    \n",
    "library(ggplot2)\n",
    "library(reshape2)\n",
    "library(Rmisc)\n",
    "library(Hmisc)\n",
    "library(EnhancedVolcano)\n",
    "library(pracma)\n",
    "library(car)\n",
    "library(ggrepel)\n",
    "library(edgeR)\n",
    "#library(org.Mmu.eg.db)\n",
    "library(grid)\n",
    "library(gridExtra)\n",
    "library(Mfuzz)\n",
    "library(M3C)\n",
    "library(preprocessCore)\n",
    "library(rlist)\n",
    "library(ggsci)\n",
    "library(scales)\n",
    "library(data.table)\n",
    "library(RColorBrewer)\n",
    "library(readxl)\n",
    "setwd(\"E:/github/code_forpublication/macaca_multiple_tissue\")\n",
    "source('./subroutines.R')\n",
    "source('./subroutines_for_MCMT_aging.R')"
   ]
  },
  {
   "cell_type": "markdown",
   "metadata": {},
   "source": [
    "# read data"
   ]
  },
  {
   "cell_type": "code",
   "execution_count": 2,
   "metadata": {},
   "outputs": [],
   "source": [
    "#whole body data\n",
    "load('./data/pro.whole.fdr0.01_v20210108_from_NOVO_remap_solid_tissues.Rdata')# pro\n",
    "load('./data/mrna.whole_v20210108_solid_tissues.Rdata')\n",
    "load('./data/met_whole_from_novo_v20210108_solid_tissues.Rdata')"
   ]
  },
  {
   "cell_type": "code",
   "execution_count": 3,
   "metadata": {},
   "outputs": [],
   "source": [
    "# tissue data\n",
    "load('./data/pro.tissues_v20210108_solid_tissues.Rdata')\n",
    "load('./data/mrna.tissues_v20210108_solid_tissues.Rdata')\n",
    "load('./data/met.tissues_v20210108_solid_tissues.Rdata')\n",
    "#remove list"
   ]
  },
  {
   "cell_type": "code",
   "execution_count": 4,
   "metadata": {},
   "outputs": [],
   "source": [
    "load('./data/met.header.all.hmdb_curated.Rdata')\n",
    "idx = !is.na(met.header.all.hmdb$hmdbid_highconfidence)\n",
    "met.header.all.hmdb.v = met.header.all.hmdb[idx,]"
   ]
  },
  {
   "cell_type": "markdown",
   "metadata": {},
   "source": [
    "# quality control"
   ]
  },
  {
   "cell_type": "code",
   "execution_count": 5,
   "metadata": {},
   "outputs": [
    {
     "data": {
      "text/html": [
       "<style>\n",
       ".list-inline {list-style: none; margin:0; padding: 0}\n",
       ".list-inline>li {display: inline-block}\n",
       ".list-inline>li:not(:last-child)::after {content: \"\\00b7\"; padding: 0 .5ex}\n",
       "</style>\n",
       "<ol class=list-inline><li>'X06080_Skin_of_back'</li><li>'X11062_Pituitary'</li><li>'X94356_Liver'</li><li>'X12092_Thyroid_gland'</li><li>'X06080_Thyroid_gland'</li><li>'X94356_Cecum'</li><li>'X16002_Adrenal_gland'</li><li>'X92338_Adrenal_gland'</li><li>'X12390_Fallopian_tube'</li><li>'X16068_Hypothalamus'</li><li>'X06070_Pancreas'</li><li>'X16086_Uterus'</li></ol>\n"
      ],
      "text/latex": [
       "\\begin{enumerate*}\n",
       "\\item 'X06080\\_Skin\\_of\\_back'\n",
       "\\item 'X11062\\_Pituitary'\n",
       "\\item 'X94356\\_Liver'\n",
       "\\item 'X12092\\_Thyroid\\_gland'\n",
       "\\item 'X06080\\_Thyroid\\_gland'\n",
       "\\item 'X94356\\_Cecum'\n",
       "\\item 'X16002\\_Adrenal\\_gland'\n",
       "\\item 'X92338\\_Adrenal\\_gland'\n",
       "\\item 'X12390\\_Fallopian\\_tube'\n",
       "\\item 'X16068\\_Hypothalamus'\n",
       "\\item 'X06070\\_Pancreas'\n",
       "\\item 'X16086\\_Uterus'\n",
       "\\end{enumerate*}\n"
      ],
      "text/markdown": [
       "1. 'X06080_Skin_of_back'\n",
       "2. 'X11062_Pituitary'\n",
       "3. 'X94356_Liver'\n",
       "4. 'X12092_Thyroid_gland'\n",
       "5. 'X06080_Thyroid_gland'\n",
       "6. 'X94356_Cecum'\n",
       "7. 'X16002_Adrenal_gland'\n",
       "8. 'X92338_Adrenal_gland'\n",
       "9. 'X12390_Fallopian_tube'\n",
       "10. 'X16068_Hypothalamus'\n",
       "11. 'X06070_Pancreas'\n",
       "12. 'X16086_Uterus'\n",
       "\n",
       "\n"
      ],
      "text/plain": [
       " [1] \"X06080_Skin_of_back\"   \"X11062_Pituitary\"      \"X94356_Liver\"         \n",
       " [4] \"X12092_Thyroid_gland\"  \"X06080_Thyroid_gland\"  \"X94356_Cecum\"         \n",
       " [7] \"X16002_Adrenal_gland\"  \"X92338_Adrenal_gland\"  \"X12390_Fallopian_tube\"\n",
       "[10] \"X16068_Hypothalamus\"   \"X06070_Pancreas\"       \"X16086_Uterus\"        "
      ]
     },
     "metadata": {},
     "output_type": "display_data"
    }
   ],
   "source": [
    "# protein remove outliners\n",
    "tmp = pro.whole\n",
    "pp = prcomp(t(tmp),cor=F)\n",
    "#p = tsne(pro.whole.std,labels=tissue.systems[pro.whole.info$tissue_en],legendtextsize = 10,dotsize = 2)\n",
    "outlinerids = c()\n",
    "thetissues = unique(pro.whole.info$tissue_en)\n",
    "for(i in 1:length(thetissues)){\n",
    "    idx = pro.whole.info$tissue_en == thetissues[i]\n",
    "    tmpinfo = pro.whole.info[idx,]\n",
    "    outx = is.outliner(pp$x[idx,1])\n",
    "    outy = is.outliner(pp$x[idx,2])\n",
    "    #outy = is.outliner(pp$x[idx,2],coef = 3)\n",
    "    if(sum(outx | outy) > 0){\n",
    "        outlinerids = c(outlinerids,rownames(tmpinfo)[outx | outy])\n",
    "    } \n",
    "}\n",
    "outlinerids\n",
    "vid = !is.element(colnames(pro.whole),outlinerids)\n",
    "pro.whole = pro.whole[,vid]\n",
    "pro.whole.info = pro.whole.info[vid,]"
   ]
  },
  {
   "cell_type": "code",
   "execution_count": 6,
   "metadata": {},
   "outputs": [
    {
     "data": {
      "text/plain": [
       "NULL"
      ]
     },
     "metadata": {},
     "output_type": "display_data"
    }
   ],
   "source": [
    "# met remove outliners\n",
    "tmp = met.whole\n",
    "pp = prcomp(t(tmp),cor=F)\n",
    "#p = tsne(met.whole.std,labels=tissue.systems[met.whole.info$tissue_en],legendtextsize = 10,dotsize = 2)\n",
    "outlinerids = c()\n",
    "thetissues = unique(met.whole.info$tissue_en)\n",
    "for(i in 1:length(thetissues)){\n",
    "    idx = met.whole.info$tissue_en == thetissues[i]\n",
    "    tmpinfo = met.whole.info[idx,]\n",
    "    outx = is.outliner(pp$x[idx,1])\n",
    "    outy = is.outliner(pp$x[idx,2])\n",
    "    #outy = is.outliner(pp$x[idx,2],coef = 3)\n",
    "    if(sum(outx | outy) > 0){\n",
    "        outlinerids = c(outlinerids,rownames(tmpinfo)[outx | outy])\n",
    "    } \n",
    "}\n",
    "outlinerids\n",
    "vid = !is.element(colnames(met.whole),outlinerids)\n",
    "met.whole = met.whole[,vid]\n",
    "met.whole.info = met.whole.info[vid,]"
   ]
  },
  {
   "cell_type": "code",
   "execution_count": 7,
   "metadata": {},
   "outputs": [
    {
     "data": {
      "text/plain": [
       "NULL"
      ]
     },
     "metadata": {},
     "output_type": "display_data"
    }
   ],
   "source": [
    "# mrna remove outliners\n",
    "tmp = mrna.whole\n",
    "pp = prcomp(t(tmp),cor=F)\n",
    "#p = tsne(mrna.whole.std,labels=tissue.systems[mrna.whole.info$tissue_en],legendtextsize = 10,dotsize = 2)\n",
    "outlinerids = c()\n",
    "thetissues = unique(mrna.whole.info$tissue_en)\n",
    "for(i in 1:length(thetissues)){\n",
    "    idx = mrna.whole.info$tissue_en == thetissues[i]\n",
    "    tmpinfo = mrna.whole.info[idx,]\n",
    "    outx = is.outliner(pp$x[idx,1])\n",
    "    outy = is.outliner(pp$x[idx,2])\n",
    "    #outy = is.outliner(pp$x[idx,2],coef = 3)\n",
    "    if(sum(outx | outy) > 0){\n",
    "        outlinerids = c(outlinerids,rownames(tmpinfo)[outx | outy])\n",
    "    } \n",
    "}\n",
    "outlinerids\n",
    "vid = !is.element(colnames(mrna.whole),outlinerids)\n",
    "mrna.whole = mrna.whole[,vid]\n",
    "mrna.whole.info = mrna.whole.info[vid,]"
   ]
  },
  {
   "cell_type": "markdown",
   "metadata": {},
   "source": [
    "# set colors"
   ]
  },
  {
   "cell_type": "code",
   "execution_count": 8,
   "metadata": {},
   "outputs": [],
   "source": [
    "alltissues = names(pro.tissues)\n",
    "\n",
    "tissue.systems = c('Integumentary','Endocrine','Brain','Respiratory','Digestive',\n",
    "             'Cardiovascular','Cardiovascular','Brain','Digestive','Endocrine',\n",
    "             'Cardiovascular','Muscle','Reproductive','Digestive','Brain',\n",
    "             'Immune','Renal','Endocrine','Digestive','Reproductive',\n",
    "             'Digestive','Brain','Muscle','Immune','Integumentary','Endocrine',\n",
    "            'Brain','Immune','Cardiovascular','Reproductive')\n",
    "names(tissue.systems) = alltissues\n",
    "tissue.color = pal_npg()(10)\n",
    "names(tissue.color) = levels(factor(tissue.systems))"
   ]
  },
  {
   "cell_type": "code",
   "execution_count": 9,
   "metadata": {},
   "outputs": [
    {
     "data": {
      "text/html": [
       "<style>\n",
       ".dl-inline {width: auto; margin:0; padding: 0}\n",
       ".dl-inline>dt, .dl-inline>dd {float: none; width: auto; display: inline-block}\n",
       ".dl-inline>dt::after {content: \":\\0020\"; padding-right: .5ex}\n",
       ".dl-inline>dt:not(:first-of-type) {padding-left: .5ex}\n",
       "</style><dl class=dl-inline><dt>Skin_of_back</dt><dd>'Integumentary'</dd><dt>Pituitary</dt><dd>'Endocrine'</dd><dt>Frontal_pole</dt><dd>'Brain'</dd><dt>Lung</dt><dd>'Respiratory'</dd><dt>Liver</dt><dd>'Digestive'</dd><dt>Arteria_cruralis</dt><dd>'Cardiovascular'</dd><dt>Femoral_vein</dt><dd>'Cardiovascular'</dd><dt>Hippocampus</dt><dd>'Brain'</dd><dt>Ileocecum</dt><dd>'Digestive'</dd><dt>Thyroid_gland</dt><dd>'Endocrine'</dd><dt>Arteria_carotis</dt><dd>'Cardiovascular'</dd><dt>Muscle</dt><dd>'Muscle'</dd><dt>Ovary</dt><dd>'Reproductive'</dd><dt>Cecum</dt><dd>'Digestive'</dd><dt>Superior_temporal_gyrus</dt><dd>'Brain'</dd><dt>Spleen</dt><dd>'Immune'</dd><dt>Kidney</dt><dd>'Renal'</dd><dt>Adrenal_gland</dt><dd>'Endocrine'</dd><dt>Duodenum</dt><dd>'Digestive'</dd><dt>Fallopian_tube</dt><dd>'Reproductive'</dd><dt>Stomach</dt><dd>'Digestive'</dd><dt>Hypothalamus</dt><dd>'Brain'</dd><dt>Heart</dt><dd>'Muscle'</dd><dt>Thymus</dt><dd>'Immune'</dd><dt>Facial_skin</dt><dd>'Integumentary'</dd><dt>Pancreas</dt><dd>'Endocrine'</dd><dt>Supramarginal_gyrus</dt><dd>'Brain'</dd><dt>Adipose</dt><dd>'Immune'</dd><dt>Aortic_arch</dt><dd>'Cardiovascular'</dd><dt>Uterus</dt><dd>'Reproductive'</dd></dl>\n"
      ],
      "text/latex": [
       "\\begin{description*}\n",
       "\\item[Skin\\textbackslash{}\\_of\\textbackslash{}\\_back] 'Integumentary'\n",
       "\\item[Pituitary] 'Endocrine'\n",
       "\\item[Frontal\\textbackslash{}\\_pole] 'Brain'\n",
       "\\item[Lung] 'Respiratory'\n",
       "\\item[Liver] 'Digestive'\n",
       "\\item[Arteria\\textbackslash{}\\_cruralis] 'Cardiovascular'\n",
       "\\item[Femoral\\textbackslash{}\\_vein] 'Cardiovascular'\n",
       "\\item[Hippocampus] 'Brain'\n",
       "\\item[Ileocecum] 'Digestive'\n",
       "\\item[Thyroid\\textbackslash{}\\_gland] 'Endocrine'\n",
       "\\item[Arteria\\textbackslash{}\\_carotis] 'Cardiovascular'\n",
       "\\item[Muscle] 'Muscle'\n",
       "\\item[Ovary] 'Reproductive'\n",
       "\\item[Cecum] 'Digestive'\n",
       "\\item[Superior\\textbackslash{}\\_temporal\\textbackslash{}\\_gyrus] 'Brain'\n",
       "\\item[Spleen] 'Immune'\n",
       "\\item[Kidney] 'Renal'\n",
       "\\item[Adrenal\\textbackslash{}\\_gland] 'Endocrine'\n",
       "\\item[Duodenum] 'Digestive'\n",
       "\\item[Fallopian\\textbackslash{}\\_tube] 'Reproductive'\n",
       "\\item[Stomach] 'Digestive'\n",
       "\\item[Hypothalamus] 'Brain'\n",
       "\\item[Heart] 'Muscle'\n",
       "\\item[Thymus] 'Immune'\n",
       "\\item[Facial\\textbackslash{}\\_skin] 'Integumentary'\n",
       "\\item[Pancreas] 'Endocrine'\n",
       "\\item[Supramarginal\\textbackslash{}\\_gyrus] 'Brain'\n",
       "\\item[Adipose] 'Immune'\n",
       "\\item[Aortic\\textbackslash{}\\_arch] 'Cardiovascular'\n",
       "\\item[Uterus] 'Reproductive'\n",
       "\\end{description*}\n"
      ],
      "text/markdown": [
       "Skin_of_back\n",
       ":   'Integumentary'Pituitary\n",
       ":   'Endocrine'Frontal_pole\n",
       ":   'Brain'Lung\n",
       ":   'Respiratory'Liver\n",
       ":   'Digestive'Arteria_cruralis\n",
       ":   'Cardiovascular'Femoral_vein\n",
       ":   'Cardiovascular'Hippocampus\n",
       ":   'Brain'Ileocecum\n",
       ":   'Digestive'Thyroid_gland\n",
       ":   'Endocrine'Arteria_carotis\n",
       ":   'Cardiovascular'Muscle\n",
       ":   'Muscle'Ovary\n",
       ":   'Reproductive'Cecum\n",
       ":   'Digestive'Superior_temporal_gyrus\n",
       ":   'Brain'Spleen\n",
       ":   'Immune'Kidney\n",
       ":   'Renal'Adrenal_gland\n",
       ":   'Endocrine'Duodenum\n",
       ":   'Digestive'Fallopian_tube\n",
       ":   'Reproductive'Stomach\n",
       ":   'Digestive'Hypothalamus\n",
       ":   'Brain'Heart\n",
       ":   'Muscle'Thymus\n",
       ":   'Immune'Facial_skin\n",
       ":   'Integumentary'Pancreas\n",
       ":   'Endocrine'Supramarginal_gyrus\n",
       ":   'Brain'Adipose\n",
       ":   'Immune'Aortic_arch\n",
       ":   'Cardiovascular'Uterus\n",
       ":   'Reproductive'\n",
       "\n"
      ],
      "text/plain": [
       "           Skin_of_back               Pituitary            Frontal_pole \n",
       "        \"Integumentary\"             \"Endocrine\"                 \"Brain\" \n",
       "                   Lung                   Liver        Arteria_cruralis \n",
       "          \"Respiratory\"             \"Digestive\"        \"Cardiovascular\" \n",
       "           Femoral_vein             Hippocampus               Ileocecum \n",
       "       \"Cardiovascular\"                 \"Brain\"             \"Digestive\" \n",
       "          Thyroid_gland         Arteria_carotis                  Muscle \n",
       "            \"Endocrine\"        \"Cardiovascular\"                \"Muscle\" \n",
       "                  Ovary                   Cecum Superior_temporal_gyrus \n",
       "         \"Reproductive\"             \"Digestive\"                 \"Brain\" \n",
       "                 Spleen                  Kidney           Adrenal_gland \n",
       "               \"Immune\"                 \"Renal\"             \"Endocrine\" \n",
       "               Duodenum          Fallopian_tube                 Stomach \n",
       "            \"Digestive\"          \"Reproductive\"             \"Digestive\" \n",
       "           Hypothalamus                   Heart                  Thymus \n",
       "                \"Brain\"                \"Muscle\"                \"Immune\" \n",
       "            Facial_skin                Pancreas     Supramarginal_gyrus \n",
       "        \"Integumentary\"             \"Endocrine\"                 \"Brain\" \n",
       "                Adipose             Aortic_arch                  Uterus \n",
       "               \"Immune\"        \"Cardiovascular\"          \"Reproductive\" "
      ]
     },
     "metadata": {},
     "output_type": "display_data"
    },
    {
     "data": {
      "text/html": [
       "<style>\n",
       ".dl-inline {width: auto; margin:0; padding: 0}\n",
       ".dl-inline>dt, .dl-inline>dd {float: none; width: auto; display: inline-block}\n",
       ".dl-inline>dt::after {content: \":\\0020\"; padding-right: .5ex}\n",
       ".dl-inline>dt:not(:first-of-type) {padding-left: .5ex}\n",
       "</style><dl class=dl-inline><dt>Brain</dt><dd>'#E64B35FF'</dd><dt>Cardiovascular</dt><dd>'#4DBBD5FF'</dd><dt>Digestive</dt><dd>'#00A087FF'</dd><dt>Endocrine</dt><dd>'#3C5488FF'</dd><dt>Immune</dt><dd>'#F39B7FFF'</dd><dt>Integumentary</dt><dd>'#8491B4FF'</dd><dt>Muscle</dt><dd>'#91D1C2FF'</dd><dt>Renal</dt><dd>'#DC0000FF'</dd><dt>Reproductive</dt><dd>'#7E6148FF'</dd><dt>Respiratory</dt><dd>'#B09C85FF'</dd></dl>\n"
      ],
      "text/latex": [
       "\\begin{description*}\n",
       "\\item[Brain] '\\#E64B35FF'\n",
       "\\item[Cardiovascular] '\\#4DBBD5FF'\n",
       "\\item[Digestive] '\\#00A087FF'\n",
       "\\item[Endocrine] '\\#3C5488FF'\n",
       "\\item[Immune] '\\#F39B7FFF'\n",
       "\\item[Integumentary] '\\#8491B4FF'\n",
       "\\item[Muscle] '\\#91D1C2FF'\n",
       "\\item[Renal] '\\#DC0000FF'\n",
       "\\item[Reproductive] '\\#7E6148FF'\n",
       "\\item[Respiratory] '\\#B09C85FF'\n",
       "\\end{description*}\n"
      ],
      "text/markdown": [
       "Brain\n",
       ":   '#E64B35FF'Cardiovascular\n",
       ":   '#4DBBD5FF'Digestive\n",
       ":   '#00A087FF'Endocrine\n",
       ":   '#3C5488FF'Immune\n",
       ":   '#F39B7FFF'Integumentary\n",
       ":   '#8491B4FF'Muscle\n",
       ":   '#91D1C2FF'Renal\n",
       ":   '#DC0000FF'Reproductive\n",
       ":   '#7E6148FF'Respiratory\n",
       ":   '#B09C85FF'\n",
       "\n"
      ],
      "text/plain": [
       "         Brain Cardiovascular      Digestive      Endocrine         Immune \n",
       "   \"#E64B35FF\"    \"#4DBBD5FF\"    \"#00A087FF\"    \"#3C5488FF\"    \"#F39B7FFF\" \n",
       " Integumentary         Muscle          Renal   Reproductive    Respiratory \n",
       "   \"#8491B4FF\"    \"#91D1C2FF\"    \"#DC0000FF\"    \"#7E6148FF\"    \"#B09C85FF\" "
      ]
     },
     "metadata": {},
     "output_type": "display_data"
    }
   ],
   "source": [
    "tissue.systems\n",
    "tissue.color"
   ]
  },
  {
   "cell_type": "code",
   "execution_count": 10,
   "metadata": {},
   "outputs": [
    {
     "data": {
      "text/html": [
       "<style>\n",
       ".list-inline {list-style: none; margin:0; padding: 0}\n",
       ".list-inline>li {display: inline-block}\n",
       ".list-inline>li:not(:last-child)::after {content: \"\\00b7\"; padding: 0 .5ex}\n",
       "</style>\n",
       "<ol class=list-inline><li>'#3B4992FF'</li><li>'#EE0000FF'</li><li>'#008B45FF'</li><li>'#631879FF'</li><li>'#008280FF'</li><li>'#BB0021FF'</li><li>'#5F559BFF'</li><li>'#A20056FF'</li><li>'#808180FF'</li><li>'#1B1919FF'</li></ol>\n"
      ],
      "text/latex": [
       "\\begin{enumerate*}\n",
       "\\item '\\#3B4992FF'\n",
       "\\item '\\#EE0000FF'\n",
       "\\item '\\#008B45FF'\n",
       "\\item '\\#631879FF'\n",
       "\\item '\\#008280FF'\n",
       "\\item '\\#BB0021FF'\n",
       "\\item '\\#5F559BFF'\n",
       "\\item '\\#A20056FF'\n",
       "\\item '\\#808180FF'\n",
       "\\item '\\#1B1919FF'\n",
       "\\end{enumerate*}\n"
      ],
      "text/markdown": [
       "1. '#3B4992FF'\n",
       "2. '#EE0000FF'\n",
       "3. '#008B45FF'\n",
       "4. '#631879FF'\n",
       "5. '#008280FF'\n",
       "6. '#BB0021FF'\n",
       "7. '#5F559BFF'\n",
       "8. '#A20056FF'\n",
       "9. '#808180FF'\n",
       "10. '#1B1919FF'\n",
       "\n",
       "\n"
      ],
      "text/plain": [
       " [1] \"#3B4992FF\" \"#EE0000FF\" \"#008B45FF\" \"#631879FF\" \"#008280FF\" \"#BB0021FF\"\n",
       " [7] \"#5F559BFF\" \"#A20056FF\" \"#808180FF\" \"#1B1919FF\""
      ]
     },
     "metadata": {},
     "output_type": "display_data"
    },
    {
     "data": {
      "image/png": "[encoded data removed]",
      "text/plain": [
       "plot without title"
      ]
     },
     "metadata": {
      "image/png": {
       "height": 420,
       "width": 420
      }
     },
     "output_type": "display_data"
    }
   ],
   "source": [
    "mypal = pal_aaas()(10)\n",
    "mypal\n",
    "show_col(mypal)"
   ]
  },
  {
   "cell_type": "markdown",
   "metadata": {},
   "source": [
    "# Figure 1： overall data distribution"
   ]
  },
  {
   "cell_type": "markdown",
   "metadata": {},
   "source": [
    "## Figure 1A flowchart"
   ]
  },
  {
   "cell_type": "code",
   "execution_count": 12,
   "metadata": {},
   "outputs": [],
   "source": [
    "# flowchart"
   ]
  },
  {
   "cell_type": "markdown",
   "metadata": {},
   "source": [
    "## Figure 1B"
   ]
  },
  {
   "cell_type": "code",
   "execution_count": 11,
   "metadata": {},
   "outputs": [],
   "source": [
    "num_omics = data.frame(num_mrna = rep(0,length(alltissues)),stringsAsFactors = F,\n",
    "                       tissues = alltissues,\n",
    "                       tissue_systems = tissue.systems,\n",
    "                      num_protein = rep(0,length(alltissues)),\n",
    "                       num_met = rep(0,length(alltissues))\n",
    "                       )\n",
    "for(i in 1:length(alltissues)){\n",
    "    num_omics$num_mrna[i] = nrow(mrna.tissues[[alltissues[i]]])\n",
    "    num_omics$num_protein[i] = nrow(pro.tissues[[alltissues[i]]])\n",
    "    num_omics$num_met[i] = nrow(met.tissues[[alltissues[i]]])\n",
    "}\n",
    "rownames(num_omics) = alltissues"
   ]
  },
  {
   "cell_type": "code",
   "execution_count": 13,
   "metadata": {},
   "outputs": [],
   "source": [
    "idx = sort.int(num_omics$num_protein,decreasing = F,index.return = T)$ix\n",
    "num_omics.v = num_omics[idx,]\n",
    "idx = sort.int(num_omics.v$tissue_systems,decreasing = F,index.return = T)$ix\n",
    "num_omics.v = num_omics.v[idx,]\n",
    "writetxt(num_omics.v[,c(2,3,1,4,5)],'./out/20230217_aging/Figure1_Overall_data_distribution/Figure_1B_number_omics_data.txt')"
   ]
  },
  {
   "cell_type": "code",
   "execution_count": 14,
   "metadata": {},
   "outputs": [
    {
     "data": {
      "text/html": [
       "<strong>png:</strong> 2"
      ],
      "text/latex": [
       "\\textbf{png:} 2"
      ],
      "text/markdown": [
       "**png:** 2"
      ],
      "text/plain": [
       "png \n",
       "  2 "
      ]
     },
     "metadata": {},
     "output_type": "display_data"
    }
   ],
   "source": [
    "idx = sort.int(num_omics$num_protein,decreasing = F,index.return = T)$ix\n",
    "num_omics.v = num_omics[idx,]\n",
    "idx = sort.int(num_omics.v$tissue_systems,decreasing = F,index.return = T)$ix\n",
    "num_omics.v = num_omics.v[idx,]\n",
    "\n",
    "pomics = list()\n",
    "pomics[[1]] = ggplot(num_omics.v,aes(x = factor(tissues,level = tissues),y = num_met,\n",
    "                       color = tissue_systems,fill = tissue_systems))+ geom_bar(stat=\"identity\")+\n",
    "theme_classic()+lghplot.addtheme(legend.position = 'none',hjust = 1,size = 13.5)+ scale_color_npg()+scale_fill_npg()+ \n",
    "theme(axis.text.x=element_blank(),axis.title.x=element_blank())+ ylab('Number of metabolites')#+ylim(0,8200)\n",
    "\n",
    "\n",
    "pomics[[2]] = ggplot(num_omics.v,aes(x = factor(tissues,level = tissues),y = num_protein,\n",
    "                       color = tissue_systems,fill = tissue_systems))+ geom_bar(stat=\"identity\")+\n",
    "theme_classic()+lghplot.addtheme(legend.position = 'none',hjust = 1,size = 13.5)+ scale_color_npg()+scale_fill_npg()+\n",
    "theme(axis.text.x=element_blank(),axis.title.x=element_blank())+\n",
    "ylab('Number of proteins')+ xlab('')#+ylim(0,8200)\n",
    "\n",
    "pomics[[3]] = ggplot(num_omics.v,aes(x = factor(tissues,level = tissues),y = num_mrna,\n",
    "                       color = tissue_systems,fill = tissue_systems))+ geom_bar(stat=\"identity\")+\n",
    "theme_classic()+lghplot.addtheme(legend.position = 'none',hjust = 1,size = 13.5)+\n",
    "theme(axis.text.y = element_text(size = 9.5, face = \"bold\", color = \"black\"))+scale_color_npg()+scale_fill_npg()+\n",
    "ylab('Number of coding mRNAs')+ xlab('')#+ylim(0,8200)\n",
    "\n",
    "pdf(file = './out/20230217_aging/Figure1_Overall_data_distribution/Figure1B_number_of_omics_mrna_pro_met.pdf',width = 12,height = 9)\n",
    "grid.arrange(arrangeGrob(grobs = pomics,ncol = 1,heights = c(2.4,2.4,4.2)))\n",
    "dev.off()"
   ]
  },
  {
   "cell_type": "code",
   "execution_count": 15,
   "metadata": {},
   "outputs": [
    {
     "data": {
      "text/html": [
       "<strong>png:</strong> 2"
      ],
      "text/latex": [
       "\\textbf{png:} 2"
      ],
      "text/markdown": [
       "**png:** 2"
      ],
      "text/plain": [
       "png \n",
       "  2 "
      ]
     },
     "metadata": {},
     "output_type": "display_data"
    }
   ],
   "source": [
    "idx = sort.int(num_omics$num_protein,decreasing = F,index.return = T)$ix\n",
    "num_omics.v = num_omics[idx,]\n",
    "idx = sort.int(num_omics.v$tissue_systems,decreasing = F,index.return = T)$ix\n",
    "num_omics.v = num_omics.v[idx,]\n",
    "\n",
    "pomics = list()\n",
    "pomics[[1]] = ggplot(num_omics.v,aes(x = factor(tissues,level = tissues),y = num_met,\n",
    "                       color = tissue_systems,fill = tissue_systems))+ geom_bar(stat=\"identity\")+\n",
    "theme_classic()+lghplot.addtheme(legend.position = 'none',hjust = 1,size = 18)+ scale_color_npg()+scale_fill_npg()+ \n",
    "theme(axis.text.x=element_blank(),axis.title.x=element_blank())+ ylab('Number of metabolites')#+ylim(0,8200)\n",
    "\n",
    "\n",
    "pomics[[2]] = ggplot(num_omics.v,aes(x = factor(tissues,level = tissues),y = num_protein,\n",
    "                       color = tissue_systems,fill = tissue_systems))+ geom_bar(stat=\"identity\")+\n",
    "theme_classic()+lghplot.addtheme(legend.position = 'none',hjust = 1,size = 18)+ scale_color_npg()+scale_fill_npg()+\n",
    "#theme(axis.text.x=element_blank(),axis.title.x=element_blank())+\n",
    "ylab('Number of proteins')+ xlab('')#+ylim(0,8200)\n",
    "\n",
    "pdf(file = './out/20230217_aging/Figure1_Overall_data_distribution/Figure1B_number_of_omicsV__promet.pdf',width = 12,height = 9)\n",
    "grid.arrange(arrangeGrob(grobs = pomics,ncol = 1,heights = c(3.2,5.8)))\n",
    "dev.off()"
   ]
  },
  {
   "cell_type": "code",
   "execution_count": 16,
   "metadata": {},
   "outputs": [
    {
     "data": {
      "text/html": [
       "16614"
      ],
      "text/latex": [
       "16614"
      ],
      "text/markdown": [
       "16614"
      ],
      "text/plain": [
       "[1] 16614"
      ]
     },
     "metadata": {},
     "output_type": "display_data"
    },
    {
     "data": {
      "text/html": [
       "14295"
      ],
      "text/latex": [
       "14295"
      ],
      "text/markdown": [
       "14295"
      ],
      "text/plain": [
       "[1] 14295"
      ]
     },
     "metadata": {},
     "output_type": "display_data"
    },
    {
     "data": {
      "text/html": [
       "5789"
      ],
      "text/latex": [
       "5789"
      ],
      "text/markdown": [
       "5789"
      ],
      "text/plain": [
       "[1] 5789"
      ]
     },
     "metadata": {},
     "output_type": "display_data"
    }
   ],
   "source": [
    "# total identified molecules\n",
    "vmrna = c()\n",
    "for (i in 1:length(mrna.tissues)){\n",
    "    vmrna = unique(c(vmrna,rownames(mrna.tissues[[i]])))\n",
    "}\n",
    "length(vmrna)\n",
    "\n",
    "\n",
    "vproteins = c()\n",
    "for (i in 1:length(pro.tissues)){\n",
    "    vproteins = unique(c(vproteins,pro.tissues.header[[i]]$Gene))\n",
    "}\n",
    "length(vproteins)\n",
    "\n",
    "vmets = c()\n",
    "for (i in 1:length(met.tissues)){\n",
    "    vmets = unique(c(vmets,rownames(met.tissues[[i]])))\n",
    "}\n",
    "length(vmets)"
   ]
  },
  {
   "cell_type": "markdown",
   "metadata": {},
   "source": [
    "## Figure 1C-1E tsne"
   ]
  },
  {
   "cell_type": "markdown",
   "metadata": {},
   "source": [
    "### mRNA"
   ]
  },
  {
   "cell_type": "code",
   "execution_count": 19,
   "metadata": {},
   "outputs": [],
   "source": [
    "### for mRNA\n",
    "mrna.whole.std = standardise_matrix(mrna.whole)"
   ]
  },
  {
   "cell_type": "code",
   "execution_count": 24,
   "metadata": {
    "collapsed": true
   },
   "outputs": [
    {
     "name": "stdout",
     "output_type": "stream",
     "text": [
      "Performing PCA\n",
      "Read the 517 x 50 data matrix successfully!\n",
      "OpenMP is working. 1 threads.\n",
      "Using no_dims = 2, perplexity = 15.000000, and theta = 0.500000\n",
      "Computing input similarities...\n",
      "Building tree...\n",
      "Done in 0.04 seconds (sparsity = 0.122586)!\n",
      "Learning embedding...\n",
      "Iteration 50: error is 60.393912 (50 iterations in 0.06 seconds)\n",
      "Iteration 100: error is 53.693089 (50 iterations in 0.04 seconds)\n",
      "Iteration 150: error is 52.086777 (50 iterations in 0.04 seconds)\n",
      "Iteration 200: error is 51.372503 (50 iterations in 0.05 seconds)\n",
      "Iteration 250: error is 50.987769 (50 iterations in 0.05 seconds)\n",
      "Iteration 300: error is 0.498514 (50 iterations in 0.04 seconds)\n",
      "Iteration 350: error is 0.394482 (50 iterations in 0.04 seconds)\n",
      "Iteration 400: error is 0.375730 (50 iterations in 0.04 seconds)\n",
      "Iteration 450: error is 0.364321 (50 iterations in 0.04 seconds)\n",
      "Iteration 500: error is 0.357608 (50 iterations in 0.04 seconds)\n",
      "Fitting performed in 0.44 seconds.\n"
     ]
    },
    {
     "data": {
      "text/html": [
       "<strong>png:</strong> 2"
      ],
      "text/latex": [
       "\\textbf{png:} 2"
      ],
      "text/markdown": [
       "**png:** 2"
      ],
      "text/plain": [
       "png \n",
       "  2 "
      ]
     },
     "metadata": {},
     "output_type": "display_data"
    }
   ],
   "source": [
    "p = tsne(mrna.whole.std,labels=tissue.systems[mrna.whole.info$tissues],legendtextsize = 10,dotsize = 2)\n",
    "p = p + theme_classic()+lghplot.addtheme(legend.position = 'none')+ scale_color_npg()+ xlab('tsne 1') + ylab('tsne 2')+\n",
    "theme(axis.line = element_line(size = 1.0))\n",
    "pdf(file =\"./out/20230217_aging/Figure1_Overall_data_distribution/Figure1C_tSNE_mrna_using_standardised.pdf\",height = 4,width = 4)\n",
    "print(p)\n",
    "dev.off()"
   ]
  },
  {
   "cell_type": "markdown",
   "metadata": {},
   "source": [
    "### protein"
   ]
  },
  {
   "cell_type": "code",
   "execution_count": 25,
   "metadata": {},
   "outputs": [
    {
     "data": {
      "text/html": [
       "3087"
      ],
      "text/latex": [
       "3087"
      ],
      "text/markdown": [
       "3087"
      ],
      "text/plain": [
       "[1] 3087"
      ]
     },
     "metadata": {},
     "output_type": "display_data"
    }
   ],
   "source": [
    "ida = rowSums(pro.whole < 0.1) < 0.2 * ncol(pro.whole)\n",
    "sum(ida)\n",
    "pro.whole.cons = pro.whole[ida,]\n",
    "pro.whole.std = standardise_matrix(pro.whole.cons)"
   ]
  },
  {
   "cell_type": "code",
   "execution_count": 28,
   "metadata": {
    "collapsed": true
   },
   "outputs": [
    {
     "name": "stdout",
     "output_type": "stream",
     "text": [
      "Performing PCA\n",
      "Read the 469 x 50 data matrix successfully!\n",
      "OpenMP is working. 1 threads.\n",
      "Using no_dims = 2, perplexity = 15.000000, and theta = 0.500000\n",
      "Computing input similarities...\n",
      "Building tree...\n",
      "Done in 0.04 seconds (sparsity = 0.140661)!\n",
      "Learning embedding...\n",
      "Iteration 50: error is 59.095186 (50 iterations in 0.04 seconds)\n",
      "Iteration 100: error is 52.564921 (50 iterations in 0.04 seconds)\n",
      "Iteration 150: error is 50.672942 (50 iterations in 0.03 seconds)\n",
      "Iteration 200: error is 49.773074 (50 iterations in 0.04 seconds)\n",
      "Iteration 250: error is 49.316013 (50 iterations in 0.03 seconds)\n",
      "Iteration 300: error is 0.312997 (50 iterations in 0.03 seconds)\n",
      "Iteration 350: error is 0.228908 (50 iterations in 0.03 seconds)\n",
      "Iteration 400: error is 0.212332 (50 iterations in 0.03 seconds)\n",
      "Iteration 450: error is 0.203496 (50 iterations in 0.03 seconds)\n",
      "Iteration 500: error is 0.196968 (50 iterations in 0.03 seconds)\n",
      "Fitting performed in 0.33 seconds.\n"
     ]
    },
    {
     "data": {
      "text/html": [
       "<strong>png:</strong> 2"
      ],
      "text/latex": [
       "\\textbf{png:} 2"
      ],
      "text/markdown": [
       "**png:** 2"
      ],
      "text/plain": [
       "png \n",
       "  2 "
      ]
     },
     "metadata": {},
     "output_type": "display_data"
    }
   ],
   "source": [
    "p = tsne(pro.whole.std,labels=tissue.systems[pro.whole.info$tissue_en],legendtextsize = 10,dotsize = 2)\n",
    "p = p + theme_classic()+lghplot.addtheme(legend.position = 'none')+ scale_color_npg()+ xlab('tsne 1') + ylab('tsne 2')\n",
    "pdf(file =\"./out/20230217_aging/Figure1_Overall_data_distribution/Figure1D_tSNE_protein_using_standardised.pdf\",height = 4,width = 4)\n",
    "print(p)\n",
    "dev.off()"
   ]
  },
  {
   "cell_type": "code",
   "execution_count": 29,
   "metadata": {},
   "outputs": [],
   "source": [
    "graphics.off()"
   ]
  },
  {
   "cell_type": "markdown",
   "metadata": {},
   "source": [
    "### metabolism"
   ]
  },
  {
   "cell_type": "code",
   "execution_count": 30,
   "metadata": {},
   "outputs": [],
   "source": [
    "met.whole.std = standardise_matrix(met.whole)"
   ]
  },
  {
   "cell_type": "code",
   "execution_count": 32,
   "metadata": {
    "collapsed": true
   },
   "outputs": [
    {
     "name": "stdout",
     "output_type": "stream",
     "text": [
      "Performing PCA\n",
      "Read the 610 x 50 data matrix successfully!\n",
      "OpenMP is working. 1 threads.\n",
      "Using no_dims = 2, perplexity = 15.000000, and theta = 0.500000\n",
      "Computing input similarities...\n",
      "Building tree...\n",
      "Done in 0.05 seconds (sparsity = 0.099731)!\n",
      "Learning embedding...\n",
      "Iteration 50: error is 68.156215 (50 iterations in 0.06 seconds)\n",
      "Iteration 100: error is 61.354362 (50 iterations in 0.05 seconds)\n",
      "Iteration 150: error is 60.481813 (50 iterations in 0.05 seconds)\n",
      "Iteration 200: error is 60.199321 (50 iterations in 0.05 seconds)\n",
      "Iteration 250: error is 60.068531 (50 iterations in 0.05 seconds)\n",
      "Iteration 300: error is 0.776201 (50 iterations in 0.04 seconds)\n",
      "Iteration 350: error is 0.626270 (50 iterations in 0.04 seconds)\n",
      "Iteration 400: error is 0.593700 (50 iterations in 0.04 seconds)\n",
      "Iteration 450: error is 0.576861 (50 iterations in 0.04 seconds)\n",
      "Iteration 500: error is 0.570540 (50 iterations in 0.04 seconds)\n",
      "Fitting performed in 0.46 seconds.\n"
     ]
    },
    {
     "data": {
      "text/html": [
       "<strong>png:</strong> 2"
      ],
      "text/latex": [
       "\\textbf{png:} 2"
      ],
      "text/markdown": [
       "**png:** 2"
      ],
      "text/plain": [
       "png \n",
       "  2 "
      ]
     },
     "metadata": {},
     "output_type": "display_data"
    }
   ],
   "source": [
    "p = tsne(met.whole.std,labels=tissue.systems[met.whole.info$Tissues],legendtextsize = 10,dotsize = 2)\n",
    "p = p + theme_classic()+lghplot.addtheme(legend.position = 'none')+ scale_color_npg()+ xlab('tsne 1') + ylab('tsne 2')+\n",
    "theme(axis.line = element_line(size = 1.0))\n",
    "pdf(file =\"./out/20230217_aging/Figure1_Overall_data_distribution/Figure1E_tSNE_met_using_std.pdf\",height = 4,width = 4)\n",
    "print(p)\n",
    "dev.off()"
   ]
  },
  {
   "cell_type": "markdown",
   "metadata": {},
   "source": [
    "# Figure 2 tissue aging DEGs and GO"
   ]
  },
  {
   "cell_type": "markdown",
   "metadata": {},
   "source": [
    "## protein "
   ]
  },
  {
   "cell_type": "code",
   "execution_count": 12,
   "metadata": {},
   "outputs": [],
   "source": [
    "DEproFC = list()\n",
    "DEproPvalue = list()\n",
    "DEproAging = list()\n",
    "DEproFC.develop = list()\n",
    "DEproPvalue.develop = list()\n",
    "for(i in 1:length(alltissues)){\n",
    "    #Mfuzz\n",
    "    thistissue = alltissues[i]\n",
    "    thispro = pro.tissues[[thistissue]]\n",
    "    thispro.header = pro.tissues.header[[thistissue]]\n",
    "    thispro = delete_dup_genes_forprotein(thispro,pro.tissues.header[[thistissue]])\n",
    "    thispro.info = pro.tissues.info[[thistissue]]\n",
    "    thisDEpro = DEGenes.simplified(thispro,catagory = thispro.info$stage == 4,\n",
    "                               subset = thispro.info$stage == 4 | thispro.info$stage == 1)\n",
    "    thisDEpro.develop = DEGenes.simplified(thispro,catagory = thispro.info$stage == 2,\n",
    "                               subset = thispro.info$stage == 2 | thispro.info$stage == 1)\n",
    "    forsort = thisDEpro$Pvalue\n",
    "    forsort[is.na(forsort)] = 1\n",
    "    idx = sort.int(forsort,decreasing = F,index.return = T)$ix\n",
    "    DEproAging[[i]] = thisDEpro[idx,-5]\n",
    "    DEproAging[[i]]$log2FC.devControl = thisDEpro.develop$log2FC\n",
    "    DEproAging[[i]]$Pvalue.devControl = thisDEpro.develop$Pvalue\n",
    "    \n",
    "    DEproFC[[i]] = thisDEpro$log2FC\n",
    "    names(DEproFC[[i]]) = rownames(thisDEpro)\n",
    "    DEproPvalue[[i]] = thisDEpro$Pvalue\n",
    "    names(DEproPvalue[[i]])  = rownames(thisDEpro)\n",
    "    \n",
    "    DEproFC.develop[[i]] = thisDEpro.develop$log2FC\n",
    "    names(DEproFC.develop[[i]]) = rownames(thisDEpro.develop)\n",
    "    DEproPvalue.develop[[i]] = thisDEpro.develop$Pvalue\n",
    "    names(DEproPvalue.develop[[i]])  = rownames(thisDEpro.develop)\n",
    "}\n",
    "names(DEproAging) = alltissues\n",
    "names(DEproFC) = alltissues\n",
    "names(DEproPvalue) = alltissues\n",
    "names(DEproFC.develop) = alltissues\n",
    "names(DEproPvalue.develop) = alltissues"
   ]
  },
  {
   "cell_type": "code",
   "execution_count": 28,
   "metadata": {},
   "outputs": [],
   "source": [
    "#xid = res2$Pvalue > 0.05 | abs(res2$log2FC) < 0.58 | res2$Pvalue.devControl < 0.05\n",
    "plot_Volcano <- function(res2, title){\n",
    "    \n",
    "\n",
    "tmpup = res2$Pvalue\n",
    "tmpup[is.na(tmpup)] = 1\n",
    "tmpup[res2$log2FC < 0] = 1\n",
    "sortid_up = sort.int(-log10(tmpup),decreasing = T,index.return = T)$ix\n",
    "tmpid.up = res2$ID[sortid_up[1:5]]\n",
    "\n",
    "tmpdown = res2$Pvalue\n",
    "tmpdown[is.na(tmpdown)] = 1\n",
    "tmpdown[res2$log2FC > 0] = 1\n",
    "sortid_down = sort.int(-log10(tmpdown),decreasing = T,index.return = T)$ix\n",
    "tmpid.down = res2$ID[sortid_down[1:5]]\n",
    "\n",
    "vid = is.element(res2$ID,c(tmpid.up,tmpid.down))\n",
    "tlab = res2$ID\n",
    "tlab[!vid] = NA\n",
    "\n",
    "keyvals <- rep('gray50', nrow(res2))\n",
    "names(keyvals) <- rep('NS', nrow(res2))   \n",
    "\n",
    "keyvals[which(res2$log2FC > 0.58 & res2$Pvalue < 0.05)] <- \"Brown\"    \n",
    "names(keyvals)[which(res2$log2FC > 0.58 & res2$Pvalue < 0.05)] <- 'High'    \n",
    "\n",
    "keyvals[which(res2$log2FC < -0.58 & res2$Pvalue < 0.05)] <- \"darkblue\"    \n",
    "names(keyvals)[which(res2$log2FC < -0.58 & res2$Pvalue < 0.05)] <- 'Low'   \n",
    "\n",
    "\n",
    "p = EnhancedVolcano(res2,\n",
    "                        lab = tlab,\n",
    "                        x = 'log2FC',\n",
    "                        y = 'Pvalue',\n",
    "                        caption = NULL,\n",
    "                        title = title,\n",
    "                        border = 'full',\n",
    "                        titleLabSize = 12,\n",
    "                        FCcutoff = 0.58,\n",
    "                        cutoffLineWidth = F,\n",
    "                        axisLabSize = 12,\n",
    "                        subtitle = NULL,\n",
    "                        cutoffLineCol = 'white',\n",
    "                        gridlines.minor = F,\n",
    "                        gridlines.major = F,\n",
    "                        xlab = bquote(~Log[2]~ 'fold change'),\n",
    "                        pCutoff = 0.05,\n",
    "                        colCustom = keyvals,\n",
    "                        colAlpha = 4/5,\n",
    "                        legendPosition = 'none',\n",
    "                        legendLabSize = 5,\n",
    "                        legendIconSize = 3,\n",
    "                        drawConnectors = TRUE,\n",
    "                        widthConnectors = 0.5,\n",
    "                        transcriptPointSize = -0.3*log10(res2$Pvalue),transcriptLabSize = 3,\n",
    "                        colConnectors = 'black')\n",
    "    return(p)\n",
    "    }\n",
    "\n",
    "\n",
    "\n",
    "#tlab[sortid_up[6:length(sortid_up)]] = NA\n",
    "\n"
   ]
  },
  {
   "cell_type": "code",
   "execution_count": null,
   "metadata": {},
   "outputs": [],
   "source": [
    "res2$log2FC"
   ]
  },
  {
   "cell_type": "code",
   "execution_count": 29,
   "metadata": {},
   "outputs": [],
   "source": [
    "proteinVoconoPlot = list()\n",
    "names.DEproAging = names(DEproAging)\n",
    "for(i in 1:length(DEproAging)){\n",
    "    res2 = DEproAging[[i]]\n",
    "    \n",
    "    proteinVoconoPlot[[i]] = plot_Volcano(res2,names.DEproAging[i])\n",
    "}"
   ]
  },
  {
   "cell_type": "code",
   "execution_count": 30,
   "metadata": {},
   "outputs": [
    {
     "data": {
      "image/png": "[encoded data removed]",
      "text/plain": [
       "plot without title"
      ]
     },
     "metadata": {
      "image/png": {
       "height": 420,
       "width": 420
      }
     },
     "output_type": "display_data"
    }
   ],
   "source": [
    "plot(proteinVoconoPlot[[4]])"
   ]
  },
  {
   "cell_type": "code",
   "execution_count": 19,
   "metadata": {},
   "outputs": [],
   "source": [
    "graphics.off()"
   ]
  },
  {
   "cell_type": "code",
   "execution_count": 31,
   "metadata": {},
   "outputs": [
    {
     "data": {
      "text/html": [
       "<strong>png:</strong> 2"
      ],
      "text/latex": [
       "\\textbf{png:} 2"
      ],
      "text/markdown": [
       "**png:** 2"
      ],
      "text/plain": [
       "png \n",
       "  2 "
      ]
     },
     "metadata": {},
     "output_type": "display_data"
    }
   ],
   "source": [
    "pdf(file = './out/20230217_aging/Figure2_DEG_GO_tissue/Figure2A_DEpro_each_tissueV1.pdf',width = 3*5+1,height =3*6)\n",
    "grid.arrange(arrangeGrob(grobs = proteinVoconoPlot,ncol = 5))\n",
    "dev.off()"
   ]
  },
  {
   "cell_type": "code",
   "execution_count": 55,
   "metadata": {},
   "outputs": [],
   "source": [
    "#Data S2\n",
    "openxlsx::write.xlsx(DEproAging, file = \"./out/20230217_aging/Figure2_DEG_GO_tissue/Data S2_DE_tissue_Aging_pro.xlsx\")"
   ]
  },
  {
   "cell_type": "code",
   "execution_count": 27,
   "metadata": {},
   "outputs": [],
   "source": [
    "# reducce size Data S2\n",
    "tpath = \"./out/20230217_aging/Figure2_DEG_GO_tissue/Data S2_DE_tissue_Aging_pro.xlsx\"\n",
    "sheetNames = openxlsx::getSheetNames(tpath)\n",
    "xx = list()\n",
    "for(i in 1:length(sheetNames)){\n",
    "    tmp = openxlsx::read.xlsx(tpath,sheet = sheetNames[i])\n",
    "    tmp[c(2,3,4,7,8)] = signif(tmp[c(2,3,4,7,8)],3)\n",
    "    tmp = tmp[,-c(5,6)]\n",
    "    xx[[i]] = tmp\n",
    "}\n",
    "names(xx) = sheetNames\n",
    "openxlsx::write.xlsx(xx, file = \"./out/20230217_aging/Figure2_DEG_GO_tissue/reduce_Data S2_DE_tissue_Aging_pro.xlsx\")\n",
    "\n",
    "#openxlsx::write.xlsx(DEproAging, file = \"./out/20230217_aging/Figure2_DEG_GO_tissue/Data S2_DE_tissue_Aging_pro.xlsx\")"
   ]
  },
  {
   "cell_type": "code",
   "execution_count": null,
   "metadata": {},
   "outputs": [],
   "source": []
  },
  {
   "cell_type": "code",
   "execution_count": 56,
   "metadata": {},
   "outputs": [],
   "source": [
    "list_to_matrix <- function(DEproFC,alltissues){\n",
    "    DEproFC_matrix = list()\n",
    "    for(i in 1:length(alltissues)){\n",
    "        tmp = matrix(DEproFC[[i]],1,length(DEproFC[[i]]))\n",
    "        tmp = as.data.frame(tmp)\n",
    "        colnames(tmp) = names(DEproFC[[i]])\n",
    "        DEproFC_matrix[[i]] = tmp\n",
    "    }\n",
    "    DEproFC_matrix = t(as.matrix(rbindlist(DEproFC_matrix,fill = T)))\n",
    "    colnames(DEproFC_matrix) = names(DEproFC)\n",
    "    #vid = rowSums(is.na(DEproFC_matrix)) < ncol(DEproFC_matrix)/2\n",
    "    #DEproFC_matrix = DEproFC_matrix[vid,]\n",
    "    return(DEproFC_matrix)\n",
    "}\n",
    "DEproFC_matrix = list_to_matrix(DEproFC,alltissues)\n",
    "DEproPvalue_matrix = list_to_matrix(DEproPvalue,alltissues)\n",
    "\n",
    "DEproFC_matrix.develop = list_to_matrix(DEproFC.develop,alltissues)\n",
    "DEproPvalue_matrix.develop = list_to_matrix(DEproPvalue.develop,alltissues)\n"
   ]
  },
  {
   "cell_type": "code",
   "execution_count": 66,
   "metadata": {},
   "outputs": [],
   "source": [
    "Aging_pro_sigup_matrix = (DEproFC_matrix > 0.58 & DEproPvalue_matrix < 0.05  & DEproPvalue_matrix.develop > 0.05) +0\n",
    "Aging_pro_sigdown_matrix = -((DEproFC_matrix < -0.58 & DEproPvalue_matrix < 0.05 & DEproPvalue_matrix.develop > 0.05) +0)\n",
    "Aging_pro_sigall_matrix = Aging_pro_sigup_matrix + Aging_pro_sigdown_matrix"
   ]
  },
  {
   "cell_type": "code",
   "execution_count": 67,
   "metadata": {},
   "outputs": [],
   "source": [
    "Aging_pro_updown = data.frame(stringsAsFactors = F,num.up = colSums(Aging_pro_sigup_matrix,na.rm =T)/colSums(!is.na(Aging_pro_sigup_matrix)),\n",
    "                              num.down = colSums(Aging_pro_sigdown_matrix,na.rm =T)/colSums(!is.na(Aging_pro_sigdown_matrix)),\n",
    "                              num.all = colSums(abs(Aging_pro_sigall_matrix),na.rm =T)/colSums(!is.na(Aging_pro_sigall_matrix)),\n",
    "                             tissues = colnames(Aging_pro_sigup_matrix),\n",
    "                             tissue_systems = tissue.systems)\n",
    "rownames(Aging_pro_updown) = Aging_pro_updown$tissues"
   ]
  },
  {
   "cell_type": "code",
   "execution_count": 117,
   "metadata": {},
   "outputs": [
    {
     "data": {
      "text/html": [
       "<table class=\"dataframe\">\n",
       "<caption>A data.frame: 30 × 5</caption>\n",
       "<thead>\n",
       "\t<tr><th></th><th scope=col>num.up</th><th scope=col>num.down</th><th scope=col>num.all</th><th scope=col>tissues</th><th scope=col>tissue_systems</th></tr>\n",
       "\t<tr><th></th><th scope=col>&lt;dbl&gt;</th><th scope=col>&lt;dbl&gt;</th><th scope=col>&lt;dbl&gt;</th><th scope=col>&lt;chr&gt;</th><th scope=col>&lt;chr&gt;</th></tr>\n",
       "</thead>\n",
       "<tbody>\n",
       "\t<tr><th scope=row>Skin_of_back</th><td>0.036514823</td><td>-0.02422270</td><td>0.06081448</td><td>Skin_of_back           </td><td>Integumentary </td></tr>\n",
       "\t<tr><th scope=row>Pituitary</th><td>0.024935277</td><td>-0.02820548</td><td>0.05316973</td><td>Pituitary              </td><td>Endocrine     </td></tr>\n",
       "\t<tr><th scope=row>Frontal_pole</th><td>0.022538363</td><td>-0.01742606</td><td>0.03996803</td><td>Frontal_pole           </td><td>Brain         </td></tr>\n",
       "\t<tr><th scope=row>Lung</th><td>0.033295982</td><td>-0.01888302</td><td>0.05220176</td><td>Lung                   </td><td>Respiratory   </td></tr>\n",
       "\t<tr><th scope=row>Liver</th><td>0.034220532</td><td>-0.01801802</td><td>0.05225225</td><td>Liver                  </td><td>Digestive     </td></tr>\n",
       "\t<tr><th scope=row>Arteria_cruralis</th><td>0.025117739</td><td>-0.04575335</td><td>0.07101526</td><td>Arteria_cruralis       </td><td>Cardiovascular</td></tr>\n",
       "\t<tr><th scope=row>Femoral_vein</th><td>0.041103448</td><td>-0.03337010</td><td>0.07450331</td><td>Femoral_vein           </td><td>Cardiovascular</td></tr>\n",
       "\t<tr><th scope=row>Hippocampus</th><td>0.013891271</td><td>-0.02023320</td><td>0.03413379</td><td>Hippocampus            </td><td>Brain         </td></tr>\n",
       "\t<tr><th scope=row>Ileocecum</th><td>0.021394879</td><td>-0.04090909</td><td>0.06238408</td><td>Ileocecum              </td><td>Digestive     </td></tr>\n",
       "\t<tr><th scope=row>Thyroid_gland</th><td>0.037166086</td><td>-0.01646011</td><td>0.05364059</td><td>Thyroid_gland          </td><td>Endocrine     </td></tr>\n",
       "\t<tr><th scope=row>Arteria_carotis</th><td>0.024580336</td><td>-0.02637890</td><td>0.05096942</td><td>Arteria_carotis        </td><td>Cardiovascular</td></tr>\n",
       "\t<tr><th scope=row>Muscle</th><td>0.062205062</td><td>-0.06260720</td><td>0.12483912</td><td>Muscle                 </td><td>Muscle        </td></tr>\n",
       "\t<tr><th scope=row>Ovary</th><td>0.070639717</td><td>-0.08727348</td><td>0.15794957</td><td>Ovary                  </td><td>Reproductive  </td></tr>\n",
       "\t<tr><th scope=row>Cecum</th><td>0.040690691</td><td>-0.01725431</td><td>0.05795796</td><td>Cecum                  </td><td>Digestive     </td></tr>\n",
       "\t<tr><th scope=row>Superior_temporal_gyrus</th><td>0.015867713</td><td>-0.01687270</td><td>0.03274307</td><td>Superior_temporal_gyrus</td><td>Brain         </td></tr>\n",
       "\t<tr><th scope=row>Spleen</th><td>0.019508449</td><td>-0.03287250</td><td>0.05238900</td><td>Spleen                 </td><td>Immune        </td></tr>\n",
       "\t<tr><th scope=row>Kidney</th><td>0.018391573</td><td>-0.01220532</td><td>0.03060201</td><td>Kidney                 </td><td>Renal         </td></tr>\n",
       "\t<tr><th scope=row>Adrenal_gland</th><td>0.042047532</td><td>-0.01391427</td><td>0.05604055</td><td>Adrenal_gland          </td><td>Endocrine     </td></tr>\n",
       "\t<tr><th scope=row>Duodenum</th><td>0.030563661</td><td>-0.06327753</td><td>0.09387003</td><td>Duodenum               </td><td>Digestive     </td></tr>\n",
       "\t<tr><th scope=row>Fallopian_tube</th><td>0.029572113</td><td>-0.04311911</td><td>0.07273930</td><td>Fallopian_tube         </td><td>Reproductive  </td></tr>\n",
       "\t<tr><th scope=row>Stomach</th><td>0.027610674</td><td>-0.05751735</td><td>0.08519833</td><td>Stomach                </td><td>Digestive     </td></tr>\n",
       "\t<tr><th scope=row>Hypothalamus</th><td>0.011605416</td><td>-0.00902498</td><td>0.02063185</td><td>Hypothalamus           </td><td>Brain         </td></tr>\n",
       "\t<tr><th scope=row>Heart</th><td>0.043579314</td><td>-0.02086957</td><td>0.06451613</td><td>Heart                  </td><td>Muscle        </td></tr>\n",
       "\t<tr><th scope=row>Thymus</th><td>0.075391850</td><td>-0.32503133</td><td>0.40075259</td><td>Thymus                 </td><td>Immune        </td></tr>\n",
       "\t<tr><th scope=row>Facial_skin</th><td>0.009045226</td><td>-0.01404917</td><td>0.02313301</td><td>Facial_skin            </td><td>Integumentary </td></tr>\n",
       "\t<tr><th scope=row>Pancreas</th><td>0.011964948</td><td>-0.01736638</td><td>0.02933738</td><td>Pancreas               </td><td>Endocrine     </td></tr>\n",
       "\t<tr><th scope=row>Supramarginal_gyrus</th><td>0.017594835</td><td>-0.01743904</td><td>0.03504522</td><td>Supramarginal_gyrus    </td><td>Brain         </td></tr>\n",
       "\t<tr><th scope=row>Adipose</th><td>0.008937121</td><td>-0.08154781</td><td>0.09053103</td><td>Adipose                </td><td>Immune        </td></tr>\n",
       "\t<tr><th scope=row>Aortic_arch</th><td>0.066784870</td><td>-0.07934633</td><td>0.14626454</td><td>Aortic_arch            </td><td>Cardiovascular</td></tr>\n",
       "\t<tr><th scope=row>Uterus</th><td>0.030058007</td><td>-0.04924376</td><td>0.07935949</td><td>Uterus                 </td><td>Reproductive  </td></tr>\n",
       "</tbody>\n",
       "</table>\n"
      ],
      "text/latex": [
       "A data.frame: 30 × 5\n",
       "\\begin{tabular}{r|lllll}\n",
       "  & num.up & num.down & num.all & tissues & tissue\\_systems\\\\\n",
       "  & <dbl> & <dbl> & <dbl> & <chr> & <chr>\\\\\n",
       "\\hline\n",
       "\tSkin\\_of\\_back & 0.036514823 & -0.02422270 & 0.06081448 & Skin\\_of\\_back            & Integumentary \\\\\n",
       "\tPituitary & 0.024935277 & -0.02820548 & 0.05316973 & Pituitary               & Endocrine     \\\\\n",
       "\tFrontal\\_pole & 0.022538363 & -0.01742606 & 0.03996803 & Frontal\\_pole            & Brain         \\\\\n",
       "\tLung & 0.033295982 & -0.01888302 & 0.05220176 & Lung                    & Respiratory   \\\\\n",
       "\tLiver & 0.034220532 & -0.01801802 & 0.05225225 & Liver                   & Digestive     \\\\\n",
       "\tArteria\\_cruralis & 0.025117739 & -0.04575335 & 0.07101526 & Arteria\\_cruralis        & Cardiovascular\\\\\n",
       "\tFemoral\\_vein & 0.041103448 & -0.03337010 & 0.07450331 & Femoral\\_vein            & Cardiovascular\\\\\n",
       "\tHippocampus & 0.013891271 & -0.02023320 & 0.03413379 & Hippocampus             & Brain         \\\\\n",
       "\tIleocecum & 0.021394879 & -0.04090909 & 0.06238408 & Ileocecum               & Digestive     \\\\\n",
       "\tThyroid\\_gland & 0.037166086 & -0.01646011 & 0.05364059 & Thyroid\\_gland           & Endocrine     \\\\\n",
       "\tArteria\\_carotis & 0.024580336 & -0.02637890 & 0.05096942 & Arteria\\_carotis         & Cardiovascular\\\\\n",
       "\tMuscle & 0.062205062 & -0.06260720 & 0.12483912 & Muscle                  & Muscle        \\\\\n",
       "\tOvary & 0.070639717 & -0.08727348 & 0.15794957 & Ovary                   & Reproductive  \\\\\n",
       "\tCecum & 0.040690691 & -0.01725431 & 0.05795796 & Cecum                   & Digestive     \\\\\n",
       "\tSuperior\\_temporal\\_gyrus & 0.015867713 & -0.01687270 & 0.03274307 & Superior\\_temporal\\_gyrus & Brain         \\\\\n",
       "\tSpleen & 0.019508449 & -0.03287250 & 0.05238900 & Spleen                  & Immune        \\\\\n",
       "\tKidney & 0.018391573 & -0.01220532 & 0.03060201 & Kidney                  & Renal         \\\\\n",
       "\tAdrenal\\_gland & 0.042047532 & -0.01391427 & 0.05604055 & Adrenal\\_gland           & Endocrine     \\\\\n",
       "\tDuodenum & 0.030563661 & -0.06327753 & 0.09387003 & Duodenum                & Digestive     \\\\\n",
       "\tFallopian\\_tube & 0.029572113 & -0.04311911 & 0.07273930 & Fallopian\\_tube          & Reproductive  \\\\\n",
       "\tStomach & 0.027610674 & -0.05751735 & 0.08519833 & Stomach                 & Digestive     \\\\\n",
       "\tHypothalamus & 0.011605416 & -0.00902498 & 0.02063185 & Hypothalamus            & Brain         \\\\\n",
       "\tHeart & 0.043579314 & -0.02086957 & 0.06451613 & Heart                   & Muscle        \\\\\n",
       "\tThymus & 0.075391850 & -0.32503133 & 0.40075259 & Thymus                  & Immune        \\\\\n",
       "\tFacial\\_skin & 0.009045226 & -0.01404917 & 0.02313301 & Facial\\_skin             & Integumentary \\\\\n",
       "\tPancreas & 0.011964948 & -0.01736638 & 0.02933738 & Pancreas                & Endocrine     \\\\\n",
       "\tSupramarginal\\_gyrus & 0.017594835 & -0.01743904 & 0.03504522 & Supramarginal\\_gyrus     & Brain         \\\\\n",
       "\tAdipose & 0.008937121 & -0.08154781 & 0.09053103 & Adipose                 & Immune        \\\\\n",
       "\tAortic\\_arch & 0.066784870 & -0.07934633 & 0.14626454 & Aortic\\_arch             & Cardiovascular\\\\\n",
       "\tUterus & 0.030058007 & -0.04924376 & 0.07935949 & Uterus                  & Reproductive  \\\\\n",
       "\\end{tabular}\n"
      ],
      "text/markdown": [
       "\n",
       "A data.frame: 30 × 5\n",
       "\n",
       "| <!--/--> | num.up &lt;dbl&gt; | num.down &lt;dbl&gt; | num.all &lt;dbl&gt; | tissues &lt;chr&gt; | tissue_systems &lt;chr&gt; |\n",
       "|---|---|---|---|---|---|\n",
       "| Skin_of_back | 0.036514823 | -0.02422270 | 0.06081448 | Skin_of_back            | Integumentary  |\n",
       "| Pituitary | 0.024935277 | -0.02820548 | 0.05316973 | Pituitary               | Endocrine      |\n",
       "| Frontal_pole | 0.022538363 | -0.01742606 | 0.03996803 | Frontal_pole            | Brain          |\n",
       "| Lung | 0.033295982 | -0.01888302 | 0.05220176 | Lung                    | Respiratory    |\n",
       "| Liver | 0.034220532 | -0.01801802 | 0.05225225 | Liver                   | Digestive      |\n",
       "| Arteria_cruralis | 0.025117739 | -0.04575335 | 0.07101526 | Arteria_cruralis        | Cardiovascular |\n",
       "| Femoral_vein | 0.041103448 | -0.03337010 | 0.07450331 | Femoral_vein            | Cardiovascular |\n",
       "| Hippocampus | 0.013891271 | -0.02023320 | 0.03413379 | Hippocampus             | Brain          |\n",
       "| Ileocecum | 0.021394879 | -0.04090909 | 0.06238408 | Ileocecum               | Digestive      |\n",
       "| Thyroid_gland | 0.037166086 | -0.01646011 | 0.05364059 | Thyroid_gland           | Endocrine      |\n",
       "| Arteria_carotis | 0.024580336 | -0.02637890 | 0.05096942 | Arteria_carotis         | Cardiovascular |\n",
       "| Muscle | 0.062205062 | -0.06260720 | 0.12483912 | Muscle                  | Muscle         |\n",
       "| Ovary | 0.070639717 | -0.08727348 | 0.15794957 | Ovary                   | Reproductive   |\n",
       "| Cecum | 0.040690691 | -0.01725431 | 0.05795796 | Cecum                   | Digestive      |\n",
       "| Superior_temporal_gyrus | 0.015867713 | -0.01687270 | 0.03274307 | Superior_temporal_gyrus | Brain          |\n",
       "| Spleen | 0.019508449 | -0.03287250 | 0.05238900 | Spleen                  | Immune         |\n",
       "| Kidney | 0.018391573 | -0.01220532 | 0.03060201 | Kidney                  | Renal          |\n",
       "| Adrenal_gland | 0.042047532 | -0.01391427 | 0.05604055 | Adrenal_gland           | Endocrine      |\n",
       "| Duodenum | 0.030563661 | -0.06327753 | 0.09387003 | Duodenum                | Digestive      |\n",
       "| Fallopian_tube | 0.029572113 | -0.04311911 | 0.07273930 | Fallopian_tube          | Reproductive   |\n",
       "| Stomach | 0.027610674 | -0.05751735 | 0.08519833 | Stomach                 | Digestive      |\n",
       "| Hypothalamus | 0.011605416 | -0.00902498 | 0.02063185 | Hypothalamus            | Brain          |\n",
       "| Heart | 0.043579314 | -0.02086957 | 0.06451613 | Heart                   | Muscle         |\n",
       "| Thymus | 0.075391850 | -0.32503133 | 0.40075259 | Thymus                  | Immune         |\n",
       "| Facial_skin | 0.009045226 | -0.01404917 | 0.02313301 | Facial_skin             | Integumentary  |\n",
       "| Pancreas | 0.011964948 | -0.01736638 | 0.02933738 | Pancreas                | Endocrine      |\n",
       "| Supramarginal_gyrus | 0.017594835 | -0.01743904 | 0.03504522 | Supramarginal_gyrus     | Brain          |\n",
       "| Adipose | 0.008937121 | -0.08154781 | 0.09053103 | Adipose                 | Immune         |\n",
       "| Aortic_arch | 0.066784870 | -0.07934633 | 0.14626454 | Aortic_arch             | Cardiovascular |\n",
       "| Uterus | 0.030058007 | -0.04924376 | 0.07935949 | Uterus                  | Reproductive   |\n",
       "\n"
      ],
      "text/plain": [
       "                        num.up      num.down    num.all   \n",
       "Skin_of_back            0.036514823 -0.02422270 0.06081448\n",
       "Pituitary               0.024935277 -0.02820548 0.05316973\n",
       "Frontal_pole            0.022538363 -0.01742606 0.03996803\n",
       "Lung                    0.033295982 -0.01888302 0.05220176\n",
       "Liver                   0.034220532 -0.01801802 0.05225225\n",
       "Arteria_cruralis        0.025117739 -0.04575335 0.07101526\n",
       "Femoral_vein            0.041103448 -0.03337010 0.07450331\n",
       "Hippocampus             0.013891271 -0.02023320 0.03413379\n",
       "Ileocecum               0.021394879 -0.04090909 0.06238408\n",
       "Thyroid_gland           0.037166086 -0.01646011 0.05364059\n",
       "Arteria_carotis         0.024580336 -0.02637890 0.05096942\n",
       "Muscle                  0.062205062 -0.06260720 0.12483912\n",
       "Ovary                   0.070639717 -0.08727348 0.15794957\n",
       "Cecum                   0.040690691 -0.01725431 0.05795796\n",
       "Superior_temporal_gyrus 0.015867713 -0.01687270 0.03274307\n",
       "Spleen                  0.019508449 -0.03287250 0.05238900\n",
       "Kidney                  0.018391573 -0.01220532 0.03060201\n",
       "Adrenal_gland           0.042047532 -0.01391427 0.05604055\n",
       "Duodenum                0.030563661 -0.06327753 0.09387003\n",
       "Fallopian_tube          0.029572113 -0.04311911 0.07273930\n",
       "Stomach                 0.027610674 -0.05751735 0.08519833\n",
       "Hypothalamus            0.011605416 -0.00902498 0.02063185\n",
       "Heart                   0.043579314 -0.02086957 0.06451613\n",
       "Thymus                  0.075391850 -0.32503133 0.40075259\n",
       "Facial_skin             0.009045226 -0.01404917 0.02313301\n",
       "Pancreas                0.011964948 -0.01736638 0.02933738\n",
       "Supramarginal_gyrus     0.017594835 -0.01743904 0.03504522\n",
       "Adipose                 0.008937121 -0.08154781 0.09053103\n",
       "Aortic_arch             0.066784870 -0.07934633 0.14626454\n",
       "Uterus                  0.030058007 -0.04924376 0.07935949\n",
       "                        tissues                 tissue_systems\n",
       "Skin_of_back            Skin_of_back            Integumentary \n",
       "Pituitary               Pituitary               Endocrine     \n",
       "Frontal_pole            Frontal_pole            Brain         \n",
       "Lung                    Lung                    Respiratory   \n",
       "Liver                   Liver                   Digestive     \n",
       "Arteria_cruralis        Arteria_cruralis        Cardiovascular\n",
       "Femoral_vein            Femoral_vein            Cardiovascular\n",
       "Hippocampus             Hippocampus             Brain         \n",
       "Ileocecum               Ileocecum               Digestive     \n",
       "Thyroid_gland           Thyroid_gland           Endocrine     \n",
       "Arteria_carotis         Arteria_carotis         Cardiovascular\n",
       "Muscle                  Muscle                  Muscle        \n",
       "Ovary                   Ovary                   Reproductive  \n",
       "Cecum                   Cecum                   Digestive     \n",
       "Superior_temporal_gyrus Superior_temporal_gyrus Brain         \n",
       "Spleen                  Spleen                  Immune        \n",
       "Kidney                  Kidney                  Renal         \n",
       "Adrenal_gland           Adrenal_gland           Endocrine     \n",
       "Duodenum                Duodenum                Digestive     \n",
       "Fallopian_tube          Fallopian_tube          Reproductive  \n",
       "Stomach                 Stomach                 Digestive     \n",
       "Hypothalamus            Hypothalamus            Brain         \n",
       "Heart                   Heart                   Muscle        \n",
       "Thymus                  Thymus                  Immune        \n",
       "Facial_skin             Facial_skin             Integumentary \n",
       "Pancreas                Pancreas                Endocrine     \n",
       "Supramarginal_gyrus     Supramarginal_gyrus     Brain         \n",
       "Adipose                 Adipose                 Immune        \n",
       "Aortic_arch             Aortic_arch             Cardiovascular\n",
       "Uterus                  Uterus                  Reproductive  "
      ]
     },
     "metadata": {},
     "output_type": "display_data"
    }
   ],
   "source": [
    "Aging_pro_updown"
   ]
  },
  {
   "cell_type": "code",
   "execution_count": 68,
   "metadata": {},
   "outputs": [
    {
     "data": {
      "text/html": [
       "0.0752984292966106"
      ],
      "text/latex": [
       "0.0752984292966106"
      ],
      "text/markdown": [
       "0.0752984292966106"
      ],
      "text/plain": [
       "[1] 0.07529843"
      ]
     },
     "metadata": {},
     "output_type": "display_data"
    }
   ],
   "source": [
    "mean(Aging_pro_updown$num.all)"
   ]
  },
  {
   "cell_type": "markdown",
   "metadata": {},
   "source": [
    "## mRNA"
   ]
  },
  {
   "cell_type": "code",
   "execution_count": 32,
   "metadata": {},
   "outputs": [
    {
     "ename": "ERROR",
     "evalue": "Error in list_to_matrix(DEmrnaFC, alltissues): 参数没有用(alltissues)\n",
     "output_type": "error",
     "traceback": [
      "Error in list_to_matrix(DEmrnaFC, alltissues): 参数没有用(alltissues)\nTraceback:\n"
     ]
    }
   ],
   "source": [
    "DEmrnaFC = list()\n",
    "DEmrnaPvalue = list()\n",
    "DEmrnaAging = list()\n",
    "DEmrnaFC.develop = list()\n",
    "DEmrnaPvalue.develop = list()\n",
    "for(i in 1:length(alltissues)){\n",
    "    #Mfuzz\n",
    "    thistissue = alltissues[i]\n",
    "    thismrna = mrna.tissues[[thistissue]]\n",
    "    #thismrna.header = mrna.tissues.header[[thistissue]]\n",
    "    thismrna.info = mrna.tissues.info[[thistissue]]\n",
    "    if (sum(thismrna.info$stage == 1) ==1){ \n",
    "        thismrna = cbind(thismrna[,thismrna.info$stage == 1],thismrna)\n",
    "        thismrna.info = rbind(thismrna.info[thismrna.info$stage == 1,],thismrna.info)\n",
    "    }\n",
    "    if (sum(thismrna.info$stage == 4) ==1){ \n",
    "        thismrna = cbind(thismrna,thismrna[,thismrna.info$stage == 4])\n",
    "        thismrna.info = rbind(thismrna.info,thismrna.info[thismrna.info$stage == 4,])\n",
    "    }\n",
    "    \n",
    "    thisDEmrna = DEGenes.simplified(thismrna,catagory = thismrna.info$stage == 4,\n",
    "                               subset = thismrna.info$stage == 4 | thismrna.info$stage == 1)\n",
    "    \n",
    "    thisDEmrna.develop = DEGenes.simplified(thismrna,catagory = thismrna.info$stage == 2,\n",
    "                               subset = thismrna.info$stage == 2 | thismrna.info$stage == 1)\n",
    "    \n",
    "    idx = sort.int(thisDEmrna$Pvalue,decreasing = F,index.return = T)$ix\n",
    "    DEmrnaAging[[i]] = thisDEmrna[idx,-5]\n",
    "    DEmrnaAging[[i]]$log2FC.devControl = thisDEmrna.develop$log2FC\n",
    "    DEmrnaAging[[i]]$Pvalue.devControl = thisDEmrna.develop$Pvalue\n",
    "    \n",
    "    \n",
    "    DEmrnaFC[[i]] = thisDEmrna$log2FC\n",
    "    names(DEmrnaFC[[i]]) = rownames(thisDEmrna)\n",
    "    DEmrnaPvalue[[i]] = thisDEmrna$Pvalue\n",
    "    names(DEmrnaPvalue[[i]])  = rownames(thisDEmrna)\n",
    "    \n",
    "    DEmrnaFC.develop[[i]] = thisDEmrna.develop$log2FC\n",
    "    names(DEmrnaFC.develop[[i]]) = rownames(thisDEmrna.develop)\n",
    "    DEmrnaPvalue.develop[[i]] = thisDEmrna.develop$Pvalue\n",
    "    names(DEmrnaPvalue.develop[[i]])  = rownames(thisDEmrna.develop)\n",
    "    \n",
    "    \n",
    "}\n",
    "names(DEmrnaFC) = alltissues\n",
    "names(DEmrnaPvalue) = alltissues\n",
    "names(DEmrnaAging) = alltissues\n",
    "names(DEmrnaFC.develop) = alltissues\n",
    "names(DEmrnaPvalue.develop) = alltissues\n",
    "\n",
    "\n",
    "\n",
    "DEmrnaFC_matrix = list_to_matrix(DEmrnaFC,alltissues)\n",
    "DEmrnaPvalue_matrix = list_to_matrix(DEmrnaPvalue,alltissues)\n",
    "\n",
    "DEmrnaFC_matrix.develop = list_to_matrix(DEmrnaFC.develop,alltissues)\n",
    "DEmrnaPvalue_matrix.develop = list_to_matrix(DEmrnaPvalue.develop,alltissues)"
   ]
  },
  {
   "cell_type": "code",
   "execution_count": 70,
   "metadata": {},
   "outputs": [],
   "source": [
    "# write Data S1\n",
    "openxlsx::write.xlsx(DEmrnaAging, file = \"./out/20230217_aging/Figure2_DEG_GO_tissue/Data S1_DE_tissue_Aging_mRNA.xlsx\")"
   ]
  },
  {
   "cell_type": "code",
   "execution_count": 28,
   "metadata": {},
   "outputs": [],
   "source": [
    "# reducce size Data S2\n",
    "tpath = \"./out/20230217_aging/Figure2_DEG_GO_tissue/Data S1_DE_tissue_Aging_mRNA.xlsx\"\n",
    "sheetNames = openxlsx::getSheetNames(tpath)\n",
    "xx = list()\n",
    "for(i in 1:length(sheetNames)){\n",
    "    tmp = openxlsx::read.xlsx(tpath,sheet = sheetNames[i])\n",
    "    tmp[c(2,3,4,7,8)] = signif(tmp[c(2,3,4,7,8)],3)\n",
    "    tmp = tmp[,-c(5,6)]\n",
    "    xx[[i]] = tmp\n",
    "}\n",
    "names(xx) = sheetNames\n",
    "openxlsx::write.xlsx(xx, file = \"./out/20230217_aging/Figure2_DEG_GO_tissue/reduce_Data S1_DE_tissue_Aging_mRNA.xlsx\")"
   ]
  },
  {
   "cell_type": "code",
   "execution_count": null,
   "metadata": {},
   "outputs": [],
   "source": []
  },
  {
   "cell_type": "code",
   "execution_count": null,
   "metadata": {},
   "outputs": [],
   "source": []
  },
  {
   "cell_type": "code",
   "execution_count": null,
   "metadata": {},
   "outputs": [],
   "source": []
  },
  {
   "cell_type": "code",
   "execution_count": 79,
   "metadata": {},
   "outputs": [],
   "source": [
    "Aging_mrna_sigup_matrix = (DEmrnaFC_matrix > 0.58 & DEmrnaPvalue_matrix < 0.05 & DEmrnaPvalue_matrix.develop > 0.05) +0\n",
    "Aging_mrna_sigdown_matrix = -((DEmrnaFC_matrix < -0.58 & DEmrnaPvalue_matrix < 0.05 & DEmrnaPvalue_matrix.develop > 0.05) +0)\n",
    "Aging_mrna_sigall_matrix = Aging_mrna_sigup_matrix + Aging_mrna_sigdown_matrix\n",
    "\n",
    "Aging_mrna_updown = data.frame(stringsAsFactors = F,num.up = colSums(Aging_mrna_sigup_matrix,na.rm =T)/colSums(!is.na(Aging_mrna_sigup_matrix)),\n",
    "                              num.down = colSums(Aging_mrna_sigdown_matrix,na.rm =T)/colSums(!is.na(Aging_mrna_sigdown_matrix)),\n",
    "                              num.all = colSums(abs(Aging_mrna_sigall_matrix),na.rm =T)/colSums(!is.na(Aging_mrna_sigall_matrix)),\n",
    "                             tissues = colnames(Aging_mrna_sigup_matrix),\n",
    "                             tissue_systems = tissue.systems)\n",
    "rownames(Aging_mrna_updown) = Aging_mrna_updown$tissues"
   ]
  },
  {
   "cell_type": "code",
   "execution_count": 80,
   "metadata": {},
   "outputs": [
    {
     "data": {
      "text/html": [
       "0.0493739161090808"
      ],
      "text/latex": [
       "0.0493739161090808"
      ],
      "text/markdown": [
       "0.0493739161090808"
      ],
      "text/plain": [
       "[1] 0.04937392"
      ]
     },
     "metadata": {},
     "output_type": "display_data"
    }
   ],
   "source": [
    "mean(Aging_mrna_updown$num.all)"
   ]
  },
  {
   "cell_type": "code",
   "execution_count": 33,
   "metadata": {},
   "outputs": [],
   "source": [
    "mrnaVoconoPlot = list()\n",
    "names.DEmrnaAging = names(DEmrnaAging)\n",
    "for(i in 1:length(DEmrnaAging)){\n",
    "    res2 = DEmrnaAging[[i]]\n",
    "    \n",
    "    mrnaVoconoPlot[[i]] = plot_Volcano(res2,names.DEmrnaAging[i])\n",
    "}"
   ]
  },
  {
   "cell_type": "code",
   "execution_count": 34,
   "metadata": {},
   "outputs": [
    {
     "data": {
      "text/html": [
       "<strong>png:</strong> 2"
      ],
      "text/latex": [
       "\\textbf{png:} 2"
      ],
      "text/markdown": [
       "**png:** 2"
      ],
      "text/plain": [
       "png \n",
       "  2 "
      ]
     },
     "metadata": {},
     "output_type": "display_data"
    }
   ],
   "source": [
    "pdf(file = './out/20230217_aging/Figure2_DEG_GO_tissue/FigureS2B_DEmrna_each_tissueV1.pdf',width = 3*5+1,height =3*6)\n",
    "grid.arrange(arrangeGrob(grobs = mrnaVoconoPlot,ncol = 5))\n",
    "dev.off()"
   ]
  },
  {
   "cell_type": "code",
   "execution_count": null,
   "metadata": {},
   "outputs": [],
   "source": []
  },
  {
   "cell_type": "code",
   "execution_count": null,
   "metadata": {},
   "outputs": [],
   "source": []
  },
  {
   "cell_type": "markdown",
   "metadata": {},
   "source": [
    "## metabolism"
   ]
  },
  {
   "cell_type": "code",
   "execution_count": 35,
   "metadata": {},
   "outputs": [
    {
     "ename": "ERROR",
     "evalue": "Error in list_to_matrix(DEmetFC, alltissues): 参数没有用(alltissues)\n",
     "output_type": "error",
     "traceback": [
      "Error in list_to_matrix(DEmetFC, alltissues): 参数没有用(alltissues)\nTraceback:\n"
     ]
    }
   ],
   "source": [
    "DEmetFC = list()\n",
    "DEmetPvalue = list()\n",
    "DEmetAging = list()\n",
    "DEmetFC.develop = list()\n",
    "DEmetPvalue.develop = list()\n",
    "for(i in 1:length(alltissues)){\n",
    "    #Mfuzz\n",
    "    thistissue = alltissues[i]\n",
    "    thismet = met.tissues[[thistissue]]\n",
    "    thismet.header = met.tissues.header[[thistissue]]\n",
    "    thismet.info = met.tissues.info[[thistissue]]\n",
    "    if (sum(thismet.info$stage == 1) ==1){ \n",
    "        thismet = cbind(thismet[,thismet.info$stage == 1],thismet)\n",
    "        thismet.info = rbind(thismet.info[thismet.info$stage == 1,],thismet.info)\n",
    "    }\n",
    "    if (sum(thismet.info$stage == 4) ==1){ \n",
    "        thismet = cbind(thismet,thismet[,thismet.info$stage == 4])\n",
    "        thismet.info = rbind(thismet.info,thismet.info[thismet.info$stage == 4,])\n",
    "    }\n",
    "    \n",
    "    thisDEmet = DEGenes.simplified(thismet,catagory = thismet.info$stage == 4,\n",
    "                               subset = thismet.info$stage == 4 | thismet.info$stage == 1)\n",
    "    \n",
    "    thisDEmet.develop = DEGenes.simplified(thismet,catagory = thismet.info$stage == 2,\n",
    "                               subset = thismet.info$stage == 2 | thismet.info$stage == 1)\n",
    "    \n",
    "    forsort = thisDEmet$Pvalue\n",
    "    forsort[is.na(forsort)] = 1\n",
    "    idx = sort.int(forsort,decreasing = F,index.return = T)$ix\n",
    "    DEmetAging[[i]] = thisDEmet[idx,-5]\n",
    "    DEmetAging[[i]]$log2FC.devControl = thisDEmet.develop$log2FC\n",
    "    DEmetAging[[i]]$Pvalue.devControl = thisDEmet.develop$Pvalue\n",
    "    \n",
    "    DEmetFC[[i]] = thisDEmet$log2FC\n",
    "    names(DEmetFC[[i]]) = rownames(thisDEmet)\n",
    "    DEmetPvalue[[i]] = thisDEmet$Pvalue\n",
    "    names(DEmetPvalue[[i]])  = rownames(thisDEmet)\n",
    "    \n",
    "    DEmetFC.develop[[i]] = thisDEmet.develop$log2FC\n",
    "    names(DEmetFC.develop[[i]]) = rownames(thisDEmet.develop)\n",
    "    DEmetPvalue.develop[[i]] = thisDEmet.develop$Pvalue\n",
    "    names(DEmetPvalue.develop[[i]])  = rownames(thisDEmet.develop)\n",
    "    \n",
    "    \n",
    "}\n",
    "names(DEmetAging) = alltissues\n",
    "names(DEmetFC) = alltissues\n",
    "names(DEmetPvalue) = alltissues\n",
    "DEmetFC_matrix = list_to_matrix(DEmetFC,alltissues)\n",
    "DEmetPvalue_matrix = list_to_matrix(DEmetPvalue,alltissues)\n",
    "\n",
    "DEmetFC_matrix.develop = list_to_matrix(DEmetFC.develop,alltissues)\n",
    "DEmetPvalue_matrix.develop = list_to_matrix(DEmetPvalue.develop,alltissues)"
   ]
  },
  {
   "cell_type": "code",
   "execution_count": 82,
   "metadata": {},
   "outputs": [],
   "source": [
    "#write Data S3\n",
    "openxlsx::write.xlsx(DEmetAging, file = \"./out/20230217_aging/Figure2_DEG_GO_tissue/Data S3_DE_tissue_Aging_metabolite.xlsx\")"
   ]
  },
  {
   "cell_type": "code",
   "execution_count": 29,
   "metadata": {},
   "outputs": [],
   "source": [
    "# reducce size Data S2\n",
    "tpath = \"./out/20230217_aging/Figure2_DEG_GO_tissue/Data S3_DE_tissue_Aging_metabolite.xlsx\"\n",
    "sheetNames = openxlsx::getSheetNames(tpath)\n",
    "xx = list()\n",
    "for(i in 1:length(sheetNames)){\n",
    "    tmp = openxlsx::read.xlsx(tpath,sheet = sheetNames[i])\n",
    "    tmp[c(2,3,4,7,8)] = signif(tmp[c(2,3,4,7,8)],3)\n",
    "    tmp = tmp[,-c(5,6)]\n",
    "    xx[[i]] = tmp\n",
    "}\n",
    "names(xx) = sheetNames\n",
    "openxlsx::write.xlsx(xx, file = \"./out/20230217_aging/Figure2_DEG_GO_tissue/reduce_Data S3_DE_tissue_Aging_metabolite.xlsx\")"
   ]
  },
  {
   "cell_type": "code",
   "execution_count": null,
   "metadata": {},
   "outputs": [],
   "source": []
  },
  {
   "cell_type": "code",
   "execution_count": null,
   "metadata": {},
   "outputs": [],
   "source": []
  },
  {
   "cell_type": "code",
   "execution_count": null,
   "metadata": {},
   "outputs": [],
   "source": []
  },
  {
   "cell_type": "code",
   "execution_count": 95,
   "metadata": {},
   "outputs": [],
   "source": [
    "Aging_met_sigup_matrix = (DEmetFC_matrix > 0.58 & DEmetPvalue_matrix < 0.05   & DEmetPvalue_matrix.develop > 0.05) + 0\n",
    "Aging_met_sigdown_matrix = -((DEmetFC_matrix < -0.58 & DEmetPvalue_matrix < 0.05   & DEmetPvalue_matrix.develop > 0.05) + 0)\n",
    "Aging_met_sigall_matrix = Aging_met_sigup_matrix + Aging_met_sigdown_matrix"
   ]
  },
  {
   "cell_type": "code",
   "execution_count": 96,
   "metadata": {},
   "outputs": [
    {
     "data": {
      "text/html": [
       "0.0750226285635145"
      ],
      "text/latex": [
       "0.0750226285635145"
      ],
      "text/markdown": [
       "0.0750226285635145"
      ],
      "text/plain": [
       "[1] 0.07502263"
      ]
     },
     "metadata": {},
     "output_type": "display_data"
    }
   ],
   "source": [
    "Aging_met_updown = data.frame(stringsAsFactors = F,num.up = colSums(Aging_met_sigup_matrix,na.rm =T)/colSums(!is.na(Aging_met_sigup_matrix)),\n",
    "                              num.down = colSums(Aging_met_sigdown_matrix,na.rm =T)/colSums(!is.na(Aging_met_sigdown_matrix)),\n",
    "                              num.all = colSums(abs(Aging_met_sigall_matrix),na.rm =T)/colSums(!is.na(Aging_met_sigall_matrix)),\n",
    "                             tissues = colnames(Aging_met_sigup_matrix),\n",
    "                             tissue_systems = tissue.systems)\n",
    "rownames(Aging_met_updown) = Aging_met_updown$tissues\n",
    "\n",
    "mean(Aging_met_updown$num.all)"
   ]
  },
  {
   "cell_type": "code",
   "execution_count": 36,
   "metadata": {},
   "outputs": [],
   "source": [
    "metVoconoPlot = list()\n",
    "names.DEmetAging = names(DEmetAging)\n",
    "for(i in 1:length(DEmetAging)){\n",
    "    res2 = DEmetAging[[i]]\n",
    "    \n",
    "    metVoconoPlot[[i]] = plot_Volcano(res2,names.DEmetAging[i])\n",
    "}"
   ]
  },
  {
   "cell_type": "code",
   "execution_count": 37,
   "metadata": {},
   "outputs": [
    {
     "data": {
      "text/html": [
       "<strong>png:</strong> 2"
      ],
      "text/latex": [
       "\\textbf{png:} 2"
      ],
      "text/markdown": [
       "**png:** 2"
      ],
      "text/plain": [
       "png \n",
       "  2 "
      ]
     },
     "metadata": {},
     "output_type": "display_data"
    }
   ],
   "source": [
    "pdf(file = './out/20230217_aging/Figure2_DEG_GO_tissue/FigureS2C_DEmet_each_tissueV1.pdf',width = 3*5+1,height =3*6)\n",
    "grid.arrange(arrangeGrob(grobs = metVoconoPlot,ncol = 5))\n",
    "dev.off()"
   ]
  },
  {
   "cell_type": "code",
   "execution_count": 118,
   "metadata": {},
   "outputs": [
    {
     "data": {
      "text/html": [
       "<table class=\"dataframe\">\n",
       "<caption>A data.frame: 30 × 5</caption>\n",
       "<thead>\n",
       "\t<tr><th></th><th scope=col>num.up</th><th scope=col>num.down</th><th scope=col>num.all</th><th scope=col>tissues</th><th scope=col>tissue_systems</th></tr>\n",
       "\t<tr><th></th><th scope=col>&lt;dbl&gt;</th><th scope=col>&lt;dbl&gt;</th><th scope=col>&lt;dbl&gt;</th><th scope=col>&lt;chr&gt;</th><th scope=col>&lt;chr&gt;</th></tr>\n",
       "</thead>\n",
       "<tbody>\n",
       "\t<tr><th scope=row>Skin_of_back</th><td>0.036030341</td><td>-0.027180784</td><td>0.06321113</td><td>Skin_of_back           </td><td>Integumentary </td></tr>\n",
       "\t<tr><th scope=row>Pituitary</th><td>0.127226463</td><td>-0.078032231</td><td>0.20525869</td><td>Pituitary              </td><td>Endocrine     </td></tr>\n",
       "\t<tr><th scope=row>Frontal_pole</th><td>0.013303769</td><td>-0.047302291</td><td>0.06060606</td><td>Frontal_pole           </td><td>Brain         </td></tr>\n",
       "\t<tr><th scope=row>Lung</th><td>0.015033073</td><td>-0.021046302</td><td>0.03607937</td><td>Lung                   </td><td>Respiratory   </td></tr>\n",
       "\t<tr><th scope=row>Liver</th><td>0.006362059</td><td>-0.029496819</td><td>0.03585888</td><td>Liver                  </td><td>Digestive     </td></tr>\n",
       "\t<tr><th scope=row>Arteria_cruralis</th><td>0.020116807</td><td>-0.020765737</td><td>0.04088254</td><td>Arteria_cruralis       </td><td>Cardiovascular</td></tr>\n",
       "\t<tr><th scope=row>Femoral_vein</th><td>0.000000000</td><td>-0.011150235</td><td>0.01115023</td><td>Femoral_vein           </td><td>Cardiovascular</td></tr>\n",
       "\t<tr><th scope=row>Hippocampus</th><td>0.014792899</td><td>-0.015532544</td><td>0.03032544</td><td>Hippocampus            </td><td>Brain         </td></tr>\n",
       "\t<tr><th scope=row>Ileocecum</th><td>0.012651265</td><td>-0.058305831</td><td>0.07095710</td><td>Ileocecum              </td><td>Digestive     </td></tr>\n",
       "\t<tr><th scope=row>Thyroid_gland</th><td>0.006051437</td><td>-0.084720121</td><td>0.09077156</td><td>Thyroid_gland          </td><td>Endocrine     </td></tr>\n",
       "\t<tr><th scope=row>Arteria_carotis</th><td>0.048211509</td><td>-0.010886470</td><td>0.05909798</td><td>Arteria_carotis        </td><td>Cardiovascular</td></tr>\n",
       "\t<tr><th scope=row>Muscle</th><td>0.011284722</td><td>-0.015625000</td><td>0.02690972</td><td>Muscle                 </td><td>Muscle        </td></tr>\n",
       "\t<tr><th scope=row>Ovary</th><td>0.040852575</td><td>-0.080521018</td><td>0.12137359</td><td>Ovary                  </td><td>Reproductive  </td></tr>\n",
       "\t<tr><th scope=row>Cecum</th><td>0.147406266</td><td>-0.083204931</td><td>0.23061120</td><td>Cecum                  </td><td>Digestive     </td></tr>\n",
       "\t<tr><th scope=row>Superior_temporal_gyrus</th><td>0.065759637</td><td>-0.077853364</td><td>0.14361300</td><td>Superior_temporal_gyrus</td><td>Brain         </td></tr>\n",
       "\t<tr><th scope=row>Spleen</th><td>0.053291536</td><td>-0.035736677</td><td>0.08902821</td><td>Spleen                 </td><td>Immune        </td></tr>\n",
       "\t<tr><th scope=row>Kidney</th><td>0.009730967</td><td>-0.062392673</td><td>0.07212364</td><td>Kidney                 </td><td>Renal         </td></tr>\n",
       "\t<tr><th scope=row>Adrenal_gland</th><td>0.021821632</td><td>-0.013757116</td><td>0.03557875</td><td>Adrenal_gland          </td><td>Endocrine     </td></tr>\n",
       "\t<tr><th scope=row>Duodenum</th><td>0.034172662</td><td>-0.050959233</td><td>0.08513189</td><td>Duodenum               </td><td>Digestive     </td></tr>\n",
       "\t<tr><th scope=row>Fallopian_tube</th><td>0.006607930</td><td>-0.042951542</td><td>0.04955947</td><td>Fallopian_tube         </td><td>Reproductive  </td></tr>\n",
       "\t<tr><th scope=row>Stomach</th><td>0.006823821</td><td>-0.047766749</td><td>0.05459057</td><td>Stomach                </td><td>Digestive     </td></tr>\n",
       "\t<tr><th scope=row>Hypothalamus</th><td>0.030780781</td><td>-0.024024024</td><td>0.05480480</td><td>Hypothalamus           </td><td>Brain         </td></tr>\n",
       "\t<tr><th scope=row>Heart</th><td>0.028863500</td><td>-0.023451594</td><td>0.05231509</td><td>Heart                  </td><td>Muscle        </td></tr>\n",
       "\t<tr><th scope=row>Thymus</th><td>0.023887588</td><td>-0.136299766</td><td>0.16018735</td><td>Thymus                 </td><td>Immune        </td></tr>\n",
       "\t<tr><th scope=row>Facial_skin</th><td>0.002056555</td><td>-0.011825193</td><td>0.01388175</td><td>Facial_skin            </td><td>Integumentary </td></tr>\n",
       "\t<tr><th scope=row>Pancreas</th><td>0.026440678</td><td>-0.016949153</td><td>0.04338983</td><td>Pancreas               </td><td>Endocrine     </td></tr>\n",
       "\t<tr><th scope=row>Supramarginal_gyrus</th><td>0.126301180</td><td>-0.045801527</td><td>0.17210271</td><td>Supramarginal_gyrus    </td><td>Brain         </td></tr>\n",
       "\t<tr><th scope=row>Adipose</th><td>0.002421308</td><td>-0.007263923</td><td>0.00968523</td><td>Adipose                </td><td>Immune        </td></tr>\n",
       "\t<tr><th scope=row>Aortic_arch</th><td>0.015799868</td><td>-0.048716261</td><td>0.06451613</td><td>Aortic_arch            </td><td>Cardiovascular</td></tr>\n",
       "\t<tr><th scope=row>Uterus</th><td>0.031384615</td><td>-0.035692308</td><td>0.06707692</td><td>Uterus                 </td><td>Reproductive  </td></tr>\n",
       "</tbody>\n",
       "</table>\n"
      ],
      "text/latex": [
       "A data.frame: 30 × 5\n",
       "\\begin{tabular}{r|lllll}\n",
       "  & num.up & num.down & num.all & tissues & tissue\\_systems\\\\\n",
       "  & <dbl> & <dbl> & <dbl> & <chr> & <chr>\\\\\n",
       "\\hline\n",
       "\tSkin\\_of\\_back & 0.036030341 & -0.027180784 & 0.06321113 & Skin\\_of\\_back            & Integumentary \\\\\n",
       "\tPituitary & 0.127226463 & -0.078032231 & 0.20525869 & Pituitary               & Endocrine     \\\\\n",
       "\tFrontal\\_pole & 0.013303769 & -0.047302291 & 0.06060606 & Frontal\\_pole            & Brain         \\\\\n",
       "\tLung & 0.015033073 & -0.021046302 & 0.03607937 & Lung                    & Respiratory   \\\\\n",
       "\tLiver & 0.006362059 & -0.029496819 & 0.03585888 & Liver                   & Digestive     \\\\\n",
       "\tArteria\\_cruralis & 0.020116807 & -0.020765737 & 0.04088254 & Arteria\\_cruralis        & Cardiovascular\\\\\n",
       "\tFemoral\\_vein & 0.000000000 & -0.011150235 & 0.01115023 & Femoral\\_vein            & Cardiovascular\\\\\n",
       "\tHippocampus & 0.014792899 & -0.015532544 & 0.03032544 & Hippocampus             & Brain         \\\\\n",
       "\tIleocecum & 0.012651265 & -0.058305831 & 0.07095710 & Ileocecum               & Digestive     \\\\\n",
       "\tThyroid\\_gland & 0.006051437 & -0.084720121 & 0.09077156 & Thyroid\\_gland           & Endocrine     \\\\\n",
       "\tArteria\\_carotis & 0.048211509 & -0.010886470 & 0.05909798 & Arteria\\_carotis         & Cardiovascular\\\\\n",
       "\tMuscle & 0.011284722 & -0.015625000 & 0.02690972 & Muscle                  & Muscle        \\\\\n",
       "\tOvary & 0.040852575 & -0.080521018 & 0.12137359 & Ovary                   & Reproductive  \\\\\n",
       "\tCecum & 0.147406266 & -0.083204931 & 0.23061120 & Cecum                   & Digestive     \\\\\n",
       "\tSuperior\\_temporal\\_gyrus & 0.065759637 & -0.077853364 & 0.14361300 & Superior\\_temporal\\_gyrus & Brain         \\\\\n",
       "\tSpleen & 0.053291536 & -0.035736677 & 0.08902821 & Spleen                  & Immune        \\\\\n",
       "\tKidney & 0.009730967 & -0.062392673 & 0.07212364 & Kidney                  & Renal         \\\\\n",
       "\tAdrenal\\_gland & 0.021821632 & -0.013757116 & 0.03557875 & Adrenal\\_gland           & Endocrine     \\\\\n",
       "\tDuodenum & 0.034172662 & -0.050959233 & 0.08513189 & Duodenum                & Digestive     \\\\\n",
       "\tFallopian\\_tube & 0.006607930 & -0.042951542 & 0.04955947 & Fallopian\\_tube          & Reproductive  \\\\\n",
       "\tStomach & 0.006823821 & -0.047766749 & 0.05459057 & Stomach                 & Digestive     \\\\\n",
       "\tHypothalamus & 0.030780781 & -0.024024024 & 0.05480480 & Hypothalamus            & Brain         \\\\\n",
       "\tHeart & 0.028863500 & -0.023451594 & 0.05231509 & Heart                   & Muscle        \\\\\n",
       "\tThymus & 0.023887588 & -0.136299766 & 0.16018735 & Thymus                  & Immune        \\\\\n",
       "\tFacial\\_skin & 0.002056555 & -0.011825193 & 0.01388175 & Facial\\_skin             & Integumentary \\\\\n",
       "\tPancreas & 0.026440678 & -0.016949153 & 0.04338983 & Pancreas                & Endocrine     \\\\\n",
       "\tSupramarginal\\_gyrus & 0.126301180 & -0.045801527 & 0.17210271 & Supramarginal\\_gyrus     & Brain         \\\\\n",
       "\tAdipose & 0.002421308 & -0.007263923 & 0.00968523 & Adipose                 & Immune        \\\\\n",
       "\tAortic\\_arch & 0.015799868 & -0.048716261 & 0.06451613 & Aortic\\_arch             & Cardiovascular\\\\\n",
       "\tUterus & 0.031384615 & -0.035692308 & 0.06707692 & Uterus                  & Reproductive  \\\\\n",
       "\\end{tabular}\n"
      ],
      "text/markdown": [
       "\n",
       "A data.frame: 30 × 5\n",
       "\n",
       "| <!--/--> | num.up &lt;dbl&gt; | num.down &lt;dbl&gt; | num.all &lt;dbl&gt; | tissues &lt;chr&gt; | tissue_systems &lt;chr&gt; |\n",
       "|---|---|---|---|---|---|\n",
       "| Skin_of_back | 0.036030341 | -0.027180784 | 0.06321113 | Skin_of_back            | Integumentary  |\n",
       "| Pituitary | 0.127226463 | -0.078032231 | 0.20525869 | Pituitary               | Endocrine      |\n",
       "| Frontal_pole | 0.013303769 | -0.047302291 | 0.06060606 | Frontal_pole            | Brain          |\n",
       "| Lung | 0.015033073 | -0.021046302 | 0.03607937 | Lung                    | Respiratory    |\n",
       "| Liver | 0.006362059 | -0.029496819 | 0.03585888 | Liver                   | Digestive      |\n",
       "| Arteria_cruralis | 0.020116807 | -0.020765737 | 0.04088254 | Arteria_cruralis        | Cardiovascular |\n",
       "| Femoral_vein | 0.000000000 | -0.011150235 | 0.01115023 | Femoral_vein            | Cardiovascular |\n",
       "| Hippocampus | 0.014792899 | -0.015532544 | 0.03032544 | Hippocampus             | Brain          |\n",
       "| Ileocecum | 0.012651265 | -0.058305831 | 0.07095710 | Ileocecum               | Digestive      |\n",
       "| Thyroid_gland | 0.006051437 | -0.084720121 | 0.09077156 | Thyroid_gland           | Endocrine      |\n",
       "| Arteria_carotis | 0.048211509 | -0.010886470 | 0.05909798 | Arteria_carotis         | Cardiovascular |\n",
       "| Muscle | 0.011284722 | -0.015625000 | 0.02690972 | Muscle                  | Muscle         |\n",
       "| Ovary | 0.040852575 | -0.080521018 | 0.12137359 | Ovary                   | Reproductive   |\n",
       "| Cecum | 0.147406266 | -0.083204931 | 0.23061120 | Cecum                   | Digestive      |\n",
       "| Superior_temporal_gyrus | 0.065759637 | -0.077853364 | 0.14361300 | Superior_temporal_gyrus | Brain          |\n",
       "| Spleen | 0.053291536 | -0.035736677 | 0.08902821 | Spleen                  | Immune         |\n",
       "| Kidney | 0.009730967 | -0.062392673 | 0.07212364 | Kidney                  | Renal          |\n",
       "| Adrenal_gland | 0.021821632 | -0.013757116 | 0.03557875 | Adrenal_gland           | Endocrine      |\n",
       "| Duodenum | 0.034172662 | -0.050959233 | 0.08513189 | Duodenum                | Digestive      |\n",
       "| Fallopian_tube | 0.006607930 | -0.042951542 | 0.04955947 | Fallopian_tube          | Reproductive   |\n",
       "| Stomach | 0.006823821 | -0.047766749 | 0.05459057 | Stomach                 | Digestive      |\n",
       "| Hypothalamus | 0.030780781 | -0.024024024 | 0.05480480 | Hypothalamus            | Brain          |\n",
       "| Heart | 0.028863500 | -0.023451594 | 0.05231509 | Heart                   | Muscle         |\n",
       "| Thymus | 0.023887588 | -0.136299766 | 0.16018735 | Thymus                  | Immune         |\n",
       "| Facial_skin | 0.002056555 | -0.011825193 | 0.01388175 | Facial_skin             | Integumentary  |\n",
       "| Pancreas | 0.026440678 | -0.016949153 | 0.04338983 | Pancreas                | Endocrine      |\n",
       "| Supramarginal_gyrus | 0.126301180 | -0.045801527 | 0.17210271 | Supramarginal_gyrus     | Brain          |\n",
       "| Adipose | 0.002421308 | -0.007263923 | 0.00968523 | Adipose                 | Immune         |\n",
       "| Aortic_arch | 0.015799868 | -0.048716261 | 0.06451613 | Aortic_arch             | Cardiovascular |\n",
       "| Uterus | 0.031384615 | -0.035692308 | 0.06707692 | Uterus                  | Reproductive   |\n",
       "\n"
      ],
      "text/plain": [
       "                        num.up      num.down     num.all   \n",
       "Skin_of_back            0.036030341 -0.027180784 0.06321113\n",
       "Pituitary               0.127226463 -0.078032231 0.20525869\n",
       "Frontal_pole            0.013303769 -0.047302291 0.06060606\n",
       "Lung                    0.015033073 -0.021046302 0.03607937\n",
       "Liver                   0.006362059 -0.029496819 0.03585888\n",
       "Arteria_cruralis        0.020116807 -0.020765737 0.04088254\n",
       "Femoral_vein            0.000000000 -0.011150235 0.01115023\n",
       "Hippocampus             0.014792899 -0.015532544 0.03032544\n",
       "Ileocecum               0.012651265 -0.058305831 0.07095710\n",
       "Thyroid_gland           0.006051437 -0.084720121 0.09077156\n",
       "Arteria_carotis         0.048211509 -0.010886470 0.05909798\n",
       "Muscle                  0.011284722 -0.015625000 0.02690972\n",
       "Ovary                   0.040852575 -0.080521018 0.12137359\n",
       "Cecum                   0.147406266 -0.083204931 0.23061120\n",
       "Superior_temporal_gyrus 0.065759637 -0.077853364 0.14361300\n",
       "Spleen                  0.053291536 -0.035736677 0.08902821\n",
       "Kidney                  0.009730967 -0.062392673 0.07212364\n",
       "Adrenal_gland           0.021821632 -0.013757116 0.03557875\n",
       "Duodenum                0.034172662 -0.050959233 0.08513189\n",
       "Fallopian_tube          0.006607930 -0.042951542 0.04955947\n",
       "Stomach                 0.006823821 -0.047766749 0.05459057\n",
       "Hypothalamus            0.030780781 -0.024024024 0.05480480\n",
       "Heart                   0.028863500 -0.023451594 0.05231509\n",
       "Thymus                  0.023887588 -0.136299766 0.16018735\n",
       "Facial_skin             0.002056555 -0.011825193 0.01388175\n",
       "Pancreas                0.026440678 -0.016949153 0.04338983\n",
       "Supramarginal_gyrus     0.126301180 -0.045801527 0.17210271\n",
       "Adipose                 0.002421308 -0.007263923 0.00968523\n",
       "Aortic_arch             0.015799868 -0.048716261 0.06451613\n",
       "Uterus                  0.031384615 -0.035692308 0.06707692\n",
       "                        tissues                 tissue_systems\n",
       "Skin_of_back            Skin_of_back            Integumentary \n",
       "Pituitary               Pituitary               Endocrine     \n",
       "Frontal_pole            Frontal_pole            Brain         \n",
       "Lung                    Lung                    Respiratory   \n",
       "Liver                   Liver                   Digestive     \n",
       "Arteria_cruralis        Arteria_cruralis        Cardiovascular\n",
       "Femoral_vein            Femoral_vein            Cardiovascular\n",
       "Hippocampus             Hippocampus             Brain         \n",
       "Ileocecum               Ileocecum               Digestive     \n",
       "Thyroid_gland           Thyroid_gland           Endocrine     \n",
       "Arteria_carotis         Arteria_carotis         Cardiovascular\n",
       "Muscle                  Muscle                  Muscle        \n",
       "Ovary                   Ovary                   Reproductive  \n",
       "Cecum                   Cecum                   Digestive     \n",
       "Superior_temporal_gyrus Superior_temporal_gyrus Brain         \n",
       "Spleen                  Spleen                  Immune        \n",
       "Kidney                  Kidney                  Renal         \n",
       "Adrenal_gland           Adrenal_gland           Endocrine     \n",
       "Duodenum                Duodenum                Digestive     \n",
       "Fallopian_tube          Fallopian_tube          Reproductive  \n",
       "Stomach                 Stomach                 Digestive     \n",
       "Hypothalamus            Hypothalamus            Brain         \n",
       "Heart                   Heart                   Muscle        \n",
       "Thymus                  Thymus                  Immune        \n",
       "Facial_skin             Facial_skin             Integumentary \n",
       "Pancreas                Pancreas                Endocrine     \n",
       "Supramarginal_gyrus     Supramarginal_gyrus     Brain         \n",
       "Adipose                 Adipose                 Immune        \n",
       "Aortic_arch             Aortic_arch             Cardiovascular\n",
       "Uterus                  Uterus                  Reproductive  "
      ]
     },
     "metadata": {},
     "output_type": "display_data"
    }
   ],
   "source": [
    "Aging_met_updown"
   ]
  },
  {
   "cell_type": "code",
   "execution_count": 148,
   "metadata": {},
   "outputs": [],
   "source": [
    "met.class_enrichment <- function(mets,annote){\n",
    "  require(clusterProfiler)\n",
    "\n",
    "  vmet = intersect(mets,rownames(annote))\n",
    "  fluxgmt = data.frame(ont = annote$sub_class,gene = rownames(annote),stringsAsFactors = F) \n",
    "  \n",
    "  Recon3D <- enricher(gene = vmet,\n",
    "                TERM2GENE=fluxgmt,\n",
    "                pAdjustMethod = \"BH\",\n",
    "                minGSSize = 1,\n",
    "                pvalueCutoff =1,\n",
    "                qvalueCutoff = 1\n",
    "                )\n",
    "  Recon3Dout = Recon3D@result\n",
    "  Recon3Dout$DB = rep('HMDBclass',dim(Recon3Dout)[1])\n",
    "  n = dim(Recon3Dout)[2]\n",
    "  Recon3Dout = Recon3Dout[,c(n,1:(n-1))]\n",
    "  return(Recon3Dout)\n",
    "}"
   ]
  },
  {
   "cell_type": "code",
   "execution_count": 149,
   "metadata": {},
   "outputs": [],
   "source": [
    "tmpid = sort.int(rowSums(Aging_met_sigall_matrix,na.rm = T),decreasing = T,index.return = T)$ix\n",
    "top20up = rownames(Aging_met_sigall_matrix)[tmpid[1:30]]\n",
    "tmpid = sort.int(rowSums(Aging_met_sigall_matrix,na.rm = T),decreasing = F,index.return = T)$ix\n",
    "top20down = rownames(Aging_met_sigall_matrix)[tmpid[1:30]]\n",
    "xx = Aging_met_sigall_matrix[c(top20up,top20down),]\n",
    "xx[is.na(xx)] = 0\n",
    "\n",
    "#pheatmap::pheatmap(xx,cluster_rows = T,fontsize_row = 5,\n",
    "#                   color=colorRampPalette(c('#3B4992','gray95','#BB0021'))(10))"
   ]
  },
  {
   "cell_type": "markdown",
   "metadata": {},
   "source": [
    "## Figure 2A perc changed mols each tissue"
   ]
  },
  {
   "cell_type": "code",
   "execution_count": 99,
   "metadata": {},
   "outputs": [],
   "source": [
    "fmt_dcimals <- function(decimals=0){\n",
    "    function(x) format(x,nsmall = decimals,scientific = FALSE)\n",
    "}"
   ]
  },
  {
   "cell_type": "code",
   "execution_count": 821,
   "metadata": {},
   "outputs": [],
   "source": [
    "plotAgingNum = list()\n",
    "idx = sort.int(Aging_pro_updown$num.all,decreasing = F,index.return = T)$ix\n",
    "Aging_pro_updown.v = Aging_pro_updown[idx,]\n",
    "idx = sort.int(Aging_pro_updown.v$tissue_systems,decreasing = F,index.return = T)$ix\n",
    "Aging_pro_updown.v = Aging_pro_updown.v[idx,]\n",
    "tissueindex = rownames(Aging_pro_updown.v)\n",
    "Aging_met_updown.v = Aging_met_updown[tissueindex,]\n",
    "\n",
    "p1 = ggplot(Aging_met_updown.v,aes(x = factor(tissues,level = tissues),y = num.up,\n",
    "                       color = tissue_systems,fill = tissue_systems))+ geom_bar(stat=\"identity\",alpha = 0.8)#+\n",
    "#theme_classic()+lghplot.addtheme(legend.position = 'none',hjust = 1,size = 13.5)+\n",
    "#theme(axis.text.y = element_text(size = 9.5, face = \"bold\", color = \"black\"))+scale_color_aaas()+\n",
    "#scale_fill_aaas()+\n",
    "#ylab('Number of coding mRNAs')+ xlab('')#+ylim(0,8200)\n",
    "plotAgingNum[[1]] = p1+ geom_bar(stat=\"identity\",aes(y = num.down),alpha = 0.6)+geom_hline(yintercept = 0)+\n",
    "theme_classic()+lghplot.addtheme(legend.position = 'none',hjust = 1,size = 13.5)+\n",
    "theme(axis.text.y = element_text(size = 9.5, face = \"bold\", color = \"black\"))+scale_color_aaas(alpha = 0.6)+\n",
    "scale_fill_aaas(alpha = 0.6)+theme(axis.ticks.x = element_blank(),\n",
    "        axis.text.x = element_blank(),axis.line.x =element_blank())+\n",
    "scale_y_continuous(labels = fmt_dcimals(2))+\n",
    "ylab('Metabolites')+ xlab('')#+ylim(0,8200)"
   ]
  },
  {
   "cell_type": "code",
   "execution_count": 822,
   "metadata": {},
   "outputs": [],
   "source": [
    "\n",
    "#idx = sort.int(Aging_pro_updown$num.all,decreasing = F,index.return = T)$ix\n",
    "#Aging_pro_updown.v = Aging_pro_updown[idx,]\n",
    "#idx = sort.int(Aging_pro_updown.v$tissue_systems,decreasing = F,index.return = T)$ix\n",
    "Aging_pro_updown.v = Aging_pro_updown[tissueindex,]\n",
    "\n",
    "p1 = ggplot(Aging_pro_updown.v,aes(x = factor(tissues,level = tissues),y = num.up,\n",
    "                       color = tissue_systems,fill = tissue_systems))+ geom_bar(stat=\"identity\",alpha = 0.8)#+\n",
    "#theme_classic()+lghplot.addtheme(legend.position = 'none',hjust = 1,size = 13.5)+\n",
    "#theme(axis.text.y = element_text(size = 9.5, face = \"bold\", color = \"black\"))+scale_color_aaas()+\n",
    "#scale_fill_aaas()+\n",
    "#ylab('Number of coding mRNAs')+ xlab('')#+ylim(0,8200)\n",
    "plotAgingNum[[2]] = p1+ geom_bar(stat=\"identity\",aes(y = num.down),alpha = 0.6)+geom_hline(yintercept = 0)+\n",
    "theme_classic()+lghplot.addtheme(legend.position = 'none',hjust = 1,size = 13.5)+\n",
    "theme(axis.text.y = element_text(size = 9.5, face = \"bold\", color = \"black\"))+scale_color_aaas(alpha = 0.6)+\n",
    "scale_fill_aaas(alpha = 0.6)+  \n",
    "#theme(axis.ticks.x = element_blank(),axis.text.x = element_blank(),axis.line.x =element_blank())+\n",
    "scale_y_continuous(labels = fmt_dcimals(2))+\n",
    "ylab('Proteins')+ xlab('')#+ylim(0,8200)+scale_y_log10"
   ]
  },
  {
   "cell_type": "code",
   "execution_count": 111,
   "metadata": {},
   "outputs": [],
   "source": [
    "#idx = sort.int(Aging_mrna_updown$num.all,decreasing = F,index.return = T)$ix\n",
    "#Aging_mrna_updown.v = Aging_mrna_updown[idx,]\n",
    "#idx = sort.int(Aging_mrna_updown.v$tissue_systems,decreasing = F,index.return = T)$ix\n",
    "Aging_mrna_updown.v = Aging_mrna_updown[tissueindex,]\n",
    "\n",
    "p1 = ggplot(Aging_mrna_updown.v,aes(x = factor(tissues,level = tissues),y = num.up,\n",
    "                       color = tissue_systems,fill = tissue_systems))+ geom_bar(stat=\"identity\",alpha = 0.8)#+\n",
    "#theme_classic()+lghplot.addtheme(legend.position = 'none',hjust = 1,size = 13.5)+\n",
    "#theme(axis.text.y = element_text(size = 9.5, face = \"bold\", color = \"black\"))+scale_color_aaas()+\n",
    "#scale_fill_aaas()+\n",
    "#ylab('Number of coding mRNAs')+ xlab('')#+ylim(0,8200)\n",
    "plotAgingNum[[3]] = p1+ geom_bar(stat=\"identity\",aes(y = num.down),alpha = 0.6)+geom_hline(yintercept = 0)+\n",
    "theme_classic()+lghplot.addtheme(legend.position = 'none',hjust = 1,size = 13.5)+\n",
    "theme(axis.text.y = element_text(size = 9.5, face = \"bold\", color = \"black\"))+scale_color_aaas(alpha = 0.6)+\n",
    "scale_fill_aaas(alpha = 0.6)+scale_y_continuous(labels = fmt_dcimals(2))+\n",
    "ylab('mRNAs')+ xlab('')#+ylim(0,8200)"
   ]
  },
  {
   "cell_type": "code",
   "execution_count": 823,
   "metadata": {},
   "outputs": [
    {
     "data": {
      "text/html": [
       "<strong>png:</strong> 2"
      ],
      "text/latex": [
       "\\textbf{png:} 2"
      ],
      "text/markdown": [
       "**png:** 2"
      ],
      "text/plain": [
       "png \n",
       "  2 "
      ]
     },
     "metadata": {},
     "output_type": "display_data"
    }
   ],
   "source": [
    "pdf(file = './out/20230217_aging/Figure2_DEG_GO_tissue/Figure2A_number_of_Aging_moleculars_prometv1_aaas.pdf',width = 12,height =5)\n",
    "grid.arrange(arrangeGrob(grobs = plotAgingNum,ncol = 1,heights = c(1.7,3.3)))\n",
    "dev.off()"
   ]
  },
  {
   "cell_type": "code",
   "execution_count": 67,
   "metadata": {},
   "outputs": [
    {
     "data": {
      "text/html": [
       "<strong>png:</strong> 2"
      ],
      "text/latex": [
       "\\textbf{png:} 2"
      ],
      "text/markdown": [
       "**png:** 2"
      ],
      "text/plain": [
       "png \n",
       "  2 "
      ]
     },
     "metadata": {},
     "output_type": "display_data"
    }
   ],
   "source": [
    "pdf(file = './out/20230217_aging/Figure2_DEG_GO_tissue/Figure2A_number_of_Aging_molecularsv1.pdf',width = 12,height = 9)\n",
    "grid.arrange(arrangeGrob(grobs = plotAgingNum,ncol = 1,heights = c(2.4,2.4,4.2)))\n",
    "dev.off()"
   ]
  },
  {
   "cell_type": "markdown",
   "metadata": {},
   "source": [
    "## Figure 2B enrichment"
   ]
  },
  {
   "cell_type": "markdown",
   "metadata": {},
   "source": [
    "### protein"
   ]
  },
  {
   "cell_type": "code",
   "execution_count": 133,
   "metadata": {},
   "outputs": [],
   "source": [
    "#write for metascape up\n",
    "inputGOenrich = data.frame(tissues = names(DEproAging),stringsAsFactors = F,\n",
    "                      genes = rep('c',length(DEproAging)))\n",
    "#colnames(inputGOenrich) = c('tissue','GeneSymbol')\n",
    "for(i in 1:length(DEproAging)){\n",
    "    tmp = DEproAging[[i]]\n",
    "    tgenes = unique(rownames(tmp)[tmp$Pvalue < 0.05 & tmp$log2FC > 0.58 & tmp$Pvalue.devControl > 0.05])\n",
    "    tgenes = tgenes[!is.na(tgenes)]\n",
    "    tgenes = tgenes[tgenes != '']\n",
    "    tgenes = paste0(tgenes,collapse =',')\n",
    "    inputGOenrich$genes[i] = tgenes\n",
    "}\n",
    "writetxt(inputGOenrich,'./out/20230217_aging/Figure2_DEG_GO_tissue/protein/_inputGOenrich_age_DEpro_up.txt',row.names = F,col.names = F)"
   ]
  },
  {
   "cell_type": "code",
   "execution_count": 134,
   "metadata": {},
   "outputs": [],
   "source": [
    "#write for metascape down\n",
    "inputGOenrich = data.frame(tissues = names(DEproAging),stringsAsFactors = F,\n",
    "                      genes = rep('c',length(DEproAging)))\n",
    "#colnames(inputGOenrich) = c('tissue','GeneSymbol')\n",
    "for(i in 1:length(DEproAging)){\n",
    "    tmp = DEproAging[[i]]\n",
    "    tgenes = unique(rownames(tmp)[tmp$Pvalue < 0.05 & tmp$log2FC < -0.58 & tmp$Pvalue.devControl > 0.05])\n",
    "    tgenes = tgenes[!is.na(tgenes)]\n",
    "    tgenes = tgenes[tgenes != '']\n",
    "    tgenes = paste0(tgenes,collapse =',')\n",
    "    inputGOenrich$genes[i] = tgenes\n",
    "}\n",
    "writetxt(inputGOenrich,'./out/20230217_aging/Figure2_DEG_GO_tissue/protein/_inputGOenrich_age_DEpro_down.txt',row.names = F,col.names = F)"
   ]
  },
  {
   "cell_type": "code",
   "execution_count": 827,
   "metadata": {},
   "outputs": [],
   "source": [
    "outids = c()\n",
    "tpath1 = './out/20230217_aging/Figure2_DEG_GO_tissue/protein/metascape_DEpro_up/Enrichment_heatmap/HeatmapSelectedGO.csv'\n",
    "tpath2 = './out/20230217_aging/Figure2_DEG_GO_tissue/protein//metascape_DEpro_down/Enrichment_heatmap/HeatmapSelectedGO.csv'\n",
    "selectGO = readxl::read_xlsx(path = './out/20230217_aging/Figure2_DEG_GO_tissue/protein/metascape_DEpro_up/metascape_result.xlsx',sheet = 'Enrichment')\n",
    "go1 = file2frame(tpath1,sep = ',',header = T,row.names =2)\n",
    "rownames(go1) = paste0(go1$GO,'-',rownames(go1))\n",
    "go1term = go1$GO\n",
    "tpath1a = './out/20230217_aging/Figure2_DEG_GO_tissue/protein/metascape_DEpro_up/Enrichment_GO/GO_AllLists.csv'\n",
    "go1qval = file2frame(tpath1a,sep = ',',header = T)\n",
    "rownames(go1qval) = paste0(go1qval$GO,'X_LogP_',go1qval$GeneList)\n",
    "go1 = abs(as.matrix(go1[,-1]))\n",
    "cname = colnames(go1)\n",
    "for(i in 1:nrow(go1)){\n",
    "    for(j in 1:ncol(go1)){\n",
    "        tmpname = paste0(go1term[i],cname[j])\n",
    "        go1[i,j] = abs(go1qval[tmpname,]$Log.q.value.)\n",
    "    }\n",
    "}\n",
    "go1[is.na(go1)] = 0\n",
    "\n",
    "go1for_write = cbind(data.frame(GO = rownames(go1)),-go1)\n",
    "outlist = list()\n",
    "outlist[[1]] = go1for_write;\n",
    "outlist[[2]] = selectGO;\n",
    "tmpnames = sort(unique(go1qval$GeneList))\n",
    "for(i in 1:length(tmpnames)){\n",
    "    outlist[[i+2]] = go1qval[go1qval$GeneList == tmpnames[[i]],]\n",
    "}\n",
    "names(outlist) = c('GOenrichmentALL','selectGO',tmpnames)\n",
    "openxlsx::write.xlsx(outlist, file = \"./out/20230217_aging/Figure2_DEG_GO_tissue/Data S4_GO_tissue_upregulated_protein.xlsx\")\n",
    "\n",
    "\n",
    "selectGO = readxl::read_xlsx(path = './out/20230217_aging/Figure2_DEG_GO_tissue/protein/metascape_DEpro_down/metascape_result.xlsx',sheet = 'Enrichment')\n",
    "go2 = file2frame(tpath2,sep = ',',header = T,row.names =2)\n",
    "rownames(go2) = paste0(go2$GO,'-',rownames(go2))\n",
    "go2term = go2$GO\n",
    "tpath2a = './out/20230217_aging/Figure2_DEG_GO_tissue/protein/metascape_DEpro_down/Enrichment_GO/GO_AllLists.csv'\n",
    "go2qval = file2frame(tpath2a,sep = ',',header = T)\n",
    "rownames(go2qval) = paste0(go2qval$GO,'X_LogP_',go2qval$GeneList)\n",
    "go2 = abs(as.matrix(go2[,-1]))\n",
    "cname = colnames(go2)\n",
    "for(i in 1:nrow(go2)){\n",
    "    for(j in 1:ncol(go2)){\n",
    "        tmpname = paste0(go2term[i],cname[j])\n",
    "        go2[i,j] = -abs(go2qval[tmpname,]$Log.q.value.)\n",
    "    }\n",
    "}\n",
    "go2[is.na(go2)] = 0\n",
    "\n",
    "go1for_write = cbind(data.frame(GO = rownames(go2)),go2)\n",
    "outlist = list()\n",
    "outlist[[1]] = go1for_write;\n",
    "outlist[[2]] = selectGO;\n",
    "tmpnames = sort(unique(go2qval$GeneList))\n",
    "for(i in 1:length(tmpnames)){\n",
    "    outlist[[i+2]] = go2qval[go2qval$GeneList == tmpnames[[i]],]\n",
    "}\n",
    "names(outlist) = c('GOenrichmentALL','selectGO',tmpnames)\n",
    "openxlsx::write.xlsx(outlist, file = \"./out/20230217_aging/Figure2_DEG_GO_tissue/Data S5_GO_tissue_downregulated_protein.xlsx\")\n",
    "\n",
    "\n",
    "thisgo = rbind(go1,go2)\n",
    "thisgo.matrix = as.matrix(thisgo)\n",
    "colnames(thisgo.matrix) = capitalize(gsub('X_LogP_','',colnames(thisgo.matrix)))\n",
    "thisgo.matrix[abs(thisgo.matrix) < -log10(0.05)] = 0\n",
    "writetxt(thisgo.matrix,'./out/20230217_aging/Figure2_DEG_GO_tissue/Figure2_heatmap_GOenrichment_metascape_DEpro_eachtissue_fdr.txt',row.names = T)\n",
    "thisgo.matrix[thisgo.matrix > 4] = 4\n",
    "thisgo.matrix[thisgo.matrix < -4] = -4\n",
    "\n",
    "rownames(thisgo.matrix)[rownames(thisgo.matrix) == 'R-HSA-9716542-Signaling by Rho GTPases, Miro GTPases and RHOBTB3'] = 'R-HSA-9716542-Signaling by Rho GTPases'\n",
    "rownames(thisgo.matrix)[rownames(thisgo.matrix) == 'R-HSA-1428517-The citric acid (TCA) cycle and respiratory electron transport'] = 'R-HSA-1428517-TCA cycle and respiratory electron transport'\n",
    "\n",
    "graphics.off()\n",
    "pheatmap::pheatmap(thisgo.matrix,cluster_rows = T,cluster_cols = T,fontsize_row = 11,fontsize_col = 11,fontsize = 14,treeheight_row = 20,treeheight_col = 20,legend = T,\n",
    "                  color=colorRampPalette(c('#3B4992','gray99','#BB0021FF'))(50),\n",
    "                  height = 10,width = 10,\n",
    "                  file =\"./out/20230217_aging/Figure2_DEG_GO_tissue/Figure2_heatmap_GOenrichment_metascape_DEpro_eachtissue.v1_aaas.pdf\"\n",
    "                   )"
   ]
  },
  {
   "cell_type": "code",
   "execution_count": 826,
   "metadata": {},
   "outputs": [
    {
     "data": {
      "text/html": [
       "<style>\n",
       ".list-inline {list-style: none; margin:0; padding: 0}\n",
       ".list-inline>li {display: inline-block}\n",
       ".list-inline>li:not(:last-child)::after {content: \"\\00b7\"; padding: 0 .5ex}\n",
       "</style>\n",
       "<ol class=list-inline><li>'WP3888-VEGFA-VEGFR2 signaling pathway'</li><li>'GO:0060627-regulation of vesicle-mediated transport'</li><li>'GO:0030029-actin filament-based process'</li><li>'GO:0051129-negative regulation of cellular component organization'</li><li>'hsa04510-Focal adhesion'</li><li>'GO:0051493-regulation of cytoskeleton organization'</li><li>'GO:0031344-regulation of cell projection organization'</li><li>'GO:0031175-neuron projection development'</li><li>'GO:0032787-monocarboxylic acid metabolic process'</li><li>'R-HSA-5653656-Vesicle-mediated transport'</li><li>'GO:0010035-response to inorganic substance'</li><li>'R-HSA-6798695-Neutrophil degranulation'</li><li>'GO:0043086-negative regulation of catalytic activity'</li><li>'R-HSA-109582-Hemostasis'</li><li>'hsa04610-Complement and coagulation cascades'</li><li>'M5885-NABA MATRISOME ASSOCIATED'</li><li>'GO:0009611-response to wounding'</li><li>'GO:0031589-cell-substrate adhesion'</li><li>'R-HSA-1474244-Extracellular matrix organization'</li><li>'M5884-NABA CORE MATRISOME'</li><li>'R-HSA-199991-Membrane Trafficking'</li><li>'GO:0006886-intracellular protein transport'</li><li>'R-HSA-9716542-Signaling by Rho GTPases, Miro GTPases and RHOBTB3'</li><li>'R-HSA-2262752-Cellular responses to stress'</li><li>'R-HSA-72766-Translation'</li><li>'R-HSA-162906-HIV Infection'</li><li>'GO:1903311-regulation of mRNA metabolic process'</li><li>'R-HSA-1640170-Cell Cycle'</li><li>'GO:0051052-regulation of DNA metabolic process'</li><li>'GO:0006974-cellular response to DNA damage stimulus'</li><li>'GO:0006325-chromatin organization'</li><li>'GO:0032774-RNA biosynthetic process'</li><li>'GO:0033044-regulation of chromosome organization'</li><li>'R-HSA-9679506-SARS-CoV Infections'</li><li>'GO:0044265-cellular macromolecule catabolic process'</li><li>'R-HSA-3700989-Transcriptional Regulation by TP53'</li><li>'R-HSA-8953854-Metabolism of RNA'</li><li>'GO:0034660-ncRNA metabolic process'</li><li>'R-HSA-168255-Influenza Infection'</li><li>'R-HSA-1428517-The citric acid (TCA) cycle and respiratory electron transport'</li></ol>\n"
      ],
      "text/latex": [
       "\\begin{enumerate*}\n",
       "\\item 'WP3888-VEGFA-VEGFR2 signaling pathway'\n",
       "\\item 'GO:0060627-regulation of vesicle-mediated transport'\n",
       "\\item 'GO:0030029-actin filament-based process'\n",
       "\\item 'GO:0051129-negative regulation of cellular component organization'\n",
       "\\item 'hsa04510-Focal adhesion'\n",
       "\\item 'GO:0051493-regulation of cytoskeleton organization'\n",
       "\\item 'GO:0031344-regulation of cell projection organization'\n",
       "\\item 'GO:0031175-neuron projection development'\n",
       "\\item 'GO:0032787-monocarboxylic acid metabolic process'\n",
       "\\item 'R-HSA-5653656-Vesicle-mediated transport'\n",
       "\\item 'GO:0010035-response to inorganic substance'\n",
       "\\item 'R-HSA-6798695-Neutrophil degranulation'\n",
       "\\item 'GO:0043086-negative regulation of catalytic activity'\n",
       "\\item 'R-HSA-109582-Hemostasis'\n",
       "\\item 'hsa04610-Complement and coagulation cascades'\n",
       "\\item 'M5885-NABA MATRISOME ASSOCIATED'\n",
       "\\item 'GO:0009611-response to wounding'\n",
       "\\item 'GO:0031589-cell-substrate adhesion'\n",
       "\\item 'R-HSA-1474244-Extracellular matrix organization'\n",
       "\\item 'M5884-NABA CORE MATRISOME'\n",
       "\\item 'R-HSA-199991-Membrane Trafficking'\n",
       "\\item 'GO:0006886-intracellular protein transport'\n",
       "\\item 'R-HSA-9716542-Signaling by Rho GTPases, Miro GTPases and RHOBTB3'\n",
       "\\item 'R-HSA-2262752-Cellular responses to stress'\n",
       "\\item 'R-HSA-72766-Translation'\n",
       "\\item 'R-HSA-162906-HIV Infection'\n",
       "\\item 'GO:1903311-regulation of mRNA metabolic process'\n",
       "\\item 'R-HSA-1640170-Cell Cycle'\n",
       "\\item 'GO:0051052-regulation of DNA metabolic process'\n",
       "\\item 'GO:0006974-cellular response to DNA damage stimulus'\n",
       "\\item 'GO:0006325-chromatin organization'\n",
       "\\item 'GO:0032774-RNA biosynthetic process'\n",
       "\\item 'GO:0033044-regulation of chromosome organization'\n",
       "\\item 'R-HSA-9679506-SARS-CoV Infections'\n",
       "\\item 'GO:0044265-cellular macromolecule catabolic process'\n",
       "\\item 'R-HSA-3700989-Transcriptional Regulation by TP53'\n",
       "\\item 'R-HSA-8953854-Metabolism of RNA'\n",
       "\\item 'GO:0034660-ncRNA metabolic process'\n",
       "\\item 'R-HSA-168255-Influenza Infection'\n",
       "\\item 'R-HSA-1428517-The citric acid (TCA) cycle and respiratory electron transport'\n",
       "\\end{enumerate*}\n"
      ],
      "text/markdown": [
       "1. 'WP3888-VEGFA-VEGFR2 signaling pathway'\n",
       "2. 'GO:0060627-regulation of vesicle-mediated transport'\n",
       "3. 'GO:0030029-actin filament-based process'\n",
       "4. 'GO:0051129-negative regulation of cellular component organization'\n",
       "5. 'hsa04510-Focal adhesion'\n",
       "6. 'GO:0051493-regulation of cytoskeleton organization'\n",
       "7. 'GO:0031344-regulation of cell projection organization'\n",
       "8. 'GO:0031175-neuron projection development'\n",
       "9. 'GO:0032787-monocarboxylic acid metabolic process'\n",
       "10. 'R-HSA-5653656-Vesicle-mediated transport'\n",
       "11. 'GO:0010035-response to inorganic substance'\n",
       "12. 'R-HSA-6798695-Neutrophil degranulation'\n",
       "13. 'GO:0043086-negative regulation of catalytic activity'\n",
       "14. 'R-HSA-109582-Hemostasis'\n",
       "15. 'hsa04610-Complement and coagulation cascades'\n",
       "16. 'M5885-NABA MATRISOME ASSOCIATED'\n",
       "17. 'GO:0009611-response to wounding'\n",
       "18. 'GO:0031589-cell-substrate adhesion'\n",
       "19. 'R-HSA-1474244-Extracellular matrix organization'\n",
       "20. 'M5884-NABA CORE MATRISOME'\n",
       "21. 'R-HSA-199991-Membrane Trafficking'\n",
       "22. 'GO:0006886-intracellular protein transport'\n",
       "23. 'R-HSA-9716542-Signaling by Rho GTPases, Miro GTPases and RHOBTB3'\n",
       "24. 'R-HSA-2262752-Cellular responses to stress'\n",
       "25. 'R-HSA-72766-Translation'\n",
       "26. 'R-HSA-162906-HIV Infection'\n",
       "27. 'GO:1903311-regulation of mRNA metabolic process'\n",
       "28. 'R-HSA-1640170-Cell Cycle'\n",
       "29. 'GO:0051052-regulation of DNA metabolic process'\n",
       "30. 'GO:0006974-cellular response to DNA damage stimulus'\n",
       "31. 'GO:0006325-chromatin organization'\n",
       "32. 'GO:0032774-RNA biosynthetic process'\n",
       "33. 'GO:0033044-regulation of chromosome organization'\n",
       "34. 'R-HSA-9679506-SARS-CoV Infections'\n",
       "35. 'GO:0044265-cellular macromolecule catabolic process'\n",
       "36. 'R-HSA-3700989-Transcriptional Regulation by TP53'\n",
       "37. 'R-HSA-8953854-Metabolism of RNA'\n",
       "38. 'GO:0034660-ncRNA metabolic process'\n",
       "39. 'R-HSA-168255-Influenza Infection'\n",
       "40. 'R-HSA-1428517-The citric acid (TCA) cycle and respiratory electron transport'\n",
       "\n",
       "\n"
      ],
      "text/plain": [
       " [1] \"WP3888-VEGFA-VEGFR2 signaling pathway\"                                       \n",
       " [2] \"GO:0060627-regulation of vesicle-mediated transport\"                         \n",
       " [3] \"GO:0030029-actin filament-based process\"                                     \n",
       " [4] \"GO:0051129-negative regulation of cellular component organization\"           \n",
       " [5] \"hsa04510-Focal adhesion\"                                                     \n",
       " [6] \"GO:0051493-regulation of cytoskeleton organization\"                          \n",
       " [7] \"GO:0031344-regulation of cell projection organization\"                       \n",
       " [8] \"GO:0031175-neuron projection development\"                                    \n",
       " [9] \"GO:0032787-monocarboxylic acid metabolic process\"                            \n",
       "[10] \"R-HSA-5653656-Vesicle-mediated transport\"                                    \n",
       "[11] \"GO:0010035-response to inorganic substance\"                                  \n",
       "[12] \"R-HSA-6798695-Neutrophil degranulation\"                                      \n",
       "[13] \"GO:0043086-negative regulation of catalytic activity\"                        \n",
       "[14] \"R-HSA-109582-Hemostasis\"                                                     \n",
       "[15] \"hsa04610-Complement and coagulation cascades\"                                \n",
       "[16] \"M5885-NABA MATRISOME ASSOCIATED\"                                             \n",
       "[17] \"GO:0009611-response to wounding\"                                             \n",
       "[18] \"GO:0031589-cell-substrate adhesion\"                                          \n",
       "[19] \"R-HSA-1474244-Extracellular matrix organization\"                             \n",
       "[20] \"M5884-NABA CORE MATRISOME\"                                                   \n",
       "[21] \"R-HSA-199991-Membrane Trafficking\"                                           \n",
       "[22] \"GO:0006886-intracellular protein transport\"                                  \n",
       "[23] \"R-HSA-9716542-Signaling by Rho GTPases, Miro GTPases and RHOBTB3\"            \n",
       "[24] \"R-HSA-2262752-Cellular responses to stress\"                                  \n",
       "[25] \"R-HSA-72766-Translation\"                                                     \n",
       "[26] \"R-HSA-162906-HIV Infection\"                                                  \n",
       "[27] \"GO:1903311-regulation of mRNA metabolic process\"                             \n",
       "[28] \"R-HSA-1640170-Cell Cycle\"                                                    \n",
       "[29] \"GO:0051052-regulation of DNA metabolic process\"                              \n",
       "[30] \"GO:0006974-cellular response to DNA damage stimulus\"                         \n",
       "[31] \"GO:0006325-chromatin organization\"                                           \n",
       "[32] \"GO:0032774-RNA biosynthetic process\"                                         \n",
       "[33] \"GO:0033044-regulation of chromosome organization\"                            \n",
       "[34] \"R-HSA-9679506-SARS-CoV Infections\"                                           \n",
       "[35] \"GO:0044265-cellular macromolecule catabolic process\"                         \n",
       "[36] \"R-HSA-3700989-Transcriptional Regulation by TP53\"                            \n",
       "[37] \"R-HSA-8953854-Metabolism of RNA\"                                             \n",
       "[38] \"GO:0034660-ncRNA metabolic process\"                                          \n",
       "[39] \"R-HSA-168255-Influenza Infection\"                                            \n",
       "[40] \"R-HSA-1428517-The citric acid (TCA) cycle and respiratory electron transport\""
      ]
     },
     "metadata": {},
     "output_type": "display_data"
    }
   ],
   "source": [
    "rownames(thisgo.matrix)"
   ]
  },
  {
   "cell_type": "code",
   "execution_count": 137,
   "metadata": {},
   "outputs": [],
   "source": [
    "tpath = './out/20230217_aging/Figure2_DEG_GO_tissue/protein/metascape_DEpro_up/metascape_result.xlsx'\n",
    "my_data <- read_excel(tpath, sheet = \"Enrichment\")\n",
    "idx = regexpr('Summary',my_data$GroupID) >0\n",
    "outids = my_data$Term[idx]\n",
    "my_data = my_data[idx,]\n",
    "goup = -my_data$`Log(q-value)`\n",
    "names(goup) = my_data$Description\n",
    "\n",
    "tpath = './out/20230217_aging/Figure2_DEG_GO_tissue/protein/metascape_DEpro_down/metascape_result.xlsx'\n",
    "my_data <- read_excel(tpath, sheet = \"Enrichment\")\n",
    "idx = regexpr('Summary',my_data$GroupID) >0\n",
    "outids = my_data$Term[idx]\n",
    "my_data = my_data[idx,]\n",
    "godown = -my_data$`Log(q-value)`\n",
    "names(godown) = my_data$Description"
   ]
  },
  {
   "cell_type": "code",
   "execution_count": 138,
   "metadata": {},
   "outputs": [
    {
     "data": {
      "text/html": [
       "<strong>png:</strong> 2"
      ],
      "text/latex": [
       "\\textbf{png:} 2"
      ],
      "text/markdown": [
       "**png:** 2"
      ],
      "text/plain": [
       "png \n",
       "  2 "
      ]
     },
     "metadata": {},
     "output_type": "display_data"
    }
   ],
   "source": [
    "pdf('./out/20230217_aging/Figure2_DEG_GO_tissue/FigureS_X_D_overall_GOenrichment_top10.pdf',width = 4,height = 4)\n",
    "p = plot_enrich(goup, godown,n_char = 40)\n",
    "print(p)\n",
    "dev.off()\n"
   ]
  },
  {
   "cell_type": "markdown",
   "metadata": {},
   "source": [
    "### mRNA\n"
   ]
  },
  {
   "cell_type": "code",
   "execution_count": 139,
   "metadata": {},
   "outputs": [],
   "source": [
    "inputGOenrich = data.frame(tissues = names(DEmrnaAging),stringsAsFactors = F,\n",
    "                      genes = rep('c',length(DEmrnaAging)))\n",
    "#colnames(inputGOenrich) = c('tissue','GeneSymbol')\n",
    "for(i in 1:length(DEmrnaAging)){\n",
    "    tmp = DEmrnaAging[[i]]\n",
    "    tgenes = unique(rownames(tmp)[tmp$Pvalue < 0.05 & tmp$log2FC > 0.58 & tmp$Pvalue.devControl > 0.05])\n",
    "    tgenes = tgenes[!is.na(tgenes)]\n",
    "    tgenes = tgenes[tgenes != '']\n",
    "    tgenes = paste0(tgenes,collapse =',')\n",
    "    inputGOenrich$genes[i] = tgenes\n",
    "}\n",
    "writetxt(inputGOenrich,'./out/20230217_aging/Figure2_DEG_GO_tissue/mRNA/_inputGOenrich_age_DEmrna_up.txt',row.names = F,col.names = F)"
   ]
  },
  {
   "cell_type": "code",
   "execution_count": 140,
   "metadata": {},
   "outputs": [],
   "source": [
    "#write for metascape down\n",
    "inputGOenrich = data.frame(tissues = names(DEmrnaAging),stringsAsFactors = F,\n",
    "                      genes = rep('c',length(DEmrnaAging)))\n",
    "#colnames(inputGOenrich) = c('tissue','GeneSymbol')\n",
    "for(i in 1:length(DEmrnaAging)){\n",
    "    tmp = DEmrnaAging[[i]]\n",
    "    tgenes = unique(rownames(tmp)[tmp$Pvalue < 0.05 & tmp$log2FC < -0.58 & tmp$Pvalue.devControl > 0.05])\n",
    "    tgenes = tgenes[!is.na(tgenes)]\n",
    "    tgenes = tgenes[tgenes != '']\n",
    "    tgenes = paste0(tgenes,collapse =',')\n",
    "    inputGOenrich$genes[i] = tgenes\n",
    "}\n",
    "writetxt(inputGOenrich,'./out/20230217_aging/Figure2_DEG_GO_tissue/mrna/_inputGOenrich_age_DEmrna_down.txt',row.names = F,col.names = F)"
   ]
  },
  {
   "cell_type": "code",
   "execution_count": 141,
   "metadata": {},
   "outputs": [],
   "source": [
    "outids = c()\n",
    "tpath1 = './out/20230217_aging/Figure2_DEG_GO_tissue/mrna/metascape_DEmrna_up/Enrichment_heatmap/HeatmapSelectedGO.csv'\n",
    "tpath2 = './out/20230217_aging/Figure2_DEG_GO_tissue/mrna//metascape_DEmrna_down/Enrichment_heatmap/HeatmapSelectedGO.csv'\n",
    "selectGO = readxl::read_xlsx(path = './out/20230217_aging/Figure2_DEG_GO_tissue/mrna/metascape_DEmrna_up/metascape_result.xlsx',sheet = 'Enrichment')\n",
    "go1 = file2frame(tpath1,sep = ',',header = T,row.names =2)\n",
    "rownames(go1) = paste0(go1$GO,'-',rownames(go1))\n",
    "go1term = go1$GO\n",
    "tpath1a = './out/20230217_aging/Figure2_DEG_GO_tissue/mrna/metascape_DEmrna_up/Enrichment_GO/GO_AllLists.csv'\n",
    "go1qval = file2frame(tpath1a,sep = ',',header = T)\n",
    "rownames(go1qval) = paste0(go1qval$GO,'X_LogP_',go1qval$GeneList)\n",
    "go1 = abs(as.matrix(go1[,-1]))\n",
    "cname = colnames(go1)\n",
    "for(i in 1:nrow(go1)){\n",
    "    for(j in 1:ncol(go1)){\n",
    "        tmpname = paste0(go1term[i],cname[j])\n",
    "        go1[i,j] = abs(go1qval[tmpname,]$Log.q.value.)\n",
    "    }\n",
    "}\n",
    "go1[is.na(go1)] = 0\n",
    "\n",
    "go1for_write = cbind(data.frame(GO = rownames(go1)),-go1)\n",
    "outlist = list()\n",
    "outlist[[1]] = go1for_write;\n",
    "outlist[[2]] = selectGO;\n",
    "tmpnames = sort(unique(go1qval$GeneList))\n",
    "for(i in 1:length(tmpnames)){\n",
    "    outlist[[i+2]] = go1qval[go1qval$GeneList == tmpnames[[i]],]\n",
    "}\n",
    "names(outlist) = c('GOenrichmentALL','selectGO',tmpnames)\n",
    "openxlsx::write.xlsx(outlist, file = \"./out/20230217_aging/Figure2_DEG_GO_tissue/Data S4_GO_tissue_upregulated_mrna.xlsx\")\n",
    "\n",
    "\n",
    "selectGO = readxl::read_xlsx(path = './out/20230217_aging/Figure2_DEG_GO_tissue/mrna/metascape_DEmrna_down/metascape_result.xlsx',sheet = 'Enrichment')\n",
    "go2 = file2frame(tpath2,sep = ',',header = T,row.names =2)\n",
    "rownames(go2) = paste0(go2$GO,'-',rownames(go2))\n",
    "go2term = go2$GO\n",
    "tpath2a = './out/20230217_aging/Figure2_DEG_GO_tissue/mrna/metascape_DEmrna_down/Enrichment_GO/GO_AllLists.csv'\n",
    "go2qval = file2frame(tpath2a,sep = ',',header = T)\n",
    "rownames(go2qval) = paste0(go2qval$GO,'X_LogP_',go2qval$GeneList)\n",
    "go2 = abs(as.matrix(go2[,-1]))\n",
    "cname = colnames(go2)\n",
    "for(i in 1:nrow(go2)){\n",
    "    for(j in 1:ncol(go2)){\n",
    "        tmpname = paste0(go2term[i],cname[j])\n",
    "        go2[i,j] = -abs(go2qval[tmpname,]$Log.q.value.)\n",
    "    }\n",
    "}\n",
    "go2[is.na(go2)] = 0\n",
    "\n",
    "go1for_write = cbind(data.frame(GO = rownames(go2)),go2)\n",
    "outlist = list()\n",
    "outlist[[1]] = go1for_write;\n",
    "outlist[[2]] = selectGO;\n",
    "tmpnames = sort(unique(go2qval$GeneList))\n",
    "for(i in 1:length(tmpnames)){\n",
    "    outlist[[i+2]] = go2qval[go2qval$GeneList == tmpnames[[i]],]\n",
    "}\n",
    "names(outlist) = c('GOenrichmentALL','selectGO',tmpnames)\n",
    "openxlsx::write.xlsx(outlist, file = \"./out/20230217_aging/Figure2_DEG_GO_tissue/Data S5_GO_tissue_downregulated_mrna.xlsx\")\n",
    "\n",
    "\n",
    "thisgo = rbind(go1,go2)\n",
    "thisgo.matrix = as.matrix(thisgo)\n",
    "colnames(thisgo.matrix) = capitalize(gsub('X_LogP_','',colnames(thisgo.matrix)))\n",
    "thisgo.matrix[abs(thisgo.matrix) < -log10(0.05)] = 0\n",
    "writetxt(thisgo.matrix,'./out/20230217_aging/Figure2_DEG_GO_tissue/Figure2_heatmap_GOenrichment_metascape_DEmrna_eachtissue_fdr.txt',row.names = T)\n",
    "thisgo.matrix[thisgo.matrix > 4] = 4\n",
    "thisgo.matrix[thisgo.matrix < -4] = -4\n",
    "\n",
    "\n",
    "graphics.off()\n",
    "pheatmap::pheatmap(thisgo.matrix,cluster_rows = T,cluster_cols = T,fontsize_row = 11,fontsize_col = 11,fontsize = 14,treeheight_row = 20,treeheight_col = 20,legend = T,\n",
    "                  color=colorRampPalette(c('#3B4992','gray99','#BB0021FF'))(50),\n",
    "                  height = 10,width = 10,\n",
    "                  file =\"./out/20230217_aging/Figure2_DEG_GO_tissue/Figure2_heatmap_GOenrichment_metascape_DEmrna_eachtissue.v1.pdf\"\n",
    "                   )"
   ]
  },
  {
   "cell_type": "code",
   "execution_count": null,
   "metadata": {},
   "outputs": [],
   "source": []
  },
  {
   "cell_type": "code",
   "execution_count": null,
   "metadata": {},
   "outputs": [],
   "source": []
  },
  {
   "cell_type": "code",
   "execution_count": null,
   "metadata": {},
   "outputs": [],
   "source": []
  },
  {
   "cell_type": "code",
   "execution_count": null,
   "metadata": {},
   "outputs": [],
   "source": []
  },
  {
   "cell_type": "code",
   "execution_count": null,
   "metadata": {},
   "outputs": [],
   "source": []
  },
  {
   "cell_type": "code",
   "execution_count": 142,
   "metadata": {},
   "outputs": [
    {
     "data": {
      "text/html": [
       "<strong>png:</strong> 2"
      ],
      "text/latex": [
       "\\textbf{png:} 2"
      ],
      "text/markdown": [
       "**png:** 2"
      ],
      "text/plain": [
       "png \n",
       "  2 "
      ]
     },
     "metadata": {},
     "output_type": "display_data"
    }
   ],
   "source": [
    "tpath = './out/20230217_aging/Figure2_DEG_GO_tissue/mrna/metascape_DEmrna_up/metascape_result.xlsx'\n",
    "my_data <- read_excel(tpath, sheet = \"Enrichment\")\n",
    "idx = regexpr('Summary',my_data$GroupID) >0\n",
    "outids = my_data$Term[idx]\n",
    "my_data = my_data[idx,]\n",
    "goup = -my_data$`Log(q-value)`\n",
    "names(goup) = my_data$Description\n",
    "\n",
    "tpath = './out/20230217_aging/Figure2_DEG_GO_tissue/mrna/metascape_DEmrna_down/metascape_result.xlsx'\n",
    "my_data <- read_excel(tpath, sheet = \"Enrichment\")\n",
    "idx = regexpr('Summary',my_data$GroupID) >0\n",
    "outids = my_data$Term[idx]\n",
    "my_data = my_data[idx,]\n",
    "godown = -my_data$`Log(q-value)`\n",
    "names(godown) = my_data$Description\n",
    "\n",
    "pdf('./out/20230217_aging/Figure2_DEG_GO_tissue/FigureS_X_E_overall_GOenrichment_top10_mRNA.pdf',width = 4,height = 4)\n",
    "p = plot_enrich(goup, godown,n_char = 40)\n",
    "print(p)\n",
    "dev.off()"
   ]
  },
  {
   "cell_type": "markdown",
   "metadata": {},
   "source": [
    "### metabolism"
   ]
  },
  {
   "cell_type": "code",
   "execution_count": 79,
   "metadata": {},
   "outputs": [
    {
     "data": {
      "text/html": [
       "<strong>png:</strong> 2"
      ],
      "text/latex": [
       "\\textbf{png:} 2"
      ],
      "text/markdown": [
       "**png:** 2"
      ],
      "text/plain": [
       "png \n",
       "  2 "
      ]
     },
     "metadata": {},
     "output_type": "display_data"
    }
   ],
   "source": [
    "tmp = met.class_enrichment(upmets,met.header.all.hmdb.v)\n",
    "idx = tmp$p.adjust < 0.01\n",
    "metupgo = -log10(tmp$p.adjust[idx])\n",
    "names(metupgo) = tmp$Description[idx]\n",
    "\n",
    "tmp = met.class_enrichment(downmets,met.header.all.hmdb.v)\n",
    "idx = tmp$p.adjust < 0.01\n",
    "metdowngo = -log10(tmp$p.adjust[idx])\n",
    "names(metdowngo) = tmp$Description[idx]\n",
    "p = plot_enrich(metupgo, metdowngo,n_char = 40)\n",
    "\n",
    "pdf('./out/20220519_aging/Figure2_DEG_GO_tissue/FigureS_X_F_overall_met_Subclass_top10.pdf',width = 4,height = 2.5)\n",
    "print(p)\n",
    "dev.off()"
   ]
  },
  {
   "cell_type": "markdown",
   "metadata": {},
   "source": [
    "# Figure 3 clustering aging type"
   ]
  },
  {
   "cell_type": "markdown",
   "metadata": {},
   "source": [
    "## mfuzz promet tissues"
   ]
  },
  {
   "cell_type": "code",
   "execution_count": 152,
   "metadata": {},
   "outputs": [],
   "source": [
    "tissues = names(pro.tissues)\n",
    "promet.tissues = list()\n",
    "promet.tissues.info = list()\n",
    "promet.tissues.Z = list()\n",
    "mfuzz.promet.tissues = list()\n",
    "promet.mstd.eset = list()\n",
    "for(i in 1:length(tissues)){\n",
    "#for(i in 1:1){\n",
    "    tt = tissues[i]\n",
    "    thispro = pro.tissues[[tt]]\n",
    "    thispro = delete_dup_genes_forprotein(thispro,pro.tissues.header[[tt]])\n",
    "    thispro.header = pro.tissues.header[[tt]]\n",
    "    thispro = thispro[rowSums(is.na(thispro)) < 1/3*ncol(thispro), ]\n",
    "    thismet = met.tissues[[tt]]\n",
    "    rownames(thismet) = paste0('met_',rownames(thismet))\n",
    "    thispromet = rbind2(thispro,thismet)\n",
    "    thisinfo = pro.tissues.info[[tt]]\n",
    "    thisinfo = thisinfo[colnames(thispromet),]\n",
    "    thispromet.median = t(aggregate(t(thispromet), by=list(thisinfo$stage), FUN=median, na.rm = T))\n",
    "    mstd = standardise_matrix(thispromet.median)\n",
    "    promet.tissues.Z[[i]] = mstd\n",
    "    promet.tissues[[i]] = thispromet\n",
    "    promet.tissues.info[[i]] = thisinfo\n",
    "    mstd.v = mstd[rowSums(is.na(mstd))  == 0,]\n",
    "    mstd.eset = new(\"ExpressionSet\",exprs = mstd.v)\n",
    "    promet.mstd.eset[[i]] = mstd.eset\n",
    "    mfuzz.promet.tissues[[i]] = mfuzz(mstd.eset, c = 8,m = 1.5)\n",
    "\n",
    "}\n",
    "names(mfuzz.promet.tissues) = tissues\n",
    "names(promet.tissues) = tissues\n",
    "names(promet.tissues.Z) = tissues\n",
    "names(promet.tissues.info) = tissues\n",
    "names(promet.mstd.eset) = tissues"
   ]
  },
  {
   "cell_type": "code",
   "execution_count": 153,
   "metadata": {},
   "outputs": [],
   "source": [
    "promet.tissues.mstd.eset = promet.mstd.eset"
   ]
  },
  {
   "cell_type": "code",
   "execution_count": 55,
   "metadata": {},
   "outputs": [],
   "source": [
    "# not run\n",
    "tissues = names(promet.tissues.mstd.eset)\n",
    "for(i in 1:length(mfuzz.promet.tissues)){\n",
    "    tpath = paste0('./out/20210428_aging/promet/tissues/',tissues[i])\n",
    "    dir.create(tpath)\n",
    "    pdf(paste0(tpath,'/mfuzz_plot_8A_promet.pdf'),width = 8,height = 4)\n",
    "    mfuzz.plot(promet.tissues.mstd.eset[[i]],mfuzz.promet.tissues[[i]],mfrow=c(2,4),time.labels = c(\"Juvenile\", \"Young_adult\",\"Middle_aged\",\n",
    "                                   \"Elderly\"),new.window = F)\n",
    "    dev.off()\n",
    "}"
   ]
  },
  {
   "cell_type": "code",
   "execution_count": 154,
   "metadata": {},
   "outputs": [],
   "source": [
    "promet.tissues.Z.t = list()\n",
    "for(i in 1:length(promet.tissues.Z)){\n",
    "    tmp = as.data.frame(t(promet.tissues.Z[[i]]))\n",
    "    promet.tissues.Z.t[[i]] = tmp\n",
    "}\n",
    "names(promet.tissues.Z.t) = names(promet.tissues.Z)"
   ]
  },
  {
   "cell_type": "code",
   "execution_count": 155,
   "metadata": {},
   "outputs": [],
   "source": [
    "promet.whole.Z = t(as.matrix(as.data.frame(rbindlist(promet.tissues.Z.t,fill = T))))\n",
    "colnames(promet.whole.Z) = paste0(rep(names(promet.tissues.Z),each = 4),'_',rep(1:4,times = 30))\n",
    "promet.whole.Z.info = data.frame(tissue = rep(names(promet.tissues.Z),each = 4),stringsAsFactors = F,\n",
    "                                stage = rep(1:4,times = 30))\n",
    "rownames(promet.whole.Z.info) = colnames(promet.whole.Z)"
   ]
  },
  {
   "cell_type": "markdown",
   "metadata": {},
   "source": [
    "## Figure 3A whole body mfuzz"
   ]
  },
  {
   "cell_type": "code",
   "execution_count": 156,
   "metadata": {},
   "outputs": [],
   "source": [
    "#this is used to reproduce the figures in manuscript\n",
    "load('./out/20210428_aging/promet/whole/promet_outdata.Rdata')"
   ]
  },
  {
   "cell_type": "code",
   "execution_count": 157,
   "metadata": {},
   "outputs": [
    {
     "data": {
      "text/html": [
       "<style>\n",
       ".list-inline {list-style: none; margin:0; padding: 0}\n",
       ".list-inline>li {display: inline-block}\n",
       ".list-inline>li:not(:last-child)::after {content: \"\\00b7\"; padding: 0 .5ex}\n",
       "</style>\n",
       "<ol class=list-inline><li>5331</li><li>4</li></ol>\n"
      ],
      "text/latex": [
       "\\begin{enumerate*}\n",
       "\\item 5331\n",
       "\\item 4\n",
       "\\end{enumerate*}\n"
      ],
      "text/markdown": [
       "1. 5331\n",
       "2. 4\n",
       "\n",
       "\n"
      ],
      "text/plain": [
       "[1] 5331    4"
      ]
     },
     "metadata": {},
     "output_type": "display_data"
    },
    {
     "data": {
      "text/html": [
       "1221"
      ],
      "text/latex": [
       "1221"
      ],
      "text/markdown": [
       "1221"
      ],
      "text/plain": [
       "[1] 1221"
      ]
     },
     "metadata": {},
     "output_type": "display_data"
    }
   ],
   "source": [
    "promet.whole.Z.v = promet.whole.Z[rowSums(is.na(promet.whole.Z)) < 0.5*120,]\n",
    "promet.whole.Z.mean = t(aggregate(t(promet.whole.Z.v), by=list(promet.whole.Z.info$stage), FUN=mean, na.rm = T))\n",
    "promet.whole.Z.mean  =promet.whole.Z.mean[-1,]\n",
    "promet.whole.Z.mean.v = promet.whole.Z.mean[rowSums(is.na(promet.whole.Z.mean))  == 0,]\n",
    "promet.whole.Z.mean.eset = new(\"ExpressionSet\",exprs = promet.whole.Z.mean.v)\n",
    "dim(promet.whole.Z.mean.v)\n",
    "sum(substr(rownames(promet.whole.Z.mean.v),1,4) == 'met_')\n",
    "#mfuzz.promet.whole = mfuzz(promet.norm.eset.stand, c = 8,m = 1.5)"
   ]
  },
  {
   "cell_type": "code",
   "execution_count": 416,
   "metadata": {
    "collapsed": true
   },
   "outputs": [
    {
     "data": {
      "image/png": "[encoded data removed]",
      "text/plain": [
       "plot without title"
      ]
     },
     "metadata": {},
     "output_type": "display_data"
    }
   ],
   "source": [
    "\n",
    "factoextra::fviz_nbclust(promet.whole.Z.mean.v, kmeans, method = \"wss\",k.max = 15)+ theme_classic()+ geom_vline(xintercept = 8, linetype = 2)"
   ]
  },
  {
   "cell_type": "code",
   "execution_count": 158,
   "metadata": {},
   "outputs": [],
   "source": [
    "load('./out/20210428_aging/promet/whole/promet_outdata.Rdata')"
   ]
  },
  {
   "cell_type": "code",
   "execution_count": 159,
   "metadata": {},
   "outputs": [
    {
     "data": {
      "text/html": [
       "<strong>png:</strong> 2"
      ],
      "text/latex": [
       "\\textbf{png:} 2"
      ],
      "text/markdown": [
       "**png:** 2"
      ],
      "text/plain": [
       "png \n",
       "  2 "
      ]
     },
     "metadata": {},
     "output_type": "display_data"
    },
    {
     "data": {
      "text/html": [
       "<style>\n",
       ".list-inline {list-style: none; margin:0; padding: 0}\n",
       ".list-inline>li {display: inline-block}\n",
       ".list-inline>li:not(:last-child)::after {content: \"\\00b7\"; padding: 0 .5ex}\n",
       "</style>\n",
       "<ol class=list-inline><li>565</li><li>793</li><li>783</li><li>822</li><li>842</li><li>434</li><li>606</li><li>486</li></ol>\n"
      ],
      "text/latex": [
       "\\begin{enumerate*}\n",
       "\\item 565\n",
       "\\item 793\n",
       "\\item 783\n",
       "\\item 822\n",
       "\\item 842\n",
       "\\item 434\n",
       "\\item 606\n",
       "\\item 486\n",
       "\\end{enumerate*}\n"
      ],
      "text/markdown": [
       "1. 565\n",
       "2. 793\n",
       "3. 783\n",
       "4. 822\n",
       "5. 842\n",
       "6. 434\n",
       "7. 606\n",
       "8. 486\n",
       "\n",
       "\n"
      ],
      "text/plain": [
       "[1] 565 793 783 822 842 434 606 486"
      ]
     },
     "metadata": {},
     "output_type": "display_data"
    }
   ],
   "source": [
    "#mfuzz.promet.whole = mfuzz(promet.whole.Z.mean.eset, c = 8,m = 1.5)\n",
    "pdf('./out/20230217_aging/Figure3_trajactory_analysis/Figure3_mfuzz_plot_8A_promet.pdf',width = 8,height = 4)\n",
    "mfuzz.plot(promet.whole.Z.mean.eset,mfuzz.promet.whole,mfrow=c(2,4),time.labels = c(\"Juvenile\", \"Young_adult\",\"Middle_aged\",\n",
    "                                   \"Elderly\"),new.window = F)\n",
    "dev.off()\n",
    "mfuzz.promet.whole$size"
   ]
  },
  {
   "cell_type": "code",
   "execution_count": 423,
   "metadata": {},
   "outputs": [],
   "source": [
    "#save(file = paste0('./out/20210428_aging/promet/whole/promet_outdata.Rdata'),\n",
    "#     list =c('pro.whole','promet.tissues','promet.tissues.info','promet.tissues.Z','promet.whole.Z',\n",
    "#             'promet.whole.Z.info',  'pro.whole.info','mfuzz.promet.whole'))  \n",
    "#writetxt(mfuzz.promet.whole$cluster,paste0('./out/20210428_aging/promet/whole/whole_Mfuzz_clusters_promet.txt'),row.names = T)"
   ]
  },
  {
   "cell_type": "code",
   "execution_count": 56,
   "metadata": {},
   "outputs": [],
   "source": [
    "#save(file = paste0('./out/20210428_aging/promet/tissues/promet_tissues_outdata.Rdata'),\n",
    "#     list =c('pro.whole','promet.tissues','promet.tissues.info','promet.tissues.Z','promet.whole.Z',\n",
    "#             'promet.whole.Z.info',  'pro.whole.info','mfuzz.promet.whole',\n",
    "#            'mfuzz.promet.tissues','promet.tissues.mstd.eset'))  \n",
    "#writetxt(mfuzz.promet.whole$cluster,paste0('./out/20210428_aging/promet/whole/whole_Mfuzz_clusters_promet.txt'),row.names = T)"
   ]
  },
  {
   "cell_type": "markdown",
   "metadata": {},
   "source": [
    "## Figure 3B Go enrichment"
   ]
  },
  {
   "cell_type": "code",
   "execution_count": 575,
   "metadata": {},
   "outputs": [
    {
     "data": {
      "text/html": [
       "<style>\n",
       ".list-inline {list-style: none; margin:0; padding: 0}\n",
       ".list-inline>li {display: inline-block}\n",
       ".list-inline>li:not(:last-child)::after {content: \"\\00b7\"; padding: 0 .5ex}\n",
       "</style>\n",
       "<ol class=list-inline><li>'R-HSA-2262752'</li><li>'GO:0006412'</li><li>'GO:0045055'</li><li>'R-HSA-199991'</li><li>'GO:0006163'</li><li>'GO:0072594'</li><li>'GO:0006091'</li><li>'R-HSA-72203'</li><li>'WP3888'</li><li>'GO:0022411'</li><li>'GO:0007005'</li><li>'GO:0006520'</li><li>'GO:0010256'</li><li>'GO:0097435'</li><li>'R-HSA-1280215'</li><li>'GO:0051640'</li><li>'GO:0060627'</li><li>'GO:1903827'</li><li>'GO:0006914'</li><li>'ko04144'</li></ol>\n"
      ],
      "text/latex": [
       "\\begin{enumerate*}\n",
       "\\item 'R-HSA-2262752'\n",
       "\\item 'GO:0006412'\n",
       "\\item 'GO:0045055'\n",
       "\\item 'R-HSA-199991'\n",
       "\\item 'GO:0006163'\n",
       "\\item 'GO:0072594'\n",
       "\\item 'GO:0006091'\n",
       "\\item 'R-HSA-72203'\n",
       "\\item 'WP3888'\n",
       "\\item 'GO:0022411'\n",
       "\\item 'GO:0007005'\n",
       "\\item 'GO:0006520'\n",
       "\\item 'GO:0010256'\n",
       "\\item 'GO:0097435'\n",
       "\\item 'R-HSA-1280215'\n",
       "\\item 'GO:0051640'\n",
       "\\item 'GO:0060627'\n",
       "\\item 'GO:1903827'\n",
       "\\item 'GO:0006914'\n",
       "\\item 'ko04144'\n",
       "\\end{enumerate*}\n"
      ],
      "text/markdown": [
       "1. 'R-HSA-2262752'\n",
       "2. 'GO:0006412'\n",
       "3. 'GO:0045055'\n",
       "4. 'R-HSA-199991'\n",
       "5. 'GO:0006163'\n",
       "6. 'GO:0072594'\n",
       "7. 'GO:0006091'\n",
       "8. 'R-HSA-72203'\n",
       "9. 'WP3888'\n",
       "10. 'GO:0022411'\n",
       "11. 'GO:0007005'\n",
       "12. 'GO:0006520'\n",
       "13. 'GO:0010256'\n",
       "14. 'GO:0097435'\n",
       "15. 'R-HSA-1280215'\n",
       "16. 'GO:0051640'\n",
       "17. 'GO:0060627'\n",
       "18. 'GO:1903827'\n",
       "19. 'GO:0006914'\n",
       "20. 'ko04144'\n",
       "\n",
       "\n"
      ],
      "text/plain": [
       " [1] \"R-HSA-2262752\" \"GO:0006412\"    \"GO:0045055\"    \"R-HSA-199991\" \n",
       " [5] \"GO:0006163\"    \"GO:0072594\"    \"GO:0006091\"    \"R-HSA-72203\"  \n",
       " [9] \"WP3888\"        \"GO:0022411\"    \"GO:0007005\"    \"GO:0006520\"   \n",
       "[13] \"GO:0010256\"    \"GO:0097435\"    \"R-HSA-1280215\" \"GO:0051640\"   \n",
       "[17] \"GO:0060627\"    \"GO:1903827\"    \"GO:0006914\"    \"ko04144\"      "
      ]
     },
     "metadata": {},
     "output_type": "display_data"
    }
   ],
   "source": [
    "outids = c()\n",
    "tpath = paste0('./out/20210428_aging/promet/whole/metascape/metascape_result_curated.xlsx')\n",
    "    my_data <- read_excel(tpath, sheet = \"Enrichment\")\n",
    "    idx = regexpr('Summary',my_data$GroupID) >0\n",
    "    outids = c(outids,my_data$Term[idx])\n",
    "outids\n",
    "\n",
    "tpath = paste0('./out/20210428_aging/promet/whole/metascape/Enrichment_GO/','GO_membership.csv')\n",
    "thisgo = file2frame(tpath,sep = ',')\n",
    "thisgo= thisgo[!duplicated(thisgo$GO),]\n",
    "xid = is.element(thisgo$GO,outids)\n",
    "thisgo = thisgo[xid,]\n",
    "\n",
    "#rownames(thisgo) = paste0(thisgo$GO,':',thisgo$Description)\n",
    "rownames(thisgo) = capitalize(paste0(thisgo$Description))\n",
    "thisgo.matrix = as.matrix(thisgo[,substr(colnames(thisgo),1,6)== 'X_LogP'])\n",
    "writetxt(thisgo.matrix,'./out/20230217_aging/Figure3_trajactory_analysis/Table S1_GOenrichment_metascape_promet_clusters.txt',row.names = T)\n",
    "\n",
    "thisgo.matrix[thisgo.matrix > -3] = 0\n",
    "colnames(thisgo.matrix) = capitalize(gsub('X_LogP_','',colnames(thisgo.matrix)))\n",
    "colnames(thisgo.matrix) = gsub('Cluster','C',colnames(thisgo.matrix))\n",
    "\n",
    "pheatmap::pheatmap(thisgo.matrix,cluster_rows = T,cluster_cols = T,fontsize_row = 9,fontsize_col = 10,fontsize = 10,treeheight_row = 20,treeheight_col = 20,legend = T,\n",
    "                  color=colorRampPalette(c('#3C5488FF','gray95','gray95'))(7),breaks = c(-32,-24,-16,-8,0),\n",
    "                  file =\"./out/20230217_aging/Figure3_trajactory_analysis/Figure3B_GOenrichment_metascape_prometA.pdf\",\n",
    "                 height = 3.5,width = 5.5\n",
    "                  )\n",
    "graphics.off()"
   ]
  },
  {
   "cell_type": "markdown",
   "metadata": {},
   "source": [
    "## mfuzz for each tissue"
   ]
  },
  {
   "cell_type": "markdown",
   "metadata": {},
   "source": [
    "### get data"
   ]
  },
  {
   "cell_type": "code",
   "execution_count": 347,
   "metadata": {},
   "outputs": [],
   "source": [
    "# construct data\n",
    "tissue_trajectory = data.frame()\n",
    "tissue_names = names(promet.tissues)\n",
    "for(k in 1:8){\n",
    "    tmpGeneList = names(mfuzz.promet.whole$cluster)[mfuzz.promet.whole$cluster == k]\n",
    "    for(i in 1:length(promet.tissues)){\n",
    "        \n",
    "        M1 = promet.tissues[[i]]\n",
    "        metadata.tissue = promet.tissues.info[[i]]\n",
    "        idgene1 = intersect(tmpGeneList,rownames(M1))\n",
    "        cc = repmat(as.matrix(rowMedians(M1[,metadata.tissue$stage == '1'],na.rm = T)),1,ncol(M1))\n",
    "        tsd = repmat(as.matrix(apply(M1,1,sd,na.rm = T)),1,ncol(M1))\n",
    "        \n",
    "        M1.Z = (M1 - cc)/tsd\n",
    "        M1.Z.v = M1.Z[idgene1,]\n",
    "        M1.Z.v.mean = t(aggregate(t(M1.Z.v), by=list(metadata.tissue$stage), FUN=median, na.rm = T))\n",
    "        M1.Z.v.mean = M1.Z.v.mean[-1,]\n",
    "        mean_x = colMeans(M1.Z.v.mean,na.rm  =T)\n",
    "        mean_x = mean_x - mean_x[1]\n",
    "        \n",
    "        tmpdata2 = data.frame(expr = mean_x,stringsAsFactors = F,\n",
    "                              stage = c(1,2,3,4),\n",
    "                              group = factor(c('Juvenile','Young','Middle_aged','Elderly'),\n",
    "                                     level = c('Juvenile','Young','Middle_aged','Elderly')),\n",
    "                              cluster = rep(k,4),\n",
    "                              tissue = rep(tissue_names[i],4)\n",
    "                     )\n",
    "        if (nrow(tissue_trajectory) <1){\n",
    "            tissue_trajectory = tmpdata2\n",
    "        }else{\n",
    "            tissue_trajectory = rbind(tissue_trajectory,tmpdata2)\n",
    "        }\n",
    "    }\n",
    "\n",
    "}\n"
   ]
  },
  {
   "cell_type": "code",
   "execution_count": 535,
   "metadata": {},
   "outputs": [],
   "source": [
    "tissue_trajectory$tissue_system = tissue.systems[tissue_trajectory$tissue]\n",
    "tissue_trajectory$tissue_system_color = tissue.color[tissue_trajectory$tissue_system]"
   ]
  },
  {
   "cell_type": "code",
   "execution_count": 518,
   "metadata": {},
   "outputs": [],
   "source": [
    "# to matrix\n",
    "tissue_trajectory_matrix = matrix(0,nrow(tissue_trajectory)/length(tissue_names),length(tissue_names))\n",
    "for(i in 1:length(tissue_names)){\n",
    "    tmptr = tissue_trajectory[tissue_trajectory$tissue == tissue_names[i],]\n",
    "    tissue_trajectory_matrix[,i] = tmptr$expr\n",
    "}\n",
    "rownames(tissue_trajectory_matrix) = paste(tmptr$group,tmptr$cluster,sep = '_C')\n",
    "colnames(tissue_trajectory_matrix) = tissue_names\n",
    "#colnames(tissue_trajectory_matrix)[colnames(tissue_trajectory_matrix) == 'Arteria_cruralis'] = 'Femoral_artery'\n"
   ]
  },
  {
   "cell_type": "markdown",
   "metadata": {},
   "source": [
    "### Figure 3C tissue trajactory"
   ]
  },
  {
   "cell_type": "code",
   "execution_count": 582,
   "metadata": {},
   "outputs": [],
   "source": [
    "tissue_tr_plot = list()\n",
    "for (i in 1:8){\n",
    "    idx = tissue_trajectory$cluster == i\n",
    "    tissue_tr_plot [[i]] = ggplot(tissue_trajectory[idx,],aes(x= group,y = expr,group  =tissue)) +\n",
    "        #geom_line()+\n",
    "        geom_line(aes(color = tissue_system),alpha = 0.3 ,position = position_dodge(0.2),size = 2)+ scale_color_aaas()+ #scale_color_npg()+\n",
    "        #geom_boxplot(width = 0.5,lwd = 0.6,outlier.color = NA,alpha = 0.2,)+scale_color_npg()+\n",
    "        lghplot.addtheme(hjust = 1,size = 14)+ ggtitle(paste0('Cluster ',i))+\n",
    "         theme(axis.line = element_line(size = 1.2))+ xlab('')+ ylab('')+\n",
    "        #geom_point(aes(fill = group,group = gene),alpha = 0.6,size = 1,position = position_dodge(0.2))+\n",
    "        scale_y_continuous(labels = scales::comma_format(accuracy =0.1))\n",
    "    \n",
    "}\n"
   ]
  },
  {
   "cell_type": "code",
   "execution_count": 583,
   "metadata": {},
   "outputs": [
    {
     "data": {
      "text/html": [
       "<strong>png:</strong> 2"
      ],
      "text/latex": [
       "\\textbf{png:} 2"
      ],
      "text/markdown": [
       "**png:** 2"
      ],
      "text/plain": [
       "png \n",
       "  2 "
      ]
     },
     "metadata": {},
     "output_type": "display_data"
    }
   ],
   "source": [
    "pdf(file = \"./out/20230217_aging/Figure3_trajactory_analysis/Figure3c_trajectory_for_each_tissue_aaas.pdf\",height = 9,width = 8)\n",
    "grid.arrange(arrangeGrob(grobs = tissue_tr_plot,ncol = 3,heights = c(4,4,4),\n",
    "                         bottom=textGrob('Tissues', gp=gpar(fontface=\"bold\",  fontsize=18)),\n",
    "                         #bottom = 'pro expression(log2 FPKM)',\n",
    "                        left = textGrob('Z values', gp=gpar(fontface=\"bold\",  fontsize=18),rot=90)))\n",
    "dev.off()"
   ]
  },
  {
   "cell_type": "code",
   "execution_count": 552,
   "metadata": {},
   "outputs": [
    {
     "data": {
      "image/png": "[encoded data removed]",
      "text/plain": [
       "plot without title"
      ]
     },
     "metadata": {
      "image/png": {
       "height": 420,
       "width": 420
      }
     },
     "output_type": "display_data"
    }
   ],
   "source": [
    "plot(tissue_tr_plot[[1]])"
   ]
  },
  {
   "cell_type": "markdown",
   "metadata": {},
   "source": [
    "### Figure 3D heatmap clustering"
   ]
  },
  {
   "cell_type": "code",
   "execution_count": 708,
   "metadata": {},
   "outputs": [],
   "source": [
    "#heatmap cluster '#E64B35FF''#4DBBD5FF'\n",
    "idx = substr(rownames(tissue_trajectory_matrix),1,3) != 'Juv'\n",
    "dent = pheatmap::pheatmap(tissue_trajectory_matrix[idx,],scale = 'row',height = 5,width = 6,angle_col = 45,             \n",
    "                          fontsize_row = 8,fontsize_col = 8,treeheight_row = 20,treeheight_col = 20,\n",
    "                          #color=colorRampPalette(c('#3B4992','gray95','red'))(30),\n",
    "                          file =\"./out/20230217_aging/Figure3_trajactory_analysis/Figure3D_heatmap_based_trajectoryV1.pdf\",\n",
    "                          color=colorRampPalette(c('#3C5488FF','gray95','#E64B35FF'))(30))\n"
   ]
  },
  {
   "cell_type": "markdown",
   "metadata": {},
   "source": [
    "### Figure 3E dendgrogam"
   ]
  },
  {
   "cell_type": "code",
   "execution_count": 756,
   "metadata": {},
   "outputs": [
    {
     "data": {
      "text/html": [
       "<strong>png:</strong> 2"
      ],
      "text/latex": [
       "\\textbf{png:} 2"
      ],
      "text/markdown": [
       "**png:** 2"
      ],
      "text/plain": [
       "png \n",
       "  2 "
      ]
     },
     "metadata": {},
     "output_type": "display_data"
    }
   ],
   "source": [
    "dendcol = as.dendrogram(dent$tree_col)\n",
    "\n",
    "labelColors = c('#3C5488FF','#E64B35FF')\n",
    "\n",
    "clusMember = cutree(dent$tree_col,2)\n",
    "\n",
    "# function to get color labels\n",
    "colLab <- function(n) {\n",
    "  if (is.leaf(n)) {\n",
    "    a <- attributes(n)\n",
    "    labCol <- labelColors[clusMember[which(names(clusMember) == a$label)]]\n",
    "    attr(n, \"nodePar\") <- c(a$nodePar, lab.col = labCol)\n",
    "  }\n",
    "  n\n",
    "}\n",
    "clusDendro = dendrapply(dendcol, colLab)\n",
    "\n",
    "pdf('./out/20230217_aging/Figure3_trajactory_analysis/Figure3E_dendrogamV1.pdf',width = 7,height = 5)\n",
    "plot(clusDendro, main = \"Molecular trajactory dendgrogram\")\n",
    "dev.off()\n",
    "#dev.off()\n",
    "\n",
    "\n",
    "\n",
    "dendcolsplit = cut(dendcol,12)\n",
    "class1 = unlist(cut(dendcol,12)$lower[[1]])\n",
    "class2 = unlist(cut(dendcol,12)$lower[[2]])\n",
    "tissueType = data.frame(tissue = c(tissue_names[class1],tissue_names[class2]),stringsAsFactors = F,\n",
    "                         type = c(rep('Type II',length(class1)),rep('Type I',length(class2))))\n",
    "rownames(tissueType) = tissueType$tissue\n",
    "tissueType$class = tissueType$type\n",
    "tissueClass  = tissueType"
   ]
  },
  {
   "cell_type": "markdown",
   "metadata": {},
   "source": [
    "### Figure 3F trajactory pca"
   ]
  },
  {
   "cell_type": "code",
   "execution_count": 713,
   "metadata": {},
   "outputs": [],
   "source": [
    "# pca\n",
    "tissue_pca = prcomp(t(tissue_trajectory_matrix),cor=F)\n",
    "perc_tissue_pca = 100*summary(tissue_pca)$importance"
   ]
  },
  {
   "cell_type": "code",
   "execution_count": 717,
   "metadata": {},
   "outputs": [
    {
     "data": {
      "text/html": [
       "<strong>png:</strong> 2"
      ],
      "text/latex": [
       "\\textbf{png:} 2"
      ],
      "text/markdown": [
       "**png:** 2"
      ],
      "text/plain": [
       "png \n",
       "  2 "
      ]
     },
     "metadata": {},
     "output_type": "display_data"
    }
   ],
   "source": [
    "pdf('./out/20230217_aging/Figure3_trajactory_analysis/Figure3F_PCA.pdf',width = 7,height = 7)\n",
    "TissueType = tissueType[tissue_names,]$type\n",
    "ggplot(,aes(tissue_pca$x[,1],tissue_pca$x[,2],color = TissueType)) + geom_point(size =5,alpha = 0.6) + \n",
    "   theme_classic() +lghplot.addtheme(legend.position = 'top')+  #stat_ellipse(lwd=1,level = 0.95) +\n",
    "   geom_text_repel(aes(label = tissue_names),size = 5,box.padding = 0.5,face = 'bold')+\n",
    "   xlab(paste(\"PC1(\",as.character(round(perc_tissue_pca[2,1],1)),'%)',sep = '')) + \n",
    "   ylab(paste(\"PC2(\",as.character(round(perc_tissue_pca[2,2],1)),'%)',sep = '')) + scale_color_manual(values = c('#E64B35FF','#3C5488FF'))+\n",
    "   theme(legend.text = element_text(size=12,face = 'bold'))+\n",
    "   labs(title = \"Molecular trajectory PCA\")\n",
    "dev.off()"
   ]
  },
  {
   "cell_type": "markdown",
   "metadata": {},
   "source": [
    "### trajectory color by tissue type"
   ]
  },
  {
   "cell_type": "code",
   "execution_count": 890,
   "metadata": {},
   "outputs": [],
   "source": [
    "tissue_trajectory$tissueClass = tissueClass[tissue_trajectory$tissue,]$class"
   ]
  },
  {
   "cell_type": "code",
   "execution_count": 896,
   "metadata": {},
   "outputs": [],
   "source": [
    "tissue_tr_plot_bytype = list()\n",
    "for (i in 1:8){\n",
    "    idx = tissue_trajectory$cluster == i\n",
    "    tmpxx = ggplot(tissue_trajectory[idx,],aes(x= group,y = expr,group  =tissue)) +\n",
    "        #geom_line()+\n",
    "        geom_line(aes(color = tissueClass),alpha = 0.3 ,position = position_dodge(0.2),size = 2)+ scale_color_manual(values = c('#E64B35FF','#3C5488FF'))+ #  sscale_color_aaas()+ #scale_color_npg()+\n",
    "        #geom_boxplot(width = 0.5,lwd = 0.6,outlier.color = NA,alpha = 0.2,)+scale_color_npg()+\n",
    "        lghplot.addtheme(hjust = 1,size = 14)+ ggtitle(paste0('Cluster ',i))+\n",
    "         theme(axis.line = element_line(size = 1.2))+ xlab('')+ ylab('')+\n",
    "        #geom_point(aes(fill = group,group = gene),alpha = 0.6,size = 1,position = position_dodge(0.2))+\n",
    "        scale_y_continuous(labels = scales::comma_format(accuracy =0.1))\n",
    "    tissue_tr_plot_bytype[[i]] = tmpxx\n",
    "    \n",
    "}"
   ]
  },
  {
   "cell_type": "code",
   "execution_count": 897,
   "metadata": {},
   "outputs": [
    {
     "data": {
      "text/html": [
       "<strong>png:</strong> 2"
      ],
      "text/latex": [
       "\\textbf{png:} 2"
      ],
      "text/markdown": [
       "**png:** 2"
      ],
      "text/plain": [
       "png \n",
       "  2 "
      ]
     },
     "metadata": {},
     "output_type": "display_data"
    }
   ],
   "source": [
    "pdf(file = \"./out/20230217_aging/Figure3_trajactory_analysis/Figure3c_trajectory_for_each_tissue_aaas_color_by_tissueClass.pdf\",height = 9,width = 8)\n",
    "grid.arrange(arrangeGrob(grobs = tissue_tr_plot_bytype,ncol = 3,heights = c(4,4,4),\n",
    "                         bottom=textGrob('Tissues', gp=gpar(fontface=\"bold\",  fontsize=18)),\n",
    "                         #bottom = 'pro expression(log2 FPKM)',\n",
    "                        left = textGrob('Z values', gp=gpar(fontface=\"bold\",  fontsize=18),rot=90)))\n",
    "dev.off()"
   ]
  },
  {
   "cell_type": "code",
   "execution_count": 898,
   "metadata": {},
   "outputs": [
    {
     "data": {
      "text/html": [
       "<strong>png:</strong> 2"
      ],
      "text/latex": [
       "\\textbf{png:} 2"
      ],
      "text/markdown": [
       "**png:** 2"
      ],
      "text/plain": [
       "png \n",
       "  2 "
      ]
     },
     "metadata": {},
     "output_type": "display_data"
    }
   ],
   "source": [
    "pdf(file = \"./out/20230217_aging/Figure3_trajactory_analysis/Figure3c_trajectory_for_each_tissue_aaas_color_by_tissueClass_4col.pdf\",height = 8,width = 13)\n",
    "grid.arrange(arrangeGrob(grobs = tissue_tr_plot_bytype,ncol = 4,heights = c(4,4),\n",
    "                         bottom=textGrob('Tissues', gp=gpar(fontface=\"bold\",  fontsize=18)),\n",
    "                         #bottom = 'pro expression(log2 FPKM)',\n",
    "                        left = textGrob('Z values', gp=gpar(fontface=\"bold\",  fontsize=18),rot=90)))\n",
    "dev.off()"
   ]
  },
  {
   "cell_type": "code",
   "execution_count": 451,
   "metadata": {
    "hide_input": true
   },
   "outputs": [],
   "source": [
    "#write to metascape\n",
    "clusterGenes = data.frame(cluster = paste0('C',1:8),stringsAsFactors = F,\n",
    "                         genes = rep('x',8))\n",
    "for(i in 1:8){\n",
    "    tgene = names(mfuzz.promet.whole$cluster)[mfuzz.promet.whole$cluster == i]\n",
    "    tgene = tgene[substr(tgene,1,4)!= 'met_']\n",
    "    clusterGenes$genes[i] = paste0(tgene,collapse = ',') \n",
    "}\n",
    "writetxt(clusterGenes,'./out/20210428_aging/promet/whole/metascape/input_8cluster_genes.txt',row.names = F,col.names = F)"
   ]
  },
  {
   "cell_type": "markdown",
   "metadata": {},
   "source": [
    "## cluster by MAA"
   ]
  },
  {
   "cell_type": "code",
   "execution_count": 736,
   "metadata": {},
   "outputs": [
    {
     "data": {
      "text/html": [
       "<strong>png:</strong> 2"
      ],
      "text/latex": [
       "\\textbf{png:} 2"
      ],
      "text/markdown": [
       "**png:** 2"
      ],
      "text/plain": [
       "png \n",
       "  2 "
      ]
     },
     "metadata": {},
     "output_type": "display_data"
    }
   ],
   "source": [
    "promet.norm.eset.stand.matrix = as.matrix(promet.whole.Z.mean.eset)\n",
    "variability = rep(0,8) \n",
    "for(j in 1:8){\n",
    "    tgene = names(mfuzz.promet.whole$cluster)[mfuzz.promet.whole$cluster == j]\n",
    "    tgene = intersect(tgene,rownames(promet.norm.eset.stand.matrix))\n",
    "    bx = t(t(promet.norm.eset.stand.matrix[tgene,]) - mfuzz.promet.whole$centers[j,])\n",
    "    variability[j] = mean(sqrt(rowSums(bx^2)/(ncol(bx)-1)))\n",
    "}\n",
    "tmpdata = data.frame(amplitude = as.vector(mfuzz.promet.whole$centers[,4]-mfuzz.promet.whole$centers[,1]),\n",
    "                     stringsAsFactors = F,\n",
    "                     variability = variability,\n",
    "                     class = paste0('Cluster ',1:8))\n",
    "pdf(file ='./out/20230217_aging/Figure3_trajactory_analysis/FigureX_cluster_amplitude_variability_8_promet.pdf',width = 7,height = 5)\n",
    "ggplot(tmpdata,aes(variability,amplitude)) + geom_point(size = 4) + lghplot.addtheme(size = 18)+\n",
    "  geom_text_repel(aes(label = class),size = 7)+theme(axis.line = element_line(size = 1.0))\n",
    "dev.off()\n"
   ]
  },
  {
   "cell_type": "code",
   "execution_count": 737,
   "metadata": {},
   "outputs": [],
   "source": [
    "tissues = names(promet.tissues.Z)\n",
    "clusterdist = matrix(0,length(tissues),8)\n",
    "clusteramplitude = matrix(0,length(tissues),8)\n",
    "clusteramplitude_xx = matrix(0,length(tissues),8)\n",
    "for(i in 1:length(tissues)){\n",
    "    mstd =   promet.tissues.Z[[i]] \n",
    "    for(j in 1:8){\n",
    "    tgene = names(mfuzz.promet.whole$cluster)[mfuzz.promet.whole$cluster == j]\n",
    "    tgene = intersect(tgene,rownames(mstd))\n",
    "    bx = t(t(mstd[tgene,]) - mfuzz.promet.whole$centers[j,])\n",
    "    clusterdist[i,j] = mean(sqrt(rowSums(bx^2)/(ncol(bx)-1)),na.rm = T)\n",
    "    if(length(tgene) < 2){\n",
    "      clusteramplitude[i,j] = NA\n",
    "      next;\n",
    "    }\n",
    "    tamp = colMeans(mstd[tgene,],na.rm = T)\n",
    "    clusteramplitude[i,j] = abs(tamp[4]-tamp[1])\n",
    "    clusteramplitude_xx[i,j] = tamp[4]-tamp[1]\n",
    "  }\n",
    "}\n",
    "rownames(clusteramplitude) = tissues\n",
    "rownames(clusteramplitude_xx) = tissues\n",
    "rownames(clusterdist) = tissues"
   ]
  },
  {
   "cell_type": "code",
   "execution_count": 814,
   "metadata": {},
   "outputs": [],
   "source": [
    "px = list()\n",
    "for(j in 1:8){\n",
    "  tmpdata = data.frame(amplitude = clusteramplitude_xx[,j],\n",
    "                       stringsAsFactors = F,\n",
    "                       variability = clusterdist[,j],\n",
    "                       class = tissues,\n",
    "                      tissue.systems = tissue.systems)\n",
    "    px[[j]] = ggplot(tmpdata,aes(variability,amplitude,color = tissue.systems)) + geom_point(size = 6) + lghplot.addtheme(size = 14)+\n",
    "    scale_color_aaas()+scale_fill_aaas()+\n",
    "    geom_text_repel(aes(label = class),size = 3,box.padding = 0.5)+\n",
    "    theme(axis.line = element_line(size = 1.5))+ ggtitle(paste0('Cluster ',j))+ xlab('') + ylab('')\n",
    "}"
   ]
  },
  {
   "cell_type": "code",
   "execution_count": 815,
   "metadata": {},
   "outputs": [
    {
     "data": {
      "text/html": [
       "<strong>png:</strong> 2"
      ],
      "text/latex": [
       "\\textbf{png:} 2"
      ],
      "text/markdown": [
       "**png:** 2"
      ],
      "text/plain": [
       "png \n",
       "  2 "
      ]
     },
     "metadata": {},
     "output_type": "display_data"
    }
   ],
   "source": [
    "pdf(file = \"./out/20230217_aging/Figure3_trajactory_analysis/FigureXS_cluster8_tissues_amplitude_variability_allV2.pdf\",height = 9,width = 16)\n",
    "grid.arrange(arrangeGrob(grobs = px,ncol = 4,margin = c(1,1,1,1),\n",
    "                         bottom=textGrob('Molecular alteration variability', gp=gpar(fontface=\"bold\",  fontsize=24)),\n",
    "                         #bottom = 'mRNA expression(log2 FPKM)',\n",
    "                        left = textGrob('Molecular alteration amplitude(MAA)', gp=gpar(fontface=\"bold\",  fontsize=24),rot=90)))\n",
    "dev.off()"
   ]
  },
  {
   "cell_type": "code",
   "execution_count": 740,
   "metadata": {},
   "outputs": [],
   "source": [
    "tmpaa = clusteramplitude_xx\n",
    "colnames(tmpaa) = paste0(\"C\",1:8)\n",
    "dent.MAA = pheatmap::pheatmap(tmpaa,scale = 'none',height = 4,width = 3.5,\n",
    "                          fontsize_row = 7,fontsize_col = 7,treeheight_row = 20,treeheight_col = 20,\n",
    "                          color=colorRampPalette(c('#3B4992','gray95','red'))(30),\n",
    "             filename = './out/20230217_aging/Figure3_trajactory_analysis/FigureX_promet_heatmap_tissue_aging_byMAA.pdf')\n"
   ]
  },
  {
   "cell_type": "code",
   "execution_count": 746,
   "metadata": {},
   "outputs": [
    {
     "data": {
      "text/html": [
       "<strong>png:</strong> 2"
      ],
      "text/latex": [
       "\\textbf{png:} 2"
      ],
      "text/markdown": [
       "**png:** 2"
      ],
      "text/plain": [
       "png \n",
       "  2 "
      ]
     },
     "metadata": {},
     "output_type": "display_data"
    }
   ],
   "source": [
    "dendrow = as.dendrogram(dent.MAA$tree_row)\n",
    "\n",
    "labelColors = c('#3C5488FF','#E64B35FF')\n",
    "\n",
    "clusMember = cutree(dent.MAA$tree_row,2)\n",
    "\n",
    "# function to get color labels\n",
    "colLab <- function(n) {\n",
    "  if (is.leaf(n)) {\n",
    "    a <- attributes(n)\n",
    "    labCol <- labelColors[clusMember[which(names(clusMember) == a$label)]]\n",
    "    attr(n, \"nodePar\") <- c(a$nodePar, lab.col = labCol)\n",
    "  }\n",
    "  n\n",
    "}\n",
    "clusDendro = dendrapply(dendrow, colLab)\n",
    "\n",
    "pdf('./out/20230217_aging/Figure3_trajactory_analysis/FigureX_dendrogam_by_MAA.pdf',width = 7,height = 5)\n",
    "plot(clusDendro, main = \"Molecular trajactory dendgrogram by MAA\")\n",
    "dev.off()\n",
    "#dev.off()"
   ]
  },
  {
   "cell_type": "code",
   "execution_count": 757,
   "metadata": {},
   "outputs": [],
   "source": [
    "mean_clusteramplitude_xx = rowMeans(clusteramplitude_xx)\n",
    "names(mean_clusteramplitude_xx) = rownames(clusteramplitude_xx)\n",
    "tissues_pro = rownames(clusteramplitude_xx)\n",
    "dendrow = as.dendrogram(dent.MAA$tree_row)\n",
    "dendrowsplit = cut(dendrow,2.5)\n",
    "class1 = unlist(cut(dendrow,2.5)$lower[[1]])\n",
    "class2 = unlist(cut(dendrow,2.5)$lower[[2]])\n",
    "tissueClass.MAA = data.frame(tissue = c(tissues_pro[class1],tissues_pro[class2]),stringsAsFactors = F,\n",
    "                         class = c(rep('Type II',length(class1)),rep('Type I',length(class2))))\n",
    "rownames(tissueClass.MAA)  = tissueClass.MAA$tissue\n",
    "tissueClass.MAA$mean_aging_amplitude=mean_clusteramplitude_xx[rownames(tissueClass.MAA)]"
   ]
  },
  {
   "cell_type": "code",
   "execution_count": 758,
   "metadata": {},
   "outputs": [],
   "source": [
    "tissueClass$class.MAA = tissueClass.MAA[rownames(tissueClass),]$class\n",
    "tissueClass$mean_aging_amplitude = tissueClass.MAA[rownames(tissueClass),]$mean_aging_amplitude"
   ]
  },
  {
   "cell_type": "code",
   "execution_count": 759,
   "metadata": {},
   "outputs": [
    {
     "data": {
      "text/html": [
       "<table class=\"dataframe\">\n",
       "<caption>A data.frame: 30 × 5</caption>\n",
       "<thead>\n",
       "\t<tr><th></th><th scope=col>tissue</th><th scope=col>type</th><th scope=col>class</th><th scope=col>class.MAA</th><th scope=col>mean_aging_amplitude</th></tr>\n",
       "\t<tr><th></th><th scope=col>&lt;chr&gt;</th><th scope=col>&lt;chr&gt;</th><th scope=col>&lt;chr&gt;</th><th scope=col>&lt;chr&gt;</th><th scope=col>&lt;dbl&gt;</th></tr>\n",
       "</thead>\n",
       "<tbody>\n",
       "\t<tr><th scope=row>Pancreas</th><td>Pancreas               </td><td>Type II </td><td>Type II</td><td>Type II</td><td>-0.075748775</td></tr>\n",
       "\t<tr><th scope=row>Supramarginal_gyrus</th><td>Supramarginal_gyrus    </td><td>Type II </td><td>Type II</td><td>Type II</td><td> 0.231195111</td></tr>\n",
       "\t<tr><th scope=row>Frontal_pole</th><td>Frontal_pole           </td><td>Type II </td><td>Type II</td><td>Type II</td><td> 0.186849533</td></tr>\n",
       "\t<tr><th scope=row>Liver</th><td>Liver                  </td><td>Type II </td><td>Type II</td><td>Type II</td><td> 0.210951149</td></tr>\n",
       "\t<tr><th scope=row>Hippocampus</th><td>Hippocampus            </td><td>Type II </td><td>Type II</td><td>Type II</td><td> 0.044697652</td></tr>\n",
       "\t<tr><th scope=row>Skin_of_back</th><td>Skin_of_back           </td><td>Type II </td><td>Type II</td><td>Type II</td><td> 0.153227025</td></tr>\n",
       "\t<tr><th scope=row>Cecum</th><td>Cecum                  </td><td>Type II </td><td>Type II</td><td>Type II</td><td> 0.117593492</td></tr>\n",
       "\t<tr><th scope=row>Lung</th><td>Lung                   </td><td>Type II </td><td>Type II</td><td>Type II</td><td> 0.062388571</td></tr>\n",
       "\t<tr><th scope=row>Superior_temporal_gyrus</th><td>Superior_temporal_gyrus</td><td>Type II </td><td>Type II</td><td>Type II</td><td> 0.151674043</td></tr>\n",
       "\t<tr><th scope=row>Muscle</th><td>Muscle                 </td><td>Type II </td><td>Type II</td><td>Type II</td><td> 0.127531951</td></tr>\n",
       "\t<tr><th scope=row>Adrenal_gland</th><td>Adrenal_gland          </td><td>Type II </td><td>Type II</td><td>Type II</td><td> 0.390895560</td></tr>\n",
       "\t<tr><th scope=row>Hypothalamus</th><td>Hypothalamus           </td><td>Type II </td><td>Type II</td><td>Type II</td><td> 0.312324819</td></tr>\n",
       "\t<tr><th scope=row>Heart</th><td>Heart                  </td><td>Type II </td><td>Type II</td><td>Type II</td><td> 0.204160794</td></tr>\n",
       "\t<tr><th scope=row>Arteria_cruralis</th><td>Arteria_cruralis       </td><td>Undefine</td><td>Type II</td><td>Type I </td><td>-0.302318429</td></tr>\n",
       "\t<tr><th scope=row>Arteria_carotis</th><td>Arteria_carotis        </td><td>Undefine</td><td>Type II</td><td>Type I </td><td>-0.015271359</td></tr>\n",
       "\t<tr><th scope=row>Adipose</th><td>Adipose                </td><td>Type I  </td><td>Type I </td><td>Type I </td><td>-0.650050564</td></tr>\n",
       "\t<tr><th scope=row>Thyroid_gland</th><td>Thyroid_gland          </td><td>Type I  </td><td>Type I </td><td>Type I </td><td>-0.233352138</td></tr>\n",
       "\t<tr><th scope=row>Facial_skin</th><td>Facial_skin            </td><td>Undefine</td><td>Type I </td><td>Type II</td><td>-0.068819684</td></tr>\n",
       "\t<tr><th scope=row>Femoral_vein</th><td>Femoral_vein           </td><td>Undefine</td><td>Type I </td><td>Type II</td><td> 0.002050297</td></tr>\n",
       "\t<tr><th scope=row>Ileocecum</th><td>Ileocecum              </td><td>Type I  </td><td>Type I </td><td>Type I </td><td>-0.157174219</td></tr>\n",
       "\t<tr><th scope=row>Thymus</th><td>Thymus                 </td><td>Type I  </td><td>Type I </td><td>Type I </td><td>-0.293446352</td></tr>\n",
       "\t<tr><th scope=row>Aortic_arch</th><td>Aortic_arch            </td><td>Type I  </td><td>Type I </td><td>Type I </td><td>-0.341411484</td></tr>\n",
       "\t<tr><th scope=row>Spleen</th><td>Spleen                 </td><td>Type I  </td><td>Type I </td><td>Type I </td><td>-0.253614804</td></tr>\n",
       "\t<tr><th scope=row>Kidney</th><td>Kidney                 </td><td>Type I  </td><td>Type I </td><td>Type I </td><td>-0.119119447</td></tr>\n",
       "\t<tr><th scope=row>Ovary</th><td>Ovary                  </td><td>Type I  </td><td>Type I </td><td>Type I </td><td>-0.148487802</td></tr>\n",
       "\t<tr><th scope=row>Fallopian_tube</th><td>Fallopian_tube         </td><td>Type I  </td><td>Type I </td><td>Type I </td><td>-0.242323566</td></tr>\n",
       "\t<tr><th scope=row>Stomach</th><td>Stomach                </td><td>Type I  </td><td>Type I </td><td>Type I </td><td>-0.151051049</td></tr>\n",
       "\t<tr><th scope=row>Duodenum</th><td>Duodenum               </td><td>Type I  </td><td>Type I </td><td>Type I </td><td>-0.334290753</td></tr>\n",
       "\t<tr><th scope=row>Pituitary</th><td>Pituitary              </td><td>Type I  </td><td>Type I </td><td>Type I </td><td>-0.074656135</td></tr>\n",
       "\t<tr><th scope=row>Uterus</th><td>Uterus                 </td><td>Type I  </td><td>Type I </td><td>Type I </td><td>-0.150139727</td></tr>\n",
       "</tbody>\n",
       "</table>\n"
      ],
      "text/latex": [
       "A data.frame: 30 × 5\n",
       "\\begin{tabular}{r|lllll}\n",
       "  & tissue & type & class & class.MAA & mean\\_aging\\_amplitude\\\\\n",
       "  & <chr> & <chr> & <chr> & <chr> & <dbl>\\\\\n",
       "\\hline\n",
       "\tPancreas & Pancreas                & Type II  & Type II & Type II & -0.075748775\\\\\n",
       "\tSupramarginal\\_gyrus & Supramarginal\\_gyrus     & Type II  & Type II & Type II &  0.231195111\\\\\n",
       "\tFrontal\\_pole & Frontal\\_pole            & Type II  & Type II & Type II &  0.186849533\\\\\n",
       "\tLiver & Liver                   & Type II  & Type II & Type II &  0.210951149\\\\\n",
       "\tHippocampus & Hippocampus             & Type II  & Type II & Type II &  0.044697652\\\\\n",
       "\tSkin\\_of\\_back & Skin\\_of\\_back            & Type II  & Type II & Type II &  0.153227025\\\\\n",
       "\tCecum & Cecum                   & Type II  & Type II & Type II &  0.117593492\\\\\n",
       "\tLung & Lung                    & Type II  & Type II & Type II &  0.062388571\\\\\n",
       "\tSuperior\\_temporal\\_gyrus & Superior\\_temporal\\_gyrus & Type II  & Type II & Type II &  0.151674043\\\\\n",
       "\tMuscle & Muscle                  & Type II  & Type II & Type II &  0.127531951\\\\\n",
       "\tAdrenal\\_gland & Adrenal\\_gland           & Type II  & Type II & Type II &  0.390895560\\\\\n",
       "\tHypothalamus & Hypothalamus            & Type II  & Type II & Type II &  0.312324819\\\\\n",
       "\tHeart & Heart                   & Type II  & Type II & Type II &  0.204160794\\\\\n",
       "\tArteria\\_cruralis & Arteria\\_cruralis        & Undefine & Type II & Type I  & -0.302318429\\\\\n",
       "\tArteria\\_carotis & Arteria\\_carotis         & Undefine & Type II & Type I  & -0.015271359\\\\\n",
       "\tAdipose & Adipose                 & Type I   & Type I  & Type I  & -0.650050564\\\\\n",
       "\tThyroid\\_gland & Thyroid\\_gland           & Type I   & Type I  & Type I  & -0.233352138\\\\\n",
       "\tFacial\\_skin & Facial\\_skin             & Undefine & Type I  & Type II & -0.068819684\\\\\n",
       "\tFemoral\\_vein & Femoral\\_vein            & Undefine & Type I  & Type II &  0.002050297\\\\\n",
       "\tIleocecum & Ileocecum               & Type I   & Type I  & Type I  & -0.157174219\\\\\n",
       "\tThymus & Thymus                  & Type I   & Type I  & Type I  & -0.293446352\\\\\n",
       "\tAortic\\_arch & Aortic\\_arch             & Type I   & Type I  & Type I  & -0.341411484\\\\\n",
       "\tSpleen & Spleen                  & Type I   & Type I  & Type I  & -0.253614804\\\\\n",
       "\tKidney & Kidney                  & Type I   & Type I  & Type I  & -0.119119447\\\\\n",
       "\tOvary & Ovary                   & Type I   & Type I  & Type I  & -0.148487802\\\\\n",
       "\tFallopian\\_tube & Fallopian\\_tube          & Type I   & Type I  & Type I  & -0.242323566\\\\\n",
       "\tStomach & Stomach                 & Type I   & Type I  & Type I  & -0.151051049\\\\\n",
       "\tDuodenum & Duodenum                & Type I   & Type I  & Type I  & -0.334290753\\\\\n",
       "\tPituitary & Pituitary               & Type I   & Type I  & Type I  & -0.074656135\\\\\n",
       "\tUterus & Uterus                  & Type I   & Type I  & Type I  & -0.150139727\\\\\n",
       "\\end{tabular}\n"
      ],
      "text/markdown": [
       "\n",
       "A data.frame: 30 × 5\n",
       "\n",
       "| <!--/--> | tissue &lt;chr&gt; | type &lt;chr&gt; | class &lt;chr&gt; | class.MAA &lt;chr&gt; | mean_aging_amplitude &lt;dbl&gt; |\n",
       "|---|---|---|---|---|---|\n",
       "| Pancreas | Pancreas                | Type II  | Type II | Type II | -0.075748775 |\n",
       "| Supramarginal_gyrus | Supramarginal_gyrus     | Type II  | Type II | Type II |  0.231195111 |\n",
       "| Frontal_pole | Frontal_pole            | Type II  | Type II | Type II |  0.186849533 |\n",
       "| Liver | Liver                   | Type II  | Type II | Type II |  0.210951149 |\n",
       "| Hippocampus | Hippocampus             | Type II  | Type II | Type II |  0.044697652 |\n",
       "| Skin_of_back | Skin_of_back            | Type II  | Type II | Type II |  0.153227025 |\n",
       "| Cecum | Cecum                   | Type II  | Type II | Type II |  0.117593492 |\n",
       "| Lung | Lung                    | Type II  | Type II | Type II |  0.062388571 |\n",
       "| Superior_temporal_gyrus | Superior_temporal_gyrus | Type II  | Type II | Type II |  0.151674043 |\n",
       "| Muscle | Muscle                  | Type II  | Type II | Type II |  0.127531951 |\n",
       "| Adrenal_gland | Adrenal_gland           | Type II  | Type II | Type II |  0.390895560 |\n",
       "| Hypothalamus | Hypothalamus            | Type II  | Type II | Type II |  0.312324819 |\n",
       "| Heart | Heart                   | Type II  | Type II | Type II |  0.204160794 |\n",
       "| Arteria_cruralis | Arteria_cruralis        | Undefine | Type II | Type I  | -0.302318429 |\n",
       "| Arteria_carotis | Arteria_carotis         | Undefine | Type II | Type I  | -0.015271359 |\n",
       "| Adipose | Adipose                 | Type I   | Type I  | Type I  | -0.650050564 |\n",
       "| Thyroid_gland | Thyroid_gland           | Type I   | Type I  | Type I  | -0.233352138 |\n",
       "| Facial_skin | Facial_skin             | Undefine | Type I  | Type II | -0.068819684 |\n",
       "| Femoral_vein | Femoral_vein            | Undefine | Type I  | Type II |  0.002050297 |\n",
       "| Ileocecum | Ileocecum               | Type I   | Type I  | Type I  | -0.157174219 |\n",
       "| Thymus | Thymus                  | Type I   | Type I  | Type I  | -0.293446352 |\n",
       "| Aortic_arch | Aortic_arch             | Type I   | Type I  | Type I  | -0.341411484 |\n",
       "| Spleen | Spleen                  | Type I   | Type I  | Type I  | -0.253614804 |\n",
       "| Kidney | Kidney                  | Type I   | Type I  | Type I  | -0.119119447 |\n",
       "| Ovary | Ovary                   | Type I   | Type I  | Type I  | -0.148487802 |\n",
       "| Fallopian_tube | Fallopian_tube          | Type I   | Type I  | Type I  | -0.242323566 |\n",
       "| Stomach | Stomach                 | Type I   | Type I  | Type I  | -0.151051049 |\n",
       "| Duodenum | Duodenum                | Type I   | Type I  | Type I  | -0.334290753 |\n",
       "| Pituitary | Pituitary               | Type I   | Type I  | Type I  | -0.074656135 |\n",
       "| Uterus | Uterus                  | Type I   | Type I  | Type I  | -0.150139727 |\n",
       "\n"
      ],
      "text/plain": [
       "                        tissue                  type     class   class.MAA\n",
       "Pancreas                Pancreas                Type II  Type II Type II  \n",
       "Supramarginal_gyrus     Supramarginal_gyrus     Type II  Type II Type II  \n",
       "Frontal_pole            Frontal_pole            Type II  Type II Type II  \n",
       "Liver                   Liver                   Type II  Type II Type II  \n",
       "Hippocampus             Hippocampus             Type II  Type II Type II  \n",
       "Skin_of_back            Skin_of_back            Type II  Type II Type II  \n",
       "Cecum                   Cecum                   Type II  Type II Type II  \n",
       "Lung                    Lung                    Type II  Type II Type II  \n",
       "Superior_temporal_gyrus Superior_temporal_gyrus Type II  Type II Type II  \n",
       "Muscle                  Muscle                  Type II  Type II Type II  \n",
       "Adrenal_gland           Adrenal_gland           Type II  Type II Type II  \n",
       "Hypothalamus            Hypothalamus            Type II  Type II Type II  \n",
       "Heart                   Heart                   Type II  Type II Type II  \n",
       "Arteria_cruralis        Arteria_cruralis        Undefine Type II Type I   \n",
       "Arteria_carotis         Arteria_carotis         Undefine Type II Type I   \n",
       "Adipose                 Adipose                 Type I   Type I  Type I   \n",
       "Thyroid_gland           Thyroid_gland           Type I   Type I  Type I   \n",
       "Facial_skin             Facial_skin             Undefine Type I  Type II  \n",
       "Femoral_vein            Femoral_vein            Undefine Type I  Type II  \n",
       "Ileocecum               Ileocecum               Type I   Type I  Type I   \n",
       "Thymus                  Thymus                  Type I   Type I  Type I   \n",
       "Aortic_arch             Aortic_arch             Type I   Type I  Type I   \n",
       "Spleen                  Spleen                  Type I   Type I  Type I   \n",
       "Kidney                  Kidney                  Type I   Type I  Type I   \n",
       "Ovary                   Ovary                   Type I   Type I  Type I   \n",
       "Fallopian_tube          Fallopian_tube          Type I   Type I  Type I   \n",
       "Stomach                 Stomach                 Type I   Type I  Type I   \n",
       "Duodenum                Duodenum                Type I   Type I  Type I   \n",
       "Pituitary               Pituitary               Type I   Type I  Type I   \n",
       "Uterus                  Uterus                  Type I   Type I  Type I   \n",
       "                        mean_aging_amplitude\n",
       "Pancreas                -0.075748775        \n",
       "Supramarginal_gyrus      0.231195111        \n",
       "Frontal_pole             0.186849533        \n",
       "Liver                    0.210951149        \n",
       "Hippocampus              0.044697652        \n",
       "Skin_of_back             0.153227025        \n",
       "Cecum                    0.117593492        \n",
       "Lung                     0.062388571        \n",
       "Superior_temporal_gyrus  0.151674043        \n",
       "Muscle                   0.127531951        \n",
       "Adrenal_gland            0.390895560        \n",
       "Hypothalamus             0.312324819        \n",
       "Heart                    0.204160794        \n",
       "Arteria_cruralis        -0.302318429        \n",
       "Arteria_carotis         -0.015271359        \n",
       "Adipose                 -0.650050564        \n",
       "Thyroid_gland           -0.233352138        \n",
       "Facial_skin             -0.068819684        \n",
       "Femoral_vein             0.002050297        \n",
       "Ileocecum               -0.157174219        \n",
       "Thymus                  -0.293446352        \n",
       "Aortic_arch             -0.341411484        \n",
       "Spleen                  -0.253614804        \n",
       "Kidney                  -0.119119447        \n",
       "Ovary                   -0.148487802        \n",
       "Fallopian_tube          -0.242323566        \n",
       "Stomach                 -0.151051049        \n",
       "Duodenum                -0.334290753        \n",
       "Pituitary               -0.074656135        \n",
       "Uterus                  -0.150139727        "
      ]
     },
     "metadata": {},
     "output_type": "display_data"
    }
   ],
   "source": [
    "tissueClass$type = rep('Undefine',nrow(tissueClass))\n",
    "tissueClass$type[tissueClass$class == 'Type I' & tissueClass$class.MAA == 'Type I'] = 'Type I'\n",
    "tissueClass$type[tissueClass$class == 'Type II' & tissueClass$class.MAA == 'Type II'] = 'Type II'\n",
    "tissueClass"
   ]
  },
  {
   "cell_type": "code",
   "execution_count": 820,
   "metadata": {},
   "outputs": [
    {
     "data": {
      "text/html": [
       "1"
      ],
      "text/latex": [
       "1"
      ],
      "text/markdown": [
       "1"
      ],
      "text/plain": [
       "[1] 1"
      ]
     },
     "metadata": {},
     "output_type": "display_data"
    }
   ],
   "source": [
    "#\n",
    "require(VennDiagram)\n",
    "tmpnames = rownames(tissueClass)\n",
    "Trajactory_Type_I = tmpnames[tissueClass$class == 'Type I']\n",
    "Trajactory_Type_II = tmpnames[tissueClass$class == 'Type II']\n",
    "MAA_Type_I = tmpnames[tissueClass$class.MAA == 'Type I']\n",
    "MAA_Type_II = tmpnames[tissueClass$class.MAA == 'Type II']\n",
    "venn.diagram(list(Trajactory_Type_I=Trajactory_Type_I,Trajactory_Type_II = Trajactory_Type_II,\n",
    "                  MAA_Type_I = MAA_Type_I,MAA_Type_II=MAA_Type_II), \n",
    "             #fill=c(\"red\",\"blue\",),\n",
    "             fill = c(\"cornflowerblue\", \"green\", \"yellow\", \"darkorchid1\"),\n",
    "             alpha=c(0.5,0.5,0.5,0.5), cex=2, cat.fontface=3, cat.cex = 1.3,margin = 0.1,\n",
    "             filename=\"./out/20230217_aging/Figure3_trajactory_analysis/Venn_trajactory_and_MAA.tiff\")"
   ]
  },
  {
   "cell_type": "code",
   "execution_count": null,
   "metadata": {},
   "outputs": [],
   "source": []
  },
  {
   "cell_type": "code",
   "execution_count": null,
   "metadata": {},
   "outputs": [],
   "source": []
  },
  {
   "cell_type": "markdown",
   "metadata": {},
   "source": [
    "## Figure S3 mRNA for compare"
   ]
  },
  {
   "cell_type": "code",
   "execution_count": 585,
   "metadata": {
    "collapsed": true
   },
   "outputs": [
    {
     "data": {
      "text/html": [
       "<style>\n",
       ".list-inline {list-style: none; margin:0; padding: 0}\n",
       ".list-inline>li {display: inline-block}\n",
       ".list-inline>li:not(:last-child)::after {content: \"\\00b7\"; padding: 0 .5ex}\n",
       "</style>\n",
       "<ol class=list-inline><li>9375</li><li>517</li></ol>\n"
      ],
      "text/latex": [
       "\\begin{enumerate*}\n",
       "\\item 9375\n",
       "\\item 517\n",
       "\\end{enumerate*}\n"
      ],
      "text/markdown": [
       "1. 9375\n",
       "2. 517\n",
       "\n",
       "\n"
      ],
      "text/plain": [
       "[1] 9375  517"
      ]
     },
     "metadata": {},
     "output_type": "display_data"
    },
    {
     "name": "stdout",
     "output_type": "stream",
     "text": [
      "0 genes excluded.\n"
     ]
    },
    {
     "data": {
      "text/html": [
       "<strong>png:</strong> 2"
      ],
      "text/latex": [
       "\\textbf{png:} 2"
      ],
      "text/markdown": [
       "**png:** 2"
      ],
      "text/plain": [
       "png \n",
       "  2 "
      ]
     },
     "metadata": {},
     "output_type": "display_data"
    },
    {
     "data": {
      "image/png": "[encoded data removed]",
      "text/plain": [
       "plot without title"
      ]
     },
     "metadata": {
      "image/png": {
       "height": 420,
       "width": 420
      }
     },
     "output_type": "display_data"
    }
   ],
   "source": [
    "tmp = mrna.whole\n",
    "tmp = tmp[intersect(rownames(tmp),rownames(promet.whole.Z)),]\n",
    "dim(tmp)\n",
    "mrna.norm.mean = t(aggregate(t(tmp), by=list(mrna.whole.info$stage), FUN=mean, na.rm = T))\n",
    "mrna.norm.eset = new(\"ExpressionSet\",exprs = mrna.norm.mean)\n",
    "mrna.norm.eset = filter.std(mrna.norm.eset,min.std=0)\n",
    "mrna.norm.eset.stand  =  standardise(mrna.norm.eset)\n",
    "\n",
    "mfuzz.mrna.whole = mfuzz(mrna.norm.eset.stand, c = 8,m = 1.5)\n",
    "pdf('./out/20230217_aging/Figure3_trajactory_analysis/Supplymentary_FigureS3A_mfuzz_plot_8A_mrna_whole_V1.pdf',width = 8,height = 4)\n",
    "mfuzz.plot(mrna.norm.eset.stand,mfuzz.mrna.whole,mfrow=c(2,4),time.labels = intersect(c(\"Juvenile\", \"Young_adult\",\"Middle_aged\",\n",
    "                                   \"Elderly\"),unique(mrna.whole.info$type)),new.window = F)\n",
    "dev.off()"
   ]
  },
  {
   "cell_type": "code",
   "execution_count": 613,
   "metadata": {},
   "outputs": [],
   "source": [
    "#save for reproduction\n",
    "save(file = './out/20230217_aging/Figure3_trajactory_analysis/mRNA_mfuzz_data_for_replication.Rdata',list = c('mfuzz.mrna.whole','mrna.norm.eset.stand','mrna.whole.info','mrna.whole'))"
   ]
  },
  {
   "cell_type": "code",
   "execution_count": 589,
   "metadata": {},
   "outputs": [],
   "source": [
    "# construct data\n",
    "tissue_trajectory.mrna = data.frame()\n",
    "#tissue_names.mrna = names(mrna.tissues)\n",
    "for(k in 1:8){\n",
    "    tmpGeneList = names(mfuzz.mrna.whole$cluster)[mfuzz.mrna.whole$cluster == k]\n",
    "    for(i in 1:length(tissue_names)){\n",
    "        \n",
    "        tid = tissue_names[i]\n",
    "        M1 = mrna.tissues[[tid]]\n",
    "        metadata.tissue = mrna.tissues.info[[tid]]\n",
    "        idgene1 = intersect(tmpGeneList,rownames(M1))\n",
    "        cc = repmat(as.matrix(rowMedians(M1[,metadata.tissue$stage == '1'],na.rm = T)),1,ncol(M1))\n",
    "        tsd = repmat(as.matrix(apply(M1,1,sd,na.rm = T)),1,ncol(M1))\n",
    "        \n",
    "        M1.Z = (M1 - cc)/tsd\n",
    "        M1.Z.v = M1.Z[idgene1,]\n",
    "        M1.Z.v.mean = t(aggregate(t(M1.Z.v), by=list(metadata.tissue$stage), FUN=median, na.rm = T))\n",
    "        M1.Z.v.mean = M1.Z.v.mean[-1,]\n",
    "        mean_x = colMeans(M1.Z.v.mean,na.rm  =T)\n",
    "        mean_x = mean_x - mean_x[1]\n",
    "        \n",
    "        tmpdata2 = data.frame(expr = mean_x,stringsAsFactors = F,\n",
    "                              stage = c(1,2,3,4),\n",
    "                              group = factor(c('Juvenile','Young','Middle_aged','Elderly'),\n",
    "                                     level = c('Juvenile','Young','Middle_aged','Elderly')),\n",
    "                              cluster = rep(k,4),\n",
    "                              tissue = rep(tissue_names[i],4)\n",
    "                     )\n",
    "        if (nrow(tissue_trajectory.mrna) <1){\n",
    "            tissue_trajectory.mrna = tmpdata2\n",
    "        }else{\n",
    "            tissue_trajectory.mrna = rbind(tissue_trajectory.mrna,tmpdata2)\n",
    "        }\n",
    "    }\n",
    "\n",
    "}"
   ]
  },
  {
   "cell_type": "code",
   "execution_count": 590,
   "metadata": {},
   "outputs": [],
   "source": [
    "tissue_trajectory.mrna$tissue_system = tissue.systems[tissue_trajectory.mrna$tissue]\n",
    "tissue_trajectory.mrna$tissue_system_color = tissue.color[tissue_trajectory.mrna$tissue_system]"
   ]
  },
  {
   "cell_type": "code",
   "execution_count": 591,
   "metadata": {},
   "outputs": [],
   "source": [
    "### Figure S3 tissue trajactory mRNA\n",
    "# to matrix\n",
    "tissue_trajectory_matrix.mrna = matrix(0,nrow(tissue_trajectory.mrna)/length(tissue_names),length(tissue_names))\n",
    "for(i in 1:length(tissue_names)){\n",
    "    tmptr = tissue_trajectory.mrna[tissue_trajectory.mrna$tissue == tissue_names[i],]\n",
    "    tissue_trajectory_matrix.mrna[,i] = tmptr$expr\n",
    "}\n",
    "rownames(tissue_trajectory_matrix.mrna) = paste(tmptr$group,tmptr$cluster,sep = '_C')\n",
    "colnames(tissue_trajectory_matrix.mrna) = tissue_names\n",
    "#colnames(tissue_trajectory_matrix)[colnames(tissue_trajectory_matrix) == 'Arteria_cruralis'] = 'Femoral_artery'\n"
   ]
  },
  {
   "cell_type": "code",
   "execution_count": 592,
   "metadata": {},
   "outputs": [],
   "source": [
    "tissue_tr_plot.mrna = list()\n",
    "for (i in 1:8){\n",
    "    idx = tissue_trajectory.mrna$cluster == i\n",
    "    tissue_tr_plot.mrna [[i]] = ggplot(tissue_trajectory.mrna[idx,],aes(x= group,y = expr,group  =tissue)) +\n",
    "        #geom_line()+\n",
    "        geom_line(aes(color = tissue_system),alpha = 0.5 ,position = position_dodge(0.2),size = 2)+ scale_color_npg()+\n",
    "        #geom_boxplot(width = 0.5,lwd = 0.6,outlier.color = NA,alpha = 0.2,)+scale_color_npg()+\n",
    "        lghplot.addtheme(hjust = 1,size = 14)+ ggtitle(paste0('Cluster ',i))+\n",
    "         theme(axis.line = element_line(size = 1.2))+ xlab('')+ ylab('')+\n",
    "        #geom_point(aes(fill = group,group = gene),alpha = 0.6,size = 1,position = position_dodge(0.2))+\n",
    "        scale_y_continuous(labels = scales::comma_format(accuracy =0.1))\n",
    "    \n",
    "}"
   ]
  },
  {
   "cell_type": "code",
   "execution_count": 593,
   "metadata": {},
   "outputs": [
    {
     "data": {
      "text/html": [
       "<strong>png:</strong> 2"
      ],
      "text/latex": [
       "\\textbf{png:} 2"
      ],
      "text/markdown": [
       "**png:** 2"
      ],
      "text/plain": [
       "png \n",
       "  2 "
      ]
     },
     "metadata": {},
     "output_type": "display_data"
    }
   ],
   "source": [
    "pdf(file = \"./out/20230217_aging/Figure3_trajactory_analysis/FigureS3_trajectory_for_each_tissue_mRNA.pdf\",height = 9,width = 8)\n",
    "grid.arrange(arrangeGrob(grobs = tissue_tr_plot.mrna,ncol = 3,heights = c(4,4,4),\n",
    "                         bottom=textGrob('Tissues', gp=gpar(fontface=\"bold\",  fontsize=18)),\n",
    "                         #bottom = 'pro expression(log2 FPKM)',\n",
    "                        left = textGrob('Z values', gp=gpar(fontface=\"bold\",  fontsize=18),rot=90)))\n",
    "dev.off()"
   ]
  },
  {
   "cell_type": "code",
   "execution_count": 657,
   "metadata": {},
   "outputs": [],
   "source": [
    "#heatmap cluster '#E64B35FF''#4DBBD5FF'\n",
    "idx = substr(rownames(tissue_trajectory_matrix.mrna),1,3) != 'Juv'\n",
    "dent.mrna = pheatmap::pheatmap(tissue_trajectory_matrix.mrna[idx,],scale = 'row',height = 5,width = 6,angle_col = 45,clustering_method ='ward.D2',   \n",
    "                          fontsize_row = 8,fontsize_col = 8,treeheight_row = 20,treeheight_col = 20,\n",
    "                          #color=colorRampPalette(c('#3B4992','gray95','red'))(30),\n",
    "                          file =\"./out/20230217_aging/Figure3_trajactory_analysis/FigureS3_heatmap_based_trajectory_mrna.ward.D2.pdf\",\n",
    "                          color=colorRampPalette(c('#4DBBD5FF','gray95','#E64B35FF'))(30))"
   ]
  },
  {
   "cell_type": "code",
   "execution_count": 597,
   "metadata": {},
   "outputs": [
    {
     "data": {
      "text/html": [
       "<strong>png:</strong> 2"
      ],
      "text/latex": [
       "\\textbf{png:} 2"
      ],
      "text/markdown": [
       "**png:** 2"
      ],
      "text/plain": [
       "png \n",
       "  2 "
      ]
     },
     "metadata": {},
     "output_type": "display_data"
    }
   ],
   "source": [
    "dendcol = as.dendrogram(dent.mrna$tree_col)\n",
    "\n",
    "labelColors = c('#3C5488FF','#E64B35FF')\n",
    "\n",
    "clusMember = cutree(dent.mrna$tree_col,2)\n",
    "\n",
    "# function to get color labels\n",
    "colLab <- function(n) {\n",
    "  if (is.leaf(n)) {\n",
    "    a <- attributes(n)\n",
    "    labCol <- labelColors[clusMember[which(names(clusMember) == a$label)]]\n",
    "    attr(n, \"nodePar\") <- c(a$nodePar, lab.col = labCol)\n",
    "  }\n",
    "  n\n",
    "}\n",
    "clusDendro = dendrapply(dendcol, colLab)\n",
    "\n",
    "pdf('./out/20230217_aging/Figure3_trajactory_analysis/FigureS3_dendrogam_mrna.pdf',width = 7,height = 5)\n",
    "plot(clusDendro, main = \"Molecular trajactory dendgrogram\")\n",
    "dev.off()\n",
    "#dev.off()\n",
    "\n",
    "\n",
    "\n",
    "dendcolsplit = cut(dendcol,12)\n",
    "class1 = unlist(cut(dendcol,12)$lower[[1]])\n",
    "class2 = unlist(cut(dendcol,12)$lower[[2]])\n",
    "tissueType.mrna = data.frame(tissue = c(tissue_names[class1],tissue_names[class2]),stringsAsFactors = F,\n",
    "                         type = c(rep('Type II',length(class1)),rep('Type I',length(class2))))\n",
    "rownames(tissueType.mrna) = tissueType.mrna$tissue"
   ]
  },
  {
   "cell_type": "code",
   "execution_count": 599,
   "metadata": {},
   "outputs": [
    {
     "data": {
      "text/html": [
       "<strong>png:</strong> 2"
      ],
      "text/latex": [
       "\\textbf{png:} 2"
      ],
      "text/markdown": [
       "**png:** 2"
      ],
      "text/plain": [
       "png \n",
       "  2 "
      ]
     },
     "metadata": {},
     "output_type": "display_data"
    }
   ],
   "source": [
    "# pca\n",
    "tissue_pca.mrna = prcomp(t(tissue_trajectory_matrix.mrna),cor=F)\n",
    "perc_tissue_pca.mrna = 100*summary(tissue_pca.mrna)$importance\n",
    "\n",
    "pdf('./out/20230217_aging/Figure3_trajactory_analysis/FigureS3_PCA_mrna.pdf',width = 7,height = 7)\n",
    "TissueType.mrna = tissueType.mrna[tissue_names,]$type\n",
    "ggplot(,aes(tissue_pca.mrna$x[,1],tissue_pca.mrna$x[,2],color = TissueType.mrna)) + geom_point(size =5,alpha = 0.6) + \n",
    "   theme_classic() +lghplot.addtheme(legend.position = 'top')+  #stat_ellipse(lwd=1,level = 0.95) +\n",
    "   geom_text_repel(aes(label = tissue_names),size = 5,box.padding = 0.5,face = 'bold')+\n",
    "   xlab(paste(\"PC1(\",as.character(round(perc_tissue_pca[2,1],1)),'%)',sep = '')) + \n",
    "   ylab(paste(\"PC2(\",as.character(round(perc_tissue_pca[2,2],1)),'%)',sep = '')) + scale_color_manual(values = c('#E64B35FF','#3C5488FF'))+\n",
    "   theme(legend.text = element_text(size=12,face = 'bold'))+\n",
    "   labs(title = \"Molecular trajectory PCA\")\n",
    "dev.off()\n"
   ]
  },
  {
   "cell_type": "markdown",
   "metadata": {},
   "source": [
    "## combine all molecular"
   ]
  },
  {
   "cell_type": "markdown",
   "metadata": {},
   "source": [
    "### get data"
   ]
  },
  {
   "cell_type": "code",
   "execution_count": 618,
   "metadata": {},
   "outputs": [],
   "source": [
    "tissues = names(pro.tissues)\n",
    "mrnapromet.tissues = list()\n",
    "mrnapromet.tissues.info = list()\n",
    "mrnapromet.tissues.Z = list()\n",
    "mfuzz.mrnapromet.tissues = list()\n",
    "mrnapromet.mstd.eset = list()\n",
    "for(i in 1:length(tissues)){\n",
    "#for(i in 1:1){\n",
    "    tt = tissues[i]\n",
    "    thispro = pro.tissues[[tt]]\n",
    "    thispro = delete_dup_genes_forprotein(thispro,pro.tissues.header[[tt]])\n",
    "    thispro.header = pro.tissues.header[[tt]]\n",
    "    thispro = thispro[rowSums(is.na(thispro)) < 1/3*ncol(thispro), ]\n",
    "    \n",
    "    thismet = met.tissues[[tt]]\n",
    "    rownames(thismet) = paste0('met_',rownames(thismet))\n",
    "    thismrnapromet = rbind2(thispro,thismet)\n",
    "    \n",
    "    thismrna = mrna.tissues[[tt]]\n",
    "    xid = setdiff(colnames(thismrna),colnames(thismrnapromet))\n",
    "    if(length(xid) > 0){\n",
    "        thismrna = thismrna[,!is.element(colnames(thismrna),xid)]\n",
    "    }\n",
    "    rownames(thismrna) = paste0('mrna_',rownames(thismrna))\n",
    "    \n",
    "    thismrnapromet = rbind2(thismrnapromet,thismrna)\n",
    "     \n",
    "    thisinfo = pro.tissues.info[[tt]]\n",
    "    thisinfo = thisinfo[colnames(thismrnapromet),]\n",
    "    \n",
    "    \n",
    "    \n",
    "    thismrnapromet.median = t(aggregate(t(thismrnapromet), by=list(thisinfo$stage), FUN=median, na.rm = T))\n",
    "    mstd = standardise_matrix(thismrnapromet.median)\n",
    "    mrnapromet.tissues.Z[[i]] = mstd\n",
    "    mrnapromet.tissues[[i]] = thismrnapromet\n",
    "    mrnapromet.tissues.info[[i]] = thisinfo\n",
    "    mstd.v = mstd[rowSums(is.na(mstd))  == 0,]\n",
    "    mstd.eset = new(\"ExpressionSet\",exprs = mstd.v)\n",
    "    mrnapromet.mstd.eset[[i]] = mstd.eset\n",
    "    mfuzz.mrnapromet.tissues[[i]] = mfuzz(mstd.eset, c = 8,m = 1.5)\n",
    "\n",
    "}\n",
    "names(mfuzz.mrnapromet.tissues) = tissues\n",
    "names(mrnapromet.tissues) = tissues\n",
    "names(mrnapromet.tissues.Z) = tissues\n",
    "names(mrnapromet.tissues.info) = tissues\n",
    "names(mrnapromet.mstd.eset) = tissues"
   ]
  },
  {
   "cell_type": "markdown",
   "metadata": {},
   "source": [
    "### mfuzz"
   ]
  },
  {
   "cell_type": "code",
   "execution_count": 619,
   "metadata": {},
   "outputs": [],
   "source": [
    "mrnapromet.tissues.Z.t = list()\n",
    "for(i in 1:length(mrnapromet.tissues.Z)){\n",
    "    tmp = as.data.frame(t(mrnapromet.tissues.Z[[i]]))\n",
    "    mrnapromet.tissues.Z.t[[i]] = tmp\n",
    "}\n",
    "names(mrnapromet.tissues.Z.t) = names(mrnapromet.tissues.Z)"
   ]
  },
  {
   "cell_type": "code",
   "execution_count": 620,
   "metadata": {},
   "outputs": [],
   "source": [
    "mrnapromet.whole.Z = t(as.matrix(as.data.frame(rbindlist(mrnapromet.tissues.Z.t,fill = T))))\n",
    "colnames(mrnapromet.whole.Z) = paste0(rep(names(mrnapromet.tissues.Z),each = 4),'_',rep(1:4,times = 30))\n",
    "mrnapromet.whole.Z.info = data.frame(tissue = rep(names(mrnapromet.tissues.Z),each = 4),stringsAsFactors = F,\n",
    "                                stage = rep(1:4,times = 30))\n",
    "rownames(mrnapromet.whole.Z.info) = colnames(mrnapromet.whole.Z)"
   ]
  },
  {
   "cell_type": "code",
   "execution_count": 627,
   "metadata": {},
   "outputs": [
    {
     "data": {
      "text/html": [
       "<style>\n",
       ".list-inline {list-style: none; margin:0; padding: 0}\n",
       ".list-inline>li {display: inline-block}\n",
       ".list-inline>li:not(:last-child)::after {content: \"\\00b7\"; padding: 0 .5ex}\n",
       "</style>\n",
       "<ol class=list-inline><li>17121</li><li>4</li></ol>\n"
      ],
      "text/latex": [
       "\\begin{enumerate*}\n",
       "\\item 17121\n",
       "\\item 4\n",
       "\\end{enumerate*}\n"
      ],
      "text/markdown": [
       "1. 17121\n",
       "2. 4\n",
       "\n",
       "\n"
      ],
      "text/plain": [
       "[1] 17121     4"
      ]
     },
     "metadata": {},
     "output_type": "display_data"
    },
    {
     "data": {
      "text/html": [
       "1221"
      ],
      "text/latex": [
       "1221"
      ],
      "text/markdown": [
       "1221"
      ],
      "text/plain": [
       "[1] 1221"
      ]
     },
     "metadata": {},
     "output_type": "display_data"
    },
    {
     "data": {
      "text/html": [
       "11790"
      ],
      "text/latex": [
       "11790"
      ],
      "text/markdown": [
       "11790"
      ],
      "text/plain": [
       "[1] 11790"
      ]
     },
     "metadata": {},
     "output_type": "display_data"
    }
   ],
   "source": [
    "mrnapromet.whole.Z.v = mrnapromet.whole.Z[rowSums(is.na(mrnapromet.whole.Z)) < 0.5*120,]\n",
    "mrnapromet.whole.Z.mean = t(aggregate(t(mrnapromet.whole.Z.v), by=list(mrnapromet.whole.Z.info$stage), FUN=mean, na.rm = T))\n",
    "mrnapromet.whole.Z.mean  =mrnapromet.whole.Z.mean[-1,]\n",
    "mrnapromet.whole.Z.mean.v = mrnapromet.whole.Z.mean[rowSums(is.na(mrnapromet.whole.Z.mean))  == 0,]\n",
    "mrnapromet.whole.Z.mean.eset = new(\"ExpressionSet\",exprs = mrnapromet.whole.Z.mean.v)\n",
    "dim(mrnapromet.whole.Z.mean.v)\n",
    "sum(substr(rownames(mrnapromet.whole.Z.mean.v),1,4) == 'met_')\n",
    "sum(substr(rownames(mrnapromet.whole.Z.mean.v),1,5) == 'mrna_')\n",
    "#mfuzz.mrnapromet.whole = mfuzz(mrnapromet.norm.eset.stand, c = 8,m = 1.5)"
   ]
  },
  {
   "cell_type": "code",
   "execution_count": 630,
   "metadata": {},
   "outputs": [],
   "source": [
    "# mfuzz\n",
    "mfuzz.mrnapromet.whole = mfuzz(promet.whole.Z.mean.eset, c = 8,m = 1.5)"
   ]
  },
  {
   "cell_type": "code",
   "execution_count": 631,
   "metadata": {},
   "outputs": [
    {
     "data": {
      "text/html": [
       "<strong>png:</strong> 2"
      ],
      "text/latex": [
       "\\textbf{png:} 2"
      ],
      "text/markdown": [
       "**png:** 2"
      ],
      "text/plain": [
       "png \n",
       "  2 "
      ]
     },
     "metadata": {},
     "output_type": "display_data"
    }
   ],
   "source": [
    "pdf('./out/20230217_aging/Figure3_trajactory_analysis/Supplymentary_FigureS_mfuzz_plot_8A_mrnapromet_whole_V1.pdf',width = 8,height = 4)\n",
    "mfuzz.plot(mrnapromet.whole.Z.mean.eset,mfuzz.mrnapromet.whole,mfrow=c(2,4),time.labels = intersect(c(\"Juvenile\", \"Young_adult\",\"Middle_aged\",\n",
    "                                   \"Elderly\"),unique(mrna.whole.info$type)),new.window = F)\n",
    "dev.off()"
   ]
  },
  {
   "cell_type": "markdown",
   "metadata": {},
   "source": [
    "# Figure 4_markers_and_HE"
   ]
  },
  {
   "cell_type": "markdown",
   "metadata": {},
   "source": [
    "## protein markers"
   ]
  },
  {
   "cell_type": "code",
   "execution_count": 766,
   "metadata": {},
   "outputs": [
    {
     "data": {
      "text/html": [
       "<style>\n",
       ".list-inline {list-style: none; margin:0; padding: 0}\n",
       ".list-inline>li {display: inline-block}\n",
       ".list-inline>li:not(:last-child)::after {content: \"\\00b7\"; padding: 0 .5ex}\n",
       "</style>\n",
       "<ol class=list-inline><li>'Type II'</li><li>'Type I'</li><li>'Type II'</li><li>'Type II'</li><li>'Type II'</li><li>'Undefine'</li><li>'Undefine'</li><li>'Type II'</li><li>'Type I'</li><li>'Type I'</li><li>'Undefine'</li><li>'Type II'</li><li>'Type I'</li><li>'Type II'</li><li>'Type II'</li><li>'Type I'</li><li>'Type I'</li><li>'Type II'</li><li>'Type I'</li><li>'Type I'</li><li>'Type I'</li><li>'Type II'</li><li>'Type II'</li><li>'Type I'</li><li>'Undefine'</li><li>'Type II'</li><li>'Type II'</li><li>'Type I'</li><li>'Type I'</li><li>'Type I'</li></ol>\n"
      ],
      "text/latex": [
       "\\begin{enumerate*}\n",
       "\\item 'Type II'\n",
       "\\item 'Type I'\n",
       "\\item 'Type II'\n",
       "\\item 'Type II'\n",
       "\\item 'Type II'\n",
       "\\item 'Undefine'\n",
       "\\item 'Undefine'\n",
       "\\item 'Type II'\n",
       "\\item 'Type I'\n",
       "\\item 'Type I'\n",
       "\\item 'Undefine'\n",
       "\\item 'Type II'\n",
       "\\item 'Type I'\n",
       "\\item 'Type II'\n",
       "\\item 'Type II'\n",
       "\\item 'Type I'\n",
       "\\item 'Type I'\n",
       "\\item 'Type II'\n",
       "\\item 'Type I'\n",
       "\\item 'Type I'\n",
       "\\item 'Type I'\n",
       "\\item 'Type II'\n",
       "\\item 'Type II'\n",
       "\\item 'Type I'\n",
       "\\item 'Undefine'\n",
       "\\item 'Type II'\n",
       "\\item 'Type II'\n",
       "\\item 'Type I'\n",
       "\\item 'Type I'\n",
       "\\item 'Type I'\n",
       "\\end{enumerate*}\n"
      ],
      "text/markdown": [
       "1. 'Type II'\n",
       "2. 'Type I'\n",
       "3. 'Type II'\n",
       "4. 'Type II'\n",
       "5. 'Type II'\n",
       "6. 'Undefine'\n",
       "7. 'Undefine'\n",
       "8. 'Type II'\n",
       "9. 'Type I'\n",
       "10. 'Type I'\n",
       "11. 'Undefine'\n",
       "12. 'Type II'\n",
       "13. 'Type I'\n",
       "14. 'Type II'\n",
       "15. 'Type II'\n",
       "16. 'Type I'\n",
       "17. 'Type I'\n",
       "18. 'Type II'\n",
       "19. 'Type I'\n",
       "20. 'Type I'\n",
       "21. 'Type I'\n",
       "22. 'Type II'\n",
       "23. 'Type II'\n",
       "24. 'Type I'\n",
       "25. 'Undefine'\n",
       "26. 'Type II'\n",
       "27. 'Type II'\n",
       "28. 'Type I'\n",
       "29. 'Type I'\n",
       "30. 'Type I'\n",
       "\n",
       "\n"
      ],
      "text/plain": [
       " [1] \"Type II\"  \"Type I\"   \"Type II\"  \"Type II\"  \"Type II\"  \"Undefine\"\n",
       " [7] \"Undefine\" \"Type II\"  \"Type I\"   \"Type I\"   \"Undefine\" \"Type II\" \n",
       "[13] \"Type I\"   \"Type II\"  \"Type II\"  \"Type I\"   \"Type I\"   \"Type II\" \n",
       "[19] \"Type I\"   \"Type I\"   \"Type I\"   \"Type II\"  \"Type II\"  \"Type I\"  \n",
       "[25] \"Undefine\" \"Type II\"  \"Type II\"  \"Type I\"   \"Type I\"   \"Type I\"  "
      ]
     },
     "metadata": {},
     "output_type": "display_data"
    }
   ],
   "source": [
    "yy1$type"
   ]
  },
  {
   "cell_type": "code",
   "execution_count": 905,
   "metadata": {},
   "outputs": [],
   "source": [
    "graphics.off()"
   ]
  },
  {
   "cell_type": "code",
   "execution_count": 906,
   "metadata": {},
   "outputs": [
    {
     "data": {
      "text/html": [
       "<strong>png:</strong> 2"
      ],
      "text/latex": [
       "\\textbf{png:} 2"
      ],
      "text/markdown": [
       "**png:** 2"
      ],
      "text/plain": [
       "png \n",
       "  2 "
      ]
     },
     "metadata": {},
     "output_type": "display_data"
    },
    {
     "data": {
      "text/plain": [
       "\n",
       "\tWilcoxon rank sum test\n",
       "\n",
       "data:  tx by yy1$type\n",
       "W = 143, p-value = 0.001914\n",
       "alternative hypothesis: true location shift is not equal to 0\n"
      ]
     },
     "metadata": {},
     "output_type": "display_data"
    },
    {
     "data": {
      "text/plain": [
       "\n",
       "\tWelch Two Sample t-test\n",
       "\n",
       "data:  tx by yy1$type\n",
       "t = 2.0597, df = 12.441, p-value = 0.06099\n",
       "alternative hypothesis: true difference in means is not equal to 0\n",
       "95 percent confidence interval:\n",
       " -18.87428 721.95120\n",
       "sample estimates:\n",
       " mean in group Type I mean in group Type II \n",
       "             611.8462              260.3077 \n"
      ]
     },
     "metadata": {},
     "output_type": "display_data"
    }
   ],
   "source": [
    "# Figure 5A all changed protein\n",
    "tx = colSums(abs(Aging_pro_sigall_matrix),na.rm = T)\n",
    "yy1 = tissueClass[names(tx),]\n",
    "#idx = yy1$type != 'Undefine'\n",
    "pdf('./out/20230217_aging/Figure4_markers_HE/Figure4A_allchanged_proteinsV2.pdf')\n",
    "ggplot(,aes(x = yy1$type,y = tx,color = yy1$type,fill = yy1$type)) +#geom_violin()+\n",
    "     geom_boxplot(outlier.size = -1,alpha = 0.1,size = 0.8)+\n",
    "     geom_jitter(size = 5,width = 0.3)+ theme_classic() + \n",
    "     lghplot.addtheme()+ scale_color_manual(values=c('#EE0000','#3B4992','gray10'))+\n",
    "     xlab('Tissue Type')+ylab('Number of changed proteins')\n",
    "dev.off()\n",
    "wilcox.test(tx~yy1$type,subset= yy1$type != 'Undefine')     \n",
    "t.test(tx~yy1$type,subset= yy1$type != 'Undefine') "
   ]
  },
  {
   "cell_type": "code",
   "execution_count": 907,
   "metadata": {},
   "outputs": [
    {
     "data": {
      "text/html": [
       "<strong>png:</strong> 2"
      ],
      "text/latex": [
       "\\textbf{png:} 2"
      ],
      "text/markdown": [
       "**png:** 2"
      ],
      "text/plain": [
       "png \n",
       "  2 "
      ]
     },
     "metadata": {},
     "output_type": "display_data"
    },
    {
     "data": {
      "text/plain": [
       "\n",
       "\tWilcoxon rank sum test\n",
       "\n",
       "data:  tx by yy1$type\n",
       "W = 136, p-value = 0.007244\n",
       "alternative hypothesis: true location shift is not equal to 0\n"
      ]
     },
     "metadata": {},
     "output_type": "display_data"
    },
    {
     "data": {
      "text/plain": [
       "\n",
       "\tWelch Two Sample t-test\n",
       "\n",
       "data:  tx by yy1$type\n",
       "t = 2.009, df = 13.78, p-value = 0.06454\n",
       "alternative hypothesis: true difference in means is not equal to 0\n",
       "95 percent confidence interval:\n",
       " -0.003822324  0.114340586\n",
       "sample estimates:\n",
       " mean in group Type I mean in group Type II \n",
       "           0.10606541            0.05080628 \n"
      ]
     },
     "metadata": {},
     "output_type": "display_data"
    }
   ],
   "source": [
    "# Figure 5A all changed protein\n",
    "tx = colSums(abs(Aging_pro_sigall_matrix),na.rm = T)/colSums(!is.na(Aging_pro_sigall_matrix))\n",
    "yy1 = tissueClass[names(tx),]\n",
    "pdf('./out/20230217_aging/Figure4_markers_HE/Figure4B_allchanged_proteins_percentageV2.pdf')\n",
    "ggplot(,aes(x = yy1$type,y = tx*100,color = yy1$type,fill = yy1$type)) +#geom_violin()+\n",
    "     geom_boxplot(outlier.size = -1,alpha = 0.1,size = 0.8)+\n",
    "     geom_jitter(size = 5,width = 0.3)+ theme_classic() + \n",
    "     lghplot.addtheme()+ scale_color_manual(values=c('#EE0000','#3B4992','gray10'))+\n",
    "     xlab('Tissue Type')+ylab('Percentage of changed proteins(%)')\n",
    "dev.off()\n",
    "wilcox.test(tx~yy1$type,subset= yy1$type != 'Undefine')\n",
    "t.test(tx~yy1$type,subset= yy1$type != 'Undefine')\n"
   ]
  },
  {
   "cell_type": "markdown",
   "metadata": {},
   "source": [
    "## metabolite markers"
   ]
  },
  {
   "cell_type": "code",
   "execution_count": 770,
   "metadata": {},
   "outputs": [
    {
     "data": {
      "text/html": [
       "<strong>png:</strong> 2"
      ],
      "text/latex": [
       "\\textbf{png:} 2"
      ],
      "text/markdown": [
       "**png:** 2"
      ],
      "text/plain": [
       "png \n",
       "  2 "
      ]
     },
     "metadata": {},
     "output_type": "display_data"
    },
    {
     "data": {
      "text/plain": [
       "\n",
       "\tWilcoxon rank sum test with continuity correction\n",
       "\n",
       "data:  tx by yy1$type\n",
       "W = 121, p-value = 0.06482\n",
       "alternative hypothesis: true location shift is not equal to 0\n"
      ]
     },
     "metadata": {},
     "output_type": "display_data"
    }
   ],
   "source": [
    "# Figure 5C all changed protein\n",
    "tx = colSums(abs(Aging_met_sigall_matrix),na.rm = T)\n",
    "yy1 = tissueClass[names(tx),]\n",
    "pdf('./out/20230217_aging/Figure4_markers_HE/Figure4C_allchanged_metabolites.pdf')\n",
    "ggplot(,aes(x = yy1$type,y = tx,color = yy1$type,fill = yy1$type)) +#geom_violin()+\n",
    "     geom_boxplot(outlier.size = -1,alpha = 0.1,size = 0.8)+\n",
    "     geom_jitter(size = 5,width = 0.3)+ theme_classic() + \n",
    "     lghplot.addtheme()+scale_color_npg(alpha = 0.6)+#scale_color_manual(values=c('#BB0021', '#3B4992'))+\n",
    "     xlab('Tissue Type')+ylab('Number of changed metabolites')\n",
    "dev.off()\n",
    "wilcox.test(tx~yy1$type,subset= yy1$type != 'Undefine')"
   ]
  },
  {
   "cell_type": "code",
   "execution_count": 771,
   "metadata": {},
   "outputs": [
    {
     "data": {
      "text/html": [
       "<strong>png:</strong> 2"
      ],
      "text/latex": [
       "\\textbf{png:} 2"
      ],
      "text/markdown": [
       "**png:** 2"
      ],
      "text/plain": [
       "png \n",
       "  2 "
      ]
     },
     "metadata": {},
     "output_type": "display_data"
    },
    {
     "data": {
      "text/plain": [
       "\n",
       "\tWilcoxon rank sum test\n",
       "\n",
       "data:  tx by yy1$type\n",
       "W = 116, p-value = 0.1129\n",
       "alternative hypothesis: true location shift is not equal to 0\n"
      ]
     },
     "metadata": {},
     "output_type": "display_data"
    }
   ],
   "source": [
    "# Figure 5C all changed protein\n",
    "tx = colSums(abs(Aging_met_sigall_matrix),na.rm = T)/colSums(!is.na(Aging_met_sigall_matrix),na.rm = T)\n",
    "yy1 = tissueClass[names(tx),]\n",
    "pdf('./out/20230217_aging/Figure4_markers_HE/Figure4D_allchanged_metabolites_percentage.pdf')\n",
    "ggplot(,aes(x = yy1$type,y = tx*100,color = yy1$type,fill = yy1$type)) +#geom_violin()+\n",
    "     geom_boxplot(outlier.size = -1,alpha = 0.1,size = 0.8)+\n",
    "     geom_jitter(size = 5,width = 0.3)+ theme_classic() + \n",
    "     lghplot.addtheme()+scale_color_npg(alpha = 0.6)+#scale_color_manual(values=c('#BB0021', '#3B4992'))+\n",
    "     xlab('Tissue Type')+ylab('Percentage of changed metabolites(%)')\n",
    "dev.off()\n",
    "wilcox.test(tx~yy1$type,subset= yy1$type != 'Undefine')"
   ]
  },
  {
   "cell_type": "markdown",
   "metadata": {},
   "source": [
    "## P16 immuno markers"
   ]
  },
  {
   "cell_type": "code",
   "execution_count": 722,
   "metadata": {},
   "outputs": [
    {
     "data": {
      "text/html": [
       "<strong>png:</strong> 2"
      ],
      "text/latex": [
       "\\textbf{png:} 2"
      ],
      "text/markdown": [
       "**png:** 2"
      ],
      "text/plain": [
       "png \n",
       "  2 "
      ]
     },
     "metadata": {},
     "output_type": "display_data"
    },
    {
     "data": {
      "text/plain": [
       "\n",
       "\tWelch Two Sample t-test\n",
       "\n",
       "data:  Area.Density by class\n",
       "t = 3.6559, df = 221.84, p-value = 0.0003201\n",
       "alternative hypothesis: true difference in means is not equal to 0\n",
       "95 percent confidence interval:\n",
       " 0.001699175 0.005673408\n",
       "sample estimates:\n",
       " mean in group Type I mean in group Type II \n",
       "          0.006389494           0.002703202 \n"
      ]
     },
     "metadata": {},
     "output_type": "display_data"
    }
   ],
   "source": [
    "p16 = file2frame('./data/p16_20220519v1.txt')\n",
    "rankTissues = c('Aortic_arch','Spleen','Kidney','ovary','Thymus','Stomach','Thyroid_gland','Muscle','Pancreas','Liver','Lung','Skin_of_back')\n",
    "p16$Area.Density[p16$Area.Density < 1e-9] = min(p16$Area.Density[p16$Area.Density > 1e-9])\n",
    "p16$Area.Density.log2 = log2(p16$Area.Density)\n",
    "pdf('./out/20230217_aging/Figure4_markers_HE/Figure4E_P16_different_tissue.pdf')\n",
    "ggplot(p16[p16$stage == 'Elderly',],aes(x = factor(tissue,levels = rankTissues),y = Area.Density.log2,color = class)) +\n",
    "       geom_boxplot(outlier.size = -1,alpha = 0.1,size = 0.7)+\n",
    "     geom_jitter(size = 4,width = 0.3)+ theme_classic(base_line_size = 1) + \n",
    "     lghplot.addtheme(hjust = 1,legend.position = 'right')+scale_color_manual(values=c('#BB0021', '#3B4992'))+\n",
    "     xlab('Tissues') + ylab('log2 p16 Density')+ ggtitle('P16 Density in different types of Tissue')\n",
    "dev.off()\n",
    "t.test(Area.Density~ class, data = p16)\n",
    "#plot(lghplot.boxplot(p))"
   ]
  },
  {
   "cell_type": "code",
   "execution_count": 158,
   "metadata": {},
   "outputs": [
    {
     "data": {
      "text/html": [
       "<style>\n",
       ".list-inline {list-style: none; margin:0; padding: 0}\n",
       ".list-inline>li {display: inline-block}\n",
       ".list-inline>li:not(:last-child)::after {content: \"\\00b7\"; padding: 0 .5ex}\n",
       "</style>\n",
       "<ol class=list-inline><li>'Aortic_arch'</li><li>'Spleen'</li><li>'Kidney'</li><li>'Ovary'</li><li>'Thymus'</li><li>'Uterus'</li><li>'Thyroid_gland'</li><li>'Stomach'</li><li>'Pancreas'</li><li>'Skin_of_back'</li><li>'Lung'</li><li>'Liver'</li><li>'Muscle'</li></ol>\n"
      ],
      "text/latex": [
       "\\begin{enumerate*}\n",
       "\\item 'Aortic\\_arch'\n",
       "\\item 'Spleen'\n",
       "\\item 'Kidney'\n",
       "\\item 'Ovary'\n",
       "\\item 'Thymus'\n",
       "\\item 'Uterus'\n",
       "\\item 'Thyroid\\_gland'\n",
       "\\item 'Stomach'\n",
       "\\item 'Pancreas'\n",
       "\\item 'Skin\\_of\\_back'\n",
       "\\item 'Lung'\n",
       "\\item 'Liver'\n",
       "\\item 'Muscle'\n",
       "\\end{enumerate*}\n"
      ],
      "text/markdown": [
       "1. 'Aortic_arch'\n",
       "2. 'Spleen'\n",
       "3. 'Kidney'\n",
       "4. 'Ovary'\n",
       "5. 'Thymus'\n",
       "6. 'Uterus'\n",
       "7. 'Thyroid_gland'\n",
       "8. 'Stomach'\n",
       "9. 'Pancreas'\n",
       "10. 'Skin_of_back'\n",
       "11. 'Lung'\n",
       "12. 'Liver'\n",
       "13. 'Muscle'\n",
       "\n",
       "\n"
      ],
      "text/plain": [
       " [1] \"Aortic_arch\"   \"Spleen\"        \"Kidney\"        \"Ovary\"        \n",
       " [5] \"Thymus\"        \"Uterus\"        \"Thyroid_gland\" \"Stomach\"      \n",
       " [9] \"Pancreas\"      \"Skin_of_back\"  \"Lung\"          \"Liver\"        \n",
       "[13] \"Muscle\"       "
      ]
     },
     "metadata": {},
     "output_type": "display_data"
    }
   ],
   "source": [
    "p16 = file2frame('./data/P16_tissues_v20230419.txt')\n",
    "utissue = unique(p16$Tissue)\n",
    "utissue"
   ]
  },
  {
   "cell_type": "code",
   "execution_count": 4,
   "metadata": {},
   "outputs": [
    {
     "data": {
      "text/html": [
       "<style>\n",
       ".list-inline {list-style: none; margin:0; padding: 0}\n",
       ".list-inline>li {display: inline-block}\n",
       ".list-inline>li:not(:last-child)::after {content: \"\\00b7\"; padding: 0 .5ex}\n",
       "</style>\n",
       "<ol class=list-inline><li>'Aortic_arch'</li><li>'Spleen'</li><li>'Kidney'</li><li>'Ovary'</li><li>'Thymus'</li><li>'Uterus'</li><li>'Thyroid_gland'</li><li>'Pancreas'</li><li>'Skin_of_back'</li><li>'Lung'</li><li>'Liver'</li><li>'Muscle'</li></ol>\n"
      ],
      "text/latex": [
       "\\begin{enumerate*}\n",
       "\\item 'Aortic\\_arch'\n",
       "\\item 'Spleen'\n",
       "\\item 'Kidney'\n",
       "\\item 'Ovary'\n",
       "\\item 'Thymus'\n",
       "\\item 'Uterus'\n",
       "\\item 'Thyroid\\_gland'\n",
       "\\item 'Pancreas'\n",
       "\\item 'Skin\\_of\\_back'\n",
       "\\item 'Lung'\n",
       "\\item 'Liver'\n",
       "\\item 'Muscle'\n",
       "\\end{enumerate*}\n"
      ],
      "text/markdown": [
       "1. 'Aortic_arch'\n",
       "2. 'Spleen'\n",
       "3. 'Kidney'\n",
       "4. 'Ovary'\n",
       "5. 'Thymus'\n",
       "6. 'Uterus'\n",
       "7. 'Thyroid_gland'\n",
       "8. 'Pancreas'\n",
       "9. 'Skin_of_back'\n",
       "10. 'Lung'\n",
       "11. 'Liver'\n",
       "12. 'Muscle'\n",
       "\n",
       "\n"
      ],
      "text/plain": [
       " [1] \"Aortic_arch\"   \"Spleen\"        \"Kidney\"        \"Ovary\"        \n",
       " [5] \"Thymus\"        \"Uterus\"        \"Thyroid_gland\" \"Pancreas\"     \n",
       " [9] \"Skin_of_back\"  \"Lung\"          \"Liver\"         \"Muscle\"       "
      ]
     },
     "metadata": {},
     "output_type": "display_data"
    }
   ],
   "source": [
    "utissue"
   ]
  },
  {
   "cell_type": "code",
   "execution_count": 5,
   "metadata": {},
   "outputs": [
    {
     "data": {
      "text/html": [
       "<strong>null device:</strong> 1"
      ],
      "text/latex": [
       "\\textbf{null device:} 1"
      ],
      "text/markdown": [
       "**null device:** 1"
      ],
      "text/plain": [
       "null device \n",
       "          1 "
      ]
     },
     "metadata": {},
     "output_type": "display_data"
    }
   ],
   "source": [
    "dev.off()\n"
   ]
  },
  {
   "cell_type": "code",
   "execution_count": 177,
   "metadata": {},
   "outputs": [],
   "source": [
    "p16 = file2frame('./data/P16_tissues_v20230419.txt')\n",
    "utissue = unique(p16$Tissue)\n",
    "tpvalues = data.frame(tissue = utissue,\n",
    "                     p_Juvenile_vs_Elderly = rep(1,length(utissue)),\n",
    "                     p_Young_vs_Elderly = rep(1,length(utissue)))\n",
    "breaks_A = c(0.01,0.08,0.08,0.08,0.08,0.01,0.01,0.01)\n",
    "breaks_B = c(3,3,3,3,2,2,0.06,3)\n",
    "for(i in 1:length(utissue)){\n",
    "    tmpdata = p16[p16$Tissue == utissue[i],]\n",
    "    tmpdata$Area.Density.log2 = tmpdata$Area.Density*1e3#log2(tmpdata$Area.Density*1e3)\n",
    "    tmpdata$class = factor(x = tmpdata$class,levels = c('Juvenile','Young','Elderly'))\n",
    "    tmpp1 = t.test(Area.Density~class,data = tmpdata,subset = tmpdata$class != 'Young')$p.value\n",
    "    tmpp2 = t.test(Area.Density~class,data = tmpdata,subset = tmpdata$class != 'Juvenile')$p.value\n",
    "    tpvalues$p_Juvenile_vs_Elderly[i] = tmpp1\n",
    "    tpvalues$p_Young_vs_Elderly[i] = tmpp2\n",
    "    \n",
    "    df2 = data.frame(tmean = aggregate(tmpdata$Area.Density.log2, by=list(tmpdata$class), FUN=mean, na.rm = T)$x,\n",
    "                tsd = aggregate(tmpdata$Area.Density.log2, by=list(tmpdata$class), FUN=sd, na.rm = T)$x,\n",
    "                    class = factor(x= c('Juvenile','Young','Elderly'),levels = c('Juvenile','Young','Elderly'))\n",
    "                 )\n",
    "    thepath = paste0('./out/20230217_aging/Figure4_markers_HE/Figure4x_p16_stats', utissue[i],'.pdf')\n",
    "    pdf(thepath)\n",
    "    p = ggplot(df2, aes(x = class, y = tmean, fill = class)) + geom_bar(stat = 'identity',color = 'black',position = position_dodge(),alpha = 0.5,size = 1.5)+\n",
    "      geom_errorbar(aes(ymin = tmean,ymax = tmean+tsd),width = .3,size = 1.5)+lghplot.addthemeA(size = 28,sizex = 26,sizey = 26)+\n",
    "      scale_fill_manual(values = c('#008B45FF','#3B4992FF','#EE0000FF'))+ \n",
    "      theme(axis.line = element_line(size = 1.2))+ xlab('')+ \n",
    "    ylab(bquote('Area Density ' ~ italic(x10) ^italic(3)))+\n",
    "    #ylab('Log10 Area Density x 1e-7')+\n",
    "    ggtitle(utissue[i])\n",
    "    if(i <=8){\n",
    "        p = p+ scale_y_break(c(breaks_A[i],breaks_B[i]), scales = \"free\",space  = 0.2)\n",
    "    }\n",
    "    \n",
    "    print(p)\n",
    "    dev.off()\n",
    "}"
   ]
  },
  {
   "cell_type": "code",
   "execution_count": 178,
   "metadata": {},
   "outputs": [
    {
     "data": {
      "text/html": [
       "<table class=\"dataframe\">\n",
       "<caption>A data.frame: 13 × 3</caption>\n",
       "<thead>\n",
       "\t<tr><th scope=col>tissue</th><th scope=col>p_Juvenile_vs_Elderly</th><th scope=col>p_Young_vs_Elderly</th></tr>\n",
       "\t<tr><th scope=col>&lt;fct&gt;</th><th scope=col>&lt;dbl&gt;</th><th scope=col>&lt;dbl&gt;</th></tr>\n",
       "</thead>\n",
       "<tbody>\n",
       "\t<tr><td>Aortic_arch  </td><td>4.546295e-03</td><td>4.553667e-03</td></tr>\n",
       "\t<tr><td>Spleen       </td><td>2.928558e-03</td><td>2.941005e-03</td></tr>\n",
       "\t<tr><td>Kidney       </td><td>3.607333e-04</td><td>3.618602e-04</td></tr>\n",
       "\t<tr><td>Ovary        </td><td>2.399612e-03</td><td>2.487708e-03</td></tr>\n",
       "\t<tr><td>Thymus       </td><td>1.122249e-02</td><td>1.151782e-02</td></tr>\n",
       "\t<tr><td>Uterus       </td><td>1.052903e-04</td><td>1.057245e-04</td></tr>\n",
       "\t<tr><td>Thyroid_gland</td><td>6.633705e-04</td><td>6.751286e-04</td></tr>\n",
       "\t<tr><td>Stomach      </td><td>3.601685e-05</td><td>3.616963e-05</td></tr>\n",
       "\t<tr><td>Pancreas     </td><td>2.616949e-02</td><td>5.453556e-03</td></tr>\n",
       "\t<tr><td>Skin_of_back </td><td>2.446174e-02</td><td>4.146347e-02</td></tr>\n",
       "\t<tr><td>Lung         </td><td>4.895734e-03</td><td>6.619731e-03</td></tr>\n",
       "\t<tr><td>Liver        </td><td>2.051557e-01</td><td>2.593903e-01</td></tr>\n",
       "\t<tr><td>Muscle       </td><td>3.401860e-01</td><td>6.380951e-01</td></tr>\n",
       "</tbody>\n",
       "</table>\n"
      ],
      "text/latex": [
       "A data.frame: 13 × 3\n",
       "\\begin{tabular}{lll}\n",
       " tissue & p\\_Juvenile\\_vs\\_Elderly & p\\_Young\\_vs\\_Elderly\\\\\n",
       " <fct> & <dbl> & <dbl>\\\\\n",
       "\\hline\n",
       "\t Aortic\\_arch   & 4.546295e-03 & 4.553667e-03\\\\\n",
       "\t Spleen        & 2.928558e-03 & 2.941005e-03\\\\\n",
       "\t Kidney        & 3.607333e-04 & 3.618602e-04\\\\\n",
       "\t Ovary         & 2.399612e-03 & 2.487708e-03\\\\\n",
       "\t Thymus        & 1.122249e-02 & 1.151782e-02\\\\\n",
       "\t Uterus        & 1.052903e-04 & 1.057245e-04\\\\\n",
       "\t Thyroid\\_gland & 6.633705e-04 & 6.751286e-04\\\\\n",
       "\t Stomach       & 3.601685e-05 & 3.616963e-05\\\\\n",
       "\t Pancreas      & 2.616949e-02 & 5.453556e-03\\\\\n",
       "\t Skin\\_of\\_back  & 2.446174e-02 & 4.146347e-02\\\\\n",
       "\t Lung          & 4.895734e-03 & 6.619731e-03\\\\\n",
       "\t Liver         & 2.051557e-01 & 2.593903e-01\\\\\n",
       "\t Muscle        & 3.401860e-01 & 6.380951e-01\\\\\n",
       "\\end{tabular}\n"
      ],
      "text/markdown": [
       "\n",
       "A data.frame: 13 × 3\n",
       "\n",
       "| tissue &lt;fct&gt; | p_Juvenile_vs_Elderly &lt;dbl&gt; | p_Young_vs_Elderly &lt;dbl&gt; |\n",
       "|---|---|---|\n",
       "| Aortic_arch   | 4.546295e-03 | 4.553667e-03 |\n",
       "| Spleen        | 2.928558e-03 | 2.941005e-03 |\n",
       "| Kidney        | 3.607333e-04 | 3.618602e-04 |\n",
       "| Ovary         | 2.399612e-03 | 2.487708e-03 |\n",
       "| Thymus        | 1.122249e-02 | 1.151782e-02 |\n",
       "| Uterus        | 1.052903e-04 | 1.057245e-04 |\n",
       "| Thyroid_gland | 6.633705e-04 | 6.751286e-04 |\n",
       "| Stomach       | 3.601685e-05 | 3.616963e-05 |\n",
       "| Pancreas      | 2.616949e-02 | 5.453556e-03 |\n",
       "| Skin_of_back  | 2.446174e-02 | 4.146347e-02 |\n",
       "| Lung          | 4.895734e-03 | 6.619731e-03 |\n",
       "| Liver         | 2.051557e-01 | 2.593903e-01 |\n",
       "| Muscle        | 3.401860e-01 | 6.380951e-01 |\n",
       "\n"
      ],
      "text/plain": [
       "   tissue        p_Juvenile_vs_Elderly p_Young_vs_Elderly\n",
       "1  Aortic_arch   4.546295e-03          4.553667e-03      \n",
       "2  Spleen        2.928558e-03          2.941005e-03      \n",
       "3  Kidney        3.607333e-04          3.618602e-04      \n",
       "4  Ovary         2.399612e-03          2.487708e-03      \n",
       "5  Thymus        1.122249e-02          1.151782e-02      \n",
       "6  Uterus        1.052903e-04          1.057245e-04      \n",
       "7  Thyroid_gland 6.633705e-04          6.751286e-04      \n",
       "8  Stomach       3.601685e-05          3.616963e-05      \n",
       "9  Pancreas      2.616949e-02          5.453556e-03      \n",
       "10 Skin_of_back  2.446174e-02          4.146347e-02      \n",
       "11 Lung          4.895734e-03          6.619731e-03      \n",
       "12 Liver         2.051557e-01          2.593903e-01      \n",
       "13 Muscle        3.401860e-01          6.380951e-01      "
      ]
     },
     "metadata": {},
     "output_type": "display_data"
    }
   ],
   "source": [
    "tpvalues"
   ]
  },
  {
   "cell_type": "code",
   "execution_count": null,
   "metadata": {},
   "outputs": [],
   "source": []
  },
  {
   "cell_type": "markdown",
   "metadata": {},
   "source": [
    "## p21 immuno markers"
   ]
  },
  {
   "cell_type": "code",
   "execution_count": 723,
   "metadata": {},
   "outputs": [
    {
     "data": {
      "text/html": [
       "<strong>png:</strong> 2"
      ],
      "text/latex": [
       "\\textbf{png:} 2"
      ],
      "text/markdown": [
       "**png:** 2"
      ],
      "text/plain": [
       "png \n",
       "  2 "
      ]
     },
     "metadata": {},
     "output_type": "display_data"
    },
    {
     "data": {
      "text/plain": [
       "\n",
       "\tWelch Two Sample t-test\n",
       "\n",
       "data:  Area.Density by class\n",
       "t = 2.3488, df = 110.56, p-value = 0.02061\n",
       "alternative hypothesis: true difference in means is not equal to 0\n",
       "95 percent confidence interval:\n",
       " 0.0006290769 0.0074190088\n",
       "sample estimates:\n",
       " mean in group Type I mean in group Type II \n",
       "          0.007287723           0.003263680 \n"
      ]
     },
     "metadata": {},
     "output_type": "display_data"
    }
   ],
   "source": [
    "p21 = file2frame('./data/p21_20220519v1.txt')\n",
    "p21$Area.Density[p21$Area.Density < 1e-9] = min(p16$Area.Density[p21$Area.Density > 1e-9])\n",
    "p21$Area.Density.log2 = log2(p21$Area.Density)\n",
    "pdf('./out/20230217_aging/Figure4_markers_HE/Figure4F_P21_different_tissue.pdf')\n",
    "ggplot(p21[p21$stage == 'Elderly',],aes(x = factor(tissue,levels = rankTissues),y = Area.Density.log2,color = class)) +\n",
    "       geom_boxplot(outlier.size = -1,alpha = 0.1,size = 0.7)+\n",
    "     geom_jitter(size = 4,width = 0.3)+ theme_classic(base_line_size = 1) + \n",
    "     lghplot.addtheme(hjust = 1,legend.position = 'right')+scale_color_manual(values=c('#BB0021', '#3B4992'))+\n",
    "     xlab('Tissues') + ylab('log2 p21 Density')+ ggtitle('P21 Density in different types of Tissue')\n",
    "dev.off()\n",
    "#plot(lghplot.boxplot(p))\n",
    "t.test(Area.Density~ class, data = p21)"
   ]
  },
  {
   "cell_type": "code",
   "execution_count": 171,
   "metadata": {},
   "outputs": [],
   "source": [
    "p21 = file2frame('./data/P21_tissues_v20230419.txt')\n",
    "utissue = unique(p21$Tissue)\n",
    "tpvalues = data.frame(tissue = utissue,\n",
    "                     p_Juvenile_vs_Elderly = rep(1,length(utissue)),\n",
    "                     p_Young_vs_Elderly = rep(1,length(utissue)))\n",
    "breaks_A = c(0.05,0.4,0.4,0.4,0.1,0.4,0.4,0.05)\n",
    "breaks_B = c(1,4,4,4,2,4,4,1)\n",
    "for(i in 1:length(utissue)){\n",
    "    tmpdata = p21[p21$Tissue == utissue[i],]\n",
    "    tmpdata$Area.Density.log2 = tmpdata$Area.Density*1e3#log2(tmpdata$Area.Density*1e3)\n",
    "    tmpdata$class = factor(x = tmpdata$class,levels = c('Juvenile','Young','Elderly'))\n",
    "    tmpp1 = t.test(Area.Density~class,data = tmpdata,subset = tmpdata$class != 'Young')$p.value\n",
    "    tmpp2 = t.test(Area.Density~class,data = tmpdata,subset = tmpdata$class != 'Juvenile')$p.value\n",
    "    tpvalues$p_Juvenile_vs_Elderly[i] = tmpp1\n",
    "    tpvalues$p_Young_vs_Elderly[i] = tmpp2\n",
    "    \n",
    "    df2 = data.frame(tmean = aggregate(tmpdata$Area.Density.log2, by=list(tmpdata$class), FUN=mean, na.rm = T)$x,\n",
    "                tsd = aggregate(tmpdata$Area.Density.log2, by=list(tmpdata$class), FUN=sd, na.rm = T)$x,\n",
    "                    class = factor(x= c('Juvenile','Young','Elderly'),levels = c('Juvenile','Young','Elderly'))\n",
    "                 )\n",
    "    thepath = paste0('./out/20230217_aging/Figure4_markers_HE/Figure4x_p21_stats', utissue[i],'.pdf')\n",
    "    pdf(thepath)\n",
    "    p = ggplot(df2, aes(x = class, y = tmean, fill = class)) + geom_bar(stat = 'identity',color = 'black',position = position_dodge(),alpha = 0.5,size = 1.5)+\n",
    "      geom_errorbar(aes(ymin = tmean,ymax = tmean+tsd),width = .3,size = 1.5)+lghplot.addthemeA(size = 28,sizex = 26,sizey = 26)+\n",
    "      scale_fill_manual(values = c('#008B45FF','#3B4992FF','#EE0000FF'))+ \n",
    "      theme(axis.line = element_line(size = 1.2))+ xlab('')+ \n",
    "    ylab(bquote('Area Density ' ~ italic(x10) ^italic(3)))+\n",
    "    #ylab('Log10 Area Density x 1e-7')+\n",
    "    ggtitle(utissue[i])\n",
    "    if(i <=8){\n",
    "        p = p+ scale_y_break(c(breaks_A[i],breaks_B[i]), scales = \"free\",space  = 0.2)\n",
    "    }\n",
    "    \n",
    "    print(p)\n",
    "    dev.off()\n",
    "}"
   ]
  },
  {
   "cell_type": "code",
   "execution_count": 172,
   "metadata": {},
   "outputs": [
    {
     "data": {
      "text/html": [
       "<table class=\"dataframe\">\n",
       "<caption>A data.frame: 13 × 3</caption>\n",
       "<thead>\n",
       "\t<tr><th scope=col>tissue</th><th scope=col>p_Juvenile_vs_Elderly</th><th scope=col>p_Young_vs_Elderly</th></tr>\n",
       "\t<tr><th scope=col>&lt;fct&gt;</th><th scope=col>&lt;dbl&gt;</th><th scope=col>&lt;dbl&gt;</th></tr>\n",
       "</thead>\n",
       "<tbody>\n",
       "\t<tr><td>Aortic_arch  </td><td>3.371849e-03</td><td>3.490217e-03</td></tr>\n",
       "\t<tr><td>Spleen       </td><td>6.244567e-04</td><td>6.370290e-04</td></tr>\n",
       "\t<tr><td>Kidney       </td><td>1.052679e-02</td><td>1.070538e-02</td></tr>\n",
       "\t<tr><td>Ovary        </td><td>3.484938e-04</td><td>3.559713e-04</td></tr>\n",
       "\t<tr><td>Thymus       </td><td>4.256548e-02</td><td>4.462434e-02</td></tr>\n",
       "\t<tr><td>Uterus       </td><td>2.571205e-02</td><td>2.611076e-02</td></tr>\n",
       "\t<tr><td>Thyroid_gland</td><td>1.553183e-02</td><td>1.686152e-02</td></tr>\n",
       "\t<tr><td>Stomach      </td><td>4.794586e-05</td><td>4.974984e-05</td></tr>\n",
       "\t<tr><td>Pancreas     </td><td>2.700608e-01</td><td>1.668549e-01</td></tr>\n",
       "\t<tr><td>Skin_of_back </td><td>5.553932e-02</td><td>2.923295e-01</td></tr>\n",
       "\t<tr><td>Lung         </td><td>6.940087e-04</td><td>6.950478e-04</td></tr>\n",
       "\t<tr><td>Liver        </td><td>9.815520e-01</td><td>9.972549e-01</td></tr>\n",
       "\t<tr><td>Muscle       </td><td>3.620859e-01</td><td>7.890578e-01</td></tr>\n",
       "</tbody>\n",
       "</table>\n"
      ],
      "text/latex": [
       "A data.frame: 13 × 3\n",
       "\\begin{tabular}{lll}\n",
       " tissue & p\\_Juvenile\\_vs\\_Elderly & p\\_Young\\_vs\\_Elderly\\\\\n",
       " <fct> & <dbl> & <dbl>\\\\\n",
       "\\hline\n",
       "\t Aortic\\_arch   & 3.371849e-03 & 3.490217e-03\\\\\n",
       "\t Spleen        & 6.244567e-04 & 6.370290e-04\\\\\n",
       "\t Kidney        & 1.052679e-02 & 1.070538e-02\\\\\n",
       "\t Ovary         & 3.484938e-04 & 3.559713e-04\\\\\n",
       "\t Thymus        & 4.256548e-02 & 4.462434e-02\\\\\n",
       "\t Uterus        & 2.571205e-02 & 2.611076e-02\\\\\n",
       "\t Thyroid\\_gland & 1.553183e-02 & 1.686152e-02\\\\\n",
       "\t Stomach       & 4.794586e-05 & 4.974984e-05\\\\\n",
       "\t Pancreas      & 2.700608e-01 & 1.668549e-01\\\\\n",
       "\t Skin\\_of\\_back  & 5.553932e-02 & 2.923295e-01\\\\\n",
       "\t Lung          & 6.940087e-04 & 6.950478e-04\\\\\n",
       "\t Liver         & 9.815520e-01 & 9.972549e-01\\\\\n",
       "\t Muscle        & 3.620859e-01 & 7.890578e-01\\\\\n",
       "\\end{tabular}\n"
      ],
      "text/markdown": [
       "\n",
       "A data.frame: 13 × 3\n",
       "\n",
       "| tissue &lt;fct&gt; | p_Juvenile_vs_Elderly &lt;dbl&gt; | p_Young_vs_Elderly &lt;dbl&gt; |\n",
       "|---|---|---|\n",
       "| Aortic_arch   | 3.371849e-03 | 3.490217e-03 |\n",
       "| Spleen        | 6.244567e-04 | 6.370290e-04 |\n",
       "| Kidney        | 1.052679e-02 | 1.070538e-02 |\n",
       "| Ovary         | 3.484938e-04 | 3.559713e-04 |\n",
       "| Thymus        | 4.256548e-02 | 4.462434e-02 |\n",
       "| Uterus        | 2.571205e-02 | 2.611076e-02 |\n",
       "| Thyroid_gland | 1.553183e-02 | 1.686152e-02 |\n",
       "| Stomach       | 4.794586e-05 | 4.974984e-05 |\n",
       "| Pancreas      | 2.700608e-01 | 1.668549e-01 |\n",
       "| Skin_of_back  | 5.553932e-02 | 2.923295e-01 |\n",
       "| Lung          | 6.940087e-04 | 6.950478e-04 |\n",
       "| Liver         | 9.815520e-01 | 9.972549e-01 |\n",
       "| Muscle        | 3.620859e-01 | 7.890578e-01 |\n",
       "\n"
      ],
      "text/plain": [
       "   tissue        p_Juvenile_vs_Elderly p_Young_vs_Elderly\n",
       "1  Aortic_arch   3.371849e-03          3.490217e-03      \n",
       "2  Spleen        6.244567e-04          6.370290e-04      \n",
       "3  Kidney        1.052679e-02          1.070538e-02      \n",
       "4  Ovary         3.484938e-04          3.559713e-04      \n",
       "5  Thymus        4.256548e-02          4.462434e-02      \n",
       "6  Uterus        2.571205e-02          2.611076e-02      \n",
       "7  Thyroid_gland 1.553183e-02          1.686152e-02      \n",
       "8  Stomach       4.794586e-05          4.974984e-05      \n",
       "9  Pancreas      2.700608e-01          1.668549e-01      \n",
       "10 Skin_of_back  5.553932e-02          2.923295e-01      \n",
       "11 Lung          6.940087e-04          6.950478e-04      \n",
       "12 Liver         9.815520e-01          9.972549e-01      \n",
       "13 Muscle        3.620859e-01          7.890578e-01      "
      ]
     },
     "metadata": {},
     "output_type": "display_data"
    }
   ],
   "source": [
    "tpvalues"
   ]
  },
  {
   "cell_type": "code",
   "execution_count": null,
   "metadata": {},
   "outputs": [],
   "source": []
  },
  {
   "cell_type": "markdown",
   "metadata": {},
   "source": [
    "## HE cell counts"
   ]
  },
  {
   "cell_type": "code",
   "execution_count": 2,
   "metadata": {},
   "outputs": [],
   "source": [
    "Cellcounts = file2frame('./data/cell_counts_v20230407.txt')"
   ]
  },
  {
   "cell_type": "code",
   "execution_count": 7,
   "metadata": {},
   "outputs": [],
   "source": [
    "utissue = unique(Cellcounts$Tissue)\n",
    "tpvalues = data.frame(tissue = utissue,\n",
    "                     p_Juvenile_vs_Elderly = rep(1,length(utissue)),\n",
    "                     p_Young_vs_Elderly = rep(1,length(utissue)))\n",
    "for(i in 1:length(utissue)){\n",
    "    tmpdata = Cellcounts[Cellcounts$Tissue == utissue[i],]\n",
    "    tmpdata$class = factor(x = tmpdata$class,levels = c('Juvenile','Young','Elderly'))\n",
    "    tmpp1 = t.test(number~class,data = tmpdata,subset = tmpdata$class != 'Young')$p.value\n",
    "    tmpp2 = t.test(number~class,data = tmpdata,subset = tmpdata$class != 'Juvenile')$p.value\n",
    "    tpvalues$p_Juvenile_vs_Elderly[i] = tmpp1\n",
    "    tpvalues$p_Young_vs_Elderly[i] = tmpp2\n",
    "    \n",
    "    df2 = data.frame(tmean = aggregate(tmpdata$number, by=list(tmpdata$class), FUN=mean, na.rm = T)$x,\n",
    "                tsd = aggregate(tmpdata$number, by=list(tmpdata$class), FUN=sd, na.rm = T)$x,\n",
    "                    class = factor(x= c('Juvenile','Young','Elderly'),levels = c('Juvenile','Young','Elderly'))\n",
    "                 )\n",
    "    thepath = paste0('./out/20230217_aging/Figure4_markers_HE/Figure4x_HE_cellcounts_', utissue[i],'_v1.pdf')\n",
    "    pdf(thepath)\n",
    "    p = ggplot(df2, aes(x = class, y = tmean, fill = class)) + geom_bar(stat = 'identity',color = 'black',position = position_dodge(),alpha = 0.5,size = 1.5)+\n",
    "      geom_errorbar(aes(ymin = tmean,ymax = tmean+tsd),width = .3,size = 1.5)+lghplot.addthemeA(size = 28,sizex = 26,sizey = 26)+\n",
    "      scale_fill_manual(values = c('#008B45FF','#3B4992FF','#EE0000FF'))+ \n",
    "      theme(axis.line = element_line(size = 1.2))+ xlab('')+ ylab('Number of Parenchymal Cells')+ggtitle(utissue[i])\n",
    "    print(p)\n",
    "    dev.off()\n",
    "}\n"
   ]
  },
  {
   "cell_type": "code",
   "execution_count": 5,
   "metadata": {},
   "outputs": [
    {
     "data": {
      "text/html": [
       "<table class=\"dataframe\">\n",
       "<caption>A data.frame: 7 × 3</caption>\n",
       "<thead>\n",
       "\t<tr><th scope=col>tissue</th><th scope=col>p_Juvenile_vs_Elderly</th><th scope=col>p_Young_vs_Elderly</th></tr>\n",
       "\t<tr><th scope=col>&lt;fct&gt;</th><th scope=col>&lt;dbl&gt;</th><th scope=col>&lt;dbl&gt;</th></tr>\n",
       "</thead>\n",
       "<tbody>\n",
       "\t<tr><td>Thymus       </td><td>3.842297e-07</td><td>2.479669e-04</td></tr>\n",
       "\t<tr><td>Stomach      </td><td>4.735346e-08</td><td>4.458945e-06</td></tr>\n",
       "\t<tr><td>Aortic_arch  </td><td>8.038428e-07</td><td>2.041040e-07</td></tr>\n",
       "\t<tr><td>Ovary        </td><td>6.576220e-09</td><td>6.727973e-05</td></tr>\n",
       "\t<tr><td>Spleen       </td><td>1.724836e-06</td><td>4.997698e-01</td></tr>\n",
       "\t<tr><td>Thyroid_gland</td><td>3.814005e-06</td><td>9.571183e-02</td></tr>\n",
       "\t<tr><td>Kidney       </td><td>2.734793e-01</td><td>3.090672e-01</td></tr>\n",
       "</tbody>\n",
       "</table>\n"
      ],
      "text/latex": [
       "A data.frame: 7 × 3\n",
       "\\begin{tabular}{lll}\n",
       " tissue & p\\_Juvenile\\_vs\\_Elderly & p\\_Young\\_vs\\_Elderly\\\\\n",
       " <fct> & <dbl> & <dbl>\\\\\n",
       "\\hline\n",
       "\t Thymus        & 3.842297e-07 & 2.479669e-04\\\\\n",
       "\t Stomach       & 4.735346e-08 & 4.458945e-06\\\\\n",
       "\t Aortic\\_arch   & 8.038428e-07 & 2.041040e-07\\\\\n",
       "\t Ovary         & 6.576220e-09 & 6.727973e-05\\\\\n",
       "\t Spleen        & 1.724836e-06 & 4.997698e-01\\\\\n",
       "\t Thyroid\\_gland & 3.814005e-06 & 9.571183e-02\\\\\n",
       "\t Kidney        & 2.734793e-01 & 3.090672e-01\\\\\n",
       "\\end{tabular}\n"
      ],
      "text/markdown": [
       "\n",
       "A data.frame: 7 × 3\n",
       "\n",
       "| tissue &lt;fct&gt; | p_Juvenile_vs_Elderly &lt;dbl&gt; | p_Young_vs_Elderly &lt;dbl&gt; |\n",
       "|---|---|---|\n",
       "| Thymus        | 3.842297e-07 | 2.479669e-04 |\n",
       "| Stomach       | 4.735346e-08 | 4.458945e-06 |\n",
       "| Aortic_arch   | 8.038428e-07 | 2.041040e-07 |\n",
       "| Ovary         | 6.576220e-09 | 6.727973e-05 |\n",
       "| Spleen        | 1.724836e-06 | 4.997698e-01 |\n",
       "| Thyroid_gland | 3.814005e-06 | 9.571183e-02 |\n",
       "| Kidney        | 2.734793e-01 | 3.090672e-01 |\n",
       "\n"
      ],
      "text/plain": [
       "  tissue        p_Juvenile_vs_Elderly p_Young_vs_Elderly\n",
       "1 Thymus        3.842297e-07          2.479669e-04      \n",
       "2 Stomach       4.735346e-08          4.458945e-06      \n",
       "3 Aortic_arch   8.038428e-07          2.041040e-07      \n",
       "4 Ovary         6.576220e-09          6.727973e-05      \n",
       "5 Spleen        1.724836e-06          4.997698e-01      \n",
       "6 Thyroid_gland 3.814005e-06          9.571183e-02      \n",
       "7 Kidney        2.734793e-01          3.090672e-01      "
      ]
     },
     "metadata": {},
     "output_type": "display_data"
    }
   ],
   "source": [
    "tpvalues"
   ]
  },
  {
   "cell_type": "code",
   "execution_count": null,
   "metadata": {},
   "outputs": [],
   "source": []
  },
  {
   "cell_type": "code",
   "execution_count": null,
   "metadata": {},
   "outputs": [],
   "source": []
  },
  {
   "cell_type": "markdown",
   "metadata": {},
   "source": [
    "# Figure 5"
   ]
  },
  {
   "cell_type": "code",
   "execution_count": 728,
   "metadata": {},
   "outputs": [],
   "source": [
    "tissues = names(promet.tissues.Z)\n",
    "clusterdist = matrix(0,length(tissues),8)\n",
    "clusteramplitude = matrix(0,length(tissues),8)\n",
    "clusteramplitude_xx = matrix(0,length(tissues),8)\n",
    "for(i in 1:length(tissues)){\n",
    "    mstd =   promet.tissues.Z[[i]] \n",
    "    for(j in 1:8){\n",
    "    tgene = names(mfuzz.promet.whole$cluster)[mfuzz.promet.whole$cluster == j]\n",
    "    tgene = intersect(tgene,rownames(mstd))\n",
    "    bx = t(t(mstd[tgene,]) - mfuzz.promet.whole$centers[j,])\n",
    "    clusterdist[i,j] = mean(sqrt(rowSums(bx^2)/(ncol(bx)-1)),na.rm = T)\n",
    "    if(length(tgene) < 2){\n",
    "      clusteramplitude[i,j] = NA\n",
    "      next;\n",
    "    }\n",
    "    tamp = colMeans(mstd[tgene,],na.rm = T)\n",
    "    clusteramplitude[i,j] = abs(tamp[4]-tamp[2])\n",
    "    clusteramplitude_xx[i,j] = tamp[4]-tamp[2]\n",
    "  }\n",
    "}\n",
    "rownames(clusteramplitude) = tissues\n",
    "rownames(clusteramplitude_xx) = tissues\n",
    "rownames(clusterdist) = tissues"
   ]
  },
  {
   "cell_type": "markdown",
   "metadata": {},
   "source": [
    "## ratio data construction"
   ]
  },
  {
   "cell_type": "code",
   "execution_count": 773,
   "metadata": {},
   "outputs": [],
   "source": [
    "ratio.tissues = list()\n",
    "ratio.tissues.info = list()\n",
    "pro.tissues.forRatio = list()\n",
    "mrna.tissues.forRatio = list()\n",
    "tissues = names(pro.tissues)\n",
    "overlaptissues = intersect(names(pro.tissues),names(mrna.tissues))\n",
    "for( i in 1:length(overlaptissues)){\n",
    "    this_tissue = overlaptissues[i]\n",
    "    thispro = delete_dup_genes_forprotein(pro.tissues[[this_tissue]],pro.tissues.header[[this_tissue]])\n",
    "    thismrna = mrna.tissues[[this_tissue]]\n",
    "    vcol = intersect(colnames(thispro),colnames(thismrna))\n",
    "    vrow = intersect(rownames(thispro),rownames(thismrna))\n",
    "    thispro = thispro[vrow,vcol]\n",
    "    thismrna  = thismrna[vrow,vcol]\n",
    "    pro.tissues.forRatio[[i]] = thispro\n",
    "    mrna.tissues.forRatio[[i]] = thismrna\n",
    "    ratio.tissues[[i]] = thispro - thismrna\n",
    "    ratio.tissues.info[[i]] = pro.tissues.info[[i]][vcol,]\n",
    "}\n",
    "names(ratio.tissues) = overlaptissues\n",
    "names(pro.tissues.forRatio) = overlaptissues\n",
    "names(mrna.tissues.forRatio) = overlaptissues\n",
    "names(ratio.tissues.info) = overlaptissues"
   ]
  },
  {
   "cell_type": "code",
   "execution_count": 774,
   "metadata": {},
   "outputs": [],
   "source": [
    "ratio_amplitude = list()\n",
    "pro_amplitude = list()\n",
    "mrna_amplitude = list()\n",
    "n = length(ratio.tissues)\n",
    "ratio_out = data.frame(meanChangeRatio = rep(0,n),stringsAsFactors = F,\n",
    "                fc_up_down = rep(0,n),\n",
    "                tissues = names(ratio.tissues),\n",
    "                meanChangeproZ = rep(0,n),\n",
    "                fc_up_down_pro = rep(0,n),\n",
    "                meanChangemrnaZ = rep(0,n),\n",
    "                fc_up_down_mrna = rep(0,n))\n",
    "for (i in 1:length(ratio.tissues)){\n",
    "    bx = ratio.tissues[[i]]\n",
    "    bx.info = ratio.tissues.info[[i]]\n",
    "    id = bx.info$stage < 5\n",
    "    bx = bx[,id]\n",
    "    bx.info = bx.info[id,]\n",
    "    cx = t(aggregate(t(bx), by=list(bx.info$stage), FUN=mean, na.rm = T))\n",
    "    cx = as.matrix(standardise_1(new(\"ExpressionSet\",exprs = cx)))\n",
    "    cx = cx[-1,]\n",
    "    ee = cx[,4]-cx[,1]\n",
    "    ratio_amplitude[[i]] = ee;\n",
    "    #hist(ee,30)\n",
    "    ratio_out$meanChangeRatio[i] = mean(ee,na.rm = T)\n",
    "    ratio_out$fc_up_down[i] = log2(sum(ee > 0,na.rm = T)/sum(ee < -0,na.rm = T))\n",
    "    \n",
    "    bx = pro.tissues.forRatio[[i]]\n",
    "    bx.info = ratio.tissues.info[[i]]\n",
    "    id = bx.info$stage < 5\n",
    "    bx = bx[,id]\n",
    "    bx.info = bx.info[id,]\n",
    "    cx = t(aggregate(t(bx), by=list(bx.info$stage), FUN=mean, na.rm = T))\n",
    "    cx = as.matrix(standardise_1(new(\"ExpressionSet\",exprs = cx)))\n",
    "    cx = cx[-1,]\n",
    "    ee = cx[,4]-cx[,1]\n",
    "    pro_amplitude[[i]] = ee\n",
    "    #hist(ee,30)\n",
    "    ratio_out$meanChangeproZ[i] = mean(ee,na.rm = T)\n",
    "    ratio_out$fc_up_down_pro[i] = log2(sum(ee > 0,na.rm = T)/sum(ee < -0,na.rm = T))\n",
    "    \n",
    "    bx = mrna.tissues.forRatio[[i]]\n",
    "    bx.info = ratio.tissues.info[[i]]\n",
    "    id = bx.info$stage < 5\n",
    "    bx = bx[,id]\n",
    "    bx.info = bx.info[id,]\n",
    "    cx = t(aggregate(t(bx), by=list(bx.info$stage), FUN=mean, na.rm = T))\n",
    "    cx = as.matrix(standardise_1(new(\"ExpressionSet\",exprs = cx)))\n",
    "    cx = cx[-1,]\n",
    "    ee = cx[,4]-cx[,1]\n",
    "    mrna_amplitude[[i]] = ee\n",
    "    #hist(ee,30)\n",
    "    ratio_out$meanChangemrnaZ[i] = mean(ee,na.rm = T)\n",
    "    ratio_out$fc_up_down_mrna[i] = log2(sum(ee > 0,na.rm = T)/sum(ee < -0,na.rm = T))\n",
    "}\n",
    "rownames(ratio_out) = names(ratio.tissues)\n",
    "names(ratio_amplitude) = names(ratio.tissues)\n",
    "names(pro_amplitude) = names(ratio.tissues)\n",
    "names(mrna_amplitude) = names(ratio.tissues)"
   ]
  },
  {
   "cell_type": "markdown",
   "metadata": {},
   "source": [
    "## Figure 5A design"
   ]
  },
  {
   "cell_type": "code",
   "execution_count": 335,
   "metadata": {},
   "outputs": [],
   "source": [
    "# design ratio"
   ]
  },
  {
   "cell_type": "markdown",
   "metadata": {},
   "source": [
    "## Figure S5 plot mRNA and protein"
   ]
  },
  {
   "cell_type": "code",
   "execution_count": 676,
   "metadata": {},
   "outputs": [],
   "source": [
    "mRNA.mean = list()\n",
    "pro.mean = list()\n",
    "for(i in 1:length(pro.tissues.forRatio)){\n",
    "    mRNA.mean[[i]] = rowMeans(mrna.tissues.forRatio[[i]],na.rm = T)\n",
    "    pro.mean[[i]] = rowMeans(pro.tissues.forRatio[[i]],na.rm = T)\n",
    "}\n",
    "names(mRNA.mean) = names(mrna.tissues.forRatio)\n",
    "names(pro.mean) = names(pro.tissues.forRatio)\n",
    "RNA.v = list_to_matrix(mRNA.mean)\n",
    "pro.v = list_to_matrix(pro.mean)\n"
   ]
  },
  {
   "cell_type": "code",
   "execution_count": 72,
   "metadata": {},
   "outputs": [],
   "source": [
    "pp = list()\n",
    "for(i in 1:ncol(pro.v)){\n",
    "    idaa = !is.na(RNA.v[,i]) & !is.na(pro.v[,i])\n",
    "    tcor = cor.test(RNA.v[idaa,i],pro.v[idaa,i])$estimate\n",
    "    tmpdata = data.frame(xx = RNA.v[idaa,i],\n",
    "                        yy = pro.v[idaa,i])\n",
    "    pp[[i]] = ggplot(tmpdata,aes(x= xx,y = yy))+geom_point(size =1,) + theme_bw()+\n",
    "        theme(plot.margin = margin(0.1,0.1,0.1,0.1,\"cm\"))+\n",
    "        lghplot.addthemeA(size = 16,sizex = 16,sizey = 16)+        \n",
    "        annotate(geom=\"text\", x=4, y=25, \n",
    "                label = paste('R=',signif(tcor,3)),\n",
    "               color=\"darkblue\",size = 8,face = \"italic\")+\n",
    "        xlab('')+ylab('')+ggtitle(colnames(pro.v)[i])\n",
    "}\n",
    "#pdf(file = \"./out/20220519_aging/Figure5_ratio_mrna_pro/Figure S4_mrna_vs_pro.pdf\",width = 10,height = 12)\n",
    "#grid.arrange(arrangeGrob(grobs = p,ncol = 5,\n",
    " #                        bottom=textGrob('mRNA expression(log2 CPM)', gp=gpar(fontface=\"bold\",  fontsize=22)),\n",
    "#                        left = textGrob('Protein abundance(log2 Peak Area)', gp=gpar(fontface=\"bold\",  fontsize=22),rot=90)))\n",
    "#dev.off()"
   ]
  },
  {
   "cell_type": "code",
   "execution_count": 77,
   "metadata": {},
   "outputs": [
    {
     "data": {
      "text/html": [
       "<strong>png:</strong> 2"
      ],
      "text/latex": [
       "\\textbf{png:} 2"
      ],
      "text/markdown": [
       "**png:** 2"
      ],
      "text/plain": [
       "png \n",
       "  2 "
      ]
     },
     "metadata": {},
     "output_type": "display_data"
    }
   ],
   "source": [
    "png(file = \"./out/20220519_aging/Figure5_ratio_mrna_pro/Figure S5_mrna_vs_pro.png\",width = 1250,height = 1500)\n",
    "grid.arrange(arrangeGrob(grobs = pp, ncol = 5,\n",
    "                         bottom=textGrob('mRNA expression(log2 CPM)', gp=gpar(fontface=\"bold\",  fontsize=22)),\n",
    "                        left = textGrob('Protein abundance(log2 Peak Area)', gp=gpar(fontface=\"bold\",  fontsize=22),rot=90)))\n",
    "dev.off()"
   ]
  },
  {
   "cell_type": "markdown",
   "metadata": {},
   "source": [
    "## Figure S6 predict protein vs measured protein"
   ]
  },
  {
   "cell_type": "code",
   "execution_count": 81,
   "metadata": {},
   "outputs": [
    {
     "data": {
      "text/html": [
       "<strong>png:</strong> 2"
      ],
      "text/latex": [
       "\\textbf{png:} 2"
      ],
      "text/markdown": [
       "**png:** 2"
      ],
      "text/plain": [
       "png \n",
       "  2 "
      ]
     },
     "metadata": {},
     "output_type": "display_data"
    }
   ],
   "source": [
    "ratio = pro.v - RNA.v\n",
    "ratio = apply(ratio,1,median,na.rm =T)\n",
    "\n",
    "# remove ratio = 0 and NA\n",
    "#id = is.na(ratio) | ratio == 0\n",
    "#ratio = ratio[!id]\n",
    "\n",
    "pro.prediction = RNA.v + ratio\n",
    "\n",
    "pp = list()\n",
    "for(i in 1:ncol(pro.v)){\n",
    "    idaa = !is.na(pro.prediction[,i]) & !is.na(pro.v[,i])\n",
    "    tcor = cor.test(pro.prediction[idaa,i],pro.v[idaa,i])$estimate\n",
    "    tmpdata = data.frame(xx = pro.prediction[idaa,i],\n",
    "                        yy = pro.v[idaa,i])\n",
    "    pp[[i]] = ggplot(tmpdata,aes(x= xx,y = yy))+geom_point(size =1,) + theme_bw()+\n",
    "        theme(plot.margin = margin(0.1,0.1,0.1,0.1,\"cm\"))+\n",
    "        lghplot.addthemeA(size = 16,sizex = 16,sizey = 16)+        \n",
    "        annotate(geom=\"text\", x=15, y=25, \n",
    "                label = paste('R=',signif(tcor,3)),\n",
    "               color=\"darkblue\",size = 8,face = \"italic\")+\n",
    "        xlab('')+ylab('')+ggtitle(colnames(pro.v)[i])\n",
    "}\n",
    "\n",
    "png(file = \"./out/20220519_aging/Figure5_ratio_mrna_pro/Figure S6_predPro_vs_pro.png\",width = 1250,height = 1500)\n",
    "grid.arrange(arrangeGrob(grobs = pp, ncol = 5,\n",
    "                         bottom=textGrob('Predicted protein abundance(log2 Peak Area)', gp=gpar(fontface=\"bold\",  fontsize=22)),\n",
    "                        left = textGrob('Protein abundance(log2 Peak Area)', gp=gpar(fontface=\"bold\",  fontsize=22),rot=90)))\n",
    "dev.off()\n"
   ]
  },
  {
   "cell_type": "markdown",
   "metadata": {},
   "source": [
    "## Figure 5B distribute ratio change tissue aging"
   ]
  },
  {
   "cell_type": "code",
   "execution_count": 775,
   "metadata": {
    "collapsed": true
   },
   "outputs": [
    {
     "data": {
      "text/html": [
       "<table class=\"dataframe\">\n",
       "<caption>A data.frame: 30 × 5</caption>\n",
       "<thead>\n",
       "\t<tr><th></th><th scope=col>tissue</th><th scope=col>type</th><th scope=col>class</th><th scope=col>class.MAA</th><th scope=col>mean_aging_amplitude</th></tr>\n",
       "\t<tr><th></th><th scope=col>&lt;chr&gt;</th><th scope=col>&lt;chr&gt;</th><th scope=col>&lt;chr&gt;</th><th scope=col>&lt;chr&gt;</th><th scope=col>&lt;dbl&gt;</th></tr>\n",
       "</thead>\n",
       "<tbody>\n",
       "\t<tr><th scope=row>Pancreas</th><td>Pancreas               </td><td>Type II </td><td>Type II</td><td>Type II</td><td>-0.075748775</td></tr>\n",
       "\t<tr><th scope=row>Supramarginal_gyrus</th><td>Supramarginal_gyrus    </td><td>Type II </td><td>Type II</td><td>Type II</td><td> 0.231195111</td></tr>\n",
       "\t<tr><th scope=row>Frontal_pole</th><td>Frontal_pole           </td><td>Type II </td><td>Type II</td><td>Type II</td><td> 0.186849533</td></tr>\n",
       "\t<tr><th scope=row>Liver</th><td>Liver                  </td><td>Type II </td><td>Type II</td><td>Type II</td><td> 0.210951149</td></tr>\n",
       "\t<tr><th scope=row>Hippocampus</th><td>Hippocampus            </td><td>Type II </td><td>Type II</td><td>Type II</td><td> 0.044697652</td></tr>\n",
       "\t<tr><th scope=row>Skin_of_back</th><td>Skin_of_back           </td><td>Type II </td><td>Type II</td><td>Type II</td><td> 0.153227025</td></tr>\n",
       "\t<tr><th scope=row>Cecum</th><td>Cecum                  </td><td>Type II </td><td>Type II</td><td>Type II</td><td> 0.117593492</td></tr>\n",
       "\t<tr><th scope=row>Lung</th><td>Lung                   </td><td>Type II </td><td>Type II</td><td>Type II</td><td> 0.062388571</td></tr>\n",
       "\t<tr><th scope=row>Superior_temporal_gyrus</th><td>Superior_temporal_gyrus</td><td>Type II </td><td>Type II</td><td>Type II</td><td> 0.151674043</td></tr>\n",
       "\t<tr><th scope=row>Muscle</th><td>Muscle                 </td><td>Type II </td><td>Type II</td><td>Type II</td><td> 0.127531951</td></tr>\n",
       "\t<tr><th scope=row>Adrenal_gland</th><td>Adrenal_gland          </td><td>Type II </td><td>Type II</td><td>Type II</td><td> 0.390895560</td></tr>\n",
       "\t<tr><th scope=row>Hypothalamus</th><td>Hypothalamus           </td><td>Type II </td><td>Type II</td><td>Type II</td><td> 0.312324819</td></tr>\n",
       "\t<tr><th scope=row>Heart</th><td>Heart                  </td><td>Type II </td><td>Type II</td><td>Type II</td><td> 0.204160794</td></tr>\n",
       "\t<tr><th scope=row>Arteria_cruralis</th><td>Arteria_cruralis       </td><td>Undefine</td><td>Type II</td><td>Type I </td><td>-0.302318429</td></tr>\n",
       "\t<tr><th scope=row>Arteria_carotis</th><td>Arteria_carotis        </td><td>Undefine</td><td>Type II</td><td>Type I </td><td>-0.015271359</td></tr>\n",
       "\t<tr><th scope=row>Adipose</th><td>Adipose                </td><td>Type I  </td><td>Type I </td><td>Type I </td><td>-0.650050564</td></tr>\n",
       "\t<tr><th scope=row>Thyroid_gland</th><td>Thyroid_gland          </td><td>Type I  </td><td>Type I </td><td>Type I </td><td>-0.233352138</td></tr>\n",
       "\t<tr><th scope=row>Facial_skin</th><td>Facial_skin            </td><td>Undefine</td><td>Type I </td><td>Type II</td><td>-0.068819684</td></tr>\n",
       "\t<tr><th scope=row>Femoral_vein</th><td>Femoral_vein           </td><td>Undefine</td><td>Type I </td><td>Type II</td><td> 0.002050297</td></tr>\n",
       "\t<tr><th scope=row>Ileocecum</th><td>Ileocecum              </td><td>Type I  </td><td>Type I </td><td>Type I </td><td>-0.157174219</td></tr>\n",
       "\t<tr><th scope=row>Thymus</th><td>Thymus                 </td><td>Type I  </td><td>Type I </td><td>Type I </td><td>-0.293446352</td></tr>\n",
       "\t<tr><th scope=row>Aortic_arch</th><td>Aortic_arch            </td><td>Type I  </td><td>Type I </td><td>Type I </td><td>-0.341411484</td></tr>\n",
       "\t<tr><th scope=row>Spleen</th><td>Spleen                 </td><td>Type I  </td><td>Type I </td><td>Type I </td><td>-0.253614804</td></tr>\n",
       "\t<tr><th scope=row>Kidney</th><td>Kidney                 </td><td>Type I  </td><td>Type I </td><td>Type I </td><td>-0.119119447</td></tr>\n",
       "\t<tr><th scope=row>Ovary</th><td>Ovary                  </td><td>Type I  </td><td>Type I </td><td>Type I </td><td>-0.148487802</td></tr>\n",
       "\t<tr><th scope=row>Fallopian_tube</th><td>Fallopian_tube         </td><td>Type I  </td><td>Type I </td><td>Type I </td><td>-0.242323566</td></tr>\n",
       "\t<tr><th scope=row>Stomach</th><td>Stomach                </td><td>Type I  </td><td>Type I </td><td>Type I </td><td>-0.151051049</td></tr>\n",
       "\t<tr><th scope=row>Duodenum</th><td>Duodenum               </td><td>Type I  </td><td>Type I </td><td>Type I </td><td>-0.334290753</td></tr>\n",
       "\t<tr><th scope=row>Pituitary</th><td>Pituitary              </td><td>Type I  </td><td>Type I </td><td>Type I </td><td>-0.074656135</td></tr>\n",
       "\t<tr><th scope=row>Uterus</th><td>Uterus                 </td><td>Type I  </td><td>Type I </td><td>Type I </td><td>-0.150139727</td></tr>\n",
       "</tbody>\n",
       "</table>\n"
      ],
      "text/latex": [
       "A data.frame: 30 × 5\n",
       "\\begin{tabular}{r|lllll}\n",
       "  & tissue & type & class & class.MAA & mean\\_aging\\_amplitude\\\\\n",
       "  & <chr> & <chr> & <chr> & <chr> & <dbl>\\\\\n",
       "\\hline\n",
       "\tPancreas & Pancreas                & Type II  & Type II & Type II & -0.075748775\\\\\n",
       "\tSupramarginal\\_gyrus & Supramarginal\\_gyrus     & Type II  & Type II & Type II &  0.231195111\\\\\n",
       "\tFrontal\\_pole & Frontal\\_pole            & Type II  & Type II & Type II &  0.186849533\\\\\n",
       "\tLiver & Liver                   & Type II  & Type II & Type II &  0.210951149\\\\\n",
       "\tHippocampus & Hippocampus             & Type II  & Type II & Type II &  0.044697652\\\\\n",
       "\tSkin\\_of\\_back & Skin\\_of\\_back            & Type II  & Type II & Type II &  0.153227025\\\\\n",
       "\tCecum & Cecum                   & Type II  & Type II & Type II &  0.117593492\\\\\n",
       "\tLung & Lung                    & Type II  & Type II & Type II &  0.062388571\\\\\n",
       "\tSuperior\\_temporal\\_gyrus & Superior\\_temporal\\_gyrus & Type II  & Type II & Type II &  0.151674043\\\\\n",
       "\tMuscle & Muscle                  & Type II  & Type II & Type II &  0.127531951\\\\\n",
       "\tAdrenal\\_gland & Adrenal\\_gland           & Type II  & Type II & Type II &  0.390895560\\\\\n",
       "\tHypothalamus & Hypothalamus            & Type II  & Type II & Type II &  0.312324819\\\\\n",
       "\tHeart & Heart                   & Type II  & Type II & Type II &  0.204160794\\\\\n",
       "\tArteria\\_cruralis & Arteria\\_cruralis        & Undefine & Type II & Type I  & -0.302318429\\\\\n",
       "\tArteria\\_carotis & Arteria\\_carotis         & Undefine & Type II & Type I  & -0.015271359\\\\\n",
       "\tAdipose & Adipose                 & Type I   & Type I  & Type I  & -0.650050564\\\\\n",
       "\tThyroid\\_gland & Thyroid\\_gland           & Type I   & Type I  & Type I  & -0.233352138\\\\\n",
       "\tFacial\\_skin & Facial\\_skin             & Undefine & Type I  & Type II & -0.068819684\\\\\n",
       "\tFemoral\\_vein & Femoral\\_vein            & Undefine & Type I  & Type II &  0.002050297\\\\\n",
       "\tIleocecum & Ileocecum               & Type I   & Type I  & Type I  & -0.157174219\\\\\n",
       "\tThymus & Thymus                  & Type I   & Type I  & Type I  & -0.293446352\\\\\n",
       "\tAortic\\_arch & Aortic\\_arch             & Type I   & Type I  & Type I  & -0.341411484\\\\\n",
       "\tSpleen & Spleen                  & Type I   & Type I  & Type I  & -0.253614804\\\\\n",
       "\tKidney & Kidney                  & Type I   & Type I  & Type I  & -0.119119447\\\\\n",
       "\tOvary & Ovary                   & Type I   & Type I  & Type I  & -0.148487802\\\\\n",
       "\tFallopian\\_tube & Fallopian\\_tube          & Type I   & Type I  & Type I  & -0.242323566\\\\\n",
       "\tStomach & Stomach                 & Type I   & Type I  & Type I  & -0.151051049\\\\\n",
       "\tDuodenum & Duodenum                & Type I   & Type I  & Type I  & -0.334290753\\\\\n",
       "\tPituitary & Pituitary               & Type I   & Type I  & Type I  & -0.074656135\\\\\n",
       "\tUterus & Uterus                  & Type I   & Type I  & Type I  & -0.150139727\\\\\n",
       "\\end{tabular}\n"
      ],
      "text/markdown": [
       "\n",
       "A data.frame: 30 × 5\n",
       "\n",
       "| <!--/--> | tissue &lt;chr&gt; | type &lt;chr&gt; | class &lt;chr&gt; | class.MAA &lt;chr&gt; | mean_aging_amplitude &lt;dbl&gt; |\n",
       "|---|---|---|---|---|---|\n",
       "| Pancreas | Pancreas                | Type II  | Type II | Type II | -0.075748775 |\n",
       "| Supramarginal_gyrus | Supramarginal_gyrus     | Type II  | Type II | Type II |  0.231195111 |\n",
       "| Frontal_pole | Frontal_pole            | Type II  | Type II | Type II |  0.186849533 |\n",
       "| Liver | Liver                   | Type II  | Type II | Type II |  0.210951149 |\n",
       "| Hippocampus | Hippocampus             | Type II  | Type II | Type II |  0.044697652 |\n",
       "| Skin_of_back | Skin_of_back            | Type II  | Type II | Type II |  0.153227025 |\n",
       "| Cecum | Cecum                   | Type II  | Type II | Type II |  0.117593492 |\n",
       "| Lung | Lung                    | Type II  | Type II | Type II |  0.062388571 |\n",
       "| Superior_temporal_gyrus | Superior_temporal_gyrus | Type II  | Type II | Type II |  0.151674043 |\n",
       "| Muscle | Muscle                  | Type II  | Type II | Type II |  0.127531951 |\n",
       "| Adrenal_gland | Adrenal_gland           | Type II  | Type II | Type II |  0.390895560 |\n",
       "| Hypothalamus | Hypothalamus            | Type II  | Type II | Type II |  0.312324819 |\n",
       "| Heart | Heart                   | Type II  | Type II | Type II |  0.204160794 |\n",
       "| Arteria_cruralis | Arteria_cruralis        | Undefine | Type II | Type I  | -0.302318429 |\n",
       "| Arteria_carotis | Arteria_carotis         | Undefine | Type II | Type I  | -0.015271359 |\n",
       "| Adipose | Adipose                 | Type I   | Type I  | Type I  | -0.650050564 |\n",
       "| Thyroid_gland | Thyroid_gland           | Type I   | Type I  | Type I  | -0.233352138 |\n",
       "| Facial_skin | Facial_skin             | Undefine | Type I  | Type II | -0.068819684 |\n",
       "| Femoral_vein | Femoral_vein            | Undefine | Type I  | Type II |  0.002050297 |\n",
       "| Ileocecum | Ileocecum               | Type I   | Type I  | Type I  | -0.157174219 |\n",
       "| Thymus | Thymus                  | Type I   | Type I  | Type I  | -0.293446352 |\n",
       "| Aortic_arch | Aortic_arch             | Type I   | Type I  | Type I  | -0.341411484 |\n",
       "| Spleen | Spleen                  | Type I   | Type I  | Type I  | -0.253614804 |\n",
       "| Kidney | Kidney                  | Type I   | Type I  | Type I  | -0.119119447 |\n",
       "| Ovary | Ovary                   | Type I   | Type I  | Type I  | -0.148487802 |\n",
       "| Fallopian_tube | Fallopian_tube          | Type I   | Type I  | Type I  | -0.242323566 |\n",
       "| Stomach | Stomach                 | Type I   | Type I  | Type I  | -0.151051049 |\n",
       "| Duodenum | Duodenum                | Type I   | Type I  | Type I  | -0.334290753 |\n",
       "| Pituitary | Pituitary               | Type I   | Type I  | Type I  | -0.074656135 |\n",
       "| Uterus | Uterus                  | Type I   | Type I  | Type I  | -0.150139727 |\n",
       "\n"
      ],
      "text/plain": [
       "                        tissue                  type     class   class.MAA\n",
       "Pancreas                Pancreas                Type II  Type II Type II  \n",
       "Supramarginal_gyrus     Supramarginal_gyrus     Type II  Type II Type II  \n",
       "Frontal_pole            Frontal_pole            Type II  Type II Type II  \n",
       "Liver                   Liver                   Type II  Type II Type II  \n",
       "Hippocampus             Hippocampus             Type II  Type II Type II  \n",
       "Skin_of_back            Skin_of_back            Type II  Type II Type II  \n",
       "Cecum                   Cecum                   Type II  Type II Type II  \n",
       "Lung                    Lung                    Type II  Type II Type II  \n",
       "Superior_temporal_gyrus Superior_temporal_gyrus Type II  Type II Type II  \n",
       "Muscle                  Muscle                  Type II  Type II Type II  \n",
       "Adrenal_gland           Adrenal_gland           Type II  Type II Type II  \n",
       "Hypothalamus            Hypothalamus            Type II  Type II Type II  \n",
       "Heart                   Heart                   Type II  Type II Type II  \n",
       "Arteria_cruralis        Arteria_cruralis        Undefine Type II Type I   \n",
       "Arteria_carotis         Arteria_carotis         Undefine Type II Type I   \n",
       "Adipose                 Adipose                 Type I   Type I  Type I   \n",
       "Thyroid_gland           Thyroid_gland           Type I   Type I  Type I   \n",
       "Facial_skin             Facial_skin             Undefine Type I  Type II  \n",
       "Femoral_vein            Femoral_vein            Undefine Type I  Type II  \n",
       "Ileocecum               Ileocecum               Type I   Type I  Type I   \n",
       "Thymus                  Thymus                  Type I   Type I  Type I   \n",
       "Aortic_arch             Aortic_arch             Type I   Type I  Type I   \n",
       "Spleen                  Spleen                  Type I   Type I  Type I   \n",
       "Kidney                  Kidney                  Type I   Type I  Type I   \n",
       "Ovary                   Ovary                   Type I   Type I  Type I   \n",
       "Fallopian_tube          Fallopian_tube          Type I   Type I  Type I   \n",
       "Stomach                 Stomach                 Type I   Type I  Type I   \n",
       "Duodenum                Duodenum                Type I   Type I  Type I   \n",
       "Pituitary               Pituitary               Type I   Type I  Type I   \n",
       "Uterus                  Uterus                  Type I   Type I  Type I   \n",
       "                        mean_aging_amplitude\n",
       "Pancreas                -0.075748775        \n",
       "Supramarginal_gyrus      0.231195111        \n",
       "Frontal_pole             0.186849533        \n",
       "Liver                    0.210951149        \n",
       "Hippocampus              0.044697652        \n",
       "Skin_of_back             0.153227025        \n",
       "Cecum                    0.117593492        \n",
       "Lung                     0.062388571        \n",
       "Superior_temporal_gyrus  0.151674043        \n",
       "Muscle                   0.127531951        \n",
       "Adrenal_gland            0.390895560        \n",
       "Hypothalamus             0.312324819        \n",
       "Heart                    0.204160794        \n",
       "Arteria_cruralis        -0.302318429        \n",
       "Arteria_carotis         -0.015271359        \n",
       "Adipose                 -0.650050564        \n",
       "Thyroid_gland           -0.233352138        \n",
       "Facial_skin             -0.068819684        \n",
       "Femoral_vein             0.002050297        \n",
       "Ileocecum               -0.157174219        \n",
       "Thymus                  -0.293446352        \n",
       "Aortic_arch             -0.341411484        \n",
       "Spleen                  -0.253614804        \n",
       "Kidney                  -0.119119447        \n",
       "Ovary                   -0.148487802        \n",
       "Fallopian_tube          -0.242323566        \n",
       "Stomach                 -0.151051049        \n",
       "Duodenum                -0.334290753        \n",
       "Pituitary               -0.074656135        \n",
       "Uterus                  -0.150139727        "
      ]
     },
     "metadata": {},
     "output_type": "display_data"
    }
   ],
   "source": [
    "tissueClass"
   ]
  },
  {
   "cell_type": "code",
   "execution_count": 783,
   "metadata": {},
   "outputs": [],
   "source": [
    "systems.Color = substr(pal_aaas()(10),1,7)\n",
    "names(systems.Color) = unique(tissue.systems)\n",
    "systems.Color.fortissue = systems.Color[tissue.systems]\n",
    "names(systems.Color.fortissue) = names(ratio_amplitude)\n",
    "tissueClass$color = tissueClass$type\n",
    "tissueClass$color[tissueClass$color == 'Type I'] = '#BB0021'\n",
    "tissueClass$color[tissueClass$color == 'Type II'] = '#3B4992'\n",
    "tissueClass$color[tissueClass$color == 'Undefine'] = '#B09C85'"
   ]
  },
  {
   "cell_type": "code",
   "execution_count": 784,
   "metadata": {},
   "outputs": [],
   "source": [
    "# hist plot\n",
    "p1 = list()\n",
    "xplot <- function(ratio_amplitude,i,tissueClass){\n",
    "    tcolor = tissueClass[names(ratio_amplitude)[i],]$color\n",
    "    tmp =  ggplot(,aes(x = ratio_amplitude[[i]]))+theme_classic()+\n",
    "         #geom_histogram(binwidth=0.1,aes(y=..density..), colour=\"black\", fill=\"white\")+\n",
    "         geom_vline(xintercept=0, linetype=\"dashed\", color = \"blue\", size=1)+\n",
    "         geom_density(alpha=.6, fill=tcolor) +lghplot.addtheme()+theme(axis.line = element_line(size = 1.2))+\n",
    "        xlab('')+\n",
    "        ylab('')+\n",
    "        ggtitle(names(ratio_amplitude)[i])\n",
    "    return(tmp)\n",
    "}\n",
    "\n",
    "index = sort.int(ratio_out$meanChangeRatio,decreasing = F,index.return = T)$ix\n",
    "for(i in 1:length(ratio_amplitude)){\n",
    "    idx = index[i]\n",
    "    p1[[i]] = xplot(ratio_amplitude,idx,tissueClass)\n",
    "}\n",
    "pdf(file = './out/20230217_aging/Figure5_ratio_mrna_pro/Figure5B_Changed_ratio_distributeV2.pdf',width = 25,height = 12.5)\n",
    "grid.arrange(arrangeGrob(grobs = p1,ncol = 8,\n",
    "                         bottom=textGrob('Changed normalized TED', gp=gpar(fontface=\"bold\",  fontsize=30)),\n",
    "                         #bottom = 'mRNA expression(log2 FPKM)',\n",
    "                        left = textGrob('Density', gp=gpar(fontface=\"bold\",  fontsize=30),rot=90)))\n",
    "graphics.off()"
   ]
  },
  {
   "cell_type": "code",
   "execution_count": 785,
   "metadata": {},
   "outputs": [],
   "source": [
    "# hist plot\n",
    "p1 = list()\n",
    "xplot <- function(ratio_amplitude,xtissue,tissueClass){\n",
    "    tcolor = tissueClass[xtissue,]$color\n",
    "    tmp =  ggplot(,aes(x = ratio_amplitude[[xtissue]]))+theme_classic()+\n",
    "         #geom_histogram(binwidth=0.1,aes(y=..density..), colour=\"black\", fill=\"white\")+\n",
    "         geom_vline(xintercept=0, linetype=\"dashed\", color = \"blue\", size=1)+\n",
    "         geom_density(alpha=.6, fill=tcolor) +lghplot.addtheme()+theme(axis.line = element_line(size = 1.2))+\n",
    "        xlab('')+\n",
    "        ylab('')+\n",
    "        ggtitle(xtissue)\n",
    "    return(tmp)\n",
    "}\n",
    "\n",
    "index = sort.int(ratio_out$meanChangeRatio,decreasing = F,index.return = T)$ix\n",
    "vclass = tissueClass[rownames(ratio_out)[index],]\n",
    "idx = sort.int(vclass$class,decreasing = F,index.return = T)$ix\n",
    "vclass = vclass[idx,]\n",
    "for(i in 1:nrow(vclass)){\n",
    "    xtissue = vclass$tissue[i]\n",
    "    p1[[i]] = xplot(ratio_amplitude,xtissue,tissueClass)\n",
    "}\n",
    "pdf(file = './out/20230217_aging/Figure5_ratio_mrna_pro/Figure5B_Changed_ratio_distribute_based_on_promet_sortby_v2.pdf',width = 25,height = 12.5)\n",
    "grid.arrange(arrangeGrob(grobs = p1,ncol = 8,\n",
    "                         bottom=textGrob('Changed normalized TED', gp=gpar(fontface=\"bold\",  fontsize=30)),\n",
    "                         #bottom = 'mRNA expression(log2 FPKM)',\n",
    "                        left = textGrob('Density', gp=gpar(fontface=\"bold\",  fontsize=30),rot=90)))\n",
    "graphics.off()"
   ]
  },
  {
   "cell_type": "markdown",
   "metadata": {},
   "source": [
    "## Figure 3C up and down ratio"
   ]
  },
  {
   "cell_type": "code",
   "execution_count": 828,
   "metadata": {},
   "outputs": [],
   "source": [
    "ratio_updown = zeros(length(ratio_amplitude),2)\n",
    "tissues =names(ratio_amplitude)\n",
    "rownames(ratio_updown) = tissues\n",
    "colnames(ratio_updown) = c('pec_up','pec_down')\n",
    "for(i in 1:length(tissues)){\n",
    "    tmp = as.vector(ratio_amplitude[[i]])\n",
    "    tmpN = sum(!is.na(tmp))\n",
    "    ratio_updown[i,1] = sum(tmp > 0,na.rm =T)/tmpN\n",
    "    ratio_updown[i,2] = sum(tmp < 0,na.rm =T)/tmpN\n",
    "}\n",
    "index = sort.int(ratio_out$meanChangeRatio,decreasing = F,index.return = T)$ix\n",
    "ratio_updown = ratio_updown[index,]"
   ]
  },
  {
   "cell_type": "code",
   "execution_count": 829,
   "metadata": {},
   "outputs": [],
   "source": [
    "tmp = melt(ratio_updown,stringsAsFactor =F)\n",
    "colnames(tmp) = c('tissues','Direction','perctage')\n",
    "tmp$tissues = factor(tmp$tissues,levels = rownames(vclass))\n",
    "pdf('./out/20230217_aging/Figure5_ratio_mrna_pro/Figure5C_tissue_trans_effectiveness_amplitude_ratio_V2.pdf',width = 8,height = 7)\n",
    "ggplot(data=tmp, aes(x=tissues, y=perctage, fill=Direction))+theme_classic()+\n",
    "       geom_col(position = \"fill\",alpha = 0.8)+\n",
    "      ylab('Relative ratio')+ xlab('')+scale_fill_manual(values=c('#BB0021', '#3B4992'))+\n",
    "      lghplot.addtheme(legend.position = 'top',hjust = 1,size = 14)+theme(legend.text=element_text(size=20))\n",
    "graphics.off()\n"
   ]
  },
  {
   "cell_type": "markdown",
   "metadata": {},
   "source": [
    "## Figure 3D corr trans effective score and aging amplitude "
   ]
  },
  {
   "cell_type": "code",
   "execution_count": 795,
   "metadata": {},
   "outputs": [
    {
     "data": {
      "text/plain": [
       "\n",
       "\tPearson's product-moment correlation\n",
       "\n",
       "data:  tmp1$ratioChange and tmp1$amplitude\n",
       "t = 7.9553, df = 28, p-value = 1.154e-08\n",
       "alternative hypothesis: true correlation is not equal to 0\n",
       "95 percent confidence interval:\n",
       " 0.6747763 0.9176362\n",
       "sample estimates:\n",
       "      cor \n",
       "0.8326318 \n"
      ]
     },
     "metadata": {},
     "output_type": "display_data"
    },
    {
     "name": "stderr",
     "output_type": "stream",
     "text": [
      "\u001b[1m\u001b[22m`geom_smooth()` using formula = 'y ~ x'\n"
     ]
    },
    {
     "data": {
      "text/html": [
       "<strong>png:</strong> 2"
      ],
      "text/latex": [
       "\\textbf{png:} 2"
      ],
      "text/markdown": [
       "**png:** 2"
      ],
      "text/plain": [
       "png \n",
       "  2 "
      ]
     },
     "metadata": {},
     "output_type": "display_data"
    }
   ],
   "source": [
    "#mean_aging_amplitude = rowMeans(clusteramplitude_xx[,c(3,4,5,6)])\n",
    "mean_aging_amplitude = rowMeans(clusteramplitude_xx[,])\n",
    "mean_aging_amplitude = mean_aging_amplitude[rownames(ratio_out)]\n",
    "tmpdata = data.frame(ratioChange = ratio_out$meanChangeRatio,stringsAsFactors = F,\n",
    "                     ratioFC = ratio_out$fc_up_down,\n",
    "                     amplitude = mean_aging_amplitude,\n",
    "                    tissues = rownames(ratio_out))\n",
    "rownames(tmpdata) = tmpdata$tissues\n",
    "tmpdata$tissueclass = tissueClass[rownames(tmpdata),]$type\n",
    "tmp1 = tmpdata\n",
    "cor.test(tmp1$ratioChange,tmp1$amplitude)\n",
    "pdf('./out/20230217_aging/Figure5_ratio_mrna_pro/Figure5D_overall_translation_effective_score_vs_aging_amplitute_promet_V2.pdf',width = 7,height = 5)\n",
    "p = ggplot(tmp1,aes(ratioChange,amplitude,color = tissueclass)) + theme_classic()+\n",
    "      geom_point(size = 6,aes(color = tissueclass)) + lghplot.addtheme()+geom_smooth(color = 4,size = 0.5,method = 'lm')+\n",
    "      #stat_ellipse(color = 'darkblue',type = \"norm\",linetype = \"dashed\")+#geom_(color = 1,method = 'lm')+\n",
    "      geom_text_repel(aes(label = tissues),size = 4,box.padding = 0.5)+\n",
    "      #scale_color_aaas(alpha = 0.6)+scale_fill_aaas(alpha = 0.6)+\n",
    "      scale_color_manual(values=c('#BB0021', '#3B4992','#B09C85'))+\n",
    "      theme(axis.line = element_line(size = 1.2))+\n",
    "      xlab('Averaged changed translation effective score')+\n",
    "      ylab('Aging amplitude')\n",
    "print(p)\n",
    "   \n",
    "dev.off()\n",
    "#print(p)"
   ]
  },
  {
   "cell_type": "markdown",
   "metadata": {},
   "source": [
    "# Figure 6"
   ]
  },
  {
   "cell_type": "markdown",
   "metadata": {},
   "source": [
    "## All go"
   ]
  },
  {
   "cell_type": "code",
   "execution_count": 1047,
   "metadata": {},
   "outputs": [
    {
     "data": {
      "text/html": [
       "<table class=\"dataframe\">\n",
       "<caption>A matrix: 5 × 30 of type dbl</caption>\n",
       "<thead>\n",
       "\t<tr><th></th><th scope=col>Adipose</th><th scope=col>Adrenal_gland</th><th scope=col>Aortic_arch</th><th scope=col>Arteria_carotis</th><th scope=col>Arteria_cruralis</th><th scope=col>Cecum</th><th scope=col>Duodenum</th><th scope=col>Facial_skin</th><th scope=col>Fallopian_tube</th><th scope=col>Femoral_vein</th><th scope=col>...</th><th scope=col>Pancreas</th><th scope=col>Pituitary</th><th scope=col>Skin_of_back</th><th scope=col>Spleen</th><th scope=col>Stomach</th><th scope=col>Superior_temporal_gyrus</th><th scope=col>Supramarginal_gyrus</th><th scope=col>Thymus</th><th scope=col>Thyroid_gland</th><th scope=col>Uterus</th></tr>\n",
       "</thead>\n",
       "<tbody>\n",
       "\t<tr><th scope=row>R-HSA-72766</th><td>0</td><td>0</td><td>0</td><td>0</td><td>0</td><td>0</td><td>0</td><td>0</td><td>0</td><td>4.3</td><td>...</td><td>0</td><td>0</td><td>0</td><td>0</td><td>0</td><td>0</td><td>0</td><td>0</td><td>0</td><td>0</td></tr>\n",
       "\t<tr><th scope=row>hsa03010</th><td>0</td><td>0</td><td>0</td><td>0</td><td>0</td><td>0</td><td>0</td><td>0</td><td>0</td><td>0.0</td><td>...</td><td>0</td><td>0</td><td>0</td><td>0</td><td>0</td><td>0</td><td>0</td><td>0</td><td>0</td><td>0</td></tr>\n",
       "\t<tr><th scope=row>hsa04142</th><td>0</td><td>0</td><td>0</td><td>0</td><td>0</td><td>0</td><td>0</td><td>0</td><td>0</td><td>0.0</td><td>...</td><td>0</td><td>0</td><td>0</td><td>0</td><td>0</td><td>0</td><td>0</td><td>0</td><td>0</td><td>0</td></tr>\n",
       "\t<tr><th scope=row>hsa04120</th><td>0</td><td>0</td><td>0</td><td>0</td><td>0</td><td>0</td><td>0</td><td>0</td><td>0</td><td>0.0</td><td>...</td><td>0</td><td>0</td><td>0</td><td>0</td><td>0</td><td>0</td><td>0</td><td>0</td><td>0</td><td>0</td></tr>\n",
       "\t<tr><th scope=row>hsa03050</th><td>0</td><td>0</td><td>0</td><td>0</td><td>0</td><td>0</td><td>0</td><td>0</td><td>0</td><td>0.0</td><td>...</td><td>0</td><td>0</td><td>0</td><td>0</td><td>0</td><td>0</td><td>0</td><td>0</td><td>0</td><td>0</td></tr>\n",
       "</tbody>\n",
       "</table>\n"
      ],
      "text/latex": [
       "A matrix: 5 × 30 of type dbl\n",
       "\\begin{tabular}{r|lllllllllllllllllllll}\n",
       "  & Adipose & Adrenal\\_gland & Aortic\\_arch & Arteria\\_carotis & Arteria\\_cruralis & Cecum & Duodenum & Facial\\_skin & Fallopian\\_tube & Femoral\\_vein & ... & Pancreas & Pituitary & Skin\\_of\\_back & Spleen & Stomach & Superior\\_temporal\\_gyrus & Supramarginal\\_gyrus & Thymus & Thyroid\\_gland & Uterus\\\\\n",
       "\\hline\n",
       "\tR-HSA-72766 & 0 & 0 & 0 & 0 & 0 & 0 & 0 & 0 & 0 & 4.3 & ... & 0 & 0 & 0 & 0 & 0 & 0 & 0 & 0 & 0 & 0\\\\\n",
       "\thsa03010 & 0 & 0 & 0 & 0 & 0 & 0 & 0 & 0 & 0 & 0.0 & ... & 0 & 0 & 0 & 0 & 0 & 0 & 0 & 0 & 0 & 0\\\\\n",
       "\thsa04142 & 0 & 0 & 0 & 0 & 0 & 0 & 0 & 0 & 0 & 0.0 & ... & 0 & 0 & 0 & 0 & 0 & 0 & 0 & 0 & 0 & 0\\\\\n",
       "\thsa04120 & 0 & 0 & 0 & 0 & 0 & 0 & 0 & 0 & 0 & 0.0 & ... & 0 & 0 & 0 & 0 & 0 & 0 & 0 & 0 & 0 & 0\\\\\n",
       "\thsa03050 & 0 & 0 & 0 & 0 & 0 & 0 & 0 & 0 & 0 & 0.0 & ... & 0 & 0 & 0 & 0 & 0 & 0 & 0 & 0 & 0 & 0\\\\\n",
       "\\end{tabular}\n"
      ],
      "text/markdown": [
       "\n",
       "A matrix: 5 × 30 of type dbl\n",
       "\n",
       "| <!--/--> | Adipose | Adrenal_gland | Aortic_arch | Arteria_carotis | Arteria_cruralis | Cecum | Duodenum | Facial_skin | Fallopian_tube | Femoral_vein | ... | Pancreas | Pituitary | Skin_of_back | Spleen | Stomach | Superior_temporal_gyrus | Supramarginal_gyrus | Thymus | Thyroid_gland | Uterus |\n",
       "|---|---|---|---|---|---|---|---|---|---|---|---|---|---|---|---|---|---|---|---|---|---|\n",
       "| R-HSA-72766 | 0 | 0 | 0 | 0 | 0 | 0 | 0 | 0 | 0 | 4.3 | ... | 0 | 0 | 0 | 0 | 0 | 0 | 0 | 0 | 0 | 0 |\n",
       "| hsa03010 | 0 | 0 | 0 | 0 | 0 | 0 | 0 | 0 | 0 | 0.0 | ... | 0 | 0 | 0 | 0 | 0 | 0 | 0 | 0 | 0 | 0 |\n",
       "| hsa04142 | 0 | 0 | 0 | 0 | 0 | 0 | 0 | 0 | 0 | 0.0 | ... | 0 | 0 | 0 | 0 | 0 | 0 | 0 | 0 | 0 | 0 |\n",
       "| hsa04120 | 0 | 0 | 0 | 0 | 0 | 0 | 0 | 0 | 0 | 0.0 | ... | 0 | 0 | 0 | 0 | 0 | 0 | 0 | 0 | 0 | 0 |\n",
       "| hsa03050 | 0 | 0 | 0 | 0 | 0 | 0 | 0 | 0 | 0 | 0.0 | ... | 0 | 0 | 0 | 0 | 0 | 0 | 0 | 0 | 0 | 0 |\n",
       "\n"
      ],
      "text/plain": [
       "            Adipose Adrenal_gland Aortic_arch Arteria_carotis Arteria_cruralis\n",
       "R-HSA-72766 0       0             0           0               0               \n",
       "hsa03010    0       0             0           0               0               \n",
       "hsa04142    0       0             0           0               0               \n",
       "hsa04120    0       0             0           0               0               \n",
       "hsa03050    0       0             0           0               0               \n",
       "            Cecum Duodenum Facial_skin Fallopian_tube Femoral_vein ... Pancreas\n",
       "R-HSA-72766 0     0        0           0              4.3          ... 0       \n",
       "hsa03010    0     0        0           0              0.0          ... 0       \n",
       "hsa04142    0     0        0           0              0.0          ... 0       \n",
       "hsa04120    0     0        0           0              0.0          ... 0       \n",
       "hsa03050    0     0        0           0              0.0          ... 0       \n",
       "            Pituitary Skin_of_back Spleen Stomach Superior_temporal_gyrus\n",
       "R-HSA-72766 0         0            0      0       0                      \n",
       "hsa03010    0         0            0      0       0                      \n",
       "hsa04142    0         0            0      0       0                      \n",
       "hsa04120    0         0            0      0       0                      \n",
       "hsa03050    0         0            0      0       0                      \n",
       "            Supramarginal_gyrus Thymus Thyroid_gland Uterus\n",
       "R-HSA-72766 0                   0      0             0     \n",
       "hsa03010    0                   0      0             0     \n",
       "hsa04142    0                   0      0             0     \n",
       "hsa04120    0                   0      0             0     \n",
       "hsa03050    0                   0      0             0     "
      ]
     },
     "metadata": {},
     "output_type": "display_data"
    }
   ],
   "source": [
    "#outids = c('R-HSA-72766','GO:0006413','hsa03010','ko04142','hsa04120','ko03050')\n",
    "outids = c('R-HSA-72766','hsa03010','hsa04142','hsa04120','hsa03050')\n",
    "#tpath = paste0('./out/20210428_aging/promet/tissues/metascape/Aging_up_genes_metascape/Enrichment_GO/','GO_membership.csv')\n",
    "tpath = paste0('./out/20230217_aging/Figure2_DEG_GO_tissue/protein/metascape_DEpro_up/Enrichment_GO/','GO_membership.csv')\n",
    "thisgo = file2frame(tpath,sep = ',')\n",
    "thisgo= thisgo[!duplicated(thisgo$GO),]\n",
    "xid = is.element(thisgo$GO,outids)\n",
    "thisgo = thisgo[xid,]\n",
    "#rownames(thisgo) = paste0(thisgo$GO,':',thisgo$Description)\n",
    "rownames(thisgo) = paste0(thisgo$GO)\n",
    "thisgo.matrix = -as.matrix(thisgo[,substr(colnames(thisgo),1,6)== 'X_LogP'])\n",
    "\n",
    "# replace qval\n",
    "tpath1a = './out/20230217_aging/Figure2_DEG_GO_tissue/protein/metascape_DEpro_up/Enrichment_GO/GO_AllLists.csv'\n",
    "go1qval = file2frame(tpath1a,sep = ',',header = T)\n",
    "rownames(go1qval) = paste0(go1qval$GO,'X_LogP_',go1qval$GeneList)\n",
    "go1term = rownames(thisgo.matrix)\n",
    "cname = colnames(thisgo.matrix)\n",
    "for(i in 1:nrow(thisgo.matrix)){\n",
    "    for(j in 1:ncol(thisgo.matrix)){\n",
    "        tmpname = paste0(go1term[i],cname[j])\n",
    "        thisgo.matrix[i,j] = abs(go1qval[tmpname,]$Log.q.value.)\n",
    "    }\n",
    "}\n",
    "thisgo.matrix[is.na(thisgo.matrix)] = 0\n",
    "\n",
    "\n",
    "thisgo.matrix[abs(thisgo.matrix) < 3] = 0\n",
    "colnames(thisgo.matrix) = capitalize(gsub('X_LogP_','',colnames(thisgo.matrix)))\n",
    "colnames(thisgo.matrix) = gsub('Cluster','C',colnames(thisgo.matrix))\n",
    "thisgo.matrix.up = thisgo.matrix\n",
    "tmpname = rownames(thisgo.matrix.up)\n",
    "#add hsa03050 \n",
    "thisgo.matrix.up = rbind(thisgo.matrix.up,rep(0,30))\n",
    "rownames(thisgo.matrix.up) = c(tmpname,'hsa03050')\n",
    "thisgo.matrix.up = thisgo.matrix.up[outids,]\n",
    "thisgo.matrix.up"
   ]
  },
  {
   "cell_type": "code",
   "execution_count": 1048,
   "metadata": {},
   "outputs": [
    {
     "data": {
      "text/html": [
       "<style>\n",
       ".list-inline {list-style: none; margin:0; padding: 0}\n",
       ".list-inline>li {display: inline-block}\n",
       ".list-inline>li:not(:last-child)::after {content: \"\\00b7\"; padding: 0 .5ex}\n",
       "</style>\n",
       "<ol class=list-inline><li>'R-HSA-72766'</li><li>'hsa03010'</li><li>'hsa03050'</li><li>'hsa04142'</li><li>'hsa04120'</li></ol>\n"
      ],
      "text/latex": [
       "\\begin{enumerate*}\n",
       "\\item 'R-HSA-72766'\n",
       "\\item 'hsa03010'\n",
       "\\item 'hsa03050'\n",
       "\\item 'hsa04142'\n",
       "\\item 'hsa04120'\n",
       "\\end{enumerate*}\n"
      ],
      "text/markdown": [
       "1. 'R-HSA-72766'\n",
       "2. 'hsa03010'\n",
       "3. 'hsa03050'\n",
       "4. 'hsa04142'\n",
       "5. 'hsa04120'\n",
       "\n",
       "\n"
      ],
      "text/plain": [
       "[1] \"R-HSA-72766\" \"hsa03010\"    \"hsa03050\"    \"hsa04142\"    \"hsa04120\"   "
      ]
     },
     "metadata": {},
     "output_type": "display_data"
    },
    {
     "data": {
      "text/html": [
       "<table class=\"dataframe\">\n",
       "<caption>A matrix: 5 × 30 of type dbl</caption>\n",
       "<thead>\n",
       "\t<tr><th></th><th scope=col>Adipose</th><th scope=col>Adrenal_gland</th><th scope=col>Aortic_arch</th><th scope=col>Arteria_carotis</th><th scope=col>Arteria_cruralis</th><th scope=col>Cecum</th><th scope=col>Duodenum</th><th scope=col>Facial_skin</th><th scope=col>Fallopian_tube</th><th scope=col>Femoral_vein</th><th scope=col>...</th><th scope=col>Pancreas</th><th scope=col>Pituitary</th><th scope=col>Skin_of_back</th><th scope=col>Spleen</th><th scope=col>Stomach</th><th scope=col>Superior_temporal_gyrus</th><th scope=col>Supramarginal_gyrus</th><th scope=col>Thymus</th><th scope=col>Thyroid_gland</th><th scope=col>Uterus</th></tr>\n",
       "</thead>\n",
       "<tbody>\n",
       "\t<tr><th scope=row>R-HSA-72766</th><td>-5.2</td><td>0</td><td>-5.9</td><td>0</td><td>-4.3</td><td>0</td><td> 0.0</td><td>0</td><td>-6.9</td><td>0</td><td>...</td><td>0</td><td>-11</td><td>-3.8</td><td>0</td><td>-12.0</td><td>0</td><td>0</td><td>-34.0</td><td>0</td><td>-5</td></tr>\n",
       "\t<tr><th scope=row>hsa03010</th><td> 0.0</td><td>0</td><td> 0.0</td><td>0</td><td> 0.0</td><td>0</td><td> 0.0</td><td>0</td><td>-5.0</td><td>0</td><td>...</td><td>0</td><td>-10</td><td> 0.0</td><td>0</td><td> -4.7</td><td>0</td><td>0</td><td> -7.3</td><td>0</td><td> 0</td></tr>\n",
       "\t<tr><th scope=row>hsa04142</th><td> 0.0</td><td>0</td><td> 0.0</td><td>0</td><td> 0.0</td><td>0</td><td> 0.0</td><td>0</td><td> 0.0</td><td>0</td><td>...</td><td>0</td><td>  0</td><td> 0.0</td><td>0</td><td> -5.7</td><td>0</td><td>0</td><td>  0.0</td><td>0</td><td> 0</td></tr>\n",
       "\t<tr><th scope=row>hsa04120</th><td> 0.0</td><td>0</td><td> 0.0</td><td>0</td><td> 0.0</td><td>0</td><td> 0.0</td><td>0</td><td> 0.0</td><td>0</td><td>...</td><td>0</td><td>  0</td><td> 0.0</td><td>0</td><td>  0.0</td><td>0</td><td>0</td><td> -7.8</td><td>0</td><td> 0</td></tr>\n",
       "\t<tr><th scope=row>hsa03050</th><td> 0.0</td><td>0</td><td> 0.0</td><td>0</td><td> 0.0</td><td>0</td><td>-4.5</td><td>0</td><td> 0.0</td><td>0</td><td>...</td><td>0</td><td>  0</td><td>-3.1</td><td>0</td><td> -6.7</td><td>0</td><td>0</td><td>-25.0</td><td>0</td><td> 0</td></tr>\n",
       "</tbody>\n",
       "</table>\n"
      ],
      "text/latex": [
       "A matrix: 5 × 30 of type dbl\n",
       "\\begin{tabular}{r|lllllllllllllllllllll}\n",
       "  & Adipose & Adrenal\\_gland & Aortic\\_arch & Arteria\\_carotis & Arteria\\_cruralis & Cecum & Duodenum & Facial\\_skin & Fallopian\\_tube & Femoral\\_vein & ... & Pancreas & Pituitary & Skin\\_of\\_back & Spleen & Stomach & Superior\\_temporal\\_gyrus & Supramarginal\\_gyrus & Thymus & Thyroid\\_gland & Uterus\\\\\n",
       "\\hline\n",
       "\tR-HSA-72766 & -5.2 & 0 & -5.9 & 0 & -4.3 & 0 &  0.0 & 0 & -6.9 & 0 & ... & 0 & -11 & -3.8 & 0 & -12.0 & 0 & 0 & -34.0 & 0 & -5\\\\\n",
       "\thsa03010 &  0.0 & 0 &  0.0 & 0 &  0.0 & 0 &  0.0 & 0 & -5.0 & 0 & ... & 0 & -10 &  0.0 & 0 &  -4.7 & 0 & 0 &  -7.3 & 0 &  0\\\\\n",
       "\thsa04142 &  0.0 & 0 &  0.0 & 0 &  0.0 & 0 &  0.0 & 0 &  0.0 & 0 & ... & 0 &   0 &  0.0 & 0 &  -5.7 & 0 & 0 &   0.0 & 0 &  0\\\\\n",
       "\thsa04120 &  0.0 & 0 &  0.0 & 0 &  0.0 & 0 &  0.0 & 0 &  0.0 & 0 & ... & 0 &   0 &  0.0 & 0 &   0.0 & 0 & 0 &  -7.8 & 0 &  0\\\\\n",
       "\thsa03050 &  0.0 & 0 &  0.0 & 0 &  0.0 & 0 & -4.5 & 0 &  0.0 & 0 & ... & 0 &   0 & -3.1 & 0 &  -6.7 & 0 & 0 & -25.0 & 0 &  0\\\\\n",
       "\\end{tabular}\n"
      ],
      "text/markdown": [
       "\n",
       "A matrix: 5 × 30 of type dbl\n",
       "\n",
       "| <!--/--> | Adipose | Adrenal_gland | Aortic_arch | Arteria_carotis | Arteria_cruralis | Cecum | Duodenum | Facial_skin | Fallopian_tube | Femoral_vein | ... | Pancreas | Pituitary | Skin_of_back | Spleen | Stomach | Superior_temporal_gyrus | Supramarginal_gyrus | Thymus | Thyroid_gland | Uterus |\n",
       "|---|---|---|---|---|---|---|---|---|---|---|---|---|---|---|---|---|---|---|---|---|---|\n",
       "| R-HSA-72766 | -5.2 | 0 | -5.9 | 0 | -4.3 | 0 |  0.0 | 0 | -6.9 | 0 | ... | 0 | -11 | -3.8 | 0 | -12.0 | 0 | 0 | -34.0 | 0 | -5 |\n",
       "| hsa03010 |  0.0 | 0 |  0.0 | 0 |  0.0 | 0 |  0.0 | 0 | -5.0 | 0 | ... | 0 | -10 |  0.0 | 0 |  -4.7 | 0 | 0 |  -7.3 | 0 |  0 |\n",
       "| hsa04142 |  0.0 | 0 |  0.0 | 0 |  0.0 | 0 |  0.0 | 0 |  0.0 | 0 | ... | 0 |   0 |  0.0 | 0 |  -5.7 | 0 | 0 |   0.0 | 0 |  0 |\n",
       "| hsa04120 |  0.0 | 0 |  0.0 | 0 |  0.0 | 0 |  0.0 | 0 |  0.0 | 0 | ... | 0 |   0 |  0.0 | 0 |   0.0 | 0 | 0 |  -7.8 | 0 |  0 |\n",
       "| hsa03050 |  0.0 | 0 |  0.0 | 0 |  0.0 | 0 | -4.5 | 0 |  0.0 | 0 | ... | 0 |   0 | -3.1 | 0 |  -6.7 | 0 | 0 | -25.0 | 0 |  0 |\n",
       "\n"
      ],
      "text/plain": [
       "            Adipose Adrenal_gland Aortic_arch Arteria_carotis Arteria_cruralis\n",
       "R-HSA-72766 -5.2    0             -5.9        0               -4.3            \n",
       "hsa03010     0.0    0              0.0        0                0.0            \n",
       "hsa04142     0.0    0              0.0        0                0.0            \n",
       "hsa04120     0.0    0              0.0        0                0.0            \n",
       "hsa03050     0.0    0              0.0        0                0.0            \n",
       "            Cecum Duodenum Facial_skin Fallopian_tube Femoral_vein ... Pancreas\n",
       "R-HSA-72766 0      0.0     0           -6.9           0            ... 0       \n",
       "hsa03010    0      0.0     0           -5.0           0            ... 0       \n",
       "hsa04142    0      0.0     0            0.0           0            ... 0       \n",
       "hsa04120    0      0.0     0            0.0           0            ... 0       \n",
       "hsa03050    0     -4.5     0            0.0           0            ... 0       \n",
       "            Pituitary Skin_of_back Spleen Stomach Superior_temporal_gyrus\n",
       "R-HSA-72766 -11       -3.8         0      -12.0   0                      \n",
       "hsa03010    -10        0.0         0       -4.7   0                      \n",
       "hsa04142      0        0.0         0       -5.7   0                      \n",
       "hsa04120      0        0.0         0        0.0   0                      \n",
       "hsa03050      0       -3.1         0       -6.7   0                      \n",
       "            Supramarginal_gyrus Thymus Thyroid_gland Uterus\n",
       "R-HSA-72766 0                   -34.0  0             -5    \n",
       "hsa03010    0                    -7.3  0              0    \n",
       "hsa04142    0                     0.0  0              0    \n",
       "hsa04120    0                    -7.8  0              0    \n",
       "hsa03050    0                   -25.0  0              0    "
      ]
     },
     "metadata": {},
     "output_type": "display_data"
    }
   ],
   "source": [
    "#outids = c('R-HSA-72766','GO:0006413','hsa03010','ko04142','hsa04120','ko03050')\n",
    "outids = c('R-HSA-72766','hsa03010','hsa04142','hsa04120','hsa03050')\n",
    "outids_des = c('Translation','Ribosome','Lysosome',\n",
    "                               'Ubiquitin mediated proteolysis', 'Proteasome') \n",
    "#tpath = paste0('./out/20210428_aging/promet/tissues/metascape/Aging_down_genes_metascape/Enrichment_GO/','GO_membership.csv')\n",
    "tpath = paste0('./out/20230217_aging/Figure2_DEG_GO_tissue/protein/metascape_DEpro_down/Enrichment_GO/','GO_membership.csv')\n",
    "thisgo = file2frame(tpath,sep = ',')\n",
    "thisgo= thisgo[!duplicated(thisgo$GO),]\n",
    "xid = is.element(thisgo$GO,outids)\n",
    "thisgo = thisgo[xid,]\n",
    "rownames(thisgo) = paste0(thisgo$GO)\n",
    "\n",
    "# replace qval\n",
    "tpath1a = './out/20230217_aging/Figure2_DEG_GO_tissue/protein/metascape_DEpro_down/Enrichment_GO/GO_AllLists.csv'\n",
    "go1qval = file2frame(tpath1a,sep = ',',header = T)\n",
    "rownames(go1qval) = paste0(go1qval$GO,'X_LogP_',go1qval$GeneList)\n",
    "go1term = rownames(thisgo.matrix)\n",
    "cname = colnames(thisgo.matrix)\n",
    "for(i in 1:nrow(thisgo.matrix)){\n",
    "    for(j in 1:ncol(thisgo.matrix)){\n",
    "        tmpname = paste0(go1term[i],cname[j])\n",
    "        thisgo.matrix[i,j] = abs(go1qval[tmpname,]$Log.q.value.)\n",
    "    }\n",
    "}\n",
    "thisgo.matrix[is.na(thisgo.matrix)] = 0\n",
    "\n",
    "\n",
    "thisgo.matrix = as.matrix(thisgo[,substr(colnames(thisgo),1,6)== 'X_LogP'])\n",
    "thisgo.matrix[abs(thisgo.matrix) < 3 ] = 0\n",
    "colnames(thisgo.matrix) = capitalize(gsub('X_LogP_','',colnames(thisgo.matrix)))\n",
    "colnames(thisgo.matrix) = gsub('Cluster','C',colnames(thisgo.matrix))\n",
    "rownames(thisgo.matrix)\n",
    "thisgo.matrix.down = thisgo.matrix\n",
    "thisgo.matrix.down = thisgo.matrix.down[outids,]\n",
    "thisgo.matrix.down"
   ]
  },
  {
   "cell_type": "code",
   "execution_count": 1052,
   "metadata": {
    "collapsed": true
   },
   "outputs": [
    {
     "data": {
      "text/html": [
       "<table class=\"dataframe\">\n",
       "<caption>A data.frame: 30 × 6</caption>\n",
       "<thead>\n",
       "\t<tr><th></th><th scope=col>tissue</th><th scope=col>type</th><th scope=col>class</th><th scope=col>class.MAA</th><th scope=col>mean_aging_amplitude</th><th scope=col>color</th></tr>\n",
       "\t<tr><th></th><th scope=col>&lt;chr&gt;</th><th scope=col>&lt;chr&gt;</th><th scope=col>&lt;chr&gt;</th><th scope=col>&lt;chr&gt;</th><th scope=col>&lt;dbl&gt;</th><th scope=col>&lt;chr&gt;</th></tr>\n",
       "</thead>\n",
       "<tbody>\n",
       "\t<tr><th scope=row>Pancreas</th><td>Pancreas               </td><td>Type II </td><td>Type II</td><td>Type II</td><td>-0.075748775</td><td>#3B4992</td></tr>\n",
       "\t<tr><th scope=row>Supramarginal_gyrus</th><td>Supramarginal_gyrus    </td><td>Type II </td><td>Type II</td><td>Type II</td><td> 0.231195111</td><td>#3B4992</td></tr>\n",
       "\t<tr><th scope=row>Frontal_pole</th><td>Frontal_pole           </td><td>Type II </td><td>Type II</td><td>Type II</td><td> 0.186849533</td><td>#3B4992</td></tr>\n",
       "\t<tr><th scope=row>Liver</th><td>Liver                  </td><td>Type II </td><td>Type II</td><td>Type II</td><td> 0.210951149</td><td>#3B4992</td></tr>\n",
       "\t<tr><th scope=row>Hippocampus</th><td>Hippocampus            </td><td>Type II </td><td>Type II</td><td>Type II</td><td> 0.044697652</td><td>#3B4992</td></tr>\n",
       "\t<tr><th scope=row>Skin_of_back</th><td>Skin_of_back           </td><td>Type II </td><td>Type II</td><td>Type II</td><td> 0.153227025</td><td>#3B4992</td></tr>\n",
       "\t<tr><th scope=row>Cecum</th><td>Cecum                  </td><td>Type II </td><td>Type II</td><td>Type II</td><td> 0.117593492</td><td>#3B4992</td></tr>\n",
       "\t<tr><th scope=row>Lung</th><td>Lung                   </td><td>Type II </td><td>Type II</td><td>Type II</td><td> 0.062388571</td><td>#3B4992</td></tr>\n",
       "\t<tr><th scope=row>Superior_temporal_gyrus</th><td>Superior_temporal_gyrus</td><td>Type II </td><td>Type II</td><td>Type II</td><td> 0.151674043</td><td>#3B4992</td></tr>\n",
       "\t<tr><th scope=row>Muscle</th><td>Muscle                 </td><td>Type II </td><td>Type II</td><td>Type II</td><td> 0.127531951</td><td>#3B4992</td></tr>\n",
       "\t<tr><th scope=row>Adrenal_gland</th><td>Adrenal_gland          </td><td>Type II </td><td>Type II</td><td>Type II</td><td> 0.390895560</td><td>#3B4992</td></tr>\n",
       "\t<tr><th scope=row>Hypothalamus</th><td>Hypothalamus           </td><td>Type II </td><td>Type II</td><td>Type II</td><td> 0.312324819</td><td>#3B4992</td></tr>\n",
       "\t<tr><th scope=row>Heart</th><td>Heart                  </td><td>Type II </td><td>Type II</td><td>Type II</td><td> 0.204160794</td><td>#3B4992</td></tr>\n",
       "\t<tr><th scope=row>Arteria_cruralis</th><td>Arteria_cruralis       </td><td>Undefine</td><td>Type II</td><td>Type I </td><td>-0.302318429</td><td>#B09C85</td></tr>\n",
       "\t<tr><th scope=row>Arteria_carotis</th><td>Arteria_carotis        </td><td>Undefine</td><td>Type II</td><td>Type I </td><td>-0.015271359</td><td>#B09C85</td></tr>\n",
       "\t<tr><th scope=row>Adipose</th><td>Adipose                </td><td>Type I  </td><td>Type I </td><td>Type I </td><td>-0.650050564</td><td>#BB0021</td></tr>\n",
       "\t<tr><th scope=row>Thyroid_gland</th><td>Thyroid_gland          </td><td>Type I  </td><td>Type I </td><td>Type I </td><td>-0.233352138</td><td>#BB0021</td></tr>\n",
       "\t<tr><th scope=row>Facial_skin</th><td>Facial_skin            </td><td>Undefine</td><td>Type I </td><td>Type II</td><td>-0.068819684</td><td>#B09C85</td></tr>\n",
       "\t<tr><th scope=row>Femoral_vein</th><td>Femoral_vein           </td><td>Undefine</td><td>Type I </td><td>Type II</td><td> 0.002050297</td><td>#B09C85</td></tr>\n",
       "\t<tr><th scope=row>Ileocecum</th><td>Ileocecum              </td><td>Type I  </td><td>Type I </td><td>Type I </td><td>-0.157174219</td><td>#BB0021</td></tr>\n",
       "\t<tr><th scope=row>Thymus</th><td>Thymus                 </td><td>Type I  </td><td>Type I </td><td>Type I </td><td>-0.293446352</td><td>#BB0021</td></tr>\n",
       "\t<tr><th scope=row>Aortic_arch</th><td>Aortic_arch            </td><td>Type I  </td><td>Type I </td><td>Type I </td><td>-0.341411484</td><td>#BB0021</td></tr>\n",
       "\t<tr><th scope=row>Spleen</th><td>Spleen                 </td><td>Type I  </td><td>Type I </td><td>Type I </td><td>-0.253614804</td><td>#BB0021</td></tr>\n",
       "\t<tr><th scope=row>Kidney</th><td>Kidney                 </td><td>Type I  </td><td>Type I </td><td>Type I </td><td>-0.119119447</td><td>#BB0021</td></tr>\n",
       "\t<tr><th scope=row>Ovary</th><td>Ovary                  </td><td>Type I  </td><td>Type I </td><td>Type I </td><td>-0.148487802</td><td>#BB0021</td></tr>\n",
       "\t<tr><th scope=row>Fallopian_tube</th><td>Fallopian_tube         </td><td>Type I  </td><td>Type I </td><td>Type I </td><td>-0.242323566</td><td>#BB0021</td></tr>\n",
       "\t<tr><th scope=row>Stomach</th><td>Stomach                </td><td>Type I  </td><td>Type I </td><td>Type I </td><td>-0.151051049</td><td>#BB0021</td></tr>\n",
       "\t<tr><th scope=row>Duodenum</th><td>Duodenum               </td><td>Type I  </td><td>Type I </td><td>Type I </td><td>-0.334290753</td><td>#BB0021</td></tr>\n",
       "\t<tr><th scope=row>Pituitary</th><td>Pituitary              </td><td>Type I  </td><td>Type I </td><td>Type I </td><td>-0.074656135</td><td>#BB0021</td></tr>\n",
       "\t<tr><th scope=row>Uterus</th><td>Uterus                 </td><td>Type I  </td><td>Type I </td><td>Type I </td><td>-0.150139727</td><td>#BB0021</td></tr>\n",
       "</tbody>\n",
       "</table>\n"
      ],
      "text/latex": [
       "A data.frame: 30 × 6\n",
       "\\begin{tabular}{r|llllll}\n",
       "  & tissue & type & class & class.MAA & mean\\_aging\\_amplitude & color\\\\\n",
       "  & <chr> & <chr> & <chr> & <chr> & <dbl> & <chr>\\\\\n",
       "\\hline\n",
       "\tPancreas & Pancreas                & Type II  & Type II & Type II & -0.075748775 & \\#3B4992\\\\\n",
       "\tSupramarginal\\_gyrus & Supramarginal\\_gyrus     & Type II  & Type II & Type II &  0.231195111 & \\#3B4992\\\\\n",
       "\tFrontal\\_pole & Frontal\\_pole            & Type II  & Type II & Type II &  0.186849533 & \\#3B4992\\\\\n",
       "\tLiver & Liver                   & Type II  & Type II & Type II &  0.210951149 & \\#3B4992\\\\\n",
       "\tHippocampus & Hippocampus             & Type II  & Type II & Type II &  0.044697652 & \\#3B4992\\\\\n",
       "\tSkin\\_of\\_back & Skin\\_of\\_back            & Type II  & Type II & Type II &  0.153227025 & \\#3B4992\\\\\n",
       "\tCecum & Cecum                   & Type II  & Type II & Type II &  0.117593492 & \\#3B4992\\\\\n",
       "\tLung & Lung                    & Type II  & Type II & Type II &  0.062388571 & \\#3B4992\\\\\n",
       "\tSuperior\\_temporal\\_gyrus & Superior\\_temporal\\_gyrus & Type II  & Type II & Type II &  0.151674043 & \\#3B4992\\\\\n",
       "\tMuscle & Muscle                  & Type II  & Type II & Type II &  0.127531951 & \\#3B4992\\\\\n",
       "\tAdrenal\\_gland & Adrenal\\_gland           & Type II  & Type II & Type II &  0.390895560 & \\#3B4992\\\\\n",
       "\tHypothalamus & Hypothalamus            & Type II  & Type II & Type II &  0.312324819 & \\#3B4992\\\\\n",
       "\tHeart & Heart                   & Type II  & Type II & Type II &  0.204160794 & \\#3B4992\\\\\n",
       "\tArteria\\_cruralis & Arteria\\_cruralis        & Undefine & Type II & Type I  & -0.302318429 & \\#B09C85\\\\\n",
       "\tArteria\\_carotis & Arteria\\_carotis         & Undefine & Type II & Type I  & -0.015271359 & \\#B09C85\\\\\n",
       "\tAdipose & Adipose                 & Type I   & Type I  & Type I  & -0.650050564 & \\#BB0021\\\\\n",
       "\tThyroid\\_gland & Thyroid\\_gland           & Type I   & Type I  & Type I  & -0.233352138 & \\#BB0021\\\\\n",
       "\tFacial\\_skin & Facial\\_skin             & Undefine & Type I  & Type II & -0.068819684 & \\#B09C85\\\\\n",
       "\tFemoral\\_vein & Femoral\\_vein            & Undefine & Type I  & Type II &  0.002050297 & \\#B09C85\\\\\n",
       "\tIleocecum & Ileocecum               & Type I   & Type I  & Type I  & -0.157174219 & \\#BB0021\\\\\n",
       "\tThymus & Thymus                  & Type I   & Type I  & Type I  & -0.293446352 & \\#BB0021\\\\\n",
       "\tAortic\\_arch & Aortic\\_arch             & Type I   & Type I  & Type I  & -0.341411484 & \\#BB0021\\\\\n",
       "\tSpleen & Spleen                  & Type I   & Type I  & Type I  & -0.253614804 & \\#BB0021\\\\\n",
       "\tKidney & Kidney                  & Type I   & Type I  & Type I  & -0.119119447 & \\#BB0021\\\\\n",
       "\tOvary & Ovary                   & Type I   & Type I  & Type I  & -0.148487802 & \\#BB0021\\\\\n",
       "\tFallopian\\_tube & Fallopian\\_tube          & Type I   & Type I  & Type I  & -0.242323566 & \\#BB0021\\\\\n",
       "\tStomach & Stomach                 & Type I   & Type I  & Type I  & -0.151051049 & \\#BB0021\\\\\n",
       "\tDuodenum & Duodenum                & Type I   & Type I  & Type I  & -0.334290753 & \\#BB0021\\\\\n",
       "\tPituitary & Pituitary               & Type I   & Type I  & Type I  & -0.074656135 & \\#BB0021\\\\\n",
       "\tUterus & Uterus                  & Type I   & Type I  & Type I  & -0.150139727 & \\#BB0021\\\\\n",
       "\\end{tabular}\n"
      ],
      "text/markdown": [
       "\n",
       "A data.frame: 30 × 6\n",
       "\n",
       "| <!--/--> | tissue &lt;chr&gt; | type &lt;chr&gt; | class &lt;chr&gt; | class.MAA &lt;chr&gt; | mean_aging_amplitude &lt;dbl&gt; | color &lt;chr&gt; |\n",
       "|---|---|---|---|---|---|---|\n",
       "| Pancreas | Pancreas                | Type II  | Type II | Type II | -0.075748775 | #3B4992 |\n",
       "| Supramarginal_gyrus | Supramarginal_gyrus     | Type II  | Type II | Type II |  0.231195111 | #3B4992 |\n",
       "| Frontal_pole | Frontal_pole            | Type II  | Type II | Type II |  0.186849533 | #3B4992 |\n",
       "| Liver | Liver                   | Type II  | Type II | Type II |  0.210951149 | #3B4992 |\n",
       "| Hippocampus | Hippocampus             | Type II  | Type II | Type II |  0.044697652 | #3B4992 |\n",
       "| Skin_of_back | Skin_of_back            | Type II  | Type II | Type II |  0.153227025 | #3B4992 |\n",
       "| Cecum | Cecum                   | Type II  | Type II | Type II |  0.117593492 | #3B4992 |\n",
       "| Lung | Lung                    | Type II  | Type II | Type II |  0.062388571 | #3B4992 |\n",
       "| Superior_temporal_gyrus | Superior_temporal_gyrus | Type II  | Type II | Type II |  0.151674043 | #3B4992 |\n",
       "| Muscle | Muscle                  | Type II  | Type II | Type II |  0.127531951 | #3B4992 |\n",
       "| Adrenal_gland | Adrenal_gland           | Type II  | Type II | Type II |  0.390895560 | #3B4992 |\n",
       "| Hypothalamus | Hypothalamus            | Type II  | Type II | Type II |  0.312324819 | #3B4992 |\n",
       "| Heart | Heart                   | Type II  | Type II | Type II |  0.204160794 | #3B4992 |\n",
       "| Arteria_cruralis | Arteria_cruralis        | Undefine | Type II | Type I  | -0.302318429 | #B09C85 |\n",
       "| Arteria_carotis | Arteria_carotis         | Undefine | Type II | Type I  | -0.015271359 | #B09C85 |\n",
       "| Adipose | Adipose                 | Type I   | Type I  | Type I  | -0.650050564 | #BB0021 |\n",
       "| Thyroid_gland | Thyroid_gland           | Type I   | Type I  | Type I  | -0.233352138 | #BB0021 |\n",
       "| Facial_skin | Facial_skin             | Undefine | Type I  | Type II | -0.068819684 | #B09C85 |\n",
       "| Femoral_vein | Femoral_vein            | Undefine | Type I  | Type II |  0.002050297 | #B09C85 |\n",
       "| Ileocecum | Ileocecum               | Type I   | Type I  | Type I  | -0.157174219 | #BB0021 |\n",
       "| Thymus | Thymus                  | Type I   | Type I  | Type I  | -0.293446352 | #BB0021 |\n",
       "| Aortic_arch | Aortic_arch             | Type I   | Type I  | Type I  | -0.341411484 | #BB0021 |\n",
       "| Spleen | Spleen                  | Type I   | Type I  | Type I  | -0.253614804 | #BB0021 |\n",
       "| Kidney | Kidney                  | Type I   | Type I  | Type I  | -0.119119447 | #BB0021 |\n",
       "| Ovary | Ovary                   | Type I   | Type I  | Type I  | -0.148487802 | #BB0021 |\n",
       "| Fallopian_tube | Fallopian_tube          | Type I   | Type I  | Type I  | -0.242323566 | #BB0021 |\n",
       "| Stomach | Stomach                 | Type I   | Type I  | Type I  | -0.151051049 | #BB0021 |\n",
       "| Duodenum | Duodenum                | Type I   | Type I  | Type I  | -0.334290753 | #BB0021 |\n",
       "| Pituitary | Pituitary               | Type I   | Type I  | Type I  | -0.074656135 | #BB0021 |\n",
       "| Uterus | Uterus                  | Type I   | Type I  | Type I  | -0.150139727 | #BB0021 |\n",
       "\n"
      ],
      "text/plain": [
       "                        tissue                  type     class   class.MAA\n",
       "Pancreas                Pancreas                Type II  Type II Type II  \n",
       "Supramarginal_gyrus     Supramarginal_gyrus     Type II  Type II Type II  \n",
       "Frontal_pole            Frontal_pole            Type II  Type II Type II  \n",
       "Liver                   Liver                   Type II  Type II Type II  \n",
       "Hippocampus             Hippocampus             Type II  Type II Type II  \n",
       "Skin_of_back            Skin_of_back            Type II  Type II Type II  \n",
       "Cecum                   Cecum                   Type II  Type II Type II  \n",
       "Lung                    Lung                    Type II  Type II Type II  \n",
       "Superior_temporal_gyrus Superior_temporal_gyrus Type II  Type II Type II  \n",
       "Muscle                  Muscle                  Type II  Type II Type II  \n",
       "Adrenal_gland           Adrenal_gland           Type II  Type II Type II  \n",
       "Hypothalamus            Hypothalamus            Type II  Type II Type II  \n",
       "Heart                   Heart                   Type II  Type II Type II  \n",
       "Arteria_cruralis        Arteria_cruralis        Undefine Type II Type I   \n",
       "Arteria_carotis         Arteria_carotis         Undefine Type II Type I   \n",
       "Adipose                 Adipose                 Type I   Type I  Type I   \n",
       "Thyroid_gland           Thyroid_gland           Type I   Type I  Type I   \n",
       "Facial_skin             Facial_skin             Undefine Type I  Type II  \n",
       "Femoral_vein            Femoral_vein            Undefine Type I  Type II  \n",
       "Ileocecum               Ileocecum               Type I   Type I  Type I   \n",
       "Thymus                  Thymus                  Type I   Type I  Type I   \n",
       "Aortic_arch             Aortic_arch             Type I   Type I  Type I   \n",
       "Spleen                  Spleen                  Type I   Type I  Type I   \n",
       "Kidney                  Kidney                  Type I   Type I  Type I   \n",
       "Ovary                   Ovary                   Type I   Type I  Type I   \n",
       "Fallopian_tube          Fallopian_tube          Type I   Type I  Type I   \n",
       "Stomach                 Stomach                 Type I   Type I  Type I   \n",
       "Duodenum                Duodenum                Type I   Type I  Type I   \n",
       "Pituitary               Pituitary               Type I   Type I  Type I   \n",
       "Uterus                  Uterus                  Type I   Type I  Type I   \n",
       "                        mean_aging_amplitude color  \n",
       "Pancreas                -0.075748775         #3B4992\n",
       "Supramarginal_gyrus      0.231195111         #3B4992\n",
       "Frontal_pole             0.186849533         #3B4992\n",
       "Liver                    0.210951149         #3B4992\n",
       "Hippocampus              0.044697652         #3B4992\n",
       "Skin_of_back             0.153227025         #3B4992\n",
       "Cecum                    0.117593492         #3B4992\n",
       "Lung                     0.062388571         #3B4992\n",
       "Superior_temporal_gyrus  0.151674043         #3B4992\n",
       "Muscle                   0.127531951         #3B4992\n",
       "Adrenal_gland            0.390895560         #3B4992\n",
       "Hypothalamus             0.312324819         #3B4992\n",
       "Heart                    0.204160794         #3B4992\n",
       "Arteria_cruralis        -0.302318429         #B09C85\n",
       "Arteria_carotis         -0.015271359         #B09C85\n",
       "Adipose                 -0.650050564         #BB0021\n",
       "Thyroid_gland           -0.233352138         #BB0021\n",
       "Facial_skin             -0.068819684         #B09C85\n",
       "Femoral_vein             0.002050297         #B09C85\n",
       "Ileocecum               -0.157174219         #BB0021\n",
       "Thymus                  -0.293446352         #BB0021\n",
       "Aortic_arch             -0.341411484         #BB0021\n",
       "Spleen                  -0.253614804         #BB0021\n",
       "Kidney                  -0.119119447         #BB0021\n",
       "Ovary                   -0.148487802         #BB0021\n",
       "Fallopian_tube          -0.242323566         #BB0021\n",
       "Stomach                 -0.151051049         #BB0021\n",
       "Duodenum                -0.334290753         #BB0021\n",
       "Pituitary               -0.074656135         #BB0021\n",
       "Uterus                  -0.150139727         #BB0021"
      ]
     },
     "metadata": {},
     "output_type": "display_data"
    }
   ],
   "source": [
    "tissueClass"
   ]
  },
  {
   "cell_type": "code",
   "execution_count": 1053,
   "metadata": {},
   "outputs": [
    {
     "data": {
      "text/html": [
       "<style>\n",
       ".list-inline {list-style: none; margin:0; padding: 0}\n",
       ".list-inline>li {display: inline-block}\n",
       ".list-inline>li:not(:last-child)::after {content: \"\\00b7\"; padding: 0 .5ex}\n",
       "</style>\n",
       "<ol class=list-inline><li>'Type II'</li><li>'Type II'</li><li>'Type II'</li><li>'Type II'</li><li>'Type II'</li><li>'Type II'</li><li>'Type II'</li><li>'Type II'</li><li>'Type II'</li><li>'Type II'</li><li>'Type II'</li><li>'Type II'</li><li>'Type II'</li><li>'Undefine'</li><li>'Undefine'</li><li>'Type I'</li><li>'Type I'</li><li>'Undefine'</li><li>'Undefine'</li><li>'Type I'</li><li>'Type I'</li><li>'Type I'</li><li>'Type I'</li><li>'Type I'</li><li>'Type I'</li><li>'Type I'</li><li>'Type I'</li><li>'Type I'</li><li>'Type I'</li><li>'Type I'</li></ol>\n"
      ],
      "text/latex": [
       "\\begin{enumerate*}\n",
       "\\item 'Type II'\n",
       "\\item 'Type II'\n",
       "\\item 'Type II'\n",
       "\\item 'Type II'\n",
       "\\item 'Type II'\n",
       "\\item 'Type II'\n",
       "\\item 'Type II'\n",
       "\\item 'Type II'\n",
       "\\item 'Type II'\n",
       "\\item 'Type II'\n",
       "\\item 'Type II'\n",
       "\\item 'Type II'\n",
       "\\item 'Type II'\n",
       "\\item 'Undefine'\n",
       "\\item 'Undefine'\n",
       "\\item 'Type I'\n",
       "\\item 'Type I'\n",
       "\\item 'Undefine'\n",
       "\\item 'Undefine'\n",
       "\\item 'Type I'\n",
       "\\item 'Type I'\n",
       "\\item 'Type I'\n",
       "\\item 'Type I'\n",
       "\\item 'Type I'\n",
       "\\item 'Type I'\n",
       "\\item 'Type I'\n",
       "\\item 'Type I'\n",
       "\\item 'Type I'\n",
       "\\item 'Type I'\n",
       "\\item 'Type I'\n",
       "\\end{enumerate*}\n"
      ],
      "text/markdown": [
       "1. 'Type II'\n",
       "2. 'Type II'\n",
       "3. 'Type II'\n",
       "4. 'Type II'\n",
       "5. 'Type II'\n",
       "6. 'Type II'\n",
       "7. 'Type II'\n",
       "8. 'Type II'\n",
       "9. 'Type II'\n",
       "10. 'Type II'\n",
       "11. 'Type II'\n",
       "12. 'Type II'\n",
       "13. 'Type II'\n",
       "14. 'Undefine'\n",
       "15. 'Undefine'\n",
       "16. 'Type I'\n",
       "17. 'Type I'\n",
       "18. 'Undefine'\n",
       "19. 'Undefine'\n",
       "20. 'Type I'\n",
       "21. 'Type I'\n",
       "22. 'Type I'\n",
       "23. 'Type I'\n",
       "24. 'Type I'\n",
       "25. 'Type I'\n",
       "26. 'Type I'\n",
       "27. 'Type I'\n",
       "28. 'Type I'\n",
       "29. 'Type I'\n",
       "30. 'Type I'\n",
       "\n",
       "\n"
      ],
      "text/plain": [
       " [1] \"Type II\"  \"Type II\"  \"Type II\"  \"Type II\"  \"Type II\"  \"Type II\" \n",
       " [7] \"Type II\"  \"Type II\"  \"Type II\"  \"Type II\"  \"Type II\"  \"Type II\" \n",
       "[13] \"Type II\"  \"Undefine\" \"Undefine\" \"Type I\"   \"Type I\"   \"Undefine\"\n",
       "[19] \"Undefine\" \"Type I\"   \"Type I\"   \"Type I\"   \"Type I\"   \"Type I\"  \n",
       "[25] \"Type I\"   \"Type I\"   \"Type I\"   \"Type I\"   \"Type I\"   \"Type I\"  "
      ]
     },
     "metadata": {},
     "output_type": "display_data"
    }
   ],
   "source": [
    "tissueClass$type"
   ]
  },
  {
   "cell_type": "code",
   "execution_count": 1056,
   "metadata": {},
   "outputs": [
    {
     "data": {
      "text/html": [
       "<style>\n",
       ".list-inline {list-style: none; margin:0; padding: 0}\n",
       ".list-inline>li {display: inline-block}\n",
       ".list-inline>li:not(:last-child)::after {content: \"\\00b7\"; padding: 0 .5ex}\n",
       "</style>\n",
       "<ol class=list-inline><li>'Pancreas'</li><li>'Supramarginal_gyrus'</li><li>'Frontal_pole'</li><li>'Liver'</li><li>'Hippocampus'</li><li>'Skin_of_back'</li><li>'Cecum'</li><li>'Lung'</li><li>'Superior_temporal_gyrus'</li><li>'Muscle'</li><li>'Adrenal_gland'</li><li>'Hypothalamus'</li><li>'Heart'</li><li>'Arteria_cruralis'</li><li>'Arteria_carotis'</li><li>'Facial_skin'</li><li>'Femoral_vein'</li><li>'Adipose'</li><li>'Thyroid_gland'</li><li>'Ileocecum'</li><li>'Thymus'</li><li>'Aortic_arch'</li><li>'Spleen'</li><li>'Kidney'</li><li>'Ovary'</li><li>'Fallopian_tube'</li><li>'Stomach'</li><li>'Duodenum'</li><li>'Pituitary'</li><li>'Uterus'</li></ol>\n"
      ],
      "text/latex": [
       "\\begin{enumerate*}\n",
       "\\item 'Pancreas'\n",
       "\\item 'Supramarginal\\_gyrus'\n",
       "\\item 'Frontal\\_pole'\n",
       "\\item 'Liver'\n",
       "\\item 'Hippocampus'\n",
       "\\item 'Skin\\_of\\_back'\n",
       "\\item 'Cecum'\n",
       "\\item 'Lung'\n",
       "\\item 'Superior\\_temporal\\_gyrus'\n",
       "\\item 'Muscle'\n",
       "\\item 'Adrenal\\_gland'\n",
       "\\item 'Hypothalamus'\n",
       "\\item 'Heart'\n",
       "\\item 'Arteria\\_cruralis'\n",
       "\\item 'Arteria\\_carotis'\n",
       "\\item 'Facial\\_skin'\n",
       "\\item 'Femoral\\_vein'\n",
       "\\item 'Adipose'\n",
       "\\item 'Thyroid\\_gland'\n",
       "\\item 'Ileocecum'\n",
       "\\item 'Thymus'\n",
       "\\item 'Aortic\\_arch'\n",
       "\\item 'Spleen'\n",
       "\\item 'Kidney'\n",
       "\\item 'Ovary'\n",
       "\\item 'Fallopian\\_tube'\n",
       "\\item 'Stomach'\n",
       "\\item 'Duodenum'\n",
       "\\item 'Pituitary'\n",
       "\\item 'Uterus'\n",
       "\\end{enumerate*}\n"
      ],
      "text/markdown": [
       "1. 'Pancreas'\n",
       "2. 'Supramarginal_gyrus'\n",
       "3. 'Frontal_pole'\n",
       "4. 'Liver'\n",
       "5. 'Hippocampus'\n",
       "6. 'Skin_of_back'\n",
       "7. 'Cecum'\n",
       "8. 'Lung'\n",
       "9. 'Superior_temporal_gyrus'\n",
       "10. 'Muscle'\n",
       "11. 'Adrenal_gland'\n",
       "12. 'Hypothalamus'\n",
       "13. 'Heart'\n",
       "14. 'Arteria_cruralis'\n",
       "15. 'Arteria_carotis'\n",
       "16. 'Facial_skin'\n",
       "17. 'Femoral_vein'\n",
       "18. 'Adipose'\n",
       "19. 'Thyroid_gland'\n",
       "20. 'Ileocecum'\n",
       "21. 'Thymus'\n",
       "22. 'Aortic_arch'\n",
       "23. 'Spleen'\n",
       "24. 'Kidney'\n",
       "25. 'Ovary'\n",
       "26. 'Fallopian_tube'\n",
       "27. 'Stomach'\n",
       "28. 'Duodenum'\n",
       "29. 'Pituitary'\n",
       "30. 'Uterus'\n",
       "\n",
       "\n"
      ],
      "text/plain": [
       " [1] \"Pancreas\"                \"Supramarginal_gyrus\"    \n",
       " [3] \"Frontal_pole\"            \"Liver\"                  \n",
       " [5] \"Hippocampus\"             \"Skin_of_back\"           \n",
       " [7] \"Cecum\"                   \"Lung\"                   \n",
       " [9] \"Superior_temporal_gyrus\" \"Muscle\"                 \n",
       "[11] \"Adrenal_gland\"           \"Hypothalamus\"           \n",
       "[13] \"Heart\"                   \"Arteria_cruralis\"       \n",
       "[15] \"Arteria_carotis\"         \"Facial_skin\"            \n",
       "[17] \"Femoral_vein\"            \"Adipose\"                \n",
       "[19] \"Thyroid_gland\"           \"Ileocecum\"              \n",
       "[21] \"Thymus\"                  \"Aortic_arch\"            \n",
       "[23] \"Spleen\"                  \"Kidney\"                 \n",
       "[25] \"Ovary\"                   \"Fallopian_tube\"         \n",
       "[27] \"Stomach\"                 \"Duodenum\"               \n",
       "[29] \"Pituitary\"               \"Uterus\"                 "
      ]
     },
     "metadata": {},
     "output_type": "display_data"
    }
   ],
   "source": [
    "tmpnames = rownames(tissueClass)\n",
    "tmpnames = c(tmpnames[tissueClass$type == 'Type II'],tmpnames[tissueClass$type == 'Undefine'],\n",
    "             tmpnames[tissueClass$type == 'Type I'])\n",
    "tmpnames"
   ]
  },
  {
   "cell_type": "code",
   "execution_count": 1060,
   "metadata": {},
   "outputs": [],
   "source": [
    "# \n",
    "outids = c('R-HSA-72766','hsa03010','hsa04142','hsa04120','hsa03050')\n",
    "outids_des = c('Translation','Ribosome','Lysosome',\n",
    "                               'Ubiquitin mediated proteolysis', 'Proteasome')\n",
    "thisgo.matrix.all = thisgo.matrix.up+ thisgo.matrix.down\n",
    "\n",
    "tmpnames = rownames(tissueClass)\n",
    "tmpnames = c(tmpnames[tissueClass$type == 'Type II'],tmpnames[tissueClass$type == 'Undefine'],\n",
    "             tmpnames[tissueClass$type == 'Type I'])\n",
    "\n",
    "thisgo.matrix.all = thisgo.matrix.all[,tmpnames]\n",
    "thisgo.matrix.all[thisgo.matrix.all >= 3] = 1\n",
    "thisgo.matrix.all[thisgo.matrix.all <= -3] = -1\n",
    "\n",
    "tclass = data.frame(class = tissueClass[tmpnames,]$type,row.names = tmpnames)\n",
    "colnames(tclass) <- c(\"Tissue_type\")\n",
    "ann_colors = list(\n",
    "   Tissue_type= c('#FD60A7','gray85','#4fffF7')\n",
    "    \n",
    ")\n",
    "names(ann_colors$Tissue_type) = c('Type I','Undefine', 'Type II')\n",
    "#sort tissues\n",
    "tmpname  = colnames(thisgo.matrix.all)\n",
    "rownames(thisgo.matrix.all) = outids_des\n",
    "pheatmap::pheatmap(thisgo.matrix.all,cluster_rows = T,annotation_colors = ann_colors,\n",
    "                   annotation_col = tclass,\n",
    "                   cluster_cols = T,fontsize_row = 9,fontsize_col = 10,fontsize = 10,treeheight_row = 20,treeheight_col = 20,legend = T,\n",
    "                  color=colorRampPalette(c('#3B4992','gray99','#EE0000FF'))(6),\n",
    "                  file =\"./out/20230217_aging/Figure6_heatmap_TED_machanism/Figure 6A_enrichment_metascape_promet_all_tissue_TEDs_V6.pdf\",\n",
    "                 height = 3,width = 10\n",
    "                  )\n",
    "graphics.off()"
   ]
  },
  {
   "cell_type": "code",
   "execution_count": 1051,
   "metadata": {},
   "outputs": [
    {
     "data": {
      "text/html": [
       "<style>\n",
       ".list-inline {list-style: none; margin:0; padding: 0}\n",
       ".list-inline>li {display: inline-block}\n",
       ".list-inline>li:not(:last-child)::after {content: \"\\00b7\"; padding: 0 .5ex}\n",
       "</style>\n",
       "<ol class=list-inline><li>'Translation'</li><li>'Ribosome'</li><li>'Lysosome'</li><li>'Ubiquitin mediated proteolysis'</li><li>'Proteasome'</li></ol>\n"
      ],
      "text/latex": [
       "\\begin{enumerate*}\n",
       "\\item 'Translation'\n",
       "\\item 'Ribosome'\n",
       "\\item 'Lysosome'\n",
       "\\item 'Ubiquitin mediated proteolysis'\n",
       "\\item 'Proteasome'\n",
       "\\end{enumerate*}\n"
      ],
      "text/markdown": [
       "1. 'Translation'\n",
       "2. 'Ribosome'\n",
       "3. 'Lysosome'\n",
       "4. 'Ubiquitin mediated proteolysis'\n",
       "5. 'Proteasome'\n",
       "\n",
       "\n"
      ],
      "text/plain": [
       "[1] \"Translation\"                    \"Ribosome\"                      \n",
       "[3] \"Lysosome\"                       \"Ubiquitin mediated proteolysis\"\n",
       "[5] \"Proteasome\"                    "
      ]
     },
     "metadata": {},
     "output_type": "display_data"
    },
    {
     "data": {
      "text/plain": [
       "\n",
       "\tSpearman's rank correlation rho\n",
       "\n",
       "data:  abs(tmpaa[1, ]) and (tmpclass == \"Type I\") + 0\n",
       "S = 1571, p-value = 0.01725\n",
       "alternative hypothesis: true rho is not equal to 0\n",
       "sample estimates:\n",
       "    rho \n",
       "0.46291 \n"
      ]
     },
     "metadata": {},
     "output_type": "display_data"
    },
    {
     "data": {
      "text/plain": [
       "\n",
       "\tSpearman's rank correlation rho\n",
       "\n",
       "data:  abs(tmpaa[2, ]) and (tmpclass == \"Type I\") + 0\n",
       "S = 1497.7, p-value = 0.01144\n",
       "alternative hypothesis: true rho is not equal to 0\n",
       "sample estimates:\n",
       "    rho \n",
       "0.48795 \n"
      ]
     },
     "metadata": {},
     "output_type": "display_data"
    },
    {
     "data": {
      "text/plain": [
       "\n",
       "\tSpearman's rank correlation rho\n",
       "\n",
       "data:  abs(tmpaa[3, ]) and (tmpclass == \"Type I\") + 0\n",
       "S = 3210.5, p-value = 0.6353\n",
       "alternative hypothesis: true rho is not equal to 0\n",
       "sample estimates:\n",
       "        rho \n",
       "-0.09759001 \n"
      ]
     },
     "metadata": {},
     "output_type": "display_data"
    },
    {
     "data": {
      "text/plain": [
       "\n",
       "\tSpearman's rank correlation rho\n",
       "\n",
       "data:  abs(tmpaa[4, ]) and (tmpclass == \"Type I\") + 0\n",
       "S = 2340, p-value = 0.3273\n",
       "alternative hypothesis: true rho is not equal to 0\n",
       "sample estimates:\n",
       "rho \n",
       "0.2 \n"
      ]
     },
     "metadata": {},
     "output_type": "display_data"
    },
    {
     "data": {
      "text/plain": [
       "\n",
       "\tSpearman's rank correlation rho\n",
       "\n",
       "data:  abs(tmpaa[5, ]) and (tmpclass == \"Type I\") + 0\n",
       "S = 2301.4, p-value = 0.2957\n",
       "alternative hypothesis: true rho is not equal to 0\n",
       "sample estimates:\n",
       "      rho \n",
       "0.2132007 \n"
      ]
     },
     "metadata": {},
     "output_type": "display_data"
    }
   ],
   "source": [
    "idx = tclass$Tissue_type != 'Undefine'\n",
    "tmpaa = thisgo.matrix.all[,idx]\n",
    "tmpclass = tclass$Tissue_type[idx]\n",
    "rownames(tmpaa)\n",
    "cor.test(abs(tmpaa[1,]),(tmpclass == 'Type I')+0,method = 'spearman')\n",
    "cor.test(abs(tmpaa[2,]),(tmpclass == 'Type I')+0,method = 'spearman')\n",
    "cor.test(abs(tmpaa[3,]),(tmpclass == 'Type I')+0,method = 'spearman')\n",
    "cor.test(abs(tmpaa[4,]),(tmpclass == 'Type I')+0,method = 'spearman')\n",
    "cor.test(abs(tmpaa[5,]),(tmpclass == 'Type I')+0,method = 'spearman')"
   ]
  },
  {
   "cell_type": "markdown",
   "metadata": {},
   "source": [
    "## get ratio change significance"
   ]
  },
  {
   "cell_type": "code",
   "execution_count": 800,
   "metadata": {},
   "outputs": [
    {
     "data": {
      "text/html": [
       "<style>\n",
       ".list-inline {list-style: none; margin:0; padding: 0}\n",
       ".list-inline>li {display: inline-block}\n",
       ".list-inline>li:not(:last-child)::after {content: \"\\00b7\"; padding: 0 .5ex}\n",
       "</style>\n",
       "<ol class=list-inline><li>3902</li><li>30</li></ol>\n"
      ],
      "text/latex": [
       "\\begin{enumerate*}\n",
       "\\item 3902\n",
       "\\item 30\n",
       "\\end{enumerate*}\n"
      ],
      "text/markdown": [
       "1. 3902\n",
       "2. 30\n",
       "\n",
       "\n"
      ],
      "text/plain": [
       "[1] 3902   30"
      ]
     },
     "metadata": {},
     "output_type": "display_data"
    }
   ],
   "source": [
    "require(data.table)\n",
    "amplitude_matrix = list()\n",
    "\n",
    "for(i in 1:length(pro_amplitude)){\n",
    "    tmp = matrix(pro_amplitude[[i]],1,length(pro_amplitude[[i]]))\n",
    "    tmp = as.data.frame(tmp)\n",
    "    colnames(tmp) = names(pro_amplitude[[i]])\n",
    "    amplitude_matrix[[i]] = tmp\n",
    "}\n",
    "#amplitude_matrix = rbindlist(amplitude_matrix,fill = T)\n",
    "amplitude_matrix = t(as.matrix(rbindlist(amplitude_matrix,fill = T)))\n",
    "colnames(amplitude_matrix) = names(pro_amplitude)\n",
    "\n",
    "vid = rowSums(is.na(amplitude_matrix)) < ncol(amplitude_matrix)/2\n",
    "amplitude_matrix.v = amplitude_matrix[vid,]\n",
    "amplitude_matrix.v[is.na(amplitude_matrix.v)] = NA\n",
    "dim(amplitude_matrix.v)\n",
    "tcor = cor(t(amplitude_matrix.v),ratio_out$meanChangeRatio,use = \"pairwise\")\n",
    "names(tcor) = rownames(amplitude_matrix.v)\n",
    "gsea_input = sort(tcor,decreasing = T)\n",
    "\n",
    "calcp <- function(x,y){\n",
    "    return(cor.test(x,y,use = \"pairwise\")$p.value)\n",
    "}\n",
    "tpvalue = apply(amplitude_matrix.v,1,calcp,ratio_out$meanChangeRatio)\n",
    "tpvalue = tpvalue[names(gsea_input)]"
   ]
  },
  {
   "cell_type": "markdown",
   "metadata": {},
   "source": [
    "## Figure 6B translation related"
   ]
  },
  {
   "cell_type": "code",
   "execution_count": 865,
   "metadata": {},
   "outputs": [
    {
     "data": {
      "text/html": [
       "<style>\n",
       ".list-inline {list-style: none; margin:0; padding: 0}\n",
       ".list-inline>li {display: inline-block}\n",
       ".list-inline>li:not(:last-child)::after {content: \"\\00b7\"; padding: 0 .5ex}\n",
       "</style>\n",
       "<ol class=list-inline><li>'EIF1AX'</li><li>'EIF2A'</li><li>'EIF2AK2'</li><li>'EIF2B1'</li><li>'EIF2B2'</li><li>'EIF2B3'</li><li>'EIF2B4'</li><li>'EIF2B5'</li><li>'EIF2D'</li><li>'EIF2S1'</li><li>'EIF2S2'</li><li>'EIF3A'</li><li>'EIF3B'</li><li>'EIF3D'</li><li>'EIF3E'</li><li>'EIF3F'</li><li>'EIF3G'</li><li>'EIF3H'</li><li>'EIF3I'</li><li>'EIF3J'</li><li>'EIF3K'</li><li>'EIF3L'</li><li>'EIF3M'</li><li>'EIF4A1'</li><li>'EIF4A2'</li><li>'EIF4A3'</li><li>'EIF4B'</li><li>'EIF4E'</li><li>'EIF4E2'</li><li>'EIF4EBP1'</li><li>'EIF4G1'</li><li>'EIF4G2'</li><li>'EIF4G3'</li><li>'EIF4H'</li><li>'EIF5A'</li><li>'EIF5A2'</li><li>'EIF5B'</li><li>'EIF6'</li></ol>\n"
      ],
      "text/latex": [
       "\\begin{enumerate*}\n",
       "\\item 'EIF1AX'\n",
       "\\item 'EIF2A'\n",
       "\\item 'EIF2AK2'\n",
       "\\item 'EIF2B1'\n",
       "\\item 'EIF2B2'\n",
       "\\item 'EIF2B3'\n",
       "\\item 'EIF2B4'\n",
       "\\item 'EIF2B5'\n",
       "\\item 'EIF2D'\n",
       "\\item 'EIF2S1'\n",
       "\\item 'EIF2S2'\n",
       "\\item 'EIF3A'\n",
       "\\item 'EIF3B'\n",
       "\\item 'EIF3D'\n",
       "\\item 'EIF3E'\n",
       "\\item 'EIF3F'\n",
       "\\item 'EIF3G'\n",
       "\\item 'EIF3H'\n",
       "\\item 'EIF3I'\n",
       "\\item 'EIF3J'\n",
       "\\item 'EIF3K'\n",
       "\\item 'EIF3L'\n",
       "\\item 'EIF3M'\n",
       "\\item 'EIF4A1'\n",
       "\\item 'EIF4A2'\n",
       "\\item 'EIF4A3'\n",
       "\\item 'EIF4B'\n",
       "\\item 'EIF4E'\n",
       "\\item 'EIF4E2'\n",
       "\\item 'EIF4EBP1'\n",
       "\\item 'EIF4G1'\n",
       "\\item 'EIF4G2'\n",
       "\\item 'EIF4G3'\n",
       "\\item 'EIF4H'\n",
       "\\item 'EIF5A'\n",
       "\\item 'EIF5A2'\n",
       "\\item 'EIF5B'\n",
       "\\item 'EIF6'\n",
       "\\end{enumerate*}\n"
      ],
      "text/markdown": [
       "1. 'EIF1AX'\n",
       "2. 'EIF2A'\n",
       "3. 'EIF2AK2'\n",
       "4. 'EIF2B1'\n",
       "5. 'EIF2B2'\n",
       "6. 'EIF2B3'\n",
       "7. 'EIF2B4'\n",
       "8. 'EIF2B5'\n",
       "9. 'EIF2D'\n",
       "10. 'EIF2S1'\n",
       "11. 'EIF2S2'\n",
       "12. 'EIF3A'\n",
       "13. 'EIF3B'\n",
       "14. 'EIF3D'\n",
       "15. 'EIF3E'\n",
       "16. 'EIF3F'\n",
       "17. 'EIF3G'\n",
       "18. 'EIF3H'\n",
       "19. 'EIF3I'\n",
       "20. 'EIF3J'\n",
       "21. 'EIF3K'\n",
       "22. 'EIF3L'\n",
       "23. 'EIF3M'\n",
       "24. 'EIF4A1'\n",
       "25. 'EIF4A2'\n",
       "26. 'EIF4A3'\n",
       "27. 'EIF4B'\n",
       "28. 'EIF4E'\n",
       "29. 'EIF4E2'\n",
       "30. 'EIF4EBP1'\n",
       "31. 'EIF4G1'\n",
       "32. 'EIF4G2'\n",
       "33. 'EIF4G3'\n",
       "34. 'EIF4H'\n",
       "35. 'EIF5A'\n",
       "36. 'EIF5A2'\n",
       "37. 'EIF5B'\n",
       "38. 'EIF6'\n",
       "\n",
       "\n"
      ],
      "text/plain": [
       " [1] \"EIF1AX\"   \"EIF2A\"    \"EIF2AK2\"  \"EIF2B1\"   \"EIF2B2\"   \"EIF2B3\"  \n",
       " [7] \"EIF2B4\"   \"EIF2B5\"   \"EIF2D\"    \"EIF2S1\"   \"EIF2S2\"   \"EIF3A\"   \n",
       "[13] \"EIF3B\"    \"EIF3D\"    \"EIF3E\"    \"EIF3F\"    \"EIF3G\"    \"EIF3H\"   \n",
       "[19] \"EIF3I\"    \"EIF3J\"    \"EIF3K\"    \"EIF3L\"    \"EIF3M\"    \"EIF4A1\"  \n",
       "[25] \"EIF4A2\"   \"EIF4A3\"   \"EIF4B\"    \"EIF4E\"    \"EIF4E2\"   \"EIF4EBP1\"\n",
       "[31] \"EIF4G1\"   \"EIF4G2\"   \"EIF4G3\"   \"EIF4H\"    \"EIF5A\"    \"EIF5A2\"  \n",
       "[37] \"EIF5B\"    \"EIF6\"    "
      ]
     },
     "metadata": {},
     "output_type": "display_data"
    },
    {
     "data": {
      "text/html": [
       "<style>\n",
       ".list-inline {list-style: none; margin:0; padding: 0}\n",
       ".list-inline>li {display: inline-block}\n",
       ".list-inline>li:not(:last-child)::after {content: \"\\00b7\"; padding: 0 .5ex}\n",
       "</style>\n",
       "<ol class=list-inline><li>'EEF1A1'</li><li>'EEF1A2'</li><li>'EEF1AKMT1'</li><li>'EEF1B2'</li><li>'EEF1E1'</li><li>'EEF1G'</li><li>'EEF2'</li></ol>\n"
      ],
      "text/latex": [
       "\\begin{enumerate*}\n",
       "\\item 'EEF1A1'\n",
       "\\item 'EEF1A2'\n",
       "\\item 'EEF1AKMT1'\n",
       "\\item 'EEF1B2'\n",
       "\\item 'EEF1E1'\n",
       "\\item 'EEF1G'\n",
       "\\item 'EEF2'\n",
       "\\end{enumerate*}\n"
      ],
      "text/markdown": [
       "1. 'EEF1A1'\n",
       "2. 'EEF1A2'\n",
       "3. 'EEF1AKMT1'\n",
       "4. 'EEF1B2'\n",
       "5. 'EEF1E1'\n",
       "6. 'EEF1G'\n",
       "7. 'EEF2'\n",
       "\n",
       "\n"
      ],
      "text/plain": [
       "[1] \"EEF1A1\"    \"EEF1A2\"    \"EEF1AKMT1\" \"EEF1B2\"    \"EEF1E1\"    \"EEF1G\"    \n",
       "[7] \"EEF2\"     "
      ]
     },
     "metadata": {},
     "output_type": "display_data"
    },
    {
     "data": {
      "text/html": [
       "31"
      ],
      "text/latex": [
       "31"
      ],
      "text/markdown": [
       "31"
      ],
      "text/plain": [
       "[1] 31"
      ]
     },
     "metadata": {},
     "output_type": "display_data"
    }
   ],
   "source": [
    "xnames = names(tpvalue)\n",
    "#trans_initialA  = xnames[substr(xnames,1,3) == 'EIF' & tpvalue < 0.01 & gsea_input > 0]\n",
    "trans_initialA  = xnames[substr(xnames,1,3) == 'EIF']\n",
    "trans_initialA = sort(trans_initialA)\n",
    "trans_initialA\n",
    "trans_initialB  = xnames[substr(xnames,1,3) == 'EEF']\n",
    "trans_initialB = sort(trans_initialB)\n",
    "trans_initialB\n",
    "trans_initialA = c(trans_initialA,trans_initialB)\n",
    "for(i in 1:length(pro_amplitude)){\n",
    "    tx = pro_amplitude[[i]][trans_initialA]\n",
    "    #tx= tx[!is.na(tx)]\n",
    "    tmp = data.frame(genes = trans_initialA,stringsAsFactors = F,\n",
    "                    amplitude = as.vector(tx))\n",
    "    if(i ==1){\n",
    "        tmpout = tmp;\n",
    "    }else{\n",
    "        tmpout = cbind(tmpout,tmp[,'amplitude'])\n",
    "    }\n",
    "    \n",
    "}\n",
    "tmpout = t(tmpout[,-1])\n",
    "\n",
    "rownames(tmpout) = names(pro_amplitude)\n",
    "colnames(tmpout) = trans_initialA\n",
    "idx = colSums(is.na(tmpout)) < 3\n",
    "sum(idx)\n",
    "#tmpout = tmpout[rowSums(is.na(tmpout)) < 3,]\n",
    "tmpout = tmpout[,idx]\n",
    "\n",
    "\n",
    "metadata <- tissueClass[rownames(tmpout),c('type','type')]\n",
    "tclass = data.frame(class = metadata$type,row.names = rownames(metadata))\n",
    "colnames(tclass) <- c(\"Tissue_type\")\n",
    "\n",
    "ann_colors = list(\n",
    "   Tissue_type= c('#FD60A7','gray85','#4fffF7')\n",
    "    \n",
    ")\n",
    "names(ann_colors$Tissue_type) = c('Type I','Undefine', 'Type II')\n",
    "\n",
    "pheatmap::pheatmap(t(tmpout),annotation_col = tclass,cluster_rows = F,annotation_colors = ann_colors,\n",
    "                   color=colorRampPalette(c('#3B4992','gray99','#EE0000'))(30),\n",
    "                    file =\"./out/20230217_aging/Figure6_heatmap_TED_machanism/Figure6B_heatmap_translation_elongationV3.pdf\",\n",
    "                  ,height = 8,width = 8\n",
    "                  )  \n",
    "\n"
   ]
  },
  {
   "cell_type": "markdown",
   "metadata": {},
   "source": [
    "## ribosome"
   ]
  },
  {
   "cell_type": "code",
   "execution_count": 870,
   "metadata": {
    "scrolled": true
   },
   "outputs": [
    {
     "data": {
      "text/html": [
       "<style>\n",
       ".list-inline {list-style: none; margin:0; padding: 0}\n",
       ".list-inline>li {display: inline-block}\n",
       ".list-inline>li:not(:last-child)::after {content: \"\\00b7\"; padding: 0 .5ex}\n",
       "</style>\n",
       "<ol class=list-inline><li>'RPS2'</li><li>'RPS3'</li><li>'RPS3A'</li><li>'RPS4X'</li><li>'RPS5'</li><li>'RPS7'</li><li>'RPS9'</li><li>'RPS13'</li><li>'RPS14'</li><li>'RPS15'</li><li>'RPS16'</li><li>'RPS20'</li><li>'RPS21'</li><li>'RPS23'</li><li>'RPS24'</li><li>'RPS27L'</li><li>'RPS27A'</li><li>'RPS29'</li><li>'FAU'</li><li>'RPSA'</li><li>'RPL4'</li><li>'RPL5'</li><li>'RPL6'</li><li>'RPL7'</li><li>'RPL7A'</li><li>'RPL8'</li><li>'RPL12'</li><li>'RPL13'</li><li>'RPL13A'</li><li>'RPL14'</li><li>'RPL18'</li><li>'RPL22'</li><li>'RPL23'</li><li>'RPL23A'</li><li>'RPL27'</li><li>'RPL28'</li><li>'RPL30'</li><li>'RPL32'</li><li>'RPL35'</li><li>'RPL38'</li><li>'RPLP1'</li><li>'RPLP2'</li></ol>\n"
      ],
      "text/latex": [
       "\\begin{enumerate*}\n",
       "\\item 'RPS2'\n",
       "\\item 'RPS3'\n",
       "\\item 'RPS3A'\n",
       "\\item 'RPS4X'\n",
       "\\item 'RPS5'\n",
       "\\item 'RPS7'\n",
       "\\item 'RPS9'\n",
       "\\item 'RPS13'\n",
       "\\item 'RPS14'\n",
       "\\item 'RPS15'\n",
       "\\item 'RPS16'\n",
       "\\item 'RPS20'\n",
       "\\item 'RPS21'\n",
       "\\item 'RPS23'\n",
       "\\item 'RPS24'\n",
       "\\item 'RPS27L'\n",
       "\\item 'RPS27A'\n",
       "\\item 'RPS29'\n",
       "\\item 'FAU'\n",
       "\\item 'RPSA'\n",
       "\\item 'RPL4'\n",
       "\\item 'RPL5'\n",
       "\\item 'RPL6'\n",
       "\\item 'RPL7'\n",
       "\\item 'RPL7A'\n",
       "\\item 'RPL8'\n",
       "\\item 'RPL12'\n",
       "\\item 'RPL13'\n",
       "\\item 'RPL13A'\n",
       "\\item 'RPL14'\n",
       "\\item 'RPL18'\n",
       "\\item 'RPL22'\n",
       "\\item 'RPL23'\n",
       "\\item 'RPL23A'\n",
       "\\item 'RPL27'\n",
       "\\item 'RPL28'\n",
       "\\item 'RPL30'\n",
       "\\item 'RPL32'\n",
       "\\item 'RPL35'\n",
       "\\item 'RPL38'\n",
       "\\item 'RPLP1'\n",
       "\\item 'RPLP2'\n",
       "\\end{enumerate*}\n"
      ],
      "text/markdown": [
       "1. 'RPS2'\n",
       "2. 'RPS3'\n",
       "3. 'RPS3A'\n",
       "4. 'RPS4X'\n",
       "5. 'RPS5'\n",
       "6. 'RPS7'\n",
       "7. 'RPS9'\n",
       "8. 'RPS13'\n",
       "9. 'RPS14'\n",
       "10. 'RPS15'\n",
       "11. 'RPS16'\n",
       "12. 'RPS20'\n",
       "13. 'RPS21'\n",
       "14. 'RPS23'\n",
       "15. 'RPS24'\n",
       "16. 'RPS27L'\n",
       "17. 'RPS27A'\n",
       "18. 'RPS29'\n",
       "19. 'FAU'\n",
       "20. 'RPSA'\n",
       "21. 'RPL4'\n",
       "22. 'RPL5'\n",
       "23. 'RPL6'\n",
       "24. 'RPL7'\n",
       "25. 'RPL7A'\n",
       "26. 'RPL8'\n",
       "27. 'RPL12'\n",
       "28. 'RPL13'\n",
       "29. 'RPL13A'\n",
       "30. 'RPL14'\n",
       "31. 'RPL18'\n",
       "32. 'RPL22'\n",
       "33. 'RPL23'\n",
       "34. 'RPL23A'\n",
       "35. 'RPL27'\n",
       "36. 'RPL28'\n",
       "37. 'RPL30'\n",
       "38. 'RPL32'\n",
       "39. 'RPL35'\n",
       "40. 'RPL38'\n",
       "41. 'RPLP1'\n",
       "42. 'RPLP2'\n",
       "\n",
       "\n"
      ],
      "text/plain": [
       " [1] \"RPS2\"   \"RPS3\"   \"RPS3A\"  \"RPS4X\"  \"RPS5\"   \"RPS7\"   \"RPS9\"   \"RPS13\" \n",
       " [9] \"RPS14\"  \"RPS15\"  \"RPS16\"  \"RPS20\"  \"RPS21\"  \"RPS23\"  \"RPS24\"  \"RPS27L\"\n",
       "[17] \"RPS27A\" \"RPS29\"  \"FAU\"    \"RPSA\"   \"RPL4\"   \"RPL5\"   \"RPL6\"   \"RPL7\"  \n",
       "[25] \"RPL7A\"  \"RPL8\"   \"RPL12\"  \"RPL13\"  \"RPL13A\" \"RPL14\"  \"RPL18\"  \"RPL22\" \n",
       "[33] \"RPL23\"  \"RPL23A\" \"RPL27\"  \"RPL28\"  \"RPL30\"  \"RPL32\"  \"RPL35\"  \"RPL38\" \n",
       "[41] \"RPLP1\"  \"RPLP2\" "
      ]
     },
     "metadata": {},
     "output_type": "display_data"
    },
    {
     "data": {
      "text/html": [
       "34"
      ],
      "text/latex": [
       "34"
      ],
      "text/markdown": [
       "34"
      ],
      "text/plain": [
       "[1] 34"
      ]
     },
     "metadata": {},
     "output_type": "display_data"
    }
   ],
   "source": [
    "xnames = names(tpvalue)\n",
    "ribosome = file2frame('./data/ribosome_proteins_from_kegg.txt',header = F)\n",
    "ribosome = ribosome$V1\n",
    "trans_initialA = intersect(ribosome,xnames)\n",
    "trans_initialA\n",
    "for(i in 1:length(pro_amplitude)){\n",
    "    tx = pro_amplitude[[i]][trans_initialA]\n",
    "    #tx= tx[!is.na(tx)]\n",
    "    tmp = data.frame(genes = trans_initialA,stringsAsFactors = F,\n",
    "                    amplitude = as.vector(tx))\n",
    "    if(i ==1){\n",
    "        tmpout = tmp;\n",
    "    }else{\n",
    "        tmpout = cbind(tmpout,tmp[,'amplitude'])\n",
    "    }\n",
    "    \n",
    "}\n",
    "tmpout = t(tmpout[,-1])\n",
    "\n",
    "rownames(tmpout) = names(pro_amplitude)\n",
    "colnames(tmpout) = trans_initialA\n",
    "idx = colSums(is.na(tmpout)) < 3\n",
    "sum(idx)\n",
    "#tmpout = tmpout[rowSums(is.na(tmpout)) < 5,]\n",
    "tmpout = tmpout[,idx]\n",
    "tmpout = tmpout[rownames(tissueClass),]\n",
    "\n",
    "metadata <- tissueClass#[rownames(tmpout),]\n",
    "#metadata <- tissueClass[rownames(tmpout),c('class','class')]\n",
    "tclass = data.frame(class = metadata$type,row.names = rownames(metadata))\n",
    "colnames(tclass) <- c(\"Tissue_type\")\n",
    "\n",
    "ann_colors = list(\n",
    "   Tissue_type= c('#FD60A7','gray85','#4fffF7')\n",
    "    \n",
    ")\n",
    "names(ann_colors$Tissue_type) = c('Type I','Undefine', 'Type II')\n",
    "\n",
    "pheatmap::pheatmap(t(tmpout),annotation_col = tclass,cluster_rows = F,annotation_colors = ann_colors,\n",
    "                   cluster_cols = T,color=colorRampPalette(c('#3B4992','gray99','#EE0000FF'))(30),\n",
    "                    file =\"./out/20230217_aging/Figure6_heatmap_TED_machanism/Figure6C_heatmap_ribosomeV3.pdf\",\n",
    "                  ,height = 8,width = 8\n",
    "                  )"
   ]
  },
  {
   "cell_type": "code",
   "execution_count": 868,
   "metadata": {},
   "outputs": [],
   "source": [
    "graphics.off()"
   ]
  }
 ],
 "metadata": {
  "kernelspec": {
   "display_name": "R",
   "language": "R",
   "name": "ir"
  },
  "language_info": {
   "codemirror_mode": "r",
   "file_extension": ".r",
   "mimetype": "text/x-r-source",
   "name": "R",
   "pygments_lexer": "r",
   "version": "3.6.0"
  },
  "toc": {
   "base_numbering": 1,
   "nav_menu": {},
   "number_sections": true,
   "sideBar": true,
   "skip_h1_title": false,
   "title_cell": "Table of Contents",
   "title_sidebar": "Contents",
   "toc_cell": false,
   "toc_position": {
    "height": "483.667px",
    "left": "487px",
    "top": "272.333px",
    "width": "303.533px"
   },
   "toc_section_display": true,
   "toc_window_display": true
  }
 },
 "nbformat": 4,
 "nbformat_minor": 2
}
