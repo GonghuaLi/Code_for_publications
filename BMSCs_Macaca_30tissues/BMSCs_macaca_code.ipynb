{
 "cells": [
  {
   "cell_type": "markdown",
   "metadata": {},
   "source": [
    "# setwd and env"
   ]
  },
  {
   "cell_type": "code",
   "execution_count": 1,
   "metadata": {
    "collapsed": true
   },
   "outputs": [
    {
     "name": "stderr",
     "output_type": "stream",
     "text": [
      "Loading required package: lattice\n",
      "Loading required package: plyr\n",
      "Loading required package: survival\n",
      "Loading required package: Formula\n",
      "\n",
      "Attaching package: 'Hmisc'\n",
      "\n",
      "The following objects are masked from 'package:plyr':\n",
      "\n",
      "    is.discrete, summarize\n",
      "\n",
      "The following objects are masked from 'package:base':\n",
      "\n",
      "    format.pval, units\n",
      "\n",
      "Loading required package: ggrepel\n",
      "\n",
      "Attaching package: 'pracma'\n",
      "\n",
      "The following object is masked from 'package:Hmisc':\n",
      "\n",
      "    ceil\n",
      "\n",
      "Loading required package: carData\n",
      "\n",
      "Attaching package: 'car'\n",
      "\n",
      "The following object is masked from 'package:pracma':\n",
      "\n",
      "    logit\n",
      "\n",
      "Loading required package: limma\n",
      "\n",
      "Attaching package: 'genefilter'\n",
      "\n",
      "The following object is masked from 'package:car':\n",
      "\n",
      "    Anova\n",
      "\n",
      "Loading required package: Biobase\n",
      "Loading required package: BiocGenerics\n",
      "Loading required package: parallel\n",
      "\n",
      "Attaching package: 'BiocGenerics'\n",
      "\n",
      "The following objects are masked from 'package:parallel':\n",
      "\n",
      "    clusterApply, clusterApplyLB, clusterCall, clusterEvalQ,\n",
      "    clusterExport, clusterMap, parApply, parCapply, parLapply,\n",
      "    parLapplyLB, parRapply, parSapply, parSapplyLB\n",
      "\n",
      "The following object is masked from 'package:gridExtra':\n",
      "\n",
      "    combine\n",
      "\n",
      "The following object is masked from 'package:limma':\n",
      "\n",
      "    plotMA\n",
      "\n",
      "The following objects are masked from 'package:stats':\n",
      "\n",
      "    IQR, mad, sd, var, xtabs\n",
      "\n",
      "The following objects are masked from 'package:base':\n",
      "\n",
      "    anyDuplicated, append, as.data.frame, basename, cbind, colnames,\n",
      "    dirname, do.call, duplicated, eval, evalq, Filter, Find, get, grep,\n",
      "    grepl, intersect, is.unsorted, lapply, Map, mapply, match, mget,\n",
      "    order, paste, pmax, pmax.int, pmin, pmin.int, Position, rank,\n",
      "    rbind, Reduce, rownames, sapply, setdiff, sort, table, tapply,\n",
      "    union, unique, unsplit, which, which.max, which.min\n",
      "\n",
      "Welcome to Bioconductor\n",
      "\n",
      "    Vignettes contain introductory material; view with\n",
      "    'browseVignettes()'. To cite Bioconductor, see\n",
      "    'citation(\"Biobase\")', and for packages 'citation(\"pkgname\")'.\n",
      "\n",
      "\n",
      "Attaching package: 'Biobase'\n",
      "\n",
      "The following object is masked from 'package:Hmisc':\n",
      "\n",
      "    contents\n",
      "\n",
      "Loading required package: e1071\n",
      "\n",
      "Attaching package: 'e1071'\n",
      "\n",
      "The following object is masked from 'package:pracma':\n",
      "\n",
      "    sigmoid\n",
      "\n",
      "The following object is masked from 'package:Hmisc':\n",
      "\n",
      "    impute\n",
      "\n",
      "\n",
      "Attaching package: 'widgetTools'\n",
      "\n",
      "The following object is masked from 'package:Hmisc':\n",
      "\n",
      "    label\n",
      "\n",
      "\n",
      "Attaching package: 'DynDoc'\n",
      "\n",
      "The following object is masked from 'package:BiocGenerics':\n",
      "\n",
      "    path\n",
      "\n",
      "\n",
      "Attaching package: 'data.table'\n",
      "\n",
      "The following objects are masked from 'package:reshape2':\n",
      "\n",
      "    dcast, melt\n",
      "\n"
     ]
    }
   ],
   "source": [
    "options(warn = -1)    \n",
    "library(ggplot2)\n",
    "library(reshape2)\n",
    "library(Rmisc)\n",
    "library(Hmisc)\n",
    "library(EnhancedVolcano)\n",
    "library(pracma)\n",
    "library(car)\n",
    "library(ggrepel)\n",
    "library(edgeR)\n",
    "#library(org.Mmu.eg.db)\n",
    "library(gridExtra)\n",
    "setwd(\"E:/github/code_forpublication/macaca_multiple_tissue\")\n",
    "#source('D:/work/metabolism/R_toolbox/lghtoolbox.R')\n",
    "source('./subroutines.R')\n",
    "library(Mfuzz)\n",
    "library(M3C)\n",
    "#library('org.Mmu.eg.db')\n",
    "library(preprocessCore)\n",
    "library(rlist)\n",
    "library(ggsci)\n",
    "library(scales)\n",
    "library(data.table)\n",
    "library(RColorBrewer)\n",
    "library(readxl)\n",
    "library(grid)\n",
    "\n",
    "source('./subroutines_for_BMSCs_treatment.R') # for treatment subroutines"
   ]
  },
  {
   "cell_type": "markdown",
   "metadata": {},
   "source": [
    "# read data"
   ]
  },
  {
   "cell_type": "code",
   "execution_count": 2,
   "metadata": {},
   "outputs": [],
   "source": [
    "#whole body data\n",
    "load('./data/pro.whole.fdr0.01_v20210108_from_NOVO_remap_solid_tissues_treatment.Rdata')# pro\n",
    "load('./data/mrna.whole_v20210108_treatment_solid_tissues.Rdata')\n",
    "load('./data/met_whole_from_novo_v20210108_solid_tissues_treatment.Rdata')"
   ]
  },
  {
   "cell_type": "code",
   "execution_count": 3,
   "metadata": {},
   "outputs": [],
   "source": [
    "# tissue data\n",
    "load('./data/pro.tissues_v20210108_solid_tissues_treatment.Rdata')\n",
    "load('./data/mrna.tissues_v20210108_treatment_solid_tissues.Rdata')\n",
    "load('./data/met.tissues_v20210108_solid_tissues_treatment.Rdata')\n",
    "#remove list"
   ]
  },
  {
   "cell_type": "code",
   "execution_count": 4,
   "metadata": {},
   "outputs": [
    {
     "data": {
      "text/html": [
       "<ol class=list-inline>\n",
       "\t<li>35395</li>\n",
       "\t<li>3</li>\n",
       "</ol>\n"
      ],
      "text/latex": [
       "\\begin{enumerate*}\n",
       "\\item 35395\n",
       "\\item 3\n",
       "\\end{enumerate*}\n"
      ],
      "text/markdown": [
       "1. 35395\n",
       "2. 3\n",
       "\n",
       "\n"
      ],
      "text/plain": [
       "[1] 35395     3"
      ]
     },
     "metadata": {},
     "output_type": "display_data"
    }
   ],
   "source": [
    "dim(headers)"
   ]
  },
  {
   "cell_type": "code",
   "execution_count": 5,
   "metadata": {},
   "outputs": [],
   "source": [
    "load('./data/met.header.all.hmdb_curated.Rdata')\n",
    "idx = !is.na(met.header.all.hmdb$hmdbid_highconfidence)\n",
    "met.header.all.hmdb.v = met.header.all.hmdb[idx,]"
   ]
  },
  {
   "cell_type": "markdown",
   "metadata": {},
   "source": [
    "# quality control"
   ]
  },
  {
   "cell_type": "code",
   "execution_count": 6,
   "metadata": {},
   "outputs": [
    {
     "data": {
      "text/html": [
       "<ol class=list-inline>\n",
       "\t<li>'X06080_Skin_of_back'</li>\n",
       "\t<li>'X11062_Pituitary'</li>\n",
       "\t<li>'X12092_Thyroid_gland'</li>\n",
       "\t<li>'X06080_Thyroid_gland'</li>\n",
       "\t<li>'X94072_Thyroid_gland'</li>\n",
       "\t<li>'X16068_Cecum'</li>\n",
       "\t<li>'X94356_Cecum'</li>\n",
       "\t<li>'X92330_Superior_temporal_gyrus'</li>\n",
       "\t<li>'X94072_Kidney'</li>\n",
       "\t<li>'X12390_Fallopian_tube'</li>\n",
       "\t<li>'X16364_Fallopian_tube'</li>\n",
       "\t<li>'X96306_Stomach'</li>\n",
       "\t<li>'X16068_Hypothalamus'</li>\n",
       "\t<li>'X06070_Pancreas'</li>\n",
       "\t<li>'X16086_Uterus'</li>\n",
       "\t<li>'X16364_Uterus'</li>\n",
       "</ol>\n"
      ],
      "text/latex": [
       "\\begin{enumerate*}\n",
       "\\item 'X06080\\_Skin\\_of\\_back'\n",
       "\\item 'X11062\\_Pituitary'\n",
       "\\item 'X12092\\_Thyroid\\_gland'\n",
       "\\item 'X06080\\_Thyroid\\_gland'\n",
       "\\item 'X94072\\_Thyroid\\_gland'\n",
       "\\item 'X16068\\_Cecum'\n",
       "\\item 'X94356\\_Cecum'\n",
       "\\item 'X92330\\_Superior\\_temporal\\_gyrus'\n",
       "\\item 'X94072\\_Kidney'\n",
       "\\item 'X12390\\_Fallopian\\_tube'\n",
       "\\item 'X16364\\_Fallopian\\_tube'\n",
       "\\item 'X96306\\_Stomach'\n",
       "\\item 'X16068\\_Hypothalamus'\n",
       "\\item 'X06070\\_Pancreas'\n",
       "\\item 'X16086\\_Uterus'\n",
       "\\item 'X16364\\_Uterus'\n",
       "\\end{enumerate*}\n"
      ],
      "text/markdown": [
       "1. 'X06080_Skin_of_back'\n",
       "2. 'X11062_Pituitary'\n",
       "3. 'X12092_Thyroid_gland'\n",
       "4. 'X06080_Thyroid_gland'\n",
       "5. 'X94072_Thyroid_gland'\n",
       "6. 'X16068_Cecum'\n",
       "7. 'X94356_Cecum'\n",
       "8. 'X92330_Superior_temporal_gyrus'\n",
       "9. 'X94072_Kidney'\n",
       "10. 'X12390_Fallopian_tube'\n",
       "11. 'X16364_Fallopian_tube'\n",
       "12. 'X96306_Stomach'\n",
       "13. 'X16068_Hypothalamus'\n",
       "14. 'X06070_Pancreas'\n",
       "15. 'X16086_Uterus'\n",
       "16. 'X16364_Uterus'\n",
       "\n",
       "\n"
      ],
      "text/plain": [
       " [1] \"X06080_Skin_of_back\"            \"X11062_Pituitary\"              \n",
       " [3] \"X12092_Thyroid_gland\"           \"X06080_Thyroid_gland\"          \n",
       " [5] \"X94072_Thyroid_gland\"           \"X16068_Cecum\"                  \n",
       " [7] \"X94356_Cecum\"                   \"X92330_Superior_temporal_gyrus\"\n",
       " [9] \"X94072_Kidney\"                  \"X12390_Fallopian_tube\"         \n",
       "[11] \"X16364_Fallopian_tube\"          \"X96306_Stomach\"                \n",
       "[13] \"X16068_Hypothalamus\"            \"X06070_Pancreas\"               \n",
       "[15] \"X16086_Uterus\"                  \"X16364_Uterus\"                 "
      ]
     },
     "metadata": {},
     "output_type": "display_data"
    }
   ],
   "source": [
    "# protein remove outliners\n",
    "tmp = pro.whole\n",
    "pp = prcomp(t(tmp),cor=F)\n",
    "#p = tsne(pro.whole.std,labels=tissue.systems[pro.whole.info$tissue_en],legendtextsize = 10,dotsize = 2)\n",
    "outlinerids = c()\n",
    "thetissues = unique(pro.whole.info$tissue_en)\n",
    "for(i in 1:length(thetissues)){\n",
    "    idx = pro.whole.info$tissue_en == thetissues[i]\n",
    "    tmpinfo = pro.whole.info[idx,]\n",
    "    outx = is.outliner(pp$x[idx,1])\n",
    "    outy = is.outliner(pp$x[idx,2])\n",
    "    #outy = is.outliner(pp$x[idx,2],coef = 3)\n",
    "    if(sum(outx | outy) > 0){\n",
    "        outlinerids = c(outlinerids,rownames(tmpinfo)[outx | outy])\n",
    "    } \n",
    "}\n",
    "outlinerids\n",
    "vid = !is.element(colnames(pro.whole),outlinerids)\n",
    "pro.whole = pro.whole[,vid]\n",
    "pro.whole.info = pro.whole.info[vid,]"
   ]
  },
  {
   "cell_type": "code",
   "execution_count": 7,
   "metadata": {},
   "outputs": [],
   "source": [
    "alltissues = names(pro.tissues)\n",
    "\n",
    "tissue.systems = c('Integumentary','Endocrine','Brain','Respiratory','Digestive',\n",
    "             'Cardiovascular','Cardiovascular','Brain','Digestive','Endocrine',\n",
    "             'Cardiovascular','Muscle','Reproductive','Digestive','Brain',\n",
    "             'Immune','Renal','Endocrine','Digestive','Reproductive',\n",
    "             'Digestive','Brain','Muscle','Immune','Integumentary','Endocrine',\n",
    "            'Brain','Immune','Cardiovascular','Reproductive')\n",
    "names(tissue.systems) = alltissues\n",
    "#alltissues = factor(alltissues,labels = systemes)\n",
    "tissue.color = pal_aaas(\"default\")(10)\n",
    "names(tissue.color) = levels(factor(tissue.systems))"
   ]
  },
  {
   "cell_type": "code",
   "execution_count": 8,
   "metadata": {},
   "outputs": [
    {
     "data": {
      "text/html": [
       "<dl class=dl-horizontal>\n",
       "\t<dt>Brain</dt>\n",
       "\t\t<dd>'#3B4992FF'</dd>\n",
       "\t<dt>Cardiovascular</dt>\n",
       "\t\t<dd>'#EE0000FF'</dd>\n",
       "\t<dt>Digestive</dt>\n",
       "\t\t<dd>'#008B45FF'</dd>\n",
       "\t<dt>Endocrine</dt>\n",
       "\t\t<dd>'#631879FF'</dd>\n",
       "\t<dt>Immune</dt>\n",
       "\t\t<dd>'#008280FF'</dd>\n",
       "\t<dt>Integumentary</dt>\n",
       "\t\t<dd>'#BB0021FF'</dd>\n",
       "\t<dt>Muscle</dt>\n",
       "\t\t<dd>'#5F559BFF'</dd>\n",
       "\t<dt>Renal</dt>\n",
       "\t\t<dd>'#A20056FF'</dd>\n",
       "\t<dt>Reproductive</dt>\n",
       "\t\t<dd>'#808180FF'</dd>\n",
       "\t<dt>Respiratory</dt>\n",
       "\t\t<dd>'#1B1919FF'</dd>\n",
       "</dl>\n"
      ],
      "text/latex": [
       "\\begin{description*}\n",
       "\\item[Brain] '\\#3B4992FF'\n",
       "\\item[Cardiovascular] '\\#EE0000FF'\n",
       "\\item[Digestive] '\\#008B45FF'\n",
       "\\item[Endocrine] '\\#631879FF'\n",
       "\\item[Immune] '\\#008280FF'\n",
       "\\item[Integumentary] '\\#BB0021FF'\n",
       "\\item[Muscle] '\\#5F559BFF'\n",
       "\\item[Renal] '\\#A20056FF'\n",
       "\\item[Reproductive] '\\#808180FF'\n",
       "\\item[Respiratory] '\\#1B1919FF'\n",
       "\\end{description*}\n"
      ],
      "text/markdown": [
       "Brain\n",
       ":   '#3B4992FF'Cardiovascular\n",
       ":   '#EE0000FF'Digestive\n",
       ":   '#008B45FF'Endocrine\n",
       ":   '#631879FF'Immune\n",
       ":   '#008280FF'Integumentary\n",
       ":   '#BB0021FF'Muscle\n",
       ":   '#5F559BFF'Renal\n",
       ":   '#A20056FF'Reproductive\n",
       ":   '#808180FF'Respiratory\n",
       ":   '#1B1919FF'\n",
       "\n"
      ],
      "text/plain": [
       "         Brain Cardiovascular      Digestive      Endocrine         Immune \n",
       "   \"#3B4992FF\"    \"#EE0000FF\"    \"#008B45FF\"    \"#631879FF\"    \"#008280FF\" \n",
       " Integumentary         Muscle          Renal   Reproductive    Respiratory \n",
       "   \"#BB0021FF\"    \"#5F559BFF\"    \"#A20056FF\"    \"#808180FF\"    \"#1B1919FF\" "
      ]
     },
     "metadata": {},
     "output_type": "display_data"
    }
   ],
   "source": [
    "tissue.color"
   ]
  },
  {
   "cell_type": "code",
   "execution_count": 9,
   "metadata": {},
   "outputs": [
    {
     "data": {
      "text/html": [
       "<ol class=list-inline>\n",
       "\t<li>'#3B4992FF'</li>\n",
       "\t<li>'#EE0000FF'</li>\n",
       "\t<li>'#008B45FF'</li>\n",
       "\t<li>'#631879FF'</li>\n",
       "\t<li>'#008280FF'</li>\n",
       "\t<li>'#BB0021FF'</li>\n",
       "\t<li>'#5F559BFF'</li>\n",
       "\t<li>'#A20056FF'</li>\n",
       "\t<li>'#808180FF'</li>\n",
       "\t<li>'#1B1919FF'</li>\n",
       "</ol>\n"
      ],
      "text/latex": [
       "\\begin{enumerate*}\n",
       "\\item '\\#3B4992FF'\n",
       "\\item '\\#EE0000FF'\n",
       "\\item '\\#008B45FF'\n",
       "\\item '\\#631879FF'\n",
       "\\item '\\#008280FF'\n",
       "\\item '\\#BB0021FF'\n",
       "\\item '\\#5F559BFF'\n",
       "\\item '\\#A20056FF'\n",
       "\\item '\\#808180FF'\n",
       "\\item '\\#1B1919FF'\n",
       "\\end{enumerate*}\n"
      ],
      "text/markdown": [
       "1. '#3B4992FF'\n",
       "2. '#EE0000FF'\n",
       "3. '#008B45FF'\n",
       "4. '#631879FF'\n",
       "5. '#008280FF'\n",
       "6. '#BB0021FF'\n",
       "7. '#5F559BFF'\n",
       "8. '#A20056FF'\n",
       "9. '#808180FF'\n",
       "10. '#1B1919FF'\n",
       "\n",
       "\n"
      ],
      "text/plain": [
       " [1] \"#3B4992FF\" \"#EE0000FF\" \"#008B45FF\" \"#631879FF\" \"#008280FF\" \"#BB0021FF\"\n",
       " [7] \"#5F559BFF\" \"#A20056FF\" \"#808180FF\" \"#1B1919FF\""
      ]
     },
     "metadata": {},
     "output_type": "display_data"
    },
    {
     "data": {
      "image/png": "[encoded data removed]",
      "text/plain": [
       "plot without title"
      ]
     },
     "metadata": {},
     "output_type": "display_data"
    }
   ],
   "source": [
    "mypal = pal_aaas()(10)\n",
    "mypal\n",
    "show_col(mypal)"
   ]
  },
  {
   "cell_type": "code",
   "execution_count": 10,
   "metadata": {},
   "outputs": [],
   "source": [
    "num_omics = data.frame(num_mrna = rep(0,length(alltissues)),stringsAsFactors = F,\n",
    "                       tissues = alltissues,\n",
    "                       tissue_systems = tissue.systems,\n",
    "                      num_protein = rep(0,length(alltissues)),\n",
    "                       num_met = rep(0,length(alltissues))\n",
    "                       )\n",
    "for(i in 1:length(alltissues)){\n",
    "    num_omics$num_mrna[i] = nrow(mrna.tissues[[alltissues[i]]])\n",
    "    num_omics$num_protein[i] = nrow(pro.tissues[[alltissues[i]]])\n",
    "    num_omics$num_met[i] = nrow(met.tissues[[alltissues[i]]])\n",
    "}\n",
    "rownames(num_omics) = alltissues"
   ]
  },
  {
   "cell_type": "code",
   "execution_count": 11,
   "metadata": {},
   "outputs": [],
   "source": [
    "idx = sort.int(num_omics$num_protein,decreasing = F,index.return = T)$ix\n",
    "num_omics.v = num_omics[idx,]\n",
    "idx = sort.int(num_omics.v$tissue_systems,decreasing = F,index.return = T)$ix\n",
    "num_omics.v = num_omics.v[idx,]"
   ]
  },
  {
   "cell_type": "markdown",
   "metadata": {},
   "source": [
    "# Figure S1 3 groups"
   ]
  },
  {
   "cell_type": "markdown",
   "metadata": {},
   "source": [
    "## mRNA"
   ]
  },
  {
   "cell_type": "code",
   "execution_count": 305,
   "metadata": {},
   "outputs": [],
   "source": [
    "#DEGage.gene\n",
    "DEage.gene = list()\n",
    "for(i in 1:nrow(num_omics.v)){\n",
    "    tname = num_omics.v$tissues[i]\n",
    "    tmp = mrna.tissues[[tname]]\n",
    "    tmp.clin = mrna.tissues.info[[tname]]\n",
    "      DEage.gene[[i]] = DEGenes.simplified(tmp,catagory = tmp.clin$stage == 4, \n",
    "                                           subset = tmp.clin$stage == 2 | tmp.clin$stage == 4)\n",
    "}\n",
    "names(DEage.gene) = num_omics.v$tissues"
   ]
  },
  {
   "cell_type": "code",
   "execution_count": 353,
   "metadata": {},
   "outputs": [],
   "source": [
    "plot_blank <- function(tissuename){\n",
    "    p = ggplot(,aes(x=c('Young','Elderly','Elderly_Treated'),y = c(-2, 0,  2))) +\n",
    "    lghplot.addtheme(hjust = 1)+  \n",
    "      xlab('')+ ylab('')+ theme(axis.text.x = element_text(size = 15,face = 'bold',color = \"black\"))+\n",
    "      ggtitle(tissuename)+scale_color_aaas(alpha = 1)\n",
    "    return(p)\n",
    "}\n",
    "\n",
    "plot_3group_overall <- function(M1,DEage.gene,metadata.tissue,tissuename, direction,is_x =1){\n",
    "    tname = tissuename\n",
    "    tmp = DEage.gene\n",
    "    #M1 = mrna.tissues[[tname]]\n",
    "    #metadata.tissue = mrna.tissues.info[[tname]]\n",
    "    idx = metadata.tissue$stage == 2 | metadata.tissue$stage == 4 | metadata.tissue$stage == 5\n",
    "    M1 = M1[,idx]\n",
    "    metadata.tissue = metadata.tissue[idx,]\n",
    "    cc = repmat(as.matrix(rowMedians(M1[,metadata.tissue$stage == '2'])),1,ncol(M1))\n",
    "    tsd = repmat(as.matrix(apply(M1,1,sd,na.rm = T)),1,ncol(M1))\n",
    "    M1.Z = (M1 - cc)/tsd\n",
    "    \n",
    "    \n",
    "    if (tissuename == 'Arteria_cruralis'){\n",
    "        tissuename = 'Femoral_artery'\n",
    "    }\n",
    "    \n",
    "    if (direction == 'UP'){\n",
    "         idgene1 = rownames(tmp)[tmp$Pvalue < 0.05 & tmp$log2FC > 0 & !is.na(tmp$Pvalue)]\n",
    "         if(length(idgene1) < 2){\n",
    "             p = plot_blank(tissuename)\n",
    "             return(p)\n",
    "             \n",
    "         }\n",
    "         M1.Z.v = M1.Z[idgene1,]\n",
    "         M1.Z.v.mean = t(aggregate(t(M1.Z.v), by=list(metadata.tissue$stage), FUN=mean, na.rm = T))\n",
    "         M1.Z.v.mean = M1.Z.v.mean[-1,]\n",
    "    \n",
    "   \n",
    "        tmpdata1 = data.frame( expr = as.vector(M1.Z.v.mean),stringsAsFactors = F,\n",
    "                      stage = rep(c(2,4,5),each = nrow(M1.Z.v.mean)),\n",
    "                      group = factor(rep(c('Young','Elderly','Elderly_Treated'),each = nrow(M1.Z.v.mean)),\n",
    "                                     level = c('Young','Elderly','Elderly_Treated')),\n",
    "                     gene = rep(idgene1,times = ncol(M1.Z.v.mean))\n",
    "                     )\n",
    "        tpvalue1 = t.test(expr~stage, data = tmpdata1, subset = stage == 4 | stage == 5)$p.value\n",
    "        vv1 = paste0('N = ',length(idgene1),'\\n','p=',signif(tpvalue1,2))\n",
    "      p = ggplot(tmpdata1,aes(x= group,y = expr,color = group)) +\n",
    "        geom_line(aes(group = gene),color = 'gray87',alpha = 0.8 ,position = position_dodge(0.2))+\n",
    "        geom_boxplot(width = 0.5,lwd = 0.6,outlier.color = NA,alpha = 0.2,)+scale_color_aaas()+\n",
    "        lghplot.addtheme(hjust = 1)+\n",
    "        geom_point(aes(fill = group,group = gene),alpha = 0.6,size = 1,position = position_dodge(0.2))+\n",
    "        annotate(geom=\"text\", x=2.5, y=0, \n",
    "               label = vv1, color=\"darkblue\",size = 6)+ylab('')+xlab('')+ggtitle(tissuename)+\n",
    "        scale_y_continuous(labels = scales::comma_format(accuracy =0.1))\n",
    "    }else if(direction == 'DOWN'){\n",
    "        \n",
    "        idgene2 = rownames(tmp)[tmp$Pvalue < 0.05 & tmp$log2FC < 0 & !is.na(tmp$Pvalue)]\n",
    "        if(length(idgene2) < 2){\n",
    "             p = plot_blank(tissuename)\n",
    "             return(p)\n",
    "         }\n",
    "        \n",
    "        M1.Z.v1 = M1.Z[idgene2,]\n",
    "        M1.Z.v1.mean = t(aggregate(t(M1.Z.v1), by=list(metadata.tissue$stage), FUN=mean, na.rm = T))\n",
    "        M1.Z.v1.mean = M1.Z.v1.mean[-1,]\n",
    "        \n",
    "        tmpdata2 = data.frame( expr = as.vector(M1.Z.v1.mean),stringsAsFactors = F,\n",
    "                      stage = rep(c(2,4,5),each = nrow(M1.Z.v1.mean)),\n",
    "                      group = factor(rep(c('Young','Elderly','Elderly_Treated'),each = nrow(M1.Z.v1.mean)),\n",
    "                                     level = c('Young','Elderly','Elderly_Treated')),\n",
    "                     gene = rep(idgene2,times = ncol(M1.Z.v1.mean))\n",
    "                     )\n",
    "        tpvalue2 = t.test(expr~stage, data = tmpdata2, subset = stage == 4 | stage == 5)$p.value\n",
    "       vv2 = paste0('N = ',length(idgene2),'\\n','p=',signif(tpvalue2,2))\n",
    "       p = ggplot(tmpdata2,aes(x= group,y = expr,color = group)) +\n",
    "        geom_line(aes(group = gene),color = 'gray87',alpha = 0.8 ,position = position_dodge(0.2))+\n",
    "        geom_boxplot(width = 0.5,lwd = 0.6,outlier.color = NA,alpha = 0.2,)+scale_color_aaas()+\n",
    "        lghplot.addtheme(hjust = 1)+\n",
    "        geom_point(aes(fill = group,group = gene),alpha = 0.6,size = 1,position = position_dodge(0.2))+\n",
    "        annotate(geom=\"text\", x=2.5, y=0, \n",
    "               label = vv2, color=\"darkblue\",size = 6)+ylab('')+xlab('')+ggtitle(tissuename)+\n",
    "        scale_y_continuous(labels = scales::comma_format(accuracy =0.1))\n",
    "    }else{\n",
    "        print('Direction should be UP or DOWN')\n",
    "    }\n",
    "    if (is_x == 0){\n",
    "        p = p+ theme(axis.text.x=element_blank(),axis.title.x=element_blank())\n",
    "    }\n",
    "    return(p)\n",
    "        \n",
    "}\n"
   ]
  },
  {
   "cell_type": "code",
   "execution_count": 355,
   "metadata": {},
   "outputs": [
    {
     "data": {
      "text/html": [
       "<strong>png:</strong> 2"
      ],
      "text/latex": [
       "\\textbf{png:} 2"
      ],
      "text/markdown": [
       "**png:** 2"
      ],
      "text/plain": [
       "png \n",
       "  2 "
      ]
     },
     "metadata": {},
     "output_type": "display_data"
    }
   ],
   "source": [
    "treatPlot.mrna.up = list()\n",
    "for(i in 1:nrow(num_omics.v)){\n",
    "     xi = num_omics.v$tissues[i]\n",
    "      if (i < 21){\n",
    "           treatPlot.mrna.up[[i]] = plot_3group_overall(mrna.tissues[[xi]],DEage.gene[[xi]],\n",
    "                             mrna.tissues.info[[xi]],xi,'UP')\n",
    "      }else{\n",
    "          treatPlot.mrna.up[[i]] = plot_3group_overall(mrna.tissues[[xi]],DEage.gene[[xi]],\n",
    "                             mrna.tissues.info[[xi]],xi,'UP',is_x = 1)\n",
    "          \n",
    "      }\n",
    "}\n",
    "names(treatPlot.mrna.up) = num_omics.v$tissues\n",
    "\n",
    "pdf(file = \"./out/20220519_treatment/Aging_reverse/plot_aging_reverse_mRNA_overall_3group_UP.pdf\",height = 13.8,width = 36)\n",
    "grid.arrange(arrangeGrob(grobs = treatPlot.mrna.up,ncol = 10,heights = c(4.5,4.5,4.8),\n",
    "                         bottom=textGrob('Tissues', gp=gpar(fontface=\"bold\",  fontsize=25)),\n",
    "                         #bottom = 'mRNA expression(log2 FPKM)',\n",
    "                        left = textGrob('Z value of log2 CPM', gp=gpar(fontface=\"bold\",  fontsize=25),rot=90)))\n",
    "dev.off()"
   ]
  },
  {
   "cell_type": "code",
   "execution_count": 356,
   "metadata": {},
   "outputs": [
    {
     "data": {
      "text/html": [
       "<strong>png:</strong> 2"
      ],
      "text/latex": [
       "\\textbf{png:} 2"
      ],
      "text/markdown": [
       "**png:** 2"
      ],
      "text/plain": [
       "png \n",
       "  2 "
      ]
     },
     "metadata": {},
     "output_type": "display_data"
    }
   ],
   "source": [
    "treatPlot.mrna.down = list()\n",
    "for(i in 1:nrow(num_omics.v)){\n",
    "       xi = num_omics.v$tissues[i]\n",
    "      if (i < 21){\n",
    "          treatPlot.mrna.down[[i]] = plot_3group_overall(mrna.tissues[[xi]],DEage.gene[[xi]],\n",
    "                             mrna.tissues.info[[xi]],xi,'DOWN')\n",
    "    }else{\n",
    "         treatPlot.mrna.down[[i]] = plot_3group_overall(mrna.tissues[[xi]],DEage.gene[[xi]],\n",
    "                             mrna.tissues.info[[xi]],xi,'DOWN',is_x = 1)\n",
    "          \n",
    "      }\n",
    "}\n",
    "names(treatPlot.mrna.down) = num_omics.v$tissues\n",
    "\n",
    "pdf(file = \"./out/20220519_treatment/Aging_reverse/plot_aging_reverse_mRNA_overall_3group_DOWN.pdf\",height = 13.8,width = 36)\n",
    "grid.arrange(arrangeGrob(grobs = treatPlot.mrna.down,ncol = 10,heights = c(4.5,4.5,4.8),\n",
    "                         bottom=textGrob('Tissues', gp=gpar(fontface=\"bold\",  fontsize=25)),\n",
    "                         #bottom = 'mRNA expression(log2 FPKM)',\n",
    "                        left = textGrob('Z value of log2 CPM', gp=gpar(fontface=\"bold\",  fontsize=25),rot=90)))\n",
    "dev.off()"
   ]
  },
  {
   "cell_type": "markdown",
   "metadata": {},
   "source": [
    "## protein"
   ]
  },
  {
   "cell_type": "code",
   "execution_count": 241,
   "metadata": {},
   "outputs": [],
   "source": [
    "DEage.pro = list()\n",
    "for(i in 1:nrow(num_omics.v)){\n",
    "    tname = num_omics.v$tissues[i]\n",
    "    tmp = pro.tissues[[tname]]\n",
    "    tmp.clin = pro.tissues.info[[tname]]\n",
    "      DEage.pro[[i]] = DEGenes.simplified(tmp,catagory = tmp.clin$stage == 4, \n",
    "                                           subset = tmp.clin$stage == 2 | tmp.clin$stage == 4)\n",
    "}\n",
    "names(DEage.pro) = num_omics.v$tissues"
   ]
  },
  {
   "cell_type": "code",
   "execution_count": 357,
   "metadata": {},
   "outputs": [
    {
     "data": {
      "text/html": [
       "<strong>png:</strong> 2"
      ],
      "text/latex": [
       "\\textbf{png:} 2"
      ],
      "text/markdown": [
       "**png:** 2"
      ],
      "text/plain": [
       "png \n",
       "  2 "
      ]
     },
     "metadata": {},
     "output_type": "display_data"
    }
   ],
   "source": [
    "treatPlot.pro.up = list()\n",
    "for(i in 1:nrow(num_omics.v)){\n",
    "       xi = num_omics.v$tissues[i]\n",
    "    if (i < 21){\n",
    "       treatPlot.pro.up[[i]] = plot_3group_overall(pro.tissues[[xi]],DEage.pro[[xi]],\n",
    "                             pro.tissues.info[[xi]],xi,'UP')\n",
    "    }else{\n",
    "        treatPlot.pro.up[[i]] = plot_3group_overall(pro.tissues[[xi]],DEage.pro[[xi]],\n",
    "                             pro.tissues.info[[xi]],xi,'UP',is_x = 1)\n",
    "    }\n",
    "}\n",
    "names(treatPlot.pro.up) = num_omics.v$tissues\n",
    "\n",
    "pdf(file = \"./out/20220519_treatment/Aging_reverse/plot_aging_reverse_pro_overall_3group_UP.pdf\",height = 13.8,width = 36)\n",
    "grid.arrange(arrangeGrob(grobs = treatPlot.pro.up,ncol = 10,heights = c(4.5,4.5,4.8),\n",
    "                         bottom=textGrob('Tissues', gp=gpar(fontface=\"bold\",  fontsize=25)),\n",
    "                         #bottom = 'pro expression(log2 FPKM)',\n",
    "                        left = textGrob('Z value of log2 protein abundance', gp=gpar(fontface=\"bold\",  fontsize=25),rot=90)))\n",
    "dev.off()"
   ]
  },
  {
   "cell_type": "code",
   "execution_count": 358,
   "metadata": {},
   "outputs": [
    {
     "data": {
      "text/html": [
       "<strong>png:</strong> 2"
      ],
      "text/latex": [
       "\\textbf{png:} 2"
      ],
      "text/markdown": [
       "**png:** 2"
      ],
      "text/plain": [
       "png \n",
       "  2 "
      ]
     },
     "metadata": {},
     "output_type": "display_data"
    }
   ],
   "source": [
    "treatPlot.pro.down = list()\n",
    "for(i in 1:nrow(num_omics.v)){\n",
    "    xi = num_omics.v$tissues[i]\n",
    "    if (i < 21){\n",
    "      treatPlot.pro.down[[i]] = plot_3group_overall(pro.tissues[[xi]],DEage.pro[[xi]],\n",
    "                             pro.tissues.info[[xi]],xi,'DOWN')\n",
    "    }else{\n",
    "      treatPlot.pro.down[[i]] = plot_3group_overall(pro.tissues[[xi]],DEage.pro[[xi]],\n",
    "                             pro.tissues.info[[xi]],xi,'DOWN',is_x =1)\n",
    "        \n",
    "    }\n",
    "}\n",
    "names(treatPlot.pro.down) = num_omics.v$tissues\n",
    "\n",
    "pdf(file = \"./out/20220519_treatment/Aging_reverse/plot_aging_reverse_pro_overall_3group_DOWN.pdf\",height = 13.8,width = 36)\n",
    "grid.arrange(arrangeGrob(grobs = treatPlot.pro.down,ncol = 10,heights = c(4.5,4.5,4.8),\n",
    "                         bottom=textGrob('Tissues', gp=gpar(fontface=\"bold\",  fontsize=25)),\n",
    "                        left = textGrob('Z value of log2 protein abundance', gp=gpar(fontface=\"bold\",  fontsize=25),rot=90)))\n",
    "dev.off()"
   ]
  },
  {
   "cell_type": "markdown",
   "metadata": {},
   "source": [
    "## metabolites"
   ]
  },
  {
   "cell_type": "code",
   "execution_count": 274,
   "metadata": {},
   "outputs": [],
   "source": [
    "DEage.met = list()\n",
    "for(i in 1:nrow(num_omics.v)){\n",
    "    tname = num_omics.v$tissues[i]\n",
    "    tmp = met.tissues[[tname]]\n",
    "    tmp.clin = met.tissues.info[[tname]]\n",
    "      DEage.met[[i]] = DEGenes.simplified(tmp,catagory = tmp.clin$stage == 4, \n",
    "                                           subset = tmp.clin$stage == 2 | tmp.clin$stage == 4)\n",
    "}\n",
    "names(DEage.met) = num_omics.v$tissues"
   ]
  },
  {
   "cell_type": "code",
   "execution_count": 359,
   "metadata": {},
   "outputs": [
    {
     "data": {
      "text/html": [
       "<strong>png:</strong> 2"
      ],
      "text/latex": [
       "\\textbf{png:} 2"
      ],
      "text/markdown": [
       "**png:** 2"
      ],
      "text/plain": [
       "png \n",
       "  2 "
      ]
     },
     "metadata": {},
     "output_type": "display_data"
    }
   ],
   "source": [
    "treatPlot.met.up = list()\n",
    "for(i in 1:nrow(num_omics.v)){\n",
    "       xi = num_omics.v$tissues[i]\n",
    "      if (i < 21){\n",
    "             treatPlot.met.up[[i]] = plot_3group_overall(met.tissues[[xi]],DEage.met[[xi]],\n",
    "                             met.tissues.info[[xi]],xi,'UP')\n",
    "        }else{\n",
    "            treatPlot.met.up[[i]] = plot_3group_overall(met.tissues[[xi]],DEage.met[[xi]],\n",
    "                             met.tissues.info[[xi]],xi,'UP',is_x  =1)  \n",
    "      }\n",
    "}\n",
    "names(treatPlot.met.up) = num_omics.v$tissues\n",
    "\n",
    "pdf(file = \"./out/20220519_treatment/Aging_reverse/plot_aging_reverse_met_overall_3group_UP.pdf\",height = 13.8,width = 36)\n",
    "grid.arrange(arrangeGrob(grobs = treatPlot.met.up,ncol = 10,heights = c(4.5,4.5,4.8),\n",
    "                         bottom=textGrob('Tissues', gp=gpar(fontface=\"bold\",  fontsize=25)),\n",
    "                         #bottom = 'met expression(log2 FPKM)',\n",
    "                        left = textGrob('Z value of log2 metabolite abundance', gp=gpar(fontface=\"bold\",  fontsize=25),rot=90)))\n",
    "dev.off()"
   ]
  },
  {
   "cell_type": "code",
   "execution_count": 360,
   "metadata": {},
   "outputs": [
    {
     "data": {
      "text/html": [
       "<strong>png:</strong> 2"
      ],
      "text/latex": [
       "\\textbf{png:} 2"
      ],
      "text/markdown": [
       "**png:** 2"
      ],
      "text/plain": [
       "png \n",
       "  2 "
      ]
     },
     "metadata": {},
     "output_type": "display_data"
    }
   ],
   "source": [
    "treatPlot.met.down = list()\n",
    "for(i in 1:nrow(num_omics.v)){\n",
    "       xi = num_omics.v$tissues[i]\n",
    "      if (i < 21){\n",
    "            treatPlot.met.down[[i]] = plot_3group_overall(met.tissues[[xi]],DEage.met[[xi]],\n",
    "                             met.tissues.info[[xi]],xi,'DOWN')\n",
    "      }else{\n",
    "            treatPlot.met.down[[i]] = plot_3group_overall(met.tissues[[xi]],DEage.met[[xi]],\n",
    "                             met.tissues.info[[xi]],xi,'DOWN',is_x = 1) \n",
    "      }\n",
    "}\n",
    "names(treatPlot.met.down) = num_omics.v$tissues\n",
    "\n",
    "pdf(file = \"./out/20220519_treatment/Aging_reverse/plot_aging_reverse_met_overall_3group_DOWN.pdf\",height = 13.8,width = 36)\n",
    "grid.arrange(arrangeGrob(grobs = treatPlot.met.down,ncol = 10,heights = c(4.5,4.5,4.8),\n",
    "                         bottom=textGrob('Tissues', gp=gpar(fontface=\"bold\",  fontsize=25)),\n",
    "                        left = textGrob('Z value of log2 metabolite abundance', gp=gpar(fontface=\"bold\",  fontsize=25),rot=90)))\n",
    "dev.off()"
   ]
  },
  {
   "cell_type": "markdown",
   "metadata": {},
   "source": [
    "# Figure 5: reverse Aging related mols"
   ]
  },
  {
   "cell_type": "markdown",
   "metadata": {},
   "source": [
    "## Aging related protein"
   ]
  },
  {
   "cell_type": "code",
   "execution_count": 293,
   "metadata": {},
   "outputs": [],
   "source": [
    "plot_5group_overall <- function(M1,lmExpr.age,metadata.tissue,tissuename,is_x=0){\n",
    "    agegene = rownames(M1)[lmExpr.age$p.age < 0.05]\n",
    "    if (sum(metadata.tissue$stage == '1',na.rm = T) > 1){\n",
    "        cc = repmat(as.matrix(rowMedians(M1[,metadata.tissue$stage == '1'])),1,ncol(M1))\n",
    "    }else{\n",
    "        cc = repmat(as.matrix(M1[,metadata.tissue$stage == '1'],na.rm = T),1,ncol(M1))\n",
    "    }\n",
    "    tsd = repmat(as.matrix(apply(M1,1,sd,na.rm = T)),1,ncol(M1))\n",
    "    M1.Z = (M1 - cc)/tsd\n",
    "    \n",
    "    idgene1 = rownames(lmExpr.age)[lmExpr.age$p.age < 0.05 & lmExpr.age$beta.age > 0  & !is.na(lmExpr.age$p.age)]\n",
    "    M1.Z.v = M1.Z[idgene1,]\n",
    "    M1.Z.v.mean = t(aggregate(t(M1.Z.v), by=list(metadata.tissue$stage), FUN=mean, na.rm = T))\n",
    "    M1.Z.v.mean = M1.Z.v.mean[-1,]\n",
    "    \n",
    "    idgene2 = rownames(lmExpr.age)[lmExpr.age$p.age < 0.05 & lmExpr.age$beta.age < 0  & !is.na(lmExpr.age$p.age)]\n",
    "    M1.Z.v1 = M1.Z[idgene2,]\n",
    "    M1.Z.v1.mean = t(aggregate(t(M1.Z.v1), by=list(metadata.tissue$stage), FUN=mean, na.rm = T))\n",
    "    M1.Z.v1.mean = M1.Z.v1.mean[-1,]\n",
    "    tmpdata1 = data.frame( expr = as.vector(M1.Z.v.mean),stringsAsFactors = F,\n",
    "                      stage = rep(unique(metadata.tissue$stage),each = nrow(M1.Z.v.mean)),\n",
    "                     gene = rep(idgene1,times = ncol(M1.Z.v.mean))\n",
    "                     )\n",
    "    tmpdata2 = data.frame( expr = as.vector(M1.Z.v1.mean),stringsAsFactors = F,\n",
    "                      stage = rep(unique(metadata.tissue$stage),each = nrow(M1.Z.v1.mean)),\n",
    "                     gene = rep(idgene2,times = ncol(M1.Z.v1.mean))\n",
    "                     )\n",
    "    \n",
    "    tmpdata = rbind(tmpdata1,tmpdata2)\n",
    "    tmpdata$direction = c(rep('UP',nrow(tmpdata1)),rep('DOWN',nrow(tmpdata2)))\n",
    "    if(length(idgene1) < 2 | length(idgene2) < 2){\n",
    "      p = ggplot(,aes(x=1:5,y = c(-1.5, -0.5, 0, 0.5,  1.5))) +theme_classic()+lghplot.addtheme(hjust = 1,size = 16)+  \n",
    "      xlab('')+ ylab('')+ theme(axis.text.x = element_text(size = 15,face = 'bold',color = \"black\"))+\n",
    "      scale_x_continuous(labels=c(\"1\" = \"Juvenile\", \"2\" = \"Young\",\"3\" = \"Middle_aged\",\n",
    "                                  \"4\" = \"Elderly\",\"5\" = \"Elderly_Treated\"))+\n",
    "      \n",
    "      scale_y_continuous(labels = scales::comma_format(accuracy =0.1)) +\n",
    "      ggtitle(tissuename)+scale_color_aaas(alpha = 1)#+ ylim(-1.5,1.5)\n",
    "      if (is_x == 0){\n",
    "        p = p+ theme(axis.text.x=element_blank(),axis.title.x=element_blank())\n",
    "       }\n",
    "        return(p)\n",
    "    }\n",
    "    \n",
    "    if (tissuename == 'Arteria_cruralis'){\n",
    "        tissuename = 'Femoral_artery'\n",
    "    }\n",
    "    \n",
    "    tpvalue1 = t.test(expr~stage, data = tmpdata1, subset = stage == '4' | stage == '5')$p.value\n",
    "    tpvalue2 = t.test(expr~stage, data = tmpdata2, subset = stage == '4' | stage == '5')$p.value\n",
    "    vv1 = paste0('N = ',length(idgene1),'\\n','p=',signif(tpvalue1,2))\n",
    "    vv2 = paste0('N = ',length(idgene2),'\\n','p=',signif(tpvalue2,2))\n",
    "    p = ggplot(tmpdata,aes(stage,expr,color = direction))+\n",
    "      geom_smooth(method = 'loess',se = T,size = 1, alpha = 0.5)+ theme_classic()+lghplot.addtheme(hjust = 1,size = 16)+  \n",
    "      xlab('')+ ylab('')+theme(axis.text.x = element_text(size = 15,face = 'bold',color = \"black\"))+\n",
    "      scale_x_continuous(labels=c(\"1\" = \"Juvenile\", \"2\" = \"Young\",\"3\" = \"Middle_aged\",\n",
    "                                  \"4\" = \"Elderly\",\"5\" = \"Elderly_Treated\"))+\n",
    "       annotate(geom=\"text\", x=2, y=1.0, #fontface =2,#label=text,\n",
    "               label = vv1, color=\"darkblue\",size = 6)+\n",
    "      scale_y_continuous(labels = scales::comma_format(accuracy =0.1)) +\n",
    "     ggtitle(tissuename)+scale_color_aaas(alpha = 1)+ #ylim(-1.5,1.5)+\n",
    "      annotate(geom=\"text\", x=2, y=-1.0, #fontface =2,#label=text,\n",
    "               label = vv2, color=\"darkblue\",size = 6)\n",
    "        \n",
    "    if (is_x == 0){\n",
    "        p = p+ theme(axis.text.x=element_blank(),axis.title.x=element_blank())\n",
    "    }\n",
    "    return(p)\n",
    "}"
   ]
  },
  {
   "cell_type": "code",
   "execution_count": 13,
   "metadata": {},
   "outputs": [
    {
     "name": "stderr",
     "output_type": "stream",
     "text": [
      "Note: model has aliased coefficients\n",
      "      sums of squares computed by model comparison\n",
      "Note: model has aliased coefficients\n",
      "      sums of squares computed by model comparison\n",
      "Note: model has aliased coefficients\n",
      "      sums of squares computed by model comparison\n",
      "Note: model has aliased coefficients\n",
      "      sums of squares computed by model comparison\n",
      "Note: model has aliased coefficients\n",
      "      sums of squares computed by model comparison\n"
     ]
    }
   ],
   "source": [
    "lmExpr.age = list()\n",
    "for(i in 1:length(pro.tissues)){\n",
    "      lmExpr.age[[i]] = get_lmExpr(pro.tissues[[i]],pro.tissues.info[[i]])\n",
    "}\n",
    "names(lmExpr.age) = names(pro.tissues)\n",
    "save(list = c('lmExpr.age'),file = './out/20220519_treatment/Aging_reverse/lmExpr.age_pro.Rdata')"
   ]
  },
  {
   "cell_type": "code",
   "execution_count": 36,
   "metadata": {},
   "outputs": [],
   "source": [
    "# write Data S1\n",
    "load('./out/20220519_treatment/Aging_reverse/lmExpr.age_pro.Rdata')\n",
    "DEtreat.pro = list()\n",
    "outlist = list()\n",
    "for(i in 1:length(pro.tissues)){\n",
    "      DEtreat.pro[[i]] = get_DEexpr.treat(pro.tissues[[i]],pro.tissues.info[[i]])\n",
    "      tmp = cbind(lmExpr.age[[i]],DEtreat.pro[[i]])\n",
    "      tmp = tmp[,c('ID','meanExpr','beta.age','p.age','log2FC','Pvalue')]\n",
    "      colnames(tmp) = c('ID','meanExpr.log2','beta.age','p.age','Treat_vs_elderly_log2FC','Treat_vs_elderly_Pvalue')\n",
    "      idx = sort.int(tmp$p.age,decreasing = F,index.return = T)$ix\n",
    "      tmp = tmp[idx,]\n",
    "      tmp = tmp[tmp$p.age < 0.05,]\n",
    "      outlist[[i]] = tmp\n",
    "      \n",
    "}\n",
    "names(outlist) = names(pro.tissues)\n",
    "names(DEtreat.pro) = names(pro.tissues)\n",
    "#sort outlist\n",
    "outlist.v = list()\n",
    "for(i in 1:length(pro.tissues)){\n",
    "    xi = num_omics.v$tissues[i]\n",
    "    outlist.v[[i]] = outlist[[xi]]\n",
    "}\n",
    "names(outlist.v) = num_omics.v$tissues\n",
    "openxlsx::write.xlsx(outlist.v, file = \"./out/20220519_treatment/Aging_reverse/Data S1_aging_treat_reverse_pro.xlsx\")"
   ]
  },
  {
   "cell_type": "code",
   "execution_count": 295,
   "metadata": {},
   "outputs": [],
   "source": [
    "agePlot = list()\n",
    "for(i in 1:length(pro.tissues)){\n",
    "    xi = num_omics.v$tissues[i]\n",
    "    if (i < 21){\n",
    "      agePlot[[i]] = plot_5group_overall(pro.tissues[[xi]],lmExpr.age[[xi]],\n",
    "                             pro.tissues.info[[xi]],xi)\n",
    "    }else{\n",
    "      agePlot[[i]] = plot_5group_overall(pro.tissues[[xi]],lmExpr.age[[xi]],\n",
    "                             pro.tissues.info[[xi]],xi,is_x = 1)\n",
    "    }\n",
    "    \n",
    "}\n",
    "names(agePlot) = num_omics.v$tissues"
   ]
  },
  {
   "cell_type": "code",
   "execution_count": 298,
   "metadata": {
    "collapsed": true
   },
   "outputs": [
    {
     "name": "stderr",
     "output_type": "stream",
     "text": [
      "`geom_smooth()` using formula 'y ~ x'\n",
      "`geom_smooth()` using formula 'y ~ x'\n",
      "`geom_smooth()` using formula 'y ~ x'\n",
      "`geom_smooth()` using formula 'y ~ x'\n",
      "`geom_smooth()` using formula 'y ~ x'\n",
      "`geom_smooth()` using formula 'y ~ x'\n",
      "`geom_smooth()` using formula 'y ~ x'\n",
      "`geom_smooth()` using formula 'y ~ x'\n",
      "`geom_smooth()` using formula 'y ~ x'\n",
      "`geom_smooth()` using formula 'y ~ x'\n",
      "`geom_smooth()` using formula 'y ~ x'\n",
      "`geom_smooth()` using formula 'y ~ x'\n",
      "`geom_smooth()` using formula 'y ~ x'\n",
      "`geom_smooth()` using formula 'y ~ x'\n",
      "`geom_smooth()` using formula 'y ~ x'\n",
      "`geom_smooth()` using formula 'y ~ x'\n",
      "`geom_smooth()` using formula 'y ~ x'\n",
      "`geom_smooth()` using formula 'y ~ x'\n",
      "`geom_smooth()` using formula 'y ~ x'\n",
      "`geom_smooth()` using formula 'y ~ x'\n",
      "`geom_smooth()` using formula 'y ~ x'\n",
      "`geom_smooth()` using formula 'y ~ x'\n",
      "`geom_smooth()` using formula 'y ~ x'\n",
      "`geom_smooth()` using formula 'y ~ x'\n",
      "`geom_smooth()` using formula 'y ~ x'\n",
      "`geom_smooth()` using formula 'y ~ x'\n",
      "`geom_smooth()` using formula 'y ~ x'\n",
      "`geom_smooth()` using formula 'y ~ x'\n",
      "`geom_smooth()` using formula 'y ~ x'\n",
      "`geom_smooth()` using formula 'y ~ x'\n"
     ]
    },
    {
     "data": {
      "text/html": [
       "<strong>png:</strong> 2"
      ],
      "text/latex": [
       "\\textbf{png:} 2"
      ],
      "text/markdown": [
       "**png:** 2"
      ],
      "text/plain": [
       "png \n",
       "  2 "
      ]
     },
     "metadata": {},
     "output_type": "display_data"
    }
   ],
   "source": [
    "pdf(file = \"./out/20220519_treatment/Aging_reverse/plot_aging_reverse_protein_overall_v1.pdf\",height = 12.6,width = 36)\n",
    "grid.arrange(arrangeGrob(grobs = agePlot,ncol = 10,heights = c(3.5,3.5,4.6),\n",
    "                         bottom=textGrob('Tissues', gp=gpar(fontface=\"bold\",  fontsize=25)),\n",
    "                         #bottom = 'mRNA expression(log2 FPKM)',\n",
    "                        left = textGrob('Z value of log2 protein abundance', gp=gpar(fontface=\"bold\",  fontsize=25),rot=90)))\n",
    "dev.off()"
   ]
  },
  {
   "cell_type": "markdown",
   "metadata": {},
   "source": [
    "## Aging related metabolites"
   ]
  },
  {
   "cell_type": "code",
   "execution_count": 53,
   "metadata": {},
   "outputs": [],
   "source": [
    "lmExpr.met = list()\n",
    "for(i in 1:length(met.tissues)){\n",
    "      lmExpr.met[[i]] = get_lmExpr(met.tissues[[i]],met.tissues.info[[i]])\n",
    "}\n",
    "names(lmExpr.met) = names(met.tissues)\n",
    "save(list = c('lmExpr.met'),file = './out/20220519_treatment/Aging_reverse/lmExpr.age_met.Rdata')"
   ]
  },
  {
   "cell_type": "code",
   "execution_count": 40,
   "metadata": {},
   "outputs": [],
   "source": [
    "# write Data S2\n",
    "load('./out/20220519_treatment/Aging_reverse/lmExpr.age_met.Rdata')\n",
    "DEtreat.met = list()\n",
    "outlist = list()\n",
    "for(i in 1:length(met.tissues)){\n",
    "      DEtreat.met[[i]] = get_DEexpr.treat(met.tissues[[i]],met.tissues.info[[i]])\n",
    "      tmp = cbind(lmExpr.met[[i]],DEtreat.met[[i]])\n",
    "      tmp = tmp[,c('ID','meanExpr','beta.age','p.age','log2FC','Pvalue')]\n",
    "      colnames(tmp) = c('ID','meanExpr.log2','beta.age','p.age','Treat_vs_elderly_log2FC','Treat_vs_elderly_Pvalue')\n",
    "      idx = sort.int(tmp$p.age,decreasing = F,index.return = T)$ix\n",
    "      tmp = tmp[idx,]\n",
    "      tmp = tmp[tmp$p.age < 0.05,]\n",
    "      outlist[[i]] = tmp\n",
    "      \n",
    "}\n",
    "names(outlist) = names(met.tissues)\n",
    "names(DEtreat.met) = names(met.tissues)\n",
    "#sort outlist\n",
    "outlist.v = list()\n",
    "for(i in 1:length(met.tissues)){\n",
    "    xi = num_omics.v$tissues[i]\n",
    "    outlist.v[[i]] = outlist[[xi]]\n",
    "}\n",
    "names(outlist.v) = num_omics.v$tissues\n",
    "openxlsx::write.xlsx(outlist.v, file = \"./out/20220519_treatment/Aging_reverse/Data S2_aging_treat_reverse_met.xlsx\")"
   ]
  },
  {
   "cell_type": "code",
   "execution_count": 301,
   "metadata": {},
   "outputs": [],
   "source": [
    "agePlot.met = list()\n",
    "for(i in 1:length(met.tissues)){\n",
    "    xi = num_omics.v$tissues[i]\n",
    "    if (i < 21){\n",
    "      agePlot.met[[i]] = plot_5group_overall(met.tissues[[xi]],lmExpr.met[[xi]],\n",
    "                             met.tissues.info[[xi]],xi)\n",
    "    }else{\n",
    "      agePlot.met[[i]] = plot_5group_overall(met.tissues[[xi]],lmExpr.met[[xi]],\n",
    "                             met.tissues.info[[xi]],xi,is_x = 1)\n",
    "    }\n",
    "    \n",
    "}\n",
    "names(agePlot.met) = num_omics.v$tissues"
   ]
  },
  {
   "cell_type": "code",
   "execution_count": 302,
   "metadata": {},
   "outputs": [
    {
     "name": "stderr",
     "output_type": "stream",
     "text": [
      "`geom_smooth()` using formula 'y ~ x'\n",
      "`geom_smooth()` using formula 'y ~ x'\n",
      "`geom_smooth()` using formula 'y ~ x'\n",
      "`geom_smooth()` using formula 'y ~ x'\n",
      "`geom_smooth()` using formula 'y ~ x'\n",
      "`geom_smooth()` using formula 'y ~ x'\n",
      "`geom_smooth()` using formula 'y ~ x'\n",
      "`geom_smooth()` using formula 'y ~ x'\n",
      "`geom_smooth()` using formula 'y ~ x'\n",
      "`geom_smooth()` using formula 'y ~ x'\n",
      "`geom_smooth()` using formula 'y ~ x'\n",
      "`geom_smooth()` using formula 'y ~ x'\n",
      "`geom_smooth()` using formula 'y ~ x'\n",
      "`geom_smooth()` using formula 'y ~ x'\n",
      "`geom_smooth()` using formula 'y ~ x'\n",
      "`geom_smooth()` using formula 'y ~ x'\n",
      "`geom_smooth()` using formula 'y ~ x'\n",
      "`geom_smooth()` using formula 'y ~ x'\n",
      "`geom_smooth()` using formula 'y ~ x'\n",
      "`geom_smooth()` using formula 'y ~ x'\n",
      "`geom_smooth()` using formula 'y ~ x'\n",
      "`geom_smooth()` using formula 'y ~ x'\n",
      "`geom_smooth()` using formula 'y ~ x'\n",
      "`geom_smooth()` using formula 'y ~ x'\n",
      "`geom_smooth()` using formula 'y ~ x'\n",
      "`geom_smooth()` using formula 'y ~ x'\n",
      "`geom_smooth()` using formula 'y ~ x'\n",
      "`geom_smooth()` using formula 'y ~ x'\n",
      "`geom_smooth()` using formula 'y ~ x'\n",
      "`geom_smooth()` using formula 'y ~ x'\n"
     ]
    },
    {
     "data": {
      "text/html": [
       "<strong>null device:</strong> 1"
      ],
      "text/latex": [
       "\\textbf{null device:} 1"
      ],
      "text/markdown": [
       "**null device:** 1"
      ],
      "text/plain": [
       "null device \n",
       "          1 "
      ]
     },
     "metadata": {},
     "output_type": "display_data"
    }
   ],
   "source": [
    "graphics.off()\n",
    "pdf(file = \"./out/20220519_treatment/Aging_reverse/plot_aging_reverse_met_overall_v1.pdf\",height = 12.6,width = 36)\n",
    "grid.arrange(arrangeGrob(grobs = agePlot.met,ncol = 10,heights = c(3.5,3.5,4.6),\n",
    "                         bottom=textGrob('Tissues', gp=gpar(fontface=\"bold\",  fontsize=25)),\n",
    "                         #bottom = 'mRNA expression(log2 FPKM)',\n",
    "                        left = textGrob('Z value of log2 metabolite abundance', gp=gpar(fontface=\"bold\",  fontsize=25),rot=90)))\n",
    "dev.off()"
   ]
  },
  {
   "cell_type": "markdown",
   "metadata": {},
   "source": [
    "## Aging related transcripts"
   ]
  },
  {
   "cell_type": "code",
   "execution_count": 56,
   "metadata": {},
   "outputs": [],
   "source": [
    "lmExpr.age.mrna = list()\n",
    "for(i in 1:length(mrna.tissues)){\n",
    "      lmExpr.age.mrna[[i]] = get_lmExpr(mrna.tissues[[i]],mrna.tissues.info[[i]])\n",
    "}\n",
    "names(lmExpr.age.mrna) = names(mrna.tissues)\n",
    "save(list = c('lmExpr.age.mrna'),file = './out/20220519_treatment/Aging_reverse/lmExpr.age_mrna.Rdata')"
   ]
  },
  {
   "cell_type": "code",
   "execution_count": 48,
   "metadata": {},
   "outputs": [],
   "source": [
    "# write Data S3\n",
    "load('./out/20220519_treatment/Aging_reverse/lmExpr.age_mrna.Rdata')\n",
    "DEtreat.mrna = list()\n",
    "outlist = list()\n",
    "for(i in 1:nrow(num_omics.v)){\n",
    "      xx =num_omics.v$tissues[i]\n",
    "      DEtreat.mrna[[i]] = get_DEexpr.treat(mrna.tissues[[xx]],mrna.tissues.info[[xx]])\n",
    "      tmp = cbind(lmExpr.age.mrna[[xx]],DEtreat.mrna[[i]])\n",
    "      tmp = tmp[,c('ID','meanExpr','beta.age','p.age','log2FC','Pvalue')]\n",
    "      colnames(tmp) = c('ID','meanExpr.log2','beta.age','p.age','Treat_vs_elderly_log2FC','Treat_vs_elderly_Pvalue')\n",
    "      idx = sort.int(tmp$p.age,decreasing = F,index.return = T)$ix\n",
    "      tmp = tmp[idx,]\n",
    "      tmp = tmp[tmp$p.age < 0.05,]\n",
    "      outlist[[i]] = tmp\n",
    "      \n",
    "}\n",
    "names(outlist) = num_omics.v$tissues\n",
    "names(DEtreat.mrna) = num_omics.v$tissues\n",
    "#sort outlist\n",
    "outlist.v = list()\n",
    "for(i in 1:nrow(num_omics.v)){\n",
    "    xi = num_omics.v$tissues[i]\n",
    "    outlist.v[[i]] = outlist[[xi]]\n",
    "}\n",
    "names(outlist.v) = num_omics.v$tissues\n",
    "openxlsx::write.xlsx(outlist.v, file = \"./out/20220519_treatment/Aging_reverse/Data S3_aging_treat_reverse_mrna.xlsx\")"
   ]
  },
  {
   "cell_type": "code",
   "execution_count": 303,
   "metadata": {},
   "outputs": [],
   "source": [
    "agePlot.mrna = list()\n",
    "for(i in 1:30){\n",
    "    xx =num_omics.v$tissues[i]\n",
    "    if (i < 21){\n",
    "      agePlot.mrna[[i]] = plot_5group_overall(mrna.tissues[[xx]],lmExpr.age.mrna[[xx]],\n",
    "                             mrna.tissues.info[[xx]],xx)\n",
    "    }else{\n",
    "      agePlot.mrna[[i]] = plot_5group_overall(mrna.tissues[[xx]],lmExpr.age.mrna[[xx]],\n",
    "                             mrna.tissues.info[[xx]],xx,is_x = 1)\n",
    "    }\n",
    "    \n",
    "}\n",
    "names(agePlot.mrna) = num_omics.v$tissues"
   ]
  },
  {
   "cell_type": "code",
   "execution_count": 304,
   "metadata": {},
   "outputs": [
    {
     "name": "stderr",
     "output_type": "stream",
     "text": [
      "`geom_smooth()` using formula 'y ~ x'\n",
      "`geom_smooth()` using formula 'y ~ x'\n",
      "`geom_smooth()` using formula 'y ~ x'\n",
      "`geom_smooth()` using formula 'y ~ x'\n",
      "`geom_smooth()` using formula 'y ~ x'\n",
      "`geom_smooth()` using formula 'y ~ x'\n",
      "`geom_smooth()` using formula 'y ~ x'\n",
      "`geom_smooth()` using formula 'y ~ x'\n",
      "`geom_smooth()` using formula 'y ~ x'\n",
      "`geom_smooth()` using formula 'y ~ x'\n",
      "`geom_smooth()` using formula 'y ~ x'\n",
      "`geom_smooth()` using formula 'y ~ x'\n",
      "`geom_smooth()` using formula 'y ~ x'\n",
      "`geom_smooth()` using formula 'y ~ x'\n",
      "`geom_smooth()` using formula 'y ~ x'\n",
      "`geom_smooth()` using formula 'y ~ x'\n",
      "`geom_smooth()` using formula 'y ~ x'\n",
      "`geom_smooth()` using formula 'y ~ x'\n",
      "`geom_smooth()` using formula 'y ~ x'\n",
      "`geom_smooth()` using formula 'y ~ x'\n",
      "`geom_smooth()` using formula 'y ~ x'\n",
      "`geom_smooth()` using formula 'y ~ x'\n",
      "`geom_smooth()` using formula 'y ~ x'\n",
      "`geom_smooth()` using formula 'y ~ x'\n",
      "`geom_smooth()` using formula 'y ~ x'\n",
      "`geom_smooth()` using formula 'y ~ x'\n",
      "`geom_smooth()` using formula 'y ~ x'\n",
      "`geom_smooth()` using formula 'y ~ x'\n",
      "`geom_smooth()` using formula 'y ~ x'\n",
      "`geom_smooth()` using formula 'y ~ x'\n"
     ]
    },
    {
     "data": {
      "text/html": [
       "<strong>null device:</strong> 1"
      ],
      "text/latex": [
       "\\textbf{null device:} 1"
      ],
      "text/markdown": [
       "**null device:** 1"
      ],
      "text/plain": [
       "null device \n",
       "          1 "
      ]
     },
     "metadata": {},
     "output_type": "display_data"
    }
   ],
   "source": [
    "graphics.off()\n",
    "pdf(file = \"./out/20220519_treatment/Aging_reverse/plot_aging_reverse_mrna_overall_v1.pdf\",height = 12.6,width = 36)\n",
    "grid.arrange(arrangeGrob(grobs = agePlot.mrna,ncol =10,heights = c(3.5,3.5,4.6),\n",
    "                         bottom=textGrob('Tissues', gp=gpar(fontface=\"bold\",  fontsize=25)),\n",
    "                         #bottom = 'mRNA expression(log2 FPKM)',\n",
    "                        left = textGrob('Z value of log2 CPM', gp=gpar(fontface=\"bold\",  fontsize=25),rot=90)))\n",
    "dev.off()"
   ]
  },
  {
   "cell_type": "markdown",
   "metadata": {},
   "source": [
    "# Figure 6: trajactories rescue"
   ]
  },
  {
   "cell_type": "markdown",
   "metadata": {},
   "source": [
    "## data construction"
   ]
  },
  {
   "cell_type": "code",
   "execution_count": 75,
   "metadata": {},
   "outputs": [],
   "source": [
    "tissues = names(pro.tissues)\n",
    "promet.tissues = list()\n",
    "promet.tissues.info = list()\n",
    "promet.tissues.Z = list()\n",
    "mfuzz.promet.tissues = list()\n",
    "promet.mstd.eset = list()\n",
    "for(i in 1:length(tissues)){\n",
    "#for(i in 1:1){\n",
    "    tt = tissues[i]\n",
    "    thispro = pro.tissues[[tt]]\n",
    "    thispro = delete_dup_genes_forprotein(thispro,pro.tissues.header[[tt]])\n",
    "    thispro.header = pro.tissues.header[[tt]]\n",
    "    thispro = thispro[rowSums(is.na(thispro)) < 1/3*ncol(thispro), ]\n",
    "       #thispro = impute(delete_dup_genes_forprotein(thispro,thispro.header))\n",
    "    thismet = met.tissues[[tt]]\n",
    "       #idxx = which(is.element(rownames(thismet), rownames(thispro)))\n",
    "       #rownames(thismet)[idxx] = paste0('met_',rownames(thismet)[idxx])\n",
    "    rownames(thismet) = paste0('met_',rownames(thismet))\n",
    "    thispromet = rbind2(thispro,thismet)\n",
    "    #thispromet = thispro\n",
    "    thisinfo = pro.tissues.info[[tt]]\n",
    "    thisinfo = thisinfo[colnames(thispromet),]\n",
    "    thispromet.median = t(aggregate(t(thispromet), by=list(thisinfo$stage), FUN=median, na.rm = T))\n",
    "       #thispromet.median.eset = new(\"ExpressionSet\",exprs = thispromet.median)\n",
    "       #promet.norm.eset = filter.std(promet.norm.eset,min.std=0)\n",
    "       #thispromet.median.eset.stand  =  standardise(thispromet.median.eset)\n",
    "    mstd = standardise_matrix(thispromet.median)\n",
    "    promet.tissues.Z[[i]] = mstd\n",
    "    promet.tissues[[i]] = thispromet\n",
    "    promet.tissues.info[[i]] = thisinfo\n",
    "    mstd.v = mstd[rowSums(is.na(mstd))  == 0,]\n",
    "    mstd.eset = new(\"ExpressionSet\",exprs = mstd.v)\n",
    "    promet.mstd.eset[[i]] = mstd.eset\n",
    "    mfuzz.promet.tissues[[i]] = mfuzz(mstd.eset, c = 8,m = 1.5)\n",
    "\n",
    "}\n",
    "names(mfuzz.promet.tissues) = tissues\n",
    "names(promet.tissues) = tissues\n",
    "names(promet.tissues.Z) = tissues\n",
    "names(promet.tissues.info) = tissues\n",
    "names(promet.mstd.eset) = tissues"
   ]
  },
  {
   "cell_type": "code",
   "execution_count": 76,
   "metadata": {},
   "outputs": [],
   "source": [
    "promet.tissues.mstd.eset = promet.mstd.eset"
   ]
  },
  {
   "cell_type": "code",
   "execution_count": 77,
   "metadata": {},
   "outputs": [],
   "source": [
    "promet.tissues.Z.t = list()\n",
    "for(i in 1:length(promet.tissues.Z)){\n",
    "    tmp = as.data.frame(t(promet.tissues.Z[[i]]))\n",
    "    promet.tissues.Z.t[[i]] = tmp\n",
    "}\n",
    "names(promet.tissues.Z.t) = names(promet.tissues.Z)"
   ]
  },
  {
   "cell_type": "code",
   "execution_count": 78,
   "metadata": {},
   "outputs": [],
   "source": [
    "promet.whole.Z = t(as.matrix(as.data.frame(rbindlist(promet.tissues.Z.t,fill = T))))\n",
    "colnames(promet.whole.Z) = paste0(rep(names(promet.tissues.Z),each = 5),'_',rep(1:5,times = 30))\n",
    "promet.whole.Z.info = data.frame(tissue = rep(names(promet.tissues.Z),each = 5),stringsAsFactors = F,\n",
    "                                stage = rep(1:5,times = 30))\n",
    "rownames(promet.whole.Z.info) = colnames(promet.whole.Z)"
   ]
  },
  {
   "cell_type": "markdown",
   "metadata": {},
   "source": [
    "## cluster trjactory change"
   ]
  },
  {
   "cell_type": "code",
   "execution_count": 79,
   "metadata": {},
   "outputs": [],
   "source": [
    "mfuzz_aging = loadRData('./out/20210428_aging/promet/whole/promet_outdata.Rdata')\n",
    "\n",
    "mfuzz.pro.aging = mfuzz_aging$mfuzz.promet.whole"
   ]
  },
  {
   "cell_type": "code",
   "execution_count": 80,
   "metadata": {},
   "outputs": [
    {
     "data": {
      "text/html": [
       "<ol class=list-inline>\n",
       "\t<li>5332</li>\n",
       "\t<li>5</li>\n",
       "</ol>\n"
      ],
      "text/latex": [
       "\\begin{enumerate*}\n",
       "\\item 5332\n",
       "\\item 5\n",
       "\\end{enumerate*}\n"
      ],
      "text/markdown": [
       "1. 5332\n",
       "2. 5\n",
       "\n",
       "\n"
      ],
      "text/plain": [
       "[1] 5332    5"
      ]
     },
     "metadata": {},
     "output_type": "display_data"
    },
    {
     "data": {
      "text/html": [
       "1233"
      ],
      "text/latex": [
       "1233"
      ],
      "text/markdown": [
       "1233"
      ],
      "text/plain": [
       "[1] 1233"
      ]
     },
     "metadata": {},
     "output_type": "display_data"
    }
   ],
   "source": [
    "promet.whole.Z.v = promet.whole.Z[rowSums(is.na(promet.whole.Z)) < 0.5*150,]\n",
    "promet.whole.Z.mean = t(aggregate(t(promet.whole.Z.v), by=list(promet.whole.Z.info$stage), FUN=mean, na.rm = T))\n",
    "promet.whole.Z.mean  =promet.whole.Z.mean[-1,]\n",
    "promet.whole.Z.mean.v = promet.whole.Z.mean[rowSums(is.na(promet.whole.Z.mean))  == 0,]\n",
    "promet.whole.Z.mean.eset = new(\"ExpressionSet\",exprs = promet.whole.Z.mean.v)\n",
    "dim(promet.whole.Z.mean.v)\n",
    "sum(substr(rownames(promet.whole.Z.mean.v),1,4) == 'met_')"
   ]
  },
  {
   "cell_type": "code",
   "execution_count": 82,
   "metadata": {},
   "outputs": [],
   "source": [
    "#\n",
    "plot_overall_mfuzz <- function(promet.whole.Z.mean.v,mfuzz.pro.aging,tclass = 1){\n",
    "  texpr = as.matrix(promet.whole.Z.mean.v)\n",
    "  tgenes = names(mfuzz.pro.aging$cluster)[mfuzz.pro.aging$cluster == tclass]\n",
    "  tgenes = intersect(tgenes,rownames(texpr))\n",
    "  texpr = texpr[tgenes,]\n",
    "  \n",
    "  tmpdata = data.frame( expr = as.vector(texpr),stringsAsFactors = F,\n",
    "                        stage = rep(1:5,each = nrow(texpr)),\n",
    "                        gene = rep(tgenes,times = ncol(texpr))\n",
    "  )\n",
    "  tpvalue = t.test(expr~stage, data = tmpdata, subset = stage == '4' | stage == '5')$p.value\n",
    "  vv = paste0('N = ',length(tgenes),'\\n','p=',signif(tpvalue,2))\n",
    "  p = ggplot(tmpdata,aes(stage,expr))+\n",
    "    geom_smooth(method = 'loess',se = T,size = 1, alpha = 0.5,level = 0.99)+ theme_bw()+lghplot.addtheme(hjust = 1,size = 12)+  \n",
    "    xlab('')+ ylab('')+\n",
    "    scale_x_continuous(labels=c(\"1\" = \"Juvenile\", \"2\" = \"Young_adult\",\"3\" = \"Middle_aged\",\n",
    "                                \"4\" = \"Elderly\",\"5\" = \"Elderly_Treated\"))+\n",
    "    annotate(geom=\"text\", x=4, y=0.35, #fontface =2,#label=text,\n",
    "             label = vv, color=\"darkblue\",size = 5)+scale_color_aaas(alpha = 1)+\n",
    "    ggtitle(paste0('Cluster ',tclass))+ylim(-0.5,0.5)\n",
    "}\n",
    "effectplot = list()\n",
    "for(j in 1:8){\n",
    "  effectplot[[j]] = plot_overall_mfuzz(promet.whole.Z.mean.v,mfuzz.pro.aging,tclass = j)\n",
    "  \n",
    "}"
   ]
  },
  {
   "cell_type": "code",
   "execution_count": 84,
   "metadata": {},
   "outputs": [
    {
     "name": "stderr",
     "output_type": "stream",
     "text": [
      "`geom_smooth()` using formula 'y ~ x'\n",
      "`geom_smooth()` using formula 'y ~ x'\n",
      "`geom_smooth()` using formula 'y ~ x'\n",
      "`geom_smooth()` using formula 'y ~ x'\n",
      "`geom_smooth()` using formula 'y ~ x'\n",
      "`geom_smooth()` using formula 'y ~ x'\n",
      "`geom_smooth()` using formula 'y ~ x'\n",
      "`geom_smooth()` using formula 'y ~ x'\n"
     ]
    },
    {
     "data": {
      "text/html": [
       "<strong>null device:</strong> 1"
      ],
      "text/latex": [
       "\\textbf{null device:} 1"
      ],
      "text/markdown": [
       "**null device:** 1"
      ],
      "text/plain": [
       "null device \n",
       "          1 "
      ]
     },
     "metadata": {},
     "output_type": "display_data"
    }
   ],
   "source": [
    "graphics.off()\n",
    "pdf('./out/20220519_treatment/Trajactory_reverse/mfuzz_plot_8A_promet_based_on_aging_ggplot.pdf',width = 16,height = 8)\n",
    "grid.arrange(arrangeGrob(grobs = effectplot,ncol = 4,\n",
    "                         bottom=textGrob('Tissues', gp=gpar(fontface=\"bold\",  fontsize=22)),\n",
    "                         #bottom = 'mRNA expression(log2 FPKM)',\n",
    "                         left = textGrob('Z value of log2 protein abundance', gp=gpar(fontface=\"bold\",  fontsize=22),rot=90)))\n",
    "dev.off()"
   ]
  },
  {
   "cell_type": "markdown",
   "metadata": {},
   "source": [
    "## Correlation aging amplify and treatment amplify"
   ]
  },
  {
   "cell_type": "code",
   "execution_count": 85,
   "metadata": {},
   "outputs": [
    {
     "data": {
      "text/html": [
       "<table>\n",
       "<caption>A matrix: 8 × 5 of type dbl</caption>\n",
       "<thead>\n",
       "\t<tr><th scope=col>1</th><th scope=col>2</th><th scope=col>3</th><th scope=col>4</th><th scope=col>5</th></tr>\n",
       "</thead>\n",
       "<tbody>\n",
       "\t<tr><td>-0.27008573</td><td>-0.09494143</td><td> 0.50444799</td><td>-0.06416551</td><td>-0.079232434</td></tr>\n",
       "\t<tr><td> 0.33669279</td><td> 0.15111805</td><td>-0.35853931</td><td>-0.12765217</td><td>-0.008235044</td></tr>\n",
       "\t<tr><td>-0.00398461</td><td> 0.10467476</td><td>-0.36254993</td><td> 0.15686126</td><td> 0.082027056</td></tr>\n",
       "\t<tr><td> 0.15563744</td><td> 0.18714505</td><td> 0.02675107</td><td>-0.26873411</td><td>-0.094832793</td></tr>\n",
       "\t<tr><td> 0.10919094</td><td>-0.07623328</td><td> 0.04657529</td><td>-0.03749237</td><td>-0.046481292</td></tr>\n",
       "\t<tr><td> 0.22508410</td><td> 0.30076001</td><td>-0.98394420</td><td> 0.18972903</td><td> 0.158647385</td></tr>\n",
       "\t<tr><td> 0.07067816</td><td>-0.03731624</td><td> 0.50233586</td><td>-0.36266671</td><td>-0.201648817</td></tr>\n",
       "\t<tr><td>-0.35638302</td><td>-0.12456222</td><td> 0.08025135</td><td> 0.27844585</td><td> 0.126283332</td></tr>\n",
       "</tbody>\n",
       "</table>\n"
      ],
      "text/latex": [
       "A matrix: 8 × 5 of type dbl\n",
       "\\begin{tabular}{lllll}\n",
       " 1 & 2 & 3 & 4 & 5\\\\\n",
       "\\hline\n",
       "\t -0.27008573 & -0.09494143 &  0.50444799 & -0.06416551 & -0.079232434\\\\\n",
       "\t  0.33669279 &  0.15111805 & -0.35853931 & -0.12765217 & -0.008235044\\\\\n",
       "\t -0.00398461 &  0.10467476 & -0.36254993 &  0.15686126 &  0.082027056\\\\\n",
       "\t  0.15563744 &  0.18714505 &  0.02675107 & -0.26873411 & -0.094832793\\\\\n",
       "\t  0.10919094 & -0.07623328 &  0.04657529 & -0.03749237 & -0.046481292\\\\\n",
       "\t  0.22508410 &  0.30076001 & -0.98394420 &  0.18972903 &  0.158647385\\\\\n",
       "\t  0.07067816 & -0.03731624 &  0.50233586 & -0.36266671 & -0.201648817\\\\\n",
       "\t -0.35638302 & -0.12456222 &  0.08025135 &  0.27844585 &  0.126283332\\\\\n",
       "\\end{tabular}\n"
      ],
      "text/markdown": [
       "\n",
       "A matrix: 8 × 5 of type dbl\n",
       "\n",
       "| 1 | 2 | 3 | 4 | 5 |\n",
       "|---|---|---|---|---|\n",
       "| -0.27008573 | -0.09494143 |  0.50444799 | -0.06416551 | -0.079232434 |\n",
       "|  0.33669279 |  0.15111805 | -0.35853931 | -0.12765217 | -0.008235044 |\n",
       "| -0.00398461 |  0.10467476 | -0.36254993 |  0.15686126 |  0.082027056 |\n",
       "|  0.15563744 |  0.18714505 |  0.02675107 | -0.26873411 | -0.094832793 |\n",
       "|  0.10919094 | -0.07623328 |  0.04657529 | -0.03749237 | -0.046481292 |\n",
       "|  0.22508410 |  0.30076001 | -0.98394420 |  0.18972903 |  0.158647385 |\n",
       "|  0.07067816 | -0.03731624 |  0.50233586 | -0.36266671 | -0.201648817 |\n",
       "| -0.35638302 | -0.12456222 |  0.08025135 |  0.27844585 |  0.126283332 |\n",
       "\n"
      ],
      "text/plain": [
       "     1           2           3           4           5           \n",
       "[1,] -0.27008573 -0.09494143  0.50444799 -0.06416551 -0.079232434\n",
       "[2,]  0.33669279  0.15111805 -0.35853931 -0.12765217 -0.008235044\n",
       "[3,] -0.00398461  0.10467476 -0.36254993  0.15686126  0.082027056\n",
       "[4,]  0.15563744  0.18714505  0.02675107 -0.26873411 -0.094832793\n",
       "[5,]  0.10919094 -0.07623328  0.04657529 -0.03749237 -0.046481292\n",
       "[6,]  0.22508410  0.30076001 -0.98394420  0.18972903  0.158647385\n",
       "[7,]  0.07067816 -0.03731624  0.50233586 -0.36266671 -0.201648817\n",
       "[8,] -0.35638302 -0.12456222  0.08025135  0.27844585  0.126283332"
      ]
     },
     "metadata": {},
     "output_type": "display_data"
    }
   ],
   "source": [
    "the_centers = zeros(8,5)\n",
    "for(i in 1:8){\n",
    "  texpr = as.matrix(promet.whole.Z.mean.v)\n",
    "  tgenes = names(mfuzz.pro.aging$cluster)[mfuzz.pro.aging$cluster == i]\n",
    "  tgenes = intersect(tgenes,rownames(texpr))\n",
    "  texpr = texpr[tgenes,]\n",
    "  the_centers[i,] = apply(texpr,2,median,na.rm = T)\n",
    "}\n",
    "colnames(the_centers) = c(1:5)\n",
    "the_centers"
   ]
  },
  {
   "cell_type": "code",
   "execution_count": 86,
   "metadata": {},
   "outputs": [
    {
     "data": {
      "text/html": [
       "<table>\n",
       "<caption>A data.frame: 8 × 3</caption>\n",
       "<thead>\n",
       "\t<tr><th scope=col>amplitude</th><th scope=col>amplitude_aging</th><th scope=col>class</th></tr>\n",
       "\t<tr><th scope=col>&lt;dbl&gt;</th><th scope=col>&lt;dbl&gt;</th><th scope=col>&lt;chr&gt;</th></tr>\n",
       "</thead>\n",
       "<tbody>\n",
       "\t<tr><td>-0.01506693</td><td> 0.20592022</td><td>Cluster 1</td></tr>\n",
       "\t<tr><td> 0.11941713</td><td>-0.46434496</td><td>Cluster 2</td></tr>\n",
       "\t<tr><td>-0.07483420</td><td> 0.16084587</td><td>Cluster 3</td></tr>\n",
       "\t<tr><td> 0.17390131</td><td>-0.42437155</td><td>Cluster 4</td></tr>\n",
       "\t<tr><td>-0.00898892</td><td>-0.14668331</td><td>Cluster 5</td></tr>\n",
       "\t<tr><td>-0.03108165</td><td>-0.03535506</td><td>Cluster 6</td></tr>\n",
       "\t<tr><td> 0.16101789</td><td>-0.43334487</td><td>Cluster 7</td></tr>\n",
       "\t<tr><td>-0.15216252</td><td> 0.63482887</td><td>Cluster 8</td></tr>\n",
       "</tbody>\n",
       "</table>\n"
      ],
      "text/latex": [
       "A data.frame: 8 × 3\n",
       "\\begin{tabular}{r|lll}\n",
       " amplitude & amplitude\\_aging & class\\\\\n",
       " <dbl> & <dbl> & <chr>\\\\\n",
       "\\hline\n",
       "\t -0.01506693 &  0.20592022 & Cluster 1\\\\\n",
       "\t  0.11941713 & -0.46434496 & Cluster 2\\\\\n",
       "\t -0.07483420 &  0.16084587 & Cluster 3\\\\\n",
       "\t  0.17390131 & -0.42437155 & Cluster 4\\\\\n",
       "\t -0.00898892 & -0.14668331 & Cluster 5\\\\\n",
       "\t -0.03108165 & -0.03535506 & Cluster 6\\\\\n",
       "\t  0.16101789 & -0.43334487 & Cluster 7\\\\\n",
       "\t -0.15216252 &  0.63482887 & Cluster 8\\\\\n",
       "\\end{tabular}\n"
      ],
      "text/markdown": [
       "\n",
       "A data.frame: 8 × 3\n",
       "\n",
       "| amplitude &lt;dbl&gt; | amplitude_aging &lt;dbl&gt; | class &lt;chr&gt; |\n",
       "|---|---|---|\n",
       "| -0.01506693 |  0.20592022 | Cluster 1 |\n",
       "|  0.11941713 | -0.46434496 | Cluster 2 |\n",
       "| -0.07483420 |  0.16084587 | Cluster 3 |\n",
       "|  0.17390131 | -0.42437155 | Cluster 4 |\n",
       "| -0.00898892 | -0.14668331 | Cluster 5 |\n",
       "| -0.03108165 | -0.03535506 | Cluster 6 |\n",
       "|  0.16101789 | -0.43334487 | Cluster 7 |\n",
       "| -0.15216252 |  0.63482887 | Cluster 8 |\n",
       "\n"
      ],
      "text/plain": [
       "  amplitude   amplitude_aging class    \n",
       "1 -0.01506693  0.20592022     Cluster 1\n",
       "2  0.11941713 -0.46434496     Cluster 2\n",
       "3 -0.07483420  0.16084587     Cluster 3\n",
       "4  0.17390131 -0.42437155     Cluster 4\n",
       "5 -0.00898892 -0.14668331     Cluster 5\n",
       "6 -0.03108165 -0.03535506     Cluster 6\n",
       "7  0.16101789 -0.43334487     Cluster 7\n",
       "8 -0.15216252  0.63482887     Cluster 8"
      ]
     },
     "metadata": {},
     "output_type": "display_data"
    }
   ],
   "source": [
    "overall_effect = data.frame(amplitude = the_centers[,5]-the_centers[,4],\n",
    "                       amplitude_aging = the_centers[,4]-the_centers[,1],\n",
    "                     stringsAsFactors = F,\n",
    "                     class = paste0('Cluster ',1:8))\n",
    "overall_effect"
   ]
  },
  {
   "cell_type": "code",
   "execution_count": 87,
   "metadata": {},
   "outputs": [
    {
     "data": {
      "text/html": [
       "<table>\n",
       "<caption>A data.frame: 8 × 3</caption>\n",
       "<thead>\n",
       "\t<tr><th scope=col>amplitude</th><th scope=col>amplitude_aging</th><th scope=col>class</th></tr>\n",
       "\t<tr><th scope=col>&lt;dbl&gt;</th><th scope=col>&lt;dbl&gt;</th><th scope=col>&lt;chr&gt;</th></tr>\n",
       "</thead>\n",
       "<tbody>\n",
       "\t<tr><td>-0.01506693</td><td> 0.20592022</td><td>Cluster 1</td></tr>\n",
       "\t<tr><td> 0.11941713</td><td>-0.46434496</td><td>Cluster 2</td></tr>\n",
       "\t<tr><td>-0.07483420</td><td> 0.16084587</td><td>Cluster 3</td></tr>\n",
       "\t<tr><td> 0.17390131</td><td>-0.42437155</td><td>Cluster 4</td></tr>\n",
       "\t<tr><td>-0.00898892</td><td>-0.14668331</td><td>Cluster 5</td></tr>\n",
       "\t<tr><td>-0.03108165</td><td>-0.03535506</td><td>Cluster 6</td></tr>\n",
       "\t<tr><td> 0.16101789</td><td>-0.43334487</td><td>Cluster 7</td></tr>\n",
       "\t<tr><td>-0.15216252</td><td> 0.63482887</td><td>Cluster 8</td></tr>\n",
       "</tbody>\n",
       "</table>\n"
      ],
      "text/latex": [
       "A data.frame: 8 × 3\n",
       "\\begin{tabular}{r|lll}\n",
       " amplitude & amplitude\\_aging & class\\\\\n",
       " <dbl> & <dbl> & <chr>\\\\\n",
       "\\hline\n",
       "\t -0.01506693 &  0.20592022 & Cluster 1\\\\\n",
       "\t  0.11941713 & -0.46434496 & Cluster 2\\\\\n",
       "\t -0.07483420 &  0.16084587 & Cluster 3\\\\\n",
       "\t  0.17390131 & -0.42437155 & Cluster 4\\\\\n",
       "\t -0.00898892 & -0.14668331 & Cluster 5\\\\\n",
       "\t -0.03108165 & -0.03535506 & Cluster 6\\\\\n",
       "\t  0.16101789 & -0.43334487 & Cluster 7\\\\\n",
       "\t -0.15216252 &  0.63482887 & Cluster 8\\\\\n",
       "\\end{tabular}\n"
      ],
      "text/markdown": [
       "\n",
       "A data.frame: 8 × 3\n",
       "\n",
       "| amplitude &lt;dbl&gt; | amplitude_aging &lt;dbl&gt; | class &lt;chr&gt; |\n",
       "|---|---|---|\n",
       "| -0.01506693 |  0.20592022 | Cluster 1 |\n",
       "|  0.11941713 | -0.46434496 | Cluster 2 |\n",
       "| -0.07483420 |  0.16084587 | Cluster 3 |\n",
       "|  0.17390131 | -0.42437155 | Cluster 4 |\n",
       "| -0.00898892 | -0.14668331 | Cluster 5 |\n",
       "| -0.03108165 | -0.03535506 | Cluster 6 |\n",
       "|  0.16101789 | -0.43334487 | Cluster 7 |\n",
       "| -0.15216252 |  0.63482887 | Cluster 8 |\n",
       "\n"
      ],
      "text/plain": [
       "  amplitude   amplitude_aging class    \n",
       "1 -0.01506693  0.20592022     Cluster 1\n",
       "2  0.11941713 -0.46434496     Cluster 2\n",
       "3 -0.07483420  0.16084587     Cluster 3\n",
       "4  0.17390131 -0.42437155     Cluster 4\n",
       "5 -0.00898892 -0.14668331     Cluster 5\n",
       "6 -0.03108165 -0.03535506     Cluster 6\n",
       "7  0.16101789 -0.43334487     Cluster 7\n",
       "8 -0.15216252  0.63482887     Cluster 8"
      ]
     },
     "metadata": {},
     "output_type": "display_data"
    },
    {
     "data": {
      "text/plain": [
       "\n",
       "\tPearson's product-moment correlation\n",
       "\n",
       "data:  tmpdata$amplitude and tmpdata$amplitude_aging\n",
       "t = -6.4734, df = 6, p-value = 0.0006452\n",
       "alternative hypothesis: true correlation is not equal to 0\n",
       "95 percent confidence interval:\n",
       " -0.9884795 -0.6764025\n",
       "sample estimates:\n",
       "       cor \n",
       "-0.9352808 \n"
      ]
     },
     "metadata": {},
     "output_type": "display_data"
    },
    {
     "name": "stderr",
     "output_type": "stream",
     "text": [
      "`geom_smooth()` using formula 'y ~ x'\n"
     ]
    },
    {
     "data": {
      "text/html": [
       "<strong>png:</strong> 2"
      ],
      "text/latex": [
       "\\textbf{png:} 2"
      ],
      "text/markdown": [
       "**png:** 2"
      ],
      "text/plain": [
       "png \n",
       "  2 "
      ]
     },
     "metadata": {},
     "output_type": "display_data"
    }
   ],
   "source": [
    "tmpdata = data.frame(amplitude = the_centers[,5]-the_centers[,4],\n",
    "                       amplitude_aging = the_centers[,4]-the_centers[,1],\n",
    "                     stringsAsFactors = F,\n",
    "                     class = paste0('Cluster ',1:8))\n",
    "tmpdata\n",
    "cor.test(tmpdata$amplitude,tmpdata$amplitude_aging)\n",
    "vv = paste0('Rho = -0.935','\\n','p = 0.0006')\n",
    "pdf(file ='./out/20220519_treatment/Trajactory_reverse/treatment_cluster_amplitude_overall_aging vs treatment.pdf',width = 7,height = 5)\n",
    "ggplot(tmpdata,aes(amplitude_aging,amplitude)) + geom_point(size = 4) + lghplot.addtheme(size = 18)+\n",
    "   geom_smooth(method = 'lm',alpha = 0.15)+ xlab('Aging amplitude')+ ylab('MSC treatment amplitude')+\n",
    "  geom_text_repel(aes(label = class),size = 7)+theme(axis.line = element_line(size = 1.2))+\n",
    "     annotate(geom=\"text\", x=0.25, y=0.15, fontface =2,#label=text,\n",
    "             label = vv, color=\"darkblue\",size = 7)\n",
    "dev.off()"
   ]
  },
  {
   "cell_type": "markdown",
   "metadata": {},
   "source": [
    "## reverse aging in each tissue"
   ]
  },
  {
   "cell_type": "code",
   "execution_count": 88,
   "metadata": {},
   "outputs": [],
   "source": [
    "tissues = names(promet.tissues.Z)\n",
    "clusterdist = matrix(0,length(tissues),8)\n",
    "clusteramplitude = matrix(0,length(tissues),8)\n",
    "clusteramplitude_xx = matrix(0,length(tissues),8)\n",
    "clusteramplitude_xx_aging = matrix(0,length(tissues),8)\n",
    "\n",
    "for(i in 1:length(tissues)){\n",
    "    mstd =   promet.tissues.Z[[i]] \n",
    "    for(j in 1:8){\n",
    "    tgene = names(mfuzz.pro.aging$cluster)[mfuzz.pro.aging$cluster == j]\n",
    "    tgene = intersect(tgene,rownames(mstd))\n",
    "    bx = t(t(mstd[tgene,]) - mfuzz.pro.aging$centers[j,])\n",
    "    clusterdist[i,j] = mean(sqrt(rowSums(bx^2)/(ncol(bx)-1)),na.rm = T)\n",
    "    if(length(tgene) < 2){\n",
    "      clusteramplitude[i,j] = NA\n",
    "      next;\n",
    "    }\n",
    "    tamp = colMeans(mstd[tgene,],na.rm = T)\n",
    "    clusteramplitude[i,j] = abs(tamp[5]-tamp[4])\n",
    "    clusteramplitude_xx[i,j] = tamp[5]-tamp[4]\n",
    "    clusteramplitude_xx_aging[i,j] = tamp[4]-tamp[1]\n",
    "        \n",
    "  }\n",
    "}\n",
    "rownames(clusteramplitude) = tissues\n",
    "rownames(clusteramplitude_xx) = tissues\n",
    "rownames(clusterdist) = tissues"
   ]
  },
  {
   "cell_type": "code",
   "execution_count": 89,
   "metadata": {},
   "outputs": [],
   "source": [
    "for(j in 1:8){\n",
    "  tmpdata = data.frame(amplitude = clusteramplitude_xx[,j],\n",
    "                       amplitude_aging = clusteramplitude_xx_aging[,j],\n",
    "                       stringsAsFactors = F,\n",
    "                       variability = clusterdist[,j],\n",
    "                       class = tissues,\n",
    "                      tissue_system = tissue.systems[tissues])\n",
    "     xmax = max(abs(tmpdata$amplitude_aging))+0.05\n",
    "    ymax = max(abs(tmpdata$amplitude))+0.05\n",
    "    p = ggplot(tmpdata,aes(amplitude_aging,amplitude,color = tissue_system)) + geom_point(size = 4) + lghplot.addtheme()+\n",
    "    geom_hline(yintercept = 0,size = 1,alpha = 0.3)+\n",
    "    geom_vline(xintercept = 0,size = 1,alpha = 0.3)+ \n",
    "    scale_color_aaas()+\n",
    "    xlab('Aging amplitude')+ ylab('MSC treatment amplitude')+ ggtitle(paste0('Cluster ',j))+\n",
    "    xlim(-xmax,xmax)+ylim(-ymax,ymax)+\n",
    "    geom_text_repel(aes(label = class),size = 4,color = 1,box.padding = 0.5)+theme(axis.line = element_line(size = 1.2))\n",
    "  pdf(paste0('./out/20220519_treatment/Trajactory_reverse/treatment_cluster_tissues_amplitude_aging vs treatment_V1_',j,'.pdf'),width = 6,height = 6)\n",
    "  print(p)\n",
    "  dev.off()\n",
    "}"
   ]
  },
  {
   "cell_type": "markdown",
   "metadata": {},
   "source": [
    "## Clustering BMSCs treatment"
   ]
  },
  {
   "cell_type": "code",
   "execution_count": 90,
   "metadata": {},
   "outputs": [],
   "source": [
    "tmpaa = -sign(clusteramplitude_xx_aging)*clusteramplitude_xx\n",
    "colnames(tmpaa) = paste0(\"C\",1:8)\n",
    "pheatmap::pheatmap(tmpaa[,c(2,4,7,8)],breaks = c(-0.6,-0.4,-0.2,-0.05,0.05,0.2,0.4,0.6),\n",
    "                   cluster_cols = T,fontsize_row = 9,fontsize_col = 10,fontsize = 10,treeheight_row = 20,treeheight_col = 20,legend = T,\n",
    "                  color=colorRampPalette(c('#3B4992','gray99','#EE0000FF'))(8),\n",
    "                   height = 7,width = 5,\n",
    "                   file =\"./out/20220519_treatment/Trajactory_reverse/treatment_heatmap_tissue_among_aging.pdf\",\n",
    "                  )\n"
   ]
  },
  {
   "cell_type": "markdown",
   "metadata": {},
   "source": [
    "# Figure 7: Tissue DEchange and GO"
   ]
  },
  {
   "cell_type": "code",
   "execution_count": 35,
   "metadata": {},
   "outputs": [],
   "source": [
    "sixtissues= c('Lung','Thymus','Ovary','Spleen','Kidney','Stomach')"
   ]
  },
  {
   "cell_type": "markdown",
   "metadata": {},
   "source": [
    "## protein"
   ]
  },
  {
   "cell_type": "code",
   "execution_count": 91,
   "metadata": {},
   "outputs": [],
   "source": [
    "DEpro.treat = list()\n",
    "for(i in 1:length(pro.tissues)){\n",
    "    tmpa = get_DEexpr.treat(pro.tissues[[i]],pro.tissues.info[[i]])\n",
    "    tmpb = cbind(tmpa[,1],pro.tissues.header[[i]])\n",
    "    DEpro.treat[[i]] =cbind(tmpb,tmpa[,-1])\n",
    "    names(DEpro.treat[[i]])[1] = 'ID'\n",
    "    outname = paste0('./out/20220519_treatment/Tissue_DEG/DEGout_pro/DEpro_treat_',names(pro.tissues)[i],'.txt')\n",
    "    writetxt(DEpro.treat[[i]],outname)\n",
    "}\n",
    "names(DEpro.treat) = names(pro.tissues)"
   ]
  },
  {
   "cell_type": "code",
   "execution_count": 92,
   "metadata": {},
   "outputs": [],
   "source": [
    "#write for Enrichment up\n",
    "inputGOenrich = data.frame(tissues = names(pro.tissues),stringsAsFactors = F,\n",
    "                      genes = rep('c',length(pro.tissues)))\n",
    "#colnames(inputGOenrich) = c('tissue','GeneSymbol')\n",
    "for(i in 1:length(DEpro.treat)){\n",
    "    tmp = DEpro.treat[[i]]\n",
    "    tgenes = unique(rownames(tmp)[tmp$Pvalue < 0.05 & tmp$log2FC >0.58])\n",
    "    tgenes = tgenes[!is.na(tgenes)]\n",
    "    tgenes = unique(pro.tissues.header[[i]][tgenes,]$Gene)\n",
    "    tgenes = tgenes[tgenes != '']\n",
    "    tgenes = paste0(tgenes,collapse =',')\n",
    "    inputGOenrich$genes[i] = tgenes\n",
    "}\n",
    "writetxt(inputGOenrich,'./out/20220519_treatment/Tissue_DEG/DEGout_pro/_inputGOenrich_treat_DEpro_up.txt',row.names = F,col.names = F)"
   ]
  },
  {
   "cell_type": "code",
   "execution_count": 93,
   "metadata": {},
   "outputs": [],
   "source": [
    "#write for Enrichment down\n",
    "inputGOenrich = data.frame(tissues = names(pro.tissues),stringsAsFactors = F,\n",
    "                      genes = rep('c',length(pro.tissues)))\n",
    "for(i in 1:length(DEpro.treat)){\n",
    "    tmp = DEpro.treat[[i]]\n",
    "    tgenes = unique(rownames(tmp)[tmp$Pvalue < 0.05 & tmp$log2FC < -0.58])\n",
    "    tgenes = tgenes[!is.na(tgenes)]\n",
    "    tgenes = unique(pro.tissues.header[[i]][tgenes,]$Gene)\n",
    "    tgenes = tgenes[tgenes != '']\n",
    "    tgenes = paste0(tgenes,collapse =',')\n",
    "    inputGOenrich$genes[i] = tgenes\n",
    "}\n",
    "writetxt(inputGOenrich,'./out/20220519_treatment/Tissue_DEG/DEGout_pro/_inputGOenrich_treat_DEpro_down.txt',row.names = F,col.names = F)"
   ]
  },
  {
   "cell_type": "code",
   "execution_count": 94,
   "metadata": {},
   "outputs": [],
   "source": [
    "#write for Enrichment down\n",
    "inputGOenrich = data.frame(tissues = names(pro.tissues),stringsAsFactors = F,\n",
    "                      genes = rep('c',length(pro.tissues)))\n",
    "for(i in 1:length(DEpro.treat)){\n",
    "    tmp = DEpro.treat[[i]]\n",
    "    tgenes = unique(rownames(tmp)[tmp$Pvalue < 0.05 & abs(tmp$log2FC) > 0.58])\n",
    "    tgenes = tgenes[!is.na(tgenes)]\n",
    "    tgenes = unique(pro.tissues.header[[i]][tgenes,]$Gene)\n",
    "    tgenes = tgenes[tgenes != '']\n",
    "    tgenes = paste0(tgenes,collapse =',')\n",
    "    inputGOenrich$genes[i] = tgenes\n",
    "}\n",
    "writetxt(inputGOenrich,'./out/20220519_treatment/Tissue_DEG/DEGout_pro/_inputGOenrich_treat_DEpro_all.txt',row.names = F,col.names = F)"
   ]
  },
  {
   "cell_type": "code",
   "execution_count": 36,
   "metadata": {},
   "outputs": [],
   "source": [
    "tpath1 = 'E:/github/code_forpublication/macaca_multiple_tissue/figures_treatment/Figure_DEanalysis_data/DEpro/metascape_DEpro_up/Enrichment_heatmap/HeatmapSelectedGO.csv'\n",
    "tpath2 = 'E:/github/code_forpublication/macaca_multiple_tissue/figures_treatment/Figure_DEanalysis_data/DEpro/metascape_DEpro_down/Enrichment_heatmap/HeatmapSelectedGO.csv'\n",
    "go1 = file2frame(tpath1,sep = ',',header = T,row.names =2)"
   ]
  },
  {
   "cell_type": "code",
   "execution_count": 96,
   "metadata": {},
   "outputs": [],
   "source": [
    "outids = c()\n",
    "tpath1 = 'E:/github/code_forpublication/macaca_multiple_tissue/figures_treatment/Figure_DEanalysis_data/DEpro/metascape_DEpro_up/Enrichment_heatmap/HeatmapSelectedGO.csv'\n",
    "tpath2 = 'E:/github/code_forpublication/macaca_multiple_tissue/figures_treatment/Figure_DEanalysis_data/DEpro/metascape_DEpro_down/Enrichment_heatmap/HeatmapSelectedGO.csv'\n",
    "go1 = file2frame(tpath1,sep = ',',header = T,row.names =2)\n",
    "rownames(go1) = paste0(go1$GO,'_',rownames(go1))\n",
    "go1 = abs(as.matrix(go1[,-1]))\n",
    "idx1 = sort.int(rowSums(go1 >0),decreasing = T,index.return = T)$ix\n",
    "go1.top10 = go1[idx1[1:10],]\n",
    "go2 = file2frame(tpath2,sep = ',',header = T,row.names =2)\n",
    "rownames(go2) = paste0(go2$GO,'_',rownames(go2))\n",
    "go2 = as.matrix(go2[,-1])\n",
    "idx2 = sort.int(rowSums(abs(go2) >0),decreasing = T,index.return = T)$ix\n",
    "go2.top10 = go2[idx2[1:10],]\n",
    "thisgo = rbind(go1,go2)\n",
    "thisgo.matrix = as.matrix(thisgo)\n",
    "thisgo.matrix[abs(thisgo.matrix) < 2] = 0\n",
    "thisgo.matrix[thisgo.matrix > 0] = 1\n",
    "thisgo.matrix[thisgo.matrix < 0] = -1\n",
    "colnames(thisgo.matrix) = capitalize(gsub('X_LogP_','',colnames(thisgo.matrix)))\n",
    "\n",
    "thisgo.top10 = rbind(go1.top10,go2.top10)\n",
    "thisgo.matrix.top10 = as.matrix(thisgo.top10)\n",
    "thisgo.matrix.top10[abs(thisgo.matrix.top10) < 2] = 0\n",
    "thisgo.matrix.top10[thisgo.matrix.top10 > 0] = 1\n",
    "thisgo.matrix.top10[thisgo.matrix.top10 < 0] = -1\n",
    "colnames(thisgo.matrix.top10) = capitalize(gsub('X_LogP_','',colnames(thisgo.matrix.top10)))\n",
    "\n",
    "pheatmap::pheatmap(thisgo.matrix,cluster_rows = T,cluster_cols = T,fontsize_row = 8,fontsize_col = 8,fontsize = 10,treeheight_row = 20,treeheight_col = 20,legend = F,\n",
    "                  color=colorRampPalette(c('#3B4992','gray95','#BB0021FF'))(3),\n",
    "                  height = 10,width = 8.5,\n",
    "                  file =\"./out/20220519_treatment/Tissue_DEG/Figure_DEanalysis_heatmap_GOenrichment_metascape_DEpro_eachtissue.pdf\"\n",
    "                   )\n",
    "\n",
    "pheatmap::pheatmap(thisgo.matrix.top10,cluster_rows = T,cluster_cols = T,fontsize_row = 8,fontsize_col = 8,fontsize = 10,treeheight_row = 20,treeheight_col = 20,legend = F,\n",
    "                  color=colorRampPalette(c('#3B4992','gray95','#BB0021FF'))(3),\n",
    "                  height = 10,width = 8.5,\n",
    "                  file =\"./out/20220519_treatment/Tissue_DEG/Figure_DEanalysis_heatmap_GOenrichment_metascape_DEpro_eachtissue_top10.pdf\"\n",
    "                   )"
   ]
  },
  {
   "cell_type": "code",
   "execution_count": 37,
   "metadata": {},
   "outputs": [],
   "source": [
    "outids = c()\n",
    "tpath1 = 'E:/github/code_forpublication/macaca_multiple_tissue/figures_treatment/Figure_DEanalysis_data/DEpro/metascape_DEpro_up/Enrichment_heatmap/HeatmapSelectedGO.csv'\n",
    "tpath2 = 'E:/github/code_forpublication/macaca_multiple_tissue/figures_treatment/Figure_DEanalysis_data/DEpro/metascape_DEpro_down/Enrichment_heatmap/HeatmapSelectedGO.csv'\n",
    "go1 = file2frame(tpath1,sep = ',',header = T,row.names =2)\n",
    "rownames(go1) = paste0(go1$GO,'_',rownames(go1))\n",
    "go1 = abs(as.matrix(go1[,-1]))\n",
    "idx1 = sort.int(rowSums(go1 >0),decreasing = T,index.return = T)$ix\n",
    "go1.top10 = go1[idx1[1:10],]\n",
    "go2 = file2frame(tpath2,sep = ',',header = T,row.names =2)\n",
    "rownames(go2) = paste0(go2$GO,'_',rownames(go2))\n",
    "go2 = as.matrix(go2[,-1])\n",
    "idx2 = sort.int(rowSums(abs(go2) >0),decreasing = T,index.return = T)$ix\n",
    "go2.top10 = go2[idx2[1:10],]\n",
    "thisgo = rbind(go1,go2)\n",
    "thisgo.matrix = as.matrix(thisgo)\n",
    "thisgo.matrix[abs(thisgo.matrix) < 2] = 0\n",
    "thisgo.matrix[thisgo.matrix > 0] = 1\n",
    "thisgo.matrix[thisgo.matrix < 0] = -1\n",
    "colnames(thisgo.matrix) = capitalize(gsub('X_LogP_','',colnames(thisgo.matrix)))\n",
    "\n",
    "thisgo.top10 = rbind(go1.top10,go2.top10)\n",
    "thisgo.matrix.top10 = as.matrix(thisgo.top10)\n",
    "thisgo.matrix.top10[abs(thisgo.matrix.top10) < 2] = 0\n",
    "thisgo.matrix.top10[thisgo.matrix.top10 > 0] = 1\n",
    "thisgo.matrix.top10[thisgo.matrix.top10 < 0] = -1\n",
    "colnames(thisgo.matrix.top10) = capitalize(gsub('X_LogP_','',colnames(thisgo.matrix.top10)))"
   ]
  },
  {
   "cell_type": "code",
   "execution_count": null,
   "metadata": {},
   "outputs": [],
   "source": []
  },
  {
   "cell_type": "code",
   "execution_count": 61,
   "metadata": {},
   "outputs": [],
   "source": [
    "# 6tissues\n",
    "outids = c()\n",
    "tpath1 = 'E:/github/code_forpublication/macaca_multiple_tissue/figures_treatment/Figure_DEanalysis_data/DEpro/metascape_DEpro_up/Enrichment_heatmap/HeatmapSelectedGO.csv'\n",
    "tpath2 = 'E:/github/code_forpublication/macaca_multiple_tissue/figures_treatment/Figure_DEanalysis_data/DEpro/metascape_DEpro_down/Enrichment_heatmap/HeatmapSelectedGO.csv'\n",
    "go1 = file2frame(tpath1,sep = ',',header = T,row.names =2)\n",
    "rownames(go1) = paste0(go1$GO,'_',rownames(go1))\n",
    "go1 = abs(as.matrix(go1[,-1]))\n",
    "idx1 = sort.int(rowSums(go1 >0),decreasing = T,index.return = T)$ix\n",
    "go1.top10 = go1[idx1[1:10],]\n",
    "go2 = file2frame(tpath2,sep = ',',header = T,row.names =2)\n",
    "rownames(go2) = paste0(go2$GO,'_',rownames(go2))\n",
    "go2 = as.matrix(go2[,-1])\n",
    "idx2 = sort.int(rowSums(abs(go2) >0),decreasing = T,index.return = T)$ix\n",
    "go2.top10 = go2[idx2[1:10],]\n",
    "thisgo = rbind(go1,go2)\n",
    "thisgo.matrix = as.matrix(thisgo)\n",
    "thisgo.matrix[abs(thisgo.matrix) < 2] = 0\n",
    "thisgo.matrix[thisgo.matrix > 4] = 4\n",
    "thisgo.matrix[thisgo.matrix < -4] = -4\n",
    "colnames(thisgo.matrix) = capitalize(gsub('X_LogP_','',colnames(thisgo.matrix)))\n",
    "\n",
    "thisgo.top10 = rbind(go1.top10,go2.top10)\n",
    "thisgo.matrix.top10 = as.matrix(thisgo.top10)\n",
    "thisgo.matrix.top10[abs(thisgo.matrix.top10) < 2] = 0\n",
    "thisgo.matrix.top10[thisgo.matrix.top10 > 0] = 1\n",
    "thisgo.matrix.top10[thisgo.matrix.top10 < 0] = -1\n",
    "colnames(thisgo.matrix.top10) = capitalize(gsub('X_LogP_','',colnames(thisgo.matrix.top10)))\n",
    "\n",
    "ids = rowSums(abs(thisgo.matrix[,sixtissues]) > 2) > 1\n",
    "pheatmap::pheatmap(thisgo.matrix[ids,sixtissues],cluster_rows = T,cluster_cols = T,fontsize_row = 8,fontsize_col = 8,fontsize = 10,treeheight_row = 20,treeheight_col = 20,legend = F,\n",
    "                  color=colorRampPalette(c('#3B4992','gray95','#BB0021FF'))(20),\n",
    "                  height = 5,width = 5,\n",
    "                  file =\"./out/20220519_treatment/Tissue_DEG/Figure_DEanalysis_heatmap_GOenrichment_metascape_DEpro_eachtissue_6tissues.pdf\"\n",
    "                   )"
   ]
  },
  {
   "cell_type": "code",
   "execution_count": 58,
   "metadata": {},
   "outputs": [
    {
     "data": {
      "text/html": [
       "<table>\n",
       "<caption>A matrix: 20 × 6 of type dbl</caption>\n",
       "<thead>\n",
       "\t<tr><th></th><th scope=col>Lung</th><th scope=col>Thymus</th><th scope=col>Ovary</th><th scope=col>Spleen</th><th scope=col>Kidney</th><th scope=col>Stomach</th></tr>\n",
       "</thead>\n",
       "<tbody>\n",
       "\t<tr><th scope=row>GO:1901361_organic cyclic compound catabolic process</th><td> 2.109408</td><td> 2.536527</td><td> 2.026030</td><td> 0.000000</td><td> 0.000000</td><td> 2.826122</td></tr>\n",
       "\t<tr><th scope=row>GO:0007005_mitochondrion organization</th><td> 0.000000</td><td> 0.000000</td><td> 2.014209</td><td> 0.000000</td><td> 0.000000</td><td> 3.343585</td></tr>\n",
       "\t<tr><th scope=row>R-HSA-9012999_RHO GTPase cycle</th><td> 3.055308</td><td> 0.000000</td><td> 0.000000</td><td> 0.000000</td><td> 0.000000</td><td> 2.178938</td></tr>\n",
       "\t<tr><th scope=row>R-HSA-6798695_Neutrophil degranulation</th><td> 0.000000</td><td> 2.187234</td><td> 0.000000</td><td> 0.000000</td><td> 0.000000</td><td> 3.008581</td></tr>\n",
       "\t<tr><th scope=row>R-HSA-72766_Translation</th><td> 0.000000</td><td> 0.000000</td><td> 2.413784</td><td> 0.000000</td><td> 0.000000</td><td> 4.000000</td></tr>\n",
       "\t<tr><th scope=row>GO:0006412_translation</th><td> 0.000000</td><td> 0.000000</td><td> 0.000000</td><td> 2.377975</td><td> 0.000000</td><td> 4.000000</td></tr>\n",
       "\t<tr><th scope=row>R-HSA-8953897_Cellular responses to stimuli</th><td> 0.000000</td><td> 0.000000</td><td> 2.206369</td><td> 0.000000</td><td> 0.000000</td><td> 4.000000</td></tr>\n",
       "\t<tr><th scope=row>R-HSA-9675108_Nervous system development</th><td> 0.000000</td><td> 0.000000</td><td> 2.975730</td><td> 0.000000</td><td> 0.000000</td><td> 2.872975</td></tr>\n",
       "\t<tr><th scope=row>R-HSA-8953854_Metabolism of RNA</th><td> 0.000000</td><td> 3.055479</td><td> 0.000000</td><td> 0.000000</td><td> 0.000000</td><td> 3.782873</td></tr>\n",
       "\t<tr><th scope=row>GO:0090407_organophosphate biosynthetic process</th><td> 2.559422</td><td> 2.786755</td><td> 3.822573</td><td> 0.000000</td><td> 0.000000</td><td> 0.000000</td></tr>\n",
       "\t<tr><th scope=row>R-HSA-556833_Metabolism of lipids</th><td> 0.000000</td><td> 2.689160</td><td> 2.889422</td><td> 0.000000</td><td> 0.000000</td><td> 2.017808</td></tr>\n",
       "\t<tr><th scope=row>R-HSA-5653656_Vesicle-mediated transport</th><td> 0.000000</td><td>-2.435969</td><td> 0.000000</td><td> 0.000000</td><td> 0.000000</td><td>-2.720756</td></tr>\n",
       "\t<tr><th scope=row>GO:0051668_localization within membrane</th><td>-2.080410</td><td>-2.487590</td><td>-3.217861</td><td> 0.000000</td><td> 0.000000</td><td> 0.000000</td></tr>\n",
       "\t<tr><th scope=row>R-HSA-9012999_RHO GTPase cycle</th><td>-2.132407</td><td> 0.000000</td><td>-2.228005</td><td> 0.000000</td><td> 0.000000</td><td> 0.000000</td></tr>\n",
       "\t<tr><th scope=row>M5884_NABA CORE MATRISOME</th><td>-2.181458</td><td> 0.000000</td><td>-2.481159</td><td> 0.000000</td><td> 0.000000</td><td>-4.000000</td></tr>\n",
       "\t<tr><th scope=row>R-HSA-6798695_Neutrophil degranulation</th><td> 0.000000</td><td> 0.000000</td><td>-4.000000</td><td> 0.000000</td><td> 0.000000</td><td>-4.000000</td></tr>\n",
       "\t<tr><th scope=row>GO:0010035_response to inorganic substance</th><td> 0.000000</td><td> 0.000000</td><td>-2.307946</td><td> 0.000000</td><td> 0.000000</td><td>-3.869239</td></tr>\n",
       "\t<tr><th scope=row>R-HSA-109582_Hemostasis</th><td> 0.000000</td><td> 0.000000</td><td>-2.719364</td><td> 0.000000</td><td> 0.000000</td><td>-3.594758</td></tr>\n",
       "\t<tr><th scope=row>GO:1901699_cellular response to nitrogen compound</th><td> 0.000000</td><td> 0.000000</td><td> 0.000000</td><td>-2.455907</td><td> 0.000000</td><td>-2.639357</td></tr>\n",
       "\t<tr><th scope=row>GO:0055086_nucleobase-containing small molecule metabolic process</th><td>-2.353991</td><td> 0.000000</td><td> 0.000000</td><td> 0.000000</td><td>-3.930381</td><td> 0.000000</td></tr>\n",
       "</tbody>\n",
       "</table>\n"
      ],
      "text/latex": [
       "A matrix: 20 × 6 of type dbl\n",
       "\\begin{tabular}{r|llllll}\n",
       "  & Lung & Thymus & Ovary & Spleen & Kidney & Stomach\\\\\n",
       "\\hline\n",
       "\tGO:1901361\\_organic cyclic compound catabolic process &  2.109408 &  2.536527 &  2.026030 &  0.000000 &  0.000000 &  2.826122\\\\\n",
       "\tGO:0007005\\_mitochondrion organization &  0.000000 &  0.000000 &  2.014209 &  0.000000 &  0.000000 &  3.343585\\\\\n",
       "\tR-HSA-9012999\\_RHO GTPase cycle &  3.055308 &  0.000000 &  0.000000 &  0.000000 &  0.000000 &  2.178938\\\\\n",
       "\tR-HSA-6798695\\_Neutrophil degranulation &  0.000000 &  2.187234 &  0.000000 &  0.000000 &  0.000000 &  3.008581\\\\\n",
       "\tR-HSA-72766\\_Translation &  0.000000 &  0.000000 &  2.413784 &  0.000000 &  0.000000 &  4.000000\\\\\n",
       "\tGO:0006412\\_translation &  0.000000 &  0.000000 &  0.000000 &  2.377975 &  0.000000 &  4.000000\\\\\n",
       "\tR-HSA-8953897\\_Cellular responses to stimuli &  0.000000 &  0.000000 &  2.206369 &  0.000000 &  0.000000 &  4.000000\\\\\n",
       "\tR-HSA-9675108\\_Nervous system development &  0.000000 &  0.000000 &  2.975730 &  0.000000 &  0.000000 &  2.872975\\\\\n",
       "\tR-HSA-8953854\\_Metabolism of RNA &  0.000000 &  3.055479 &  0.000000 &  0.000000 &  0.000000 &  3.782873\\\\\n",
       "\tGO:0090407\\_organophosphate biosynthetic process &  2.559422 &  2.786755 &  3.822573 &  0.000000 &  0.000000 &  0.000000\\\\\n",
       "\tR-HSA-556833\\_Metabolism of lipids &  0.000000 &  2.689160 &  2.889422 &  0.000000 &  0.000000 &  2.017808\\\\\n",
       "\tR-HSA-5653656\\_Vesicle-mediated transport &  0.000000 & -2.435969 &  0.000000 &  0.000000 &  0.000000 & -2.720756\\\\\n",
       "\tGO:0051668\\_localization within membrane & -2.080410 & -2.487590 & -3.217861 &  0.000000 &  0.000000 &  0.000000\\\\\n",
       "\tR-HSA-9012999\\_RHO GTPase cycle & -2.132407 &  0.000000 & -2.228005 &  0.000000 &  0.000000 &  0.000000\\\\\n",
       "\tM5884\\_NABA CORE MATRISOME & -2.181458 &  0.000000 & -2.481159 &  0.000000 &  0.000000 & -4.000000\\\\\n",
       "\tR-HSA-6798695\\_Neutrophil degranulation &  0.000000 &  0.000000 & -4.000000 &  0.000000 &  0.000000 & -4.000000\\\\\n",
       "\tGO:0010035\\_response to inorganic substance &  0.000000 &  0.000000 & -2.307946 &  0.000000 &  0.000000 & -3.869239\\\\\n",
       "\tR-HSA-109582\\_Hemostasis &  0.000000 &  0.000000 & -2.719364 &  0.000000 &  0.000000 & -3.594758\\\\\n",
       "\tGO:1901699\\_cellular response to nitrogen compound &  0.000000 &  0.000000 &  0.000000 & -2.455907 &  0.000000 & -2.639357\\\\\n",
       "\tGO:0055086\\_nucleobase-containing small molecule metabolic process & -2.353991 &  0.000000 &  0.000000 &  0.000000 & -3.930381 &  0.000000\\\\\n",
       "\\end{tabular}\n"
      ],
      "text/markdown": [
       "\n",
       "A matrix: 20 × 6 of type dbl\n",
       "\n",
       "| <!--/--> | Lung | Thymus | Ovary | Spleen | Kidney | Stomach |\n",
       "|---|---|---|---|---|---|---|\n",
       "| GO:1901361_organic cyclic compound catabolic process |  2.109408 |  2.536527 |  2.026030 |  0.000000 |  0.000000 |  2.826122 |\n",
       "| GO:0007005_mitochondrion organization |  0.000000 |  0.000000 |  2.014209 |  0.000000 |  0.000000 |  3.343585 |\n",
       "| R-HSA-9012999_RHO GTPase cycle |  3.055308 |  0.000000 |  0.000000 |  0.000000 |  0.000000 |  2.178938 |\n",
       "| R-HSA-6798695_Neutrophil degranulation |  0.000000 |  2.187234 |  0.000000 |  0.000000 |  0.000000 |  3.008581 |\n",
       "| R-HSA-72766_Translation |  0.000000 |  0.000000 |  2.413784 |  0.000000 |  0.000000 |  4.000000 |\n",
       "| GO:0006412_translation |  0.000000 |  0.000000 |  0.000000 |  2.377975 |  0.000000 |  4.000000 |\n",
       "| R-HSA-8953897_Cellular responses to stimuli |  0.000000 |  0.000000 |  2.206369 |  0.000000 |  0.000000 |  4.000000 |\n",
       "| R-HSA-9675108_Nervous system development |  0.000000 |  0.000000 |  2.975730 |  0.000000 |  0.000000 |  2.872975 |\n",
       "| R-HSA-8953854_Metabolism of RNA |  0.000000 |  3.055479 |  0.000000 |  0.000000 |  0.000000 |  3.782873 |\n",
       "| GO:0090407_organophosphate biosynthetic process |  2.559422 |  2.786755 |  3.822573 |  0.000000 |  0.000000 |  0.000000 |\n",
       "| R-HSA-556833_Metabolism of lipids |  0.000000 |  2.689160 |  2.889422 |  0.000000 |  0.000000 |  2.017808 |\n",
       "| R-HSA-5653656_Vesicle-mediated transport |  0.000000 | -2.435969 |  0.000000 |  0.000000 |  0.000000 | -2.720756 |\n",
       "| GO:0051668_localization within membrane | -2.080410 | -2.487590 | -3.217861 |  0.000000 |  0.000000 |  0.000000 |\n",
       "| R-HSA-9012999_RHO GTPase cycle | -2.132407 |  0.000000 | -2.228005 |  0.000000 |  0.000000 |  0.000000 |\n",
       "| M5884_NABA CORE MATRISOME | -2.181458 |  0.000000 | -2.481159 |  0.000000 |  0.000000 | -4.000000 |\n",
       "| R-HSA-6798695_Neutrophil degranulation |  0.000000 |  0.000000 | -4.000000 |  0.000000 |  0.000000 | -4.000000 |\n",
       "| GO:0010035_response to inorganic substance |  0.000000 |  0.000000 | -2.307946 |  0.000000 |  0.000000 | -3.869239 |\n",
       "| R-HSA-109582_Hemostasis |  0.000000 |  0.000000 | -2.719364 |  0.000000 |  0.000000 | -3.594758 |\n",
       "| GO:1901699_cellular response to nitrogen compound |  0.000000 |  0.000000 |  0.000000 | -2.455907 |  0.000000 | -2.639357 |\n",
       "| GO:0055086_nucleobase-containing small molecule metabolic process | -2.353991 |  0.000000 |  0.000000 |  0.000000 | -3.930381 |  0.000000 |\n",
       "\n"
      ],
      "text/plain": [
       "                                                                  Lung     \n",
       "GO:1901361_organic cyclic compound catabolic process               2.109408\n",
       "GO:0007005_mitochondrion organization                              0.000000\n",
       "R-HSA-9012999_RHO GTPase cycle                                     3.055308\n",
       "R-HSA-6798695_Neutrophil degranulation                             0.000000\n",
       "R-HSA-72766_Translation                                            0.000000\n",
       "GO:0006412_translation                                             0.000000\n",
       "R-HSA-8953897_Cellular responses to stimuli                        0.000000\n",
       "R-HSA-9675108_Nervous system development                           0.000000\n",
       "R-HSA-8953854_Metabolism of RNA                                    0.000000\n",
       "GO:0090407_organophosphate biosynthetic process                    2.559422\n",
       "R-HSA-556833_Metabolism of lipids                                  0.000000\n",
       "R-HSA-5653656_Vesicle-mediated transport                           0.000000\n",
       "GO:0051668_localization within membrane                           -2.080410\n",
       "R-HSA-9012999_RHO GTPase cycle                                    -2.132407\n",
       "M5884_NABA CORE MATRISOME                                         -2.181458\n",
       "R-HSA-6798695_Neutrophil degranulation                             0.000000\n",
       "GO:0010035_response to inorganic substance                         0.000000\n",
       "R-HSA-109582_Hemostasis                                            0.000000\n",
       "GO:1901699_cellular response to nitrogen compound                  0.000000\n",
       "GO:0055086_nucleobase-containing small molecule metabolic process -2.353991\n",
       "                                                                  Thymus   \n",
       "GO:1901361_organic cyclic compound catabolic process               2.536527\n",
       "GO:0007005_mitochondrion organization                              0.000000\n",
       "R-HSA-9012999_RHO GTPase cycle                                     0.000000\n",
       "R-HSA-6798695_Neutrophil degranulation                             2.187234\n",
       "R-HSA-72766_Translation                                            0.000000\n",
       "GO:0006412_translation                                             0.000000\n",
       "R-HSA-8953897_Cellular responses to stimuli                        0.000000\n",
       "R-HSA-9675108_Nervous system development                           0.000000\n",
       "R-HSA-8953854_Metabolism of RNA                                    3.055479\n",
       "GO:0090407_organophosphate biosynthetic process                    2.786755\n",
       "R-HSA-556833_Metabolism of lipids                                  2.689160\n",
       "R-HSA-5653656_Vesicle-mediated transport                          -2.435969\n",
       "GO:0051668_localization within membrane                           -2.487590\n",
       "R-HSA-9012999_RHO GTPase cycle                                     0.000000\n",
       "M5884_NABA CORE MATRISOME                                          0.000000\n",
       "R-HSA-6798695_Neutrophil degranulation                             0.000000\n",
       "GO:0010035_response to inorganic substance                         0.000000\n",
       "R-HSA-109582_Hemostasis                                            0.000000\n",
       "GO:1901699_cellular response to nitrogen compound                  0.000000\n",
       "GO:0055086_nucleobase-containing small molecule metabolic process  0.000000\n",
       "                                                                  Ovary    \n",
       "GO:1901361_organic cyclic compound catabolic process               2.026030\n",
       "GO:0007005_mitochondrion organization                              2.014209\n",
       "R-HSA-9012999_RHO GTPase cycle                                     0.000000\n",
       "R-HSA-6798695_Neutrophil degranulation                             0.000000\n",
       "R-HSA-72766_Translation                                            2.413784\n",
       "GO:0006412_translation                                             0.000000\n",
       "R-HSA-8953897_Cellular responses to stimuli                        2.206369\n",
       "R-HSA-9675108_Nervous system development                           2.975730\n",
       "R-HSA-8953854_Metabolism of RNA                                    0.000000\n",
       "GO:0090407_organophosphate biosynthetic process                    3.822573\n",
       "R-HSA-556833_Metabolism of lipids                                  2.889422\n",
       "R-HSA-5653656_Vesicle-mediated transport                           0.000000\n",
       "GO:0051668_localization within membrane                           -3.217861\n",
       "R-HSA-9012999_RHO GTPase cycle                                    -2.228005\n",
       "M5884_NABA CORE MATRISOME                                         -2.481159\n",
       "R-HSA-6798695_Neutrophil degranulation                            -4.000000\n",
       "GO:0010035_response to inorganic substance                        -2.307946\n",
       "R-HSA-109582_Hemostasis                                           -2.719364\n",
       "GO:1901699_cellular response to nitrogen compound                  0.000000\n",
       "GO:0055086_nucleobase-containing small molecule metabolic process  0.000000\n",
       "                                                                  Spleen   \n",
       "GO:1901361_organic cyclic compound catabolic process               0.000000\n",
       "GO:0007005_mitochondrion organization                              0.000000\n",
       "R-HSA-9012999_RHO GTPase cycle                                     0.000000\n",
       "R-HSA-6798695_Neutrophil degranulation                             0.000000\n",
       "R-HSA-72766_Translation                                            0.000000\n",
       "GO:0006412_translation                                             2.377975\n",
       "R-HSA-8953897_Cellular responses to stimuli                        0.000000\n",
       "R-HSA-9675108_Nervous system development                           0.000000\n",
       "R-HSA-8953854_Metabolism of RNA                                    0.000000\n",
       "GO:0090407_organophosphate biosynthetic process                    0.000000\n",
       "R-HSA-556833_Metabolism of lipids                                  0.000000\n",
       "R-HSA-5653656_Vesicle-mediated transport                           0.000000\n",
       "GO:0051668_localization within membrane                            0.000000\n",
       "R-HSA-9012999_RHO GTPase cycle                                     0.000000\n",
       "M5884_NABA CORE MATRISOME                                          0.000000\n",
       "R-HSA-6798695_Neutrophil degranulation                             0.000000\n",
       "GO:0010035_response to inorganic substance                         0.000000\n",
       "R-HSA-109582_Hemostasis                                            0.000000\n",
       "GO:1901699_cellular response to nitrogen compound                 -2.455907\n",
       "GO:0055086_nucleobase-containing small molecule metabolic process  0.000000\n",
       "                                                                  Kidney   \n",
       "GO:1901361_organic cyclic compound catabolic process               0.000000\n",
       "GO:0007005_mitochondrion organization                              0.000000\n",
       "R-HSA-9012999_RHO GTPase cycle                                     0.000000\n",
       "R-HSA-6798695_Neutrophil degranulation                             0.000000\n",
       "R-HSA-72766_Translation                                            0.000000\n",
       "GO:0006412_translation                                             0.000000\n",
       "R-HSA-8953897_Cellular responses to stimuli                        0.000000\n",
       "R-HSA-9675108_Nervous system development                           0.000000\n",
       "R-HSA-8953854_Metabolism of RNA                                    0.000000\n",
       "GO:0090407_organophosphate biosynthetic process                    0.000000\n",
       "R-HSA-556833_Metabolism of lipids                                  0.000000\n",
       "R-HSA-5653656_Vesicle-mediated transport                           0.000000\n",
       "GO:0051668_localization within membrane                            0.000000\n",
       "R-HSA-9012999_RHO GTPase cycle                                     0.000000\n",
       "M5884_NABA CORE MATRISOME                                          0.000000\n",
       "R-HSA-6798695_Neutrophil degranulation                             0.000000\n",
       "GO:0010035_response to inorganic substance                         0.000000\n",
       "R-HSA-109582_Hemostasis                                            0.000000\n",
       "GO:1901699_cellular response to nitrogen compound                  0.000000\n",
       "GO:0055086_nucleobase-containing small molecule metabolic process -3.930381\n",
       "                                                                  Stomach  \n",
       "GO:1901361_organic cyclic compound catabolic process               2.826122\n",
       "GO:0007005_mitochondrion organization                              3.343585\n",
       "R-HSA-9012999_RHO GTPase cycle                                     2.178938\n",
       "R-HSA-6798695_Neutrophil degranulation                             3.008581\n",
       "R-HSA-72766_Translation                                            4.000000\n",
       "GO:0006412_translation                                             4.000000\n",
       "R-HSA-8953897_Cellular responses to stimuli                        4.000000\n",
       "R-HSA-9675108_Nervous system development                           2.872975\n",
       "R-HSA-8953854_Metabolism of RNA                                    3.782873\n",
       "GO:0090407_organophosphate biosynthetic process                    0.000000\n",
       "R-HSA-556833_Metabolism of lipids                                  2.017808\n",
       "R-HSA-5653656_Vesicle-mediated transport                          -2.720756\n",
       "GO:0051668_localization within membrane                            0.000000\n",
       "R-HSA-9012999_RHO GTPase cycle                                     0.000000\n",
       "M5884_NABA CORE MATRISOME                                         -4.000000\n",
       "R-HSA-6798695_Neutrophil degranulation                            -4.000000\n",
       "GO:0010035_response to inorganic substance                        -3.869239\n",
       "R-HSA-109582_Hemostasis                                           -3.594758\n",
       "GO:1901699_cellular response to nitrogen compound                 -2.639357\n",
       "GO:0055086_nucleobase-containing small molecule metabolic process  0.000000"
      ]
     },
     "metadata": {},
     "output_type": "display_data"
    }
   ],
   "source": [
    "ids = rowSums(abs(thisgo.matrix[,sixtissues]) > 2) > 1\n",
    "thisgo.matrix[ids,sixtissues]"
   ]
  },
  {
   "cell_type": "code",
   "execution_count": 57,
   "metadata": {},
   "outputs": [
    {
     "data": {
      "text/html": [
       "20"
      ],
      "text/latex": [
       "20"
      ],
      "text/markdown": [
       "20"
      ],
      "text/plain": [
       "[1] 20"
      ]
     },
     "metadata": {},
     "output_type": "display_data"
    }
   ],
   "source": [
    "sum(rowSums(abs(thisgo.matrix[,sixtissues]) > 2) > 1)"
   ]
  },
  {
   "cell_type": "code",
   "execution_count": 52,
   "metadata": {},
   "outputs": [
    {
     "data": {
      "text/html": [
       "<ol class=list-inline>\n",
       "\t<li>'WP3888_VEGFA-VEGFR2 signaling pathway'</li>\n",
       "\t<li>'GO:0097435_supramolecular fiber organization'</li>\n",
       "\t<li>'R-HSA-5653656_Vesicle-mediated transport'</li>\n",
       "\t<li>'GO:0022411_cellular component disassembly'</li>\n",
       "\t<li>'GO:1901361_organic cyclic compound catabolic process'</li>\n",
       "\t<li>'GO:0007005_mitochondrion organization'</li>\n",
       "\t<li>'GO:0016050_vesicle organization'</li>\n",
       "\t<li>'R-HSA-9012999_RHO GTPase cycle'</li>\n",
       "\t<li>'R-HSA-1474244_Extracellular matrix organization'</li>\n",
       "\t<li>'GO:0048193_Golgi vesicle transport'</li>\n",
       "\t<li>'GO:0010256_endomembrane system organization'</li>\n",
       "\t<li>'GO:0051668_localization within membrane'</li>\n",
       "\t<li>'R-HSA-6798695_Neutrophil degranulation'</li>\n",
       "\t<li>'R-HSA-72766_Translation'</li>\n",
       "\t<li>'GO:0006412_translation'</li>\n",
       "\t<li>'R-HSA-8953897_Cellular responses to stimuli'</li>\n",
       "\t<li>'R-HSA-9675108_Nervous system development'</li>\n",
       "\t<li>'R-HSA-8953854_Metabolism of RNA'</li>\n",
       "\t<li>'GO:0090407_organophosphate biosynthetic process'</li>\n",
       "\t<li>'R-HSA-556833_Metabolism of lipids'</li>\n",
       "\t<li>'GO:0090407_organophosphate biosynthetic process'</li>\n",
       "\t<li>'R-HSA-556833_Metabolism of lipids'</li>\n",
       "\t<li>'R-HSA-5653656_Vesicle-mediated transport'</li>\n",
       "\t<li>'GO:0051668_localization within membrane'</li>\n",
       "\t<li>'R-HSA-9012999_RHO GTPase cycle'</li>\n",
       "\t<li>'M5884_NABA CORE MATRISOME'</li>\n",
       "\t<li>'R-HSA-6798695_Neutrophil degranulation'</li>\n",
       "\t<li>'R-HSA-9675108_Nervous system development'</li>\n",
       "\t<li>'GO:0003013_circulatory system process'</li>\n",
       "\t<li>'GO:0010035_response to inorganic substance'</li>\n",
       "\t<li>'R-HSA-109582_Hemostasis'</li>\n",
       "\t<li>'GO:1901699_cellular response to nitrogen compound'</li>\n",
       "\t<li>'GO:0030029_actin filament-based process'</li>\n",
       "\t<li>'GO:0051129_negative regulation of cellular component organization'</li>\n",
       "\t<li>'R-HSA-8953854_Metabolism of RNA'</li>\n",
       "\t<li>'GO:0051235_maintenance of location'</li>\n",
       "\t<li>'GO:0007264_small GTPase mediated signal transduction'</li>\n",
       "\t<li>'GO:0055086_nucleobase-containing small molecule metabolic process'</li>\n",
       "\t<li>'GO:0010256_endomembrane system organization'</li>\n",
       "\t<li>'R-HSA-1474244_Extracellular matrix organization'</li>\n",
       "</ol>\n"
      ],
      "text/latex": [
       "\\begin{enumerate*}\n",
       "\\item 'WP3888\\_VEGFA-VEGFR2 signaling pathway'\n",
       "\\item 'GO:0097435\\_supramolecular fiber organization'\n",
       "\\item 'R-HSA-5653656\\_Vesicle-mediated transport'\n",
       "\\item 'GO:0022411\\_cellular component disassembly'\n",
       "\\item 'GO:1901361\\_organic cyclic compound catabolic process'\n",
       "\\item 'GO:0007005\\_mitochondrion organization'\n",
       "\\item 'GO:0016050\\_vesicle organization'\n",
       "\\item 'R-HSA-9012999\\_RHO GTPase cycle'\n",
       "\\item 'R-HSA-1474244\\_Extracellular matrix organization'\n",
       "\\item 'GO:0048193\\_Golgi vesicle transport'\n",
       "\\item 'GO:0010256\\_endomembrane system organization'\n",
       "\\item 'GO:0051668\\_localization within membrane'\n",
       "\\item 'R-HSA-6798695\\_Neutrophil degranulation'\n",
       "\\item 'R-HSA-72766\\_Translation'\n",
       "\\item 'GO:0006412\\_translation'\n",
       "\\item 'R-HSA-8953897\\_Cellular responses to stimuli'\n",
       "\\item 'R-HSA-9675108\\_Nervous system development'\n",
       "\\item 'R-HSA-8953854\\_Metabolism of RNA'\n",
       "\\item 'GO:0090407\\_organophosphate biosynthetic process'\n",
       "\\item 'R-HSA-556833\\_Metabolism of lipids'\n",
       "\\item 'GO:0090407\\_organophosphate biosynthetic process'\n",
       "\\item 'R-HSA-556833\\_Metabolism of lipids'\n",
       "\\item 'R-HSA-5653656\\_Vesicle-mediated transport'\n",
       "\\item 'GO:0051668\\_localization within membrane'\n",
       "\\item 'R-HSA-9012999\\_RHO GTPase cycle'\n",
       "\\item 'M5884\\_NABA CORE MATRISOME'\n",
       "\\item 'R-HSA-6798695\\_Neutrophil degranulation'\n",
       "\\item 'R-HSA-9675108\\_Nervous system development'\n",
       "\\item 'GO:0003013\\_circulatory system process'\n",
       "\\item 'GO:0010035\\_response to inorganic substance'\n",
       "\\item 'R-HSA-109582\\_Hemostasis'\n",
       "\\item 'GO:1901699\\_cellular response to nitrogen compound'\n",
       "\\item 'GO:0030029\\_actin filament-based process'\n",
       "\\item 'GO:0051129\\_negative regulation of cellular component organization'\n",
       "\\item 'R-HSA-8953854\\_Metabolism of RNA'\n",
       "\\item 'GO:0051235\\_maintenance of location'\n",
       "\\item 'GO:0007264\\_small GTPase mediated signal transduction'\n",
       "\\item 'GO:0055086\\_nucleobase-containing small molecule metabolic process'\n",
       "\\item 'GO:0010256\\_endomembrane system organization'\n",
       "\\item 'R-HSA-1474244\\_Extracellular matrix organization'\n",
       "\\end{enumerate*}\n"
      ],
      "text/markdown": [
       "1. 'WP3888_VEGFA-VEGFR2 signaling pathway'\n",
       "2. 'GO:0097435_supramolecular fiber organization'\n",
       "3. 'R-HSA-5653656_Vesicle-mediated transport'\n",
       "4. 'GO:0022411_cellular component disassembly'\n",
       "5. 'GO:1901361_organic cyclic compound catabolic process'\n",
       "6. 'GO:0007005_mitochondrion organization'\n",
       "7. 'GO:0016050_vesicle organization'\n",
       "8. 'R-HSA-9012999_RHO GTPase cycle'\n",
       "9. 'R-HSA-1474244_Extracellular matrix organization'\n",
       "10. 'GO:0048193_Golgi vesicle transport'\n",
       "11. 'GO:0010256_endomembrane system organization'\n",
       "12. 'GO:0051668_localization within membrane'\n",
       "13. 'R-HSA-6798695_Neutrophil degranulation'\n",
       "14. 'R-HSA-72766_Translation'\n",
       "15. 'GO:0006412_translation'\n",
       "16. 'R-HSA-8953897_Cellular responses to stimuli'\n",
       "17. 'R-HSA-9675108_Nervous system development'\n",
       "18. 'R-HSA-8953854_Metabolism of RNA'\n",
       "19. 'GO:0090407_organophosphate biosynthetic process'\n",
       "20. 'R-HSA-556833_Metabolism of lipids'\n",
       "21. 'GO:0090407_organophosphate biosynthetic process'\n",
       "22. 'R-HSA-556833_Metabolism of lipids'\n",
       "23. 'R-HSA-5653656_Vesicle-mediated transport'\n",
       "24. 'GO:0051668_localization within membrane'\n",
       "25. 'R-HSA-9012999_RHO GTPase cycle'\n",
       "26. 'M5884_NABA CORE MATRISOME'\n",
       "27. 'R-HSA-6798695_Neutrophil degranulation'\n",
       "28. 'R-HSA-9675108_Nervous system development'\n",
       "29. 'GO:0003013_circulatory system process'\n",
       "30. 'GO:0010035_response to inorganic substance'\n",
       "31. 'R-HSA-109582_Hemostasis'\n",
       "32. 'GO:1901699_cellular response to nitrogen compound'\n",
       "33. 'GO:0030029_actin filament-based process'\n",
       "34. 'GO:0051129_negative regulation of cellular component organization'\n",
       "35. 'R-HSA-8953854_Metabolism of RNA'\n",
       "36. 'GO:0051235_maintenance of location'\n",
       "37. 'GO:0007264_small GTPase mediated signal transduction'\n",
       "38. 'GO:0055086_nucleobase-containing small molecule metabolic process'\n",
       "39. 'GO:0010256_endomembrane system organization'\n",
       "40. 'R-HSA-1474244_Extracellular matrix organization'\n",
       "\n",
       "\n"
      ],
      "text/plain": [
       " [1] \"WP3888_VEGFA-VEGFR2 signaling pathway\"                            \n",
       " [2] \"GO:0097435_supramolecular fiber organization\"                     \n",
       " [3] \"R-HSA-5653656_Vesicle-mediated transport\"                         \n",
       " [4] \"GO:0022411_cellular component disassembly\"                        \n",
       " [5] \"GO:1901361_organic cyclic compound catabolic process\"             \n",
       " [6] \"GO:0007005_mitochondrion organization\"                            \n",
       " [7] \"GO:0016050_vesicle organization\"                                  \n",
       " [8] \"R-HSA-9012999_RHO GTPase cycle\"                                   \n",
       " [9] \"R-HSA-1474244_Extracellular matrix organization\"                  \n",
       "[10] \"GO:0048193_Golgi vesicle transport\"                               \n",
       "[11] \"GO:0010256_endomembrane system organization\"                      \n",
       "[12] \"GO:0051668_localization within membrane\"                          \n",
       "[13] \"R-HSA-6798695_Neutrophil degranulation\"                           \n",
       "[14] \"R-HSA-72766_Translation\"                                          \n",
       "[15] \"GO:0006412_translation\"                                           \n",
       "[16] \"R-HSA-8953897_Cellular responses to stimuli\"                      \n",
       "[17] \"R-HSA-9675108_Nervous system development\"                         \n",
       "[18] \"R-HSA-8953854_Metabolism of RNA\"                                  \n",
       "[19] \"GO:0090407_organophosphate biosynthetic process\"                  \n",
       "[20] \"R-HSA-556833_Metabolism of lipids\"                                \n",
       "[21] \"GO:0090407_organophosphate biosynthetic process\"                  \n",
       "[22] \"R-HSA-556833_Metabolism of lipids\"                                \n",
       "[23] \"R-HSA-5653656_Vesicle-mediated transport\"                         \n",
       "[24] \"GO:0051668_localization within membrane\"                          \n",
       "[25] \"R-HSA-9012999_RHO GTPase cycle\"                                   \n",
       "[26] \"M5884_NABA CORE MATRISOME\"                                        \n",
       "[27] \"R-HSA-6798695_Neutrophil degranulation\"                           \n",
       "[28] \"R-HSA-9675108_Nervous system development\"                         \n",
       "[29] \"GO:0003013_circulatory system process\"                            \n",
       "[30] \"GO:0010035_response to inorganic substance\"                       \n",
       "[31] \"R-HSA-109582_Hemostasis\"                                          \n",
       "[32] \"GO:1901699_cellular response to nitrogen compound\"                \n",
       "[33] \"GO:0030029_actin filament-based process\"                          \n",
       "[34] \"GO:0051129_negative regulation of cellular component organization\"\n",
       "[35] \"R-HSA-8953854_Metabolism of RNA\"                                  \n",
       "[36] \"GO:0051235_maintenance of location\"                               \n",
       "[37] \"GO:0007264_small GTPase mediated signal transduction\"             \n",
       "[38] \"GO:0055086_nucleobase-containing small molecule metabolic process\"\n",
       "[39] \"GO:0010256_endomembrane system organization\"                      \n",
       "[40] \"R-HSA-1474244_Extracellular matrix organization\"                  "
      ]
     },
     "metadata": {},
     "output_type": "display_data"
    }
   ],
   "source": [
    "rownames(thisgo.matrix)"
   ]
  },
  {
   "cell_type": "code",
   "execution_count": 48,
   "metadata": {},
   "outputs": [
    {
     "data": {
      "text/html": [
       "<dl class=dl-horizontal>\n",
       "\t<dt>WP3888_VEGFA-VEGFR2 signaling pathway</dt>\n",
       "\t\t<dd>28.3135023725646</dd>\n",
       "\t<dt>GO:0097435_supramolecular fiber organization</dt>\n",
       "\t\t<dd>31.8007688683096</dd>\n",
       "\t<dt>R-HSA-5653656_Vesicle-mediated transport</dt>\n",
       "\t\t<dd>29.7115965669224</dd>\n",
       "\t<dt>GO:0022411_cellular component disassembly</dt>\n",
       "\t\t<dd>4.73844795679836</dd>\n",
       "\t<dt>GO:1901361_organic cyclic compound catabolic process</dt>\n",
       "\t\t<dd>17.8712517112835</dd>\n",
       "\t<dt>GO:0007005_mitochondrion organization</dt>\n",
       "\t\t<dd>12.1327014130402</dd>\n",
       "\t<dt>GO:0016050_vesicle organization</dt>\n",
       "\t\t<dd>7.3716475059997</dd>\n",
       "\t<dt>R-HSA-9012999_RHO GTPase cycle</dt>\n",
       "\t\t<dd>19.5609934901506</dd>\n",
       "\t<dt>R-HSA-1474244_Extracellular matrix organization</dt>\n",
       "\t\t<dd>17.0719441759673</dd>\n",
       "\t<dt>GO:0048193_Golgi vesicle transport</dt>\n",
       "\t\t<dd>18.1955775430572</dd>\n",
       "\t<dt>GO:0010256_endomembrane system organization</dt>\n",
       "\t\t<dd>13.075871225918</dd>\n",
       "\t<dt>GO:0051668_localization within membrane</dt>\n",
       "\t\t<dd>16.0243257207386</dd>\n",
       "\t<dt>R-HSA-6798695_Neutrophil degranulation</dt>\n",
       "\t\t<dd>32.6756203240514</dd>\n",
       "\t<dt>R-HSA-72766_Translation</dt>\n",
       "\t\t<dd>24.2758017053773</dd>\n",
       "\t<dt>GO:0006412_translation</dt>\n",
       "\t\t<dd>24.6533314975887</dd>\n",
       "\t<dt>R-HSA-8953897_Cellular responses to stimuli</dt>\n",
       "\t\t<dd>31.7800343734049</dd>\n",
       "\t<dt>R-HSA-9675108_Nervous system development</dt>\n",
       "\t\t<dd>31.5470197185159</dd>\n",
       "\t<dt>R-HSA-8953854_Metabolism of RNA</dt>\n",
       "\t\t<dd>24.1574077981692</dd>\n",
       "\t<dt>GO:0090407_organophosphate biosynthetic process</dt>\n",
       "\t\t<dd>24.5558570373697</dd>\n",
       "\t<dt>R-HSA-556833_Metabolism of lipids</dt>\n",
       "\t\t<dd>30.9851568925087</dd>\n",
       "\t<dt>GO:0090407_organophosphate biosynthetic process</dt>\n",
       "\t\t<dd>26.5111860174357</dd>\n",
       "\t<dt>R-HSA-556833_Metabolism of lipids</dt>\n",
       "\t\t<dd>24.4662886056356</dd>\n",
       "\t<dt>R-HSA-5653656_Vesicle-mediated transport</dt>\n",
       "\t\t<dd>32.2838997699214</dd>\n",
       "\t<dt>GO:0051668_localization within membrane</dt>\n",
       "\t\t<dd>21.3867399360028</dd>\n",
       "\t<dt>R-HSA-9012999_RHO GTPase cycle</dt>\n",
       "\t\t<dd>12.1601165701344</dd>\n",
       "\t<dt>M5884_NABA CORE MATRISOME</dt>\n",
       "\t\t<dd>27.7671675247677</dd>\n",
       "\t<dt>R-HSA-6798695_Neutrophil degranulation</dt>\n",
       "\t\t<dd>27.2564616314893</dd>\n",
       "\t<dt>R-HSA-9675108_Nervous system development</dt>\n",
       "\t\t<dd>18.6372154737511</dd>\n",
       "\t<dt>GO:0003013_circulatory system process</dt>\n",
       "\t\t<dd>24.0212585958806</dd>\n",
       "\t<dt>GO:0010035_response to inorganic substance</dt>\n",
       "\t\t<dd>25.5530551492768</dd>\n",
       "\t<dt>R-HSA-109582_Hemostasis</dt>\n",
       "\t\t<dd>33.3398115715776</dd>\n",
       "\t<dt>GO:1901699_cellular response to nitrogen compound</dt>\n",
       "\t\t<dd>28.1248472946881</dd>\n",
       "\t<dt>GO:0030029_actin filament-based process</dt>\n",
       "\t\t<dd>27.3628378234639</dd>\n",
       "\t<dt>GO:0051129_negative regulation of cellular component organization</dt>\n",
       "\t\t<dd>12.2666625986784</dd>\n",
       "\t<dt>R-HSA-8953854_Metabolism of RNA</dt>\n",
       "\t\t<dd>17.063564054874</dd>\n",
       "\t<dt>GO:0051235_maintenance of location</dt>\n",
       "\t\t<dd>15.7230272679513</dd>\n",
       "\t<dt>GO:0007264_small GTPase mediated signal transduction</dt>\n",
       "\t\t<dd>18.7113082892064</dd>\n",
       "\t<dt>GO:0055086_nucleobase-containing small molecule metabolic process</dt>\n",
       "\t\t<dd>29.5274282642315</dd>\n",
       "\t<dt>GO:0010256_endomembrane system organization</dt>\n",
       "\t\t<dd>22.3654098904355</dd>\n",
       "\t<dt>R-HSA-1474244_Extracellular matrix organization</dt>\n",
       "\t\t<dd>34.2465119730799</dd>\n",
       "</dl>\n"
      ],
      "text/latex": [
       "\\begin{description*}\n",
       "\\item[WP3888\\textbackslash{}\\_VEGFA-VEGFR2 signaling pathway] 28.3135023725646\n",
       "\\item[GO:0097435\\textbackslash{}\\_supramolecular fiber organization] 31.8007688683096\n",
       "\\item[R-HSA-5653656\\textbackslash{}\\_Vesicle-mediated transport] 29.7115965669224\n",
       "\\item[GO:0022411\\textbackslash{}\\_cellular component disassembly] 4.73844795679836\n",
       "\\item[GO:1901361\\textbackslash{}\\_organic cyclic compound catabolic process] 17.8712517112835\n",
       "\\item[GO:0007005\\textbackslash{}\\_mitochondrion organization] 12.1327014130402\n",
       "\\item[GO:0016050\\textbackslash{}\\_vesicle organization] 7.3716475059997\n",
       "\\item[R-HSA-9012999\\textbackslash{}\\_RHO GTPase cycle] 19.5609934901506\n",
       "\\item[R-HSA-1474244\\textbackslash{}\\_Extracellular matrix organization] 17.0719441759673\n",
       "\\item[GO:0048193\\textbackslash{}\\_Golgi vesicle transport] 18.1955775430572\n",
       "\\item[GO:0010256\\textbackslash{}\\_endomembrane system organization] 13.075871225918\n",
       "\\item[GO:0051668\\textbackslash{}\\_localization within membrane] 16.0243257207386\n",
       "\\item[R-HSA-6798695\\textbackslash{}\\_Neutrophil degranulation] 32.6756203240514\n",
       "\\item[R-HSA-72766\\textbackslash{}\\_Translation] 24.2758017053773\n",
       "\\item[GO:0006412\\textbackslash{}\\_translation] 24.6533314975887\n",
       "\\item[R-HSA-8953897\\textbackslash{}\\_Cellular responses to stimuli] 31.7800343734049\n",
       "\\item[R-HSA-9675108\\textbackslash{}\\_Nervous system development] 31.5470197185159\n",
       "\\item[R-HSA-8953854\\textbackslash{}\\_Metabolism of RNA] 24.1574077981692\n",
       "\\item[GO:0090407\\textbackslash{}\\_organophosphate biosynthetic process] 24.5558570373697\n",
       "\\item[R-HSA-556833\\textbackslash{}\\_Metabolism of lipids] 30.9851568925087\n",
       "\\item[GO:0090407\\textbackslash{}\\_organophosphate biosynthetic process] 26.5111860174357\n",
       "\\item[R-HSA-556833\\textbackslash{}\\_Metabolism of lipids] 24.4662886056356\n",
       "\\item[R-HSA-5653656\\textbackslash{}\\_Vesicle-mediated transport] 32.2838997699214\n",
       "\\item[GO:0051668\\textbackslash{}\\_localization within membrane] 21.3867399360028\n",
       "\\item[R-HSA-9012999\\textbackslash{}\\_RHO GTPase cycle] 12.1601165701344\n",
       "\\item[M5884\\textbackslash{}\\_NABA CORE MATRISOME] 27.7671675247677\n",
       "\\item[R-HSA-6798695\\textbackslash{}\\_Neutrophil degranulation] 27.2564616314893\n",
       "\\item[R-HSA-9675108\\textbackslash{}\\_Nervous system development] 18.6372154737511\n",
       "\\item[GO:0003013\\textbackslash{}\\_circulatory system process] 24.0212585958806\n",
       "\\item[GO:0010035\\textbackslash{}\\_response to inorganic substance] 25.5530551492768\n",
       "\\item[R-HSA-109582\\textbackslash{}\\_Hemostasis] 33.3398115715776\n",
       "\\item[GO:1901699\\textbackslash{}\\_cellular response to nitrogen compound] 28.1248472946881\n",
       "\\item[GO:0030029\\textbackslash{}\\_actin filament-based process] 27.3628378234639\n",
       "\\item[GO:0051129\\textbackslash{}\\_negative regulation of cellular component organization] 12.2666625986784\n",
       "\\item[R-HSA-8953854\\textbackslash{}\\_Metabolism of RNA] 17.063564054874\n",
       "\\item[GO:0051235\\textbackslash{}\\_maintenance of location] 15.7230272679513\n",
       "\\item[GO:0007264\\textbackslash{}\\_small GTPase mediated signal transduction] 18.7113082892064\n",
       "\\item[GO:0055086\\textbackslash{}\\_nucleobase-containing small molecule metabolic process] 29.5274282642315\n",
       "\\item[GO:0010256\\textbackslash{}\\_endomembrane system organization] 22.3654098904355\n",
       "\\item[R-HSA-1474244\\textbackslash{}\\_Extracellular matrix organization] 34.2465119730799\n",
       "\\end{description*}\n"
      ],
      "text/markdown": [
       "WP3888_VEGFA-VEGFR2 signaling pathway\n",
       ":   28.3135023725646GO:0097435_supramolecular fiber organization\n",
       ":   31.8007688683096R-HSA-5653656_Vesicle-mediated transport\n",
       ":   29.7115965669224GO:0022411_cellular component disassembly\n",
       ":   4.73844795679836GO:1901361_organic cyclic compound catabolic process\n",
       ":   17.8712517112835GO:0007005_mitochondrion organization\n",
       ":   12.1327014130402GO:0016050_vesicle organization\n",
       ":   7.3716475059997R-HSA-9012999_RHO GTPase cycle\n",
       ":   19.5609934901506R-HSA-1474244_Extracellular matrix organization\n",
       ":   17.0719441759673GO:0048193_Golgi vesicle transport\n",
       ":   18.1955775430572GO:0010256_endomembrane system organization\n",
       ":   13.075871225918GO:0051668_localization within membrane\n",
       ":   16.0243257207386R-HSA-6798695_Neutrophil degranulation\n",
       ":   32.6756203240514R-HSA-72766_Translation\n",
       ":   24.2758017053773GO:0006412_translation\n",
       ":   24.6533314975887R-HSA-8953897_Cellular responses to stimuli\n",
       ":   31.7800343734049R-HSA-9675108_Nervous system development\n",
       ":   31.5470197185159R-HSA-8953854_Metabolism of RNA\n",
       ":   24.1574077981692GO:0090407_organophosphate biosynthetic process\n",
       ":   24.5558570373697R-HSA-556833_Metabolism of lipids\n",
       ":   30.9851568925087GO:0090407_organophosphate biosynthetic process\n",
       ":   26.5111860174357R-HSA-556833_Metabolism of lipids\n",
       ":   24.4662886056356R-HSA-5653656_Vesicle-mediated transport\n",
       ":   32.2838997699214GO:0051668_localization within membrane\n",
       ":   21.3867399360028R-HSA-9012999_RHO GTPase cycle\n",
       ":   12.1601165701344M5884_NABA CORE MATRISOME\n",
       ":   27.7671675247677R-HSA-6798695_Neutrophil degranulation\n",
       ":   27.2564616314893R-HSA-9675108_Nervous system development\n",
       ":   18.6372154737511GO:0003013_circulatory system process\n",
       ":   24.0212585958806GO:0010035_response to inorganic substance\n",
       ":   25.5530551492768R-HSA-109582_Hemostasis\n",
       ":   33.3398115715776GO:1901699_cellular response to nitrogen compound\n",
       ":   28.1248472946881GO:0030029_actin filament-based process\n",
       ":   27.3628378234639GO:0051129_negative regulation of cellular component organization\n",
       ":   12.2666625986784R-HSA-8953854_Metabolism of RNA\n",
       ":   17.063564054874GO:0051235_maintenance of location\n",
       ":   15.7230272679513GO:0007264_small GTPase mediated signal transduction\n",
       ":   18.7113082892064GO:0055086_nucleobase-containing small molecule metabolic process\n",
       ":   29.5274282642315GO:0010256_endomembrane system organization\n",
       ":   22.3654098904355R-HSA-1474244_Extracellular matrix organization\n",
       ":   34.2465119730799\n",
       "\n"
      ],
      "text/plain": [
       "                            WP3888_VEGFA-VEGFR2 signaling pathway \n",
       "                                                        28.313502 \n",
       "                     GO:0097435_supramolecular fiber organization \n",
       "                                                        31.800769 \n",
       "                         R-HSA-5653656_Vesicle-mediated transport \n",
       "                                                        29.711597 \n",
       "                        GO:0022411_cellular component disassembly \n",
       "                                                         4.738448 \n",
       "             GO:1901361_organic cyclic compound catabolic process \n",
       "                                                        17.871252 \n",
       "                            GO:0007005_mitochondrion organization \n",
       "                                                        12.132701 \n",
       "                                  GO:0016050_vesicle organization \n",
       "                                                         7.371648 \n",
       "                                   R-HSA-9012999_RHO GTPase cycle \n",
       "                                                        19.560993 \n",
       "                  R-HSA-1474244_Extracellular matrix organization \n",
       "                                                        17.071944 \n",
       "                               GO:0048193_Golgi vesicle transport \n",
       "                                                        18.195578 \n",
       "                      GO:0010256_endomembrane system organization \n",
       "                                                        13.075871 \n",
       "                          GO:0051668_localization within membrane \n",
       "                                                        16.024326 \n",
       "                           R-HSA-6798695_Neutrophil degranulation \n",
       "                                                        32.675620 \n",
       "                                          R-HSA-72766_Translation \n",
       "                                                        24.275802 \n",
       "                                           GO:0006412_translation \n",
       "                                                        24.653331 \n",
       "                      R-HSA-8953897_Cellular responses to stimuli \n",
       "                                                        31.780034 \n",
       "                         R-HSA-9675108_Nervous system development \n",
       "                                                        31.547020 \n",
       "                                  R-HSA-8953854_Metabolism of RNA \n",
       "                                                        24.157408 \n",
       "                  GO:0090407_organophosphate biosynthetic process \n",
       "                                                        24.555857 \n",
       "                                R-HSA-556833_Metabolism of lipids \n",
       "                                                        30.985157 \n",
       "                  GO:0090407_organophosphate biosynthetic process \n",
       "                                                        26.511186 \n",
       "                                R-HSA-556833_Metabolism of lipids \n",
       "                                                        24.466289 \n",
       "                         R-HSA-5653656_Vesicle-mediated transport \n",
       "                                                        32.283900 \n",
       "                          GO:0051668_localization within membrane \n",
       "                                                        21.386740 \n",
       "                                   R-HSA-9012999_RHO GTPase cycle \n",
       "                                                        12.160117 \n",
       "                                        M5884_NABA CORE MATRISOME \n",
       "                                                        27.767168 \n",
       "                           R-HSA-6798695_Neutrophil degranulation \n",
       "                                                        27.256462 \n",
       "                         R-HSA-9675108_Nervous system development \n",
       "                                                        18.637215 \n",
       "                            GO:0003013_circulatory system process \n",
       "                                                        24.021259 \n",
       "                       GO:0010035_response to inorganic substance \n",
       "                                                        25.553055 \n",
       "                                          R-HSA-109582_Hemostasis \n",
       "                                                        33.339812 \n",
       "                GO:1901699_cellular response to nitrogen compound \n",
       "                                                        28.124847 \n",
       "                          GO:0030029_actin filament-based process \n",
       "                                                        27.362838 \n",
       "GO:0051129_negative regulation of cellular component organization \n",
       "                                                        12.266663 \n",
       "                                  R-HSA-8953854_Metabolism of RNA \n",
       "                                                        17.063564 \n",
       "                               GO:0051235_maintenance of location \n",
       "                                                        15.723027 \n",
       "             GO:0007264_small GTPase mediated signal transduction \n",
       "                                                        18.711308 \n",
       "GO:0055086_nucleobase-containing small molecule metabolic process \n",
       "                                                        29.527428 \n",
       "                      GO:0010256_endomembrane system organization \n",
       "                                                        22.365410 \n",
       "                  R-HSA-1474244_Extracellular matrix organization \n",
       "                                                        34.246512 "
      ]
     },
     "metadata": {},
     "output_type": "display_data"
    }
   ],
   "source": [
    "rowSums(abs(thisgo.matrix))"
   ]
  },
  {
   "cell_type": "code",
   "execution_count": null,
   "metadata": {},
   "outputs": [],
   "source": []
  },
  {
   "cell_type": "code",
   "execution_count": null,
   "metadata": {},
   "outputs": [],
   "source": []
  },
  {
   "cell_type": "code",
   "execution_count": null,
   "metadata": {},
   "outputs": [],
   "source": []
  },
  {
   "cell_type": "markdown",
   "metadata": {},
   "source": [
    "## mRNA"
   ]
  },
  {
   "cell_type": "code",
   "execution_count": 97,
   "metadata": {},
   "outputs": [],
   "source": [
    "tissueNames = names(pro.tissues)\n",
    "\n",
    "DEmrna.treat = list()\n",
    "for(i in 1:length(tissueNames)){\n",
    "    tname = tissueNames[i]\n",
    "    tmpa = get_DEexpr.treat(mrna.tissues[[tname]],mrna.tissues.info[[tname]])\n",
    "    #tmpb = cbind(tmpa[,1],mrna.tissues.header[[i]])\n",
    "    DEmrna.treat[[i]] =tmpa\n",
    "    #names(DEmrna.treat[[i]])[1] = 'ID'\n",
    "    outname = paste0('./out/20220519_treatment/Tissue_DEG/DEGout_mRNA/DEmrna_treat_',tname,'.txt')\n",
    "    writetxt(DEmrna.treat[[i]],outname)\n",
    "}\n",
    "names(DEmrna.treat) = tissueNames"
   ]
  },
  {
   "cell_type": "code",
   "execution_count": 98,
   "metadata": {},
   "outputs": [],
   "source": [
    "#write for GOenrich down\n",
    "inputGOenrich = data.frame(tissues = names(pro.tissues),stringsAsFactors = F,\n",
    "                      genes = rep('c',length(pro.tissues)))\n",
    "#colnames(inputGOenrich) = c('tissue','GeneSymbol')\n",
    "for(i in 1:length(DEmrna.treat)){\n",
    "    tmp = DEmrna.treat[[i]]\n",
    "    tgenes = unique(rownames(tmp)[tmp$Pvalue < 0.05 & tmp$log2FC < -0.58])\n",
    "    tgenes = tgenes[!is.na(tgenes)]\n",
    "    #tgenes = unique(pro.tissues.header[[i]][tgenes,]$Gene)\n",
    "    tgenes = tgenes[tgenes != '']\n",
    "    tgenes = paste0(tgenes,collapse =',')\n",
    "    inputGOenrich$genes[i] = tgenes\n",
    "}\n",
    "writetxt(inputGOenrich,'./out/20220519_treatment/Tissue_DEG/DEGout_mRNA/_inputGOenrich_treat_DEmrna_down.txt',row.names = F,col.names = F)"
   ]
  },
  {
   "cell_type": "code",
   "execution_count": 99,
   "metadata": {},
   "outputs": [],
   "source": [
    "#write for GOenrich up\n",
    "inputGOenrich = data.frame(tissues = names(pro.tissues),stringsAsFactors = F,\n",
    "                      genes = rep('c',length(pro.tissues)))\n",
    "#colnames(inputGOenrich) = c('tissue','GeneSymbol')\n",
    "for(i in 1:length(DEmrna.treat)){\n",
    "    tmp = DEmrna.treat[[i]]\n",
    "    tgenes = unique(rownames(tmp)[tmp$Pvalue < 0.05 & tmp$log2FC > 0.58])\n",
    "    tgenes = tgenes[!is.na(tgenes)]\n",
    "    #tgenes = unique(pro.tissues.header[[i]][tgenes,]$Gene)\n",
    "    tgenes = tgenes[tgenes != '']\n",
    "    tgenes = paste0(tgenes,collapse =',')\n",
    "    inputGOenrich$genes[i] = tgenes\n",
    "}\n",
    "writetxt(inputGOenrich,'./out/20220519_treatment/Tissue_DEG/DEGout_mRNA/_inputGOenrich_treat_DEmrna_up.txt',row.names = F,col.names = F)"
   ]
  },
  {
   "cell_type": "code",
   "execution_count": 100,
   "metadata": {},
   "outputs": [],
   "source": [
    "#write for GOenrich all\n",
    "inputGOenrich = data.frame(tissues = names(pro.tissues),stringsAsFactors = F,\n",
    "                      genes = rep('c',length(pro.tissues)))\n",
    "#colnames(inputGOenrich) = c('tissue','GeneSymbol')\n",
    "for(i in 1:length(DEmrna.treat)){\n",
    "    tmp = DEmrna.treat[[i]]\n",
    "    tgenes = unique(rownames(tmp)[tmp$Pvalue < 0.05 & abs(tmp$log2FC) > 0.58])\n",
    "    tgenes = tgenes[!is.na(tgenes)]\n",
    "    #tgenes = unique(pro.tissues.header[[i]][tgenes,]$Gene)\n",
    "    tgenes = tgenes[tgenes != '']\n",
    "    tgenes = paste0(tgenes,collapse =',')\n",
    "    inputGOenrich$genes[i] = tgenes\n",
    "}\n",
    "writetxt(inputGOenrich,'./out/20220519_treatment/Tissue_DEG/DEGout_mRNA/_inputGOenrich_treat_DEmrna_all.txt',row.names = F,col.names = F)"
   ]
  },
  {
   "cell_type": "code",
   "execution_count": 101,
   "metadata": {},
   "outputs": [],
   "source": [
    "outids = c()\n",
    "tpath1 = 'E:/github/code_forpublication/macaca_multiple_tissue/figures_treatment/Figure_DEanalysis_data/DEmrna/metascape_DEmrna_up/Enrichment_heatmap/HeatmapSelectedGO.csv'\n",
    "tpath2 = 'E:/github/code_forpublication/macaca_multiple_tissue/figures_treatment/Figure_DEanalysis_data/DEmrna/metascape_DEmrna_down/Enrichment_heatmap/HeatmapSelectedGO.csv'\n",
    "go1 = file2frame(tpath1,sep = ',',header = T,row.names =2)\n",
    "rownames(go1) = paste0(go1$GO,'_',rownames(go1))\n",
    "go1 = abs(as.matrix(go1[,-1]))\n",
    "idx1 = sort.int(rowSums(go1 >0),decreasing = T,index.return = T)$ix\n",
    "go1.top10 = go1[idx1[1:10],]\n",
    "go2 = file2frame(tpath2,sep = ',',header = T,row.names =2)\n",
    "rownames(go2) = paste0(go2$GO,'_',rownames(go2))\n",
    "go2 = as.matrix(go2[,-1])\n",
    "idx2 = sort.int(rowSums(abs(go2) >0),decreasing = T,index.return = T)$ix\n",
    "go2.top10 = go2[idx2[1:10],]\n",
    "thisgo = rbind(go1,go2)\n",
    "thisgo.matrix = as.matrix(thisgo)\n",
    "thisgo.matrix[abs(thisgo.matrix) < 2] = 0\n",
    "thisgo.matrix[thisgo.matrix > 0] = 1\n",
    "thisgo.matrix[thisgo.matrix < 0] = -1\n",
    "colnames(thisgo.matrix) = capitalize(gsub('X_LogP_','',colnames(thisgo.matrix)))\n",
    "\n",
    "thisgo.top10 = rbind(go1.top10,go2.top10)\n",
    "thisgo.matrix.top10 = as.matrix(thisgo.top10)\n",
    "thisgo.matrix.top10[abs(thisgo.matrix.top10) < 2] = 0\n",
    "thisgo.matrix.top10[thisgo.matrix.top10 > 0] = 1\n",
    "thisgo.matrix.top10[thisgo.matrix.top10 < 0] = -1\n",
    "colnames(thisgo.matrix.top10) = capitalize(gsub('X_LogP_','',colnames(thisgo.matrix.top10)))\n",
    "\n",
    "pheatmap::pheatmap(thisgo.matrix,cluster_rows = T,cluster_cols = T,fontsize_row = 8,fontsize_col = 8,fontsize = 10,treeheight_row = 20,treeheight_col = 20,legend = F,\n",
    "                  color=colorRampPalette(c('#3B4992','gray95','#BB0021FF'))(3),\n",
    "                  height = 10,width = 8.5,\n",
    "                  file =\"./out/20220519_treatment/Tissue_DEG/Figure_DEanalysis_heatmap_GOenrichment_metascape_DEmrna_eachtissue.pdf\"\n",
    "                   )\n",
    "\n",
    "pheatmap::pheatmap(thisgo.matrix.top10,cluster_rows = T,cluster_cols = T,fontsize_row = 8,fontsize_col = 8,fontsize = 10,treeheight_row = 20,treeheight_col = 20,legend = F,\n",
    "                  color=colorRampPalette(c('#3B4992','gray95','#BB0021FF'))(3),\n",
    "                  height = 10,width = 8.5,\n",
    "                  file =\"./out/20220519_treatment/Tissue_DEG/Figure_DEanalysis_heatmap_GOenrichment_metascape_DEmrna_eachtissue_top10.pdf\"\n",
    "                   )"
   ]
  },
  {
   "cell_type": "code",
   "execution_count": 65,
   "metadata": {},
   "outputs": [],
   "source": [
    "# 6tissues\n",
    "outids = c()\n",
    "tpath1 = 'E:/github/code_forpublication/macaca_multiple_tissue/figures_treatment/Figure_DEanalysis_data/DEmrna/metascape_DEmrna_up/Enrichment_heatmap/HeatmapSelectedGO.csv'\n",
    "tpath2 = 'E:/github/code_forpublication/macaca_multiple_tissue/figures_treatment/Figure_DEanalysis_data/DEmrna/metascape_DEmrna_down/Enrichment_heatmap/HeatmapSelectedGO.csv'\n",
    "go1 = file2frame(tpath1,sep = ',',header = T,row.names =2)\n",
    "rownames(go1) = paste0(go1$GO,'_',rownames(go1))\n",
    "go1 = abs(as.matrix(go1[,-1]))\n",
    "idx1 = sort.int(rowSums(go1 >0),decreasing = T,index.return = T)$ix\n",
    "go1.top10 = go1[idx1[1:10],]\n",
    "go2 = file2frame(tpath2,sep = ',',header = T,row.names =2)\n",
    "rownames(go2) = paste0(go2$GO,'_',rownames(go2))\n",
    "go2 = as.matrix(go2[,-1])\n",
    "idx2 = sort.int(rowSums(abs(go2) >0),decreasing = T,index.return = T)$ix\n",
    "go2.top10 = go2[idx2[1:10],]\n",
    "thisgo = rbind(go1,go2)\n",
    "thisgo.matrix = as.matrix(thisgo)\n",
    "thisgo.matrix[abs(thisgo.matrix) < 2] = 0\n",
    "thisgo.matrix[thisgo.matrix > 4] = 4\n",
    "thisgo.matrix[thisgo.matrix < -4] = -4\n",
    "colnames(thisgo.matrix) = capitalize(gsub('X_LogP_','',colnames(thisgo.matrix)))\n",
    "\n",
    "thisgo.top10 = rbind(go1.top10,go2.top10)\n",
    "thisgo.matrix.top10 = as.matrix(thisgo.top10)\n",
    "thisgo.matrix.top10[abs(thisgo.matrix.top10) < 2] = 0\n",
    "thisgo.matrix.top10[thisgo.matrix.top10 > 0] = 1\n",
    "thisgo.matrix.top10[thisgo.matrix.top10 < 0] = -1\n",
    "colnames(thisgo.matrix.top10) = capitalize(gsub('X_LogP_','',colnames(thisgo.matrix.top10)))\n",
    "\n",
    "ids = rowSums(abs(thisgo.matrix[,sixtissues]) > 2) > 1\n",
    "pheatmap::pheatmap(thisgo.matrix[ids,sixtissues],cluster_rows = T,cluster_cols = T,fontsize_row = 8,fontsize_col = 8,fontsize = 10,treeheight_row = 20,treeheight_col = 20,legend = F,\n",
    "                  color=colorRampPalette(c('#3B4992','gray95','#BB0021FF'))(20),\n",
    "                  height = 6,width = 5.5,\n",
    "                  file =\"./out/20220519_treatment/Tissue_DEG/Figure_DEanalysis_heatmap_GOenrichment_metascape_DEmrna_eachtissue_6tissues.pdf\"\n",
    "                   )"
   ]
  },
  {
   "cell_type": "markdown",
   "metadata": {},
   "source": [
    "## metabolite"
   ]
  },
  {
   "cell_type": "code",
   "execution_count": 103,
   "metadata": {},
   "outputs": [],
   "source": [
    "tissueNames = names(pro.tissues)\n",
    "\n",
    "DEmet.treat = list()\n",
    "for(i in 1:length(tissueNames)){\n",
    "    tname = tissueNames[i]\n",
    "    tmpa = get_DEexpr.treat(met.tissues[[tname]],met.tissues.info[[tname]])\n",
    "    #tmpb = cbind(tmpa[,1],met.tissues.header[[i]])\n",
    "    DEmet.treat[[i]] =tmpa\n",
    "    #names(DEmet.treat[[i]])[1] = 'ID'\n",
    "    outname = paste0('./out/20220519_treatment/Tissue_DEG/DEGout_met/DEmet_treat_',tname,'.txt')\n",
    "    writetxt(DEmet.treat[[i]],outname)\n",
    "}\n",
    "names(DEmet.treat) = tissueNames"
   ]
  },
  {
   "cell_type": "code",
   "execution_count": 104,
   "metadata": {},
   "outputs": [],
   "source": [
    "# enrichment\n",
    "met.class_enrichment <- function(mets,annote){\n",
    "  require(clusterProfiler)\n",
    "\n",
    "  vmet = intersect(mets,rownames(annote))\n",
    "  fluxgmt = data.frame(ont = annote$sub_class,gene = rownames(annote),stringsAsFactors = F) \n",
    " #   fluxgmt = data.frame(ont = annote$class,gene = rownames(annote),stringsAsFactors = F) \n",
    "  \n",
    "  Recon3D <- enricher(gene = vmet,\n",
    "                TERM2GENE=fluxgmt,\n",
    "                pAdjustMethod = \"BH\",\n",
    "                minGSSize = 1,\n",
    "                pvalueCutoff =1,\n",
    "                qvalueCutoff = 1\n",
    "                )\n",
    "  Recon3Dout = Recon3D@result\n",
    "  Recon3Dout$DB = rep('HMDBclass',dim(Recon3Dout)[1])\n",
    "  n = dim(Recon3Dout)[2]\n",
    "  Recon3Dout = Recon3Dout[,c(n,1:(n-1))]\n",
    "  return(Recon3Dout)\n",
    "}"
   ]
  },
  {
   "cell_type": "code",
   "execution_count": 105,
   "metadata": {
    "collapsed": true
   },
   "outputs": [
    {
     "name": "stderr",
     "output_type": "stream",
     "text": [
      "Loading required package: clusterProfiler\n",
      "\n",
      "Registered S3 method overwritten by 'enrichplot':\n",
      "  method               from\n",
      "  fortify.enrichResult DOSE\n",
      "clusterProfiler v3.12.0  For help: https://guangchuangyu.github.io/software/clusterProfiler\n",
      "\n",
      "If you use clusterProfiler in published research, please cite:\n",
      "Guangchuang Yu, Li-Gen Wang, Yanyan Han, Qing-Yu He. clusterProfiler: an R package for comparing biological themes among gene clusters. OMICS: A Journal of Integrative Biology. 2012, 16(5):284-287.\n"
     ]
    }
   ],
   "source": [
    "metenrich.up = matrix(1,100,length(DEmet.treat))\n",
    "rownames(metenrich.up)  = paste('X',1:nrow(metenrich.up))\n",
    "k = 0\n",
    "met.header.all.hmdb.v1 = met.header.all.hmdb.v\n",
    "rownames(met.header.all.hmdb.v1) = paste0('met_',rownames(met.header.all.hmdb.v1))\n",
    "for(i in 1:length(DEmet.treat)){\n",
    "    tmpDEmet = DEmet.treat[[i]]\n",
    "    \n",
    "    tgene = rownames(tmpDEmet)[tmpDEmet$Pvalue < 0.05 & tmpDEmet$log2FC > 0]\n",
    "    tgene = paste0('met_',tgene)\n",
    "    tgene = intersect(tgene,rownames(met.header.all.hmdb.v1))\n",
    "    tmp = met.class_enrichment(tgene,met.header.all.hmdb.v1)\n",
    "    tmp = tmp[tmp$p.adjust < 1e-2,]\n",
    "    if(nrow(tmp) < 1) next;\n",
    "    for(j in 1:nrow(tmp)){\n",
    "        thisname = rownames(tmp)[j]\n",
    "        if(sum(rownames(metenrich.up) == thisname) > 0){\n",
    "            metenrich.up[thisname,i] = tmp$p.adjust[j]\n",
    "        }else{\n",
    "            k = k+1;\n",
    "            metenrich.up[k,i] = tmp$p.adjust[j]\n",
    "            rownames(metenrich.up)[k] = thisname\n",
    "        }\n",
    "    }  \n",
    "}\n",
    "metenrich.up = log10(metenrich.up[1:k,])\n",
    "colnames(metenrich.up) = names(DEmet.treat)"
   ]
  },
  {
   "cell_type": "code",
   "execution_count": 106,
   "metadata": {},
   "outputs": [],
   "source": [
    "metenrich.down = matrix(1,100,length(DEmet.treat))\n",
    "rownames(metenrich.down)  = paste('X',1:nrow(metenrich.down))\n",
    "k = 0\n",
    "met.header.all.hmdb.v1 = met.header.all.hmdb.v\n",
    "rownames(met.header.all.hmdb.v1) = paste0('met_',rownames(met.header.all.hmdb.v1))\n",
    "for(i in 1:length(DEmet.treat)){\n",
    "    tmpDEmet = DEmet.treat[[i]]\n",
    "    \n",
    "    tgene = rownames(tmpDEmet)[tmpDEmet$Pvalue < 0.05 & tmpDEmet$log2FC < 0]\n",
    "    tgene = paste0('met_',tgene)\n",
    "    tgene = intersect(tgene,rownames(met.header.all.hmdb.v1))\n",
    "    if (length(tgene) <2) next;\n",
    "    tmp = met.class_enrichment(tgene,met.header.all.hmdb.v1)\n",
    "    tmp = tmp[tmp$p.adjust < 1e-2,]\n",
    "    if(nrow(tmp) < 1) next;\n",
    "    for(j in 1:nrow(tmp)){\n",
    "        thisname = rownames(tmp)[j]\n",
    "        if(sum(rownames(metenrich.down) == thisname) > 0){\n",
    "            metenrich.down[thisname,i] = tmp$p.adjust[j]\n",
    "        }else{\n",
    "            k = k+1;\n",
    "            metenrich.down[k,i] = tmp$p.adjust[j]\n",
    "            rownames(metenrich.down)[k] = thisname\n",
    "        }\n",
    "    }  \n",
    "}\n",
    "metenrich.down = log10(metenrich.down[1:k,])\n",
    "colnames(metenrich.down) = names(DEmet.treat)"
   ]
  },
  {
   "cell_type": "code",
   "execution_count": 107,
   "metadata": {},
   "outputs": [],
   "source": [
    "go1 = metenrich.up\n",
    "go2 = metenrich.down\n",
    "#rownames(go1) = paste0(go1$GO,'_',rownames(go1))\n",
    "go1 = abs(go1)\n",
    "idx1 = sort.int(rowSums(go1 >0),decreasing = T,index.return = T)$ix\n",
    "go1 = go1[idx1,]\n",
    "go1.top10 = go1[1:10,]\n",
    "\n",
    "idx2 = sort.int(rowSums(abs(go2) >0),decreasing = T,index.return = T)$ix\n",
    "go2 = go2[idx2,]\n",
    "go2.top10 = go2[1:10,]\n",
    "\n",
    "thisgo = rbind(go1,go2)\n",
    "thisgo.matrix = as.matrix(thisgo)\n",
    "thisgo.matrix[abs(thisgo.matrix) < 2] = 0\n",
    "thisgo.matrix[thisgo.matrix > 0] = 1\n",
    "thisgo.matrix[thisgo.matrix < 0] = -1\n",
    "colnames(thisgo.matrix) = capitalize(gsub('X_LogP_','',colnames(thisgo.matrix)))\n",
    "\n",
    "thisgo.top10 = rbind(go1.top10,go2.top10)\n",
    "thisgo.matrix.top10 = as.matrix(thisgo.top10)\n",
    "thisgo.matrix.top10[abs(thisgo.matrix.top10) < 2] = 0\n",
    "thisgo.matrix.top10[thisgo.matrix.top10 > 0] = 1\n",
    "thisgo.matrix.top10[thisgo.matrix.top10 < 0] = -1\n",
    "colnames(thisgo.matrix.top10) = capitalize(gsub('X_LogP_','',colnames(thisgo.matrix.top10)))\n",
    "\n",
    "pheatmap::pheatmap(thisgo.matrix,cluster_rows = F,cluster_cols = T,fontsize_row = 8,fontsize_col = 8,fontsize = 10,treeheight_row = 20,treeheight_col = 20,legend = F,\n",
    "                  color=colorRampPalette(c('#3B4992','gray95','#BB0021FF'))(3),\n",
    "                  height = 10,width = 8.5,\n",
    "                  file =\"./out/20220519_treatment/Tissue_DEG/Figure_DEanalysis_heatmap_GOenrichment_clusterprofile_DEmet_eachtissue.pdf\"\n",
    "                   )\n",
    "\n",
    "pheatmap::pheatmap(thisgo.matrix.top10,cluster_rows = F,cluster_cols = T,fontsize_row = 8,fontsize_col = 8,fontsize = 10,treeheight_row = 20,treeheight_col = 20,legend = F,\n",
    "                  color=colorRampPalette(c('#3B4992','gray95','#BB0021FF'))(3),\n",
    "                  height = 10,width = 8.5,\n",
    "                 file =\"./out/20220519_treatment/Tissue_DEG/Figure_DEanalysis_heatmap_GOenrichment_clusterprofile_DEmet_eachtissue_top10.pdf\"\n",
    "                   )"
   ]
  },
  {
   "cell_type": "markdown",
   "metadata": {},
   "source": [
    "# Figure 8: Common DEchange and GO"
   ]
  },
  {
   "cell_type": "markdown",
   "metadata": {},
   "source": [
    "## protein"
   ]
  },
  {
   "cell_type": "code",
   "execution_count": 13,
   "metadata": {},
   "outputs": [],
   "source": [
    "DEproFC = list()\n",
    "DEproPvalue = list()\n",
    "DEtreat.pro = list()\n",
    "for(i in 1:length(alltissues)){\n",
    "    #Mfuzz\n",
    "    thistissue = alltissues[i]\n",
    "    thispro = pro.tissues[[thistissue]]\n",
    "    thispro.header = pro.tissues.header[[thistissue]]\n",
    "    thispro = delete_dup_genes_forprotein(thispro,pro.tissues.header[[thistissue]])\n",
    "    thispro.info = pro.tissues.info[[thistissue]]\n",
    "    thisDEpro = DEGenes.simplified(thispro,catagory = thispro.info$stage == 5,\n",
    "                               subset = thispro.info$stage == 4 | thispro.info$stage == 5)\n",
    "    DEtreat.pro[[i]] = thisDEpro\n",
    "    DEproFC[[i]] = thisDEpro$log2FC\n",
    "    names(DEproFC[[i]]) = rownames(thisDEpro)\n",
    "    DEproPvalue[[i]] = thisDEpro$Pvalue\n",
    "    names(DEproPvalue[[i]])  = rownames(thisDEpro)\n",
    "}\n",
    "names(DEproFC) = alltissues\n",
    "names(DEproPvalue) = alltissues\n",
    "names(DEtreat.pro) = alltissues"
   ]
  },
  {
   "cell_type": "code",
   "execution_count": 14,
   "metadata": {},
   "outputs": [],
   "source": [
    "#write DEtreat pro\n",
    "#sort outlist\n",
    "outlist.v = list()\n",
    "for(i in 1:length(alltissues)){\n",
    "    xi = num_omics.v$tissues[i]\n",
    "    tmp = DEtreat.pro[[xi]]\n",
    "    tmp = tmp[!is.na(tmp$Pvalue),]\n",
    "    idx  =sort.int(tmp$Pvalue,decreasing = F,index.return = T)$ix\n",
    "    tmp = tmp[idx,]\n",
    "    tmp = tmp[tmp$Pvalue < 0.05,-5]\n",
    "    outlist.v[[i]] = tmp\n",
    "}\n",
    "names(outlist.v) = num_omics.v$tissues\n",
    "#openxlsx::write.xlsx(outlist.v, file = \"./out/20220519_treatment/Tissue_DEG/Data S5_DEG_treatment_pro.xlsx\")"
   ]
  },
  {
   "cell_type": "code",
   "execution_count": 15,
   "metadata": {},
   "outputs": [],
   "source": [
    "list_to_matrix <- function(DEproFC,alltissues){\n",
    "    DEproFC_matrix = list()\n",
    "    for(i in 1:length(alltissues)){\n",
    "        tmp = matrix(DEproFC[[i]],1,length(DEproFC[[i]]))\n",
    "        tmp = as.data.frame(tmp)\n",
    "        colnames(tmp) = names(DEproFC[[i]])\n",
    "        DEproFC_matrix[[i]] = tmp\n",
    "    }\n",
    "    DEproFC_matrix = t(as.matrix(rbindlist(DEproFC_matrix,fill = T)))\n",
    "    colnames(DEproFC_matrix) = names(DEproFC)\n",
    "    #vid = rowSums(is.na(DEproFC_matrix)) < ncol(DEproFC_matrix)/2\n",
    "    #DEproFC_matrix = DEproFC_matrix[vid,]\n",
    "    return(DEproFC_matrix)\n",
    "}\n",
    "DEproFC_matrix = list_to_matrix(DEproFC,alltissues)\n",
    "DEproPvalue_matrix = list_to_matrix(DEproPvalue,alltissues)\n"
   ]
  },
  {
   "cell_type": "code",
   "execution_count": 63,
   "metadata": {},
   "outputs": [
    {
     "data": {
      "text/html": [
       "474"
      ],
      "text/latex": [
       "474"
      ],
      "text/markdown": [
       "474"
      ],
      "text/plain": [
       "[1] 474"
      ]
     },
     "metadata": {},
     "output_type": "display_data"
    },
    {
     "data": {
      "text/html": [
       "375"
      ],
      "text/latex": [
       "375"
      ],
      "text/markdown": [
       "375"
      ],
      "text/plain": [
       "[1] 375"
      ]
     },
     "metadata": {},
     "output_type": "display_data"
    }
   ],
   "source": [
    "MSC_pro_sigup_matrix = (DEproFC_matrix > 0.58 & DEproPvalue_matrix < 0.05) +0\n",
    "MSC_pro_sigdown_matrix = -((DEproFC_matrix < -0.58 & DEproPvalue_matrix < 0.05) +0)\n",
    "MSC_pro_sigall_matrix = MSC_pro_sigup_matrix + MSC_pro_sigdown_matrix\n",
    "\n",
    "MSC_pro_updown = data.frame(stringsAsFactors = F,num.up = colSums(MSC_pro_sigup_matrix,na.rm =T)/colSums(!is.na(MSC_pro_sigup_matrix)),\n",
    "                              num.down = colSums(MSC_pro_sigdown_matrix,na.rm =T)/colSums(!is.na(MSC_pro_sigdown_matrix)),\n",
    "                              num.all = colSums(abs(MSC_pro_sigall_matrix),na.rm =T)/colSums(!is.na(MSC_pro_sigall_matrix)),\n",
    "                             tissues = colnames(MSC_pro_sigup_matrix),\n",
    "                             tissue_systems = tissue.systems)\n",
    "rownames(MSC_pro_updown) = MSC_pro_updown$tissues\n",
    "\n",
    "upgenes = rownames(MSC_pro_sigall_matrix)[rowSums(MSC_pro_sigall_matrix > 0,na.rm = T) > 1]\n",
    "downgenes = rownames(MSC_pro_sigall_matrix)[rowSums(MSC_pro_sigall_matrix < 0,na.rm = T) > 1]\n",
    "length(upgenes)\n",
    "length(downgenes)\n",
    "writetxt(upgenes,filename = './out/20220519_treatment/Common_DEG/pro_common_up.txt',col.names = F)\n",
    "writetxt(downgenes,filename = './out/20220519_treatment/Common_DEG/pro_common_down.txt',col.names = F)\n"
   ]
  },
  {
   "cell_type": "code",
   "execution_count": 81,
   "metadata": {},
   "outputs": [
    {
     "data": {
      "text/html": [
       "0.0376928520583204"
      ],
      "text/latex": [
       "0.0376928520583204"
      ],
      "text/markdown": [
       "0.0376928520583204"
      ],
      "text/plain": [
       "[1] 0.03769285"
      ]
     },
     "metadata": {},
     "output_type": "display_data"
    }
   ],
   "source": [
    "mean(MSC_pro_updown$num.all)"
   ]
  },
  {
   "cell_type": "markdown",
   "metadata": {},
   "source": [
    "## mRNA\n"
   ]
  },
  {
   "cell_type": "code",
   "execution_count": 66,
   "metadata": {},
   "outputs": [],
   "source": [
    "DEmrnaFC = list()\n",
    "DEmrnaPvalue = list()\n",
    "DEtreat.mrna = list()\n",
    "for(i in 1:length(alltissues)){\n",
    "    #Mfuzz\n",
    "    thistissue = alltissues[i]\n",
    "    thismrna = mrna.tissues[[thistissue]]\n",
    "    #thismrna.header = mrna.tissues.header[[thistissue]]\n",
    "    thismrna.info = mrna.tissues.info[[thistissue]]\n",
    "    if (sum(thismrna.info$stage == 1) ==1){ \n",
    "        thismrna = cbind(thismrna[,thismrna.info$stage == 1],thismrna)\n",
    "        thismrna.info = rbind(thismrna.info[thismrna.info$stage == 1,],thismrna.info)\n",
    "    }\n",
    "    if (sum(thismrna.info$stage == 4) ==1){ \n",
    "        thismrna = cbind(thismrna,thismrna[,thismrna.info$stage == 4])\n",
    "        thismrna.info = rbind(thismrna.info,thismrna.info[thismrna.info$stage == 4,])\n",
    "    }\n",
    "    \n",
    "    thisDEmrna = DEGenes.simplified(thismrna,catagory = thismrna.info$stage == 5,\n",
    "                               subset = thismrna.info$stage == 4 | thismrna.info$stage == 5)\n",
    "    DEtreat.mrna[[i]] = thisDEmrna\n",
    "    DEmrnaFC[[i]] = thisDEmrna$log2FC\n",
    "    names(DEmrnaFC[[i]]) = rownames(thisDEmrna)\n",
    "    DEmrnaPvalue[[i]] = thisDEmrna$Pvalue\n",
    "    names(DEmrnaPvalue[[i]])  = rownames(thisDEmrna)\n",
    "}\n",
    "names(DEmrnaFC) = alltissues\n",
    "names(DEmrnaPvalue) = alltissues\n",
    "names(DEtreat.mrna) = alltissues\n",
    "DEmrnaFC_matrix = list_to_matrix(DEmrnaFC,alltissues)\n",
    "DEmrnaPvalue_matrix = list_to_matrix(DEmrnaPvalue,alltissues)"
   ]
  },
  {
   "cell_type": "code",
   "execution_count": 75,
   "metadata": {},
   "outputs": [],
   "source": [
    "#write DEtreat mrna\n",
    "#sort outlist\n",
    "outlist.v = list()\n",
    "for(i in 1:length(alltissues)){\n",
    "    xi = num_omics.v$tissues[i]\n",
    "    tmp = DEtreat.mrna[[xi]]\n",
    "    tmp = tmp[!is.na(tmp$Pvalue),]\n",
    "    idx  =sort.int(tmp$Pvalue,decreasing = F,index.return = T)$ix\n",
    "    tmp = tmp[idx,]\n",
    "    tmp = tmp[tmp$Pvalue < 0.05,-5]\n",
    "    outlist.v[[i]] = tmp\n",
    "}\n",
    "names(outlist.v) = num_omics.v$tissues\n",
    "openxlsx::write.xlsx(outlist.v, file = \"./out/20220519_treatment/Tissue_DEG/Data S4_DEG_treatment_mrna.xlsx\")"
   ]
  },
  {
   "cell_type": "code",
   "execution_count": 69,
   "metadata": {},
   "outputs": [
    {
     "data": {
      "text/html": [
       "1566"
      ],
      "text/latex": [
       "1566"
      ],
      "text/markdown": [
       "1566"
      ],
      "text/plain": [
       "[1] 1566"
      ]
     },
     "metadata": {},
     "output_type": "display_data"
    },
    {
     "data": {
      "text/html": [
       "1291"
      ],
      "text/latex": [
       "1291"
      ],
      "text/markdown": [
       "1291"
      ],
      "text/plain": [
       "[1] 1291"
      ]
     },
     "metadata": {},
     "output_type": "display_data"
    }
   ],
   "source": [
    "MSC_mrna_sigup_matrix = (DEmrnaFC_matrix > 0.58 & DEmrnaPvalue_matrix < 0.05) +0\n",
    "MSC_mrna_sigdown_matrix = -((DEmrnaFC_matrix < -0.58 & DEmrnaPvalue_matrix < 0.05) +0)\n",
    "MSC_mrna_sigall_matrix = MSC_mrna_sigup_matrix + MSC_mrna_sigdown_matrix\n",
    "\n",
    "MSC_mrna_updown = data.frame(stringsAsFactors = F,num.up = colSums(MSC_mrna_sigup_matrix,na.rm =T)/colSums(!is.na(MSC_mrna_sigup_matrix)),\n",
    "                              num.down = colSums(MSC_mrna_sigdown_matrix,na.rm =T)/colSums(!is.na(MSC_mrna_sigdown_matrix)),\n",
    "                              num.all = colSums(abs(MSC_mrna_sigall_matrix),na.rm =T)/colSums(!is.na(MSC_mrna_sigall_matrix)),\n",
    "                             tissues = colnames(MSC_mrna_sigup_matrix),\n",
    "                             tissue_systems = tissue.systems)\n",
    "rownames(MSC_mrna_updown) = MSC_mrna_updown$tissues\n",
    "\n",
    "upgenes.mrna = rownames(MSC_mrna_sigall_matrix)[rowSums(MSC_mrna_sigall_matrix > 0,na.rm = T) > 1]\n",
    "downgenes.mrna = rownames(MSC_mrna_sigall_matrix)[rowSums(MSC_mrna_sigall_matrix < 0,na.rm = T) > 1]\n",
    "length(upgenes.mrna)\n",
    "length(downgenes.mrna)\n",
    "\n",
    "writetxt(upgenes.mrna,filename = './out/20220519_treatment/Common_DEG/mRNA_common_up.txt',col.names = F)\n",
    "writetxt(downgenes.mrna,filename = './out/20220519_treatment/Common_DEG/mRNA_common_down.txt',col.names = F)"
   ]
  },
  {
   "cell_type": "code",
   "execution_count": 82,
   "metadata": {},
   "outputs": [
    {
     "data": {
      "text/html": [
       "0.0365050064735705"
      ],
      "text/latex": [
       "0.0365050064735705"
      ],
      "text/markdown": [
       "0.0365050064735705"
      ],
      "text/plain": [
       "[1] 0.03650501"
      ]
     },
     "metadata": {},
     "output_type": "display_data"
    }
   ],
   "source": [
    "mean(MSC_mrna_updown$num.all)"
   ]
  },
  {
   "cell_type": "markdown",
   "metadata": {},
   "source": [
    "## metabolism"
   ]
  },
  {
   "cell_type": "code",
   "execution_count": 70,
   "metadata": {},
   "outputs": [],
   "source": [
    "DEmetFC = list()\n",
    "DEmetPvalue = list()\n",
    "DEtreat.met = list()\n",
    "for(i in 1:length(alltissues)){\n",
    "    #Mfuzz\n",
    "    thistissue = alltissues[i]\n",
    "    thismet = met.tissues[[thistissue]]\n",
    "    thismet.header = met.tissues.header[[thistissue]]\n",
    "    thismet.info = met.tissues.info[[thistissue]]\n",
    "    if (sum(thismet.info$stage == 1) ==1){ \n",
    "        thismet = cbind(thismet[,thismet.info$stage == 1],thismet)\n",
    "        thismet.info = rbind(thismet.info[thismet.info$stage == 1,],thismet.info)\n",
    "    }\n",
    "    if (sum(thismet.info$stage == 4) ==1){ \n",
    "        thismet = cbind(thismet,thismet[,thismet.info$stage == 4])\n",
    "        thismet.info = rbind(thismet.info,thismet.info[thismet.info$stage == 4,])\n",
    "    }\n",
    "    \n",
    "    thisDEmet = DEGenes.simplified(thismet,catagory = thismet.info$stage == 5,\n",
    "                               subset = thismet.info$stage == 5 | thismet.info$stage == 4)\n",
    "    DEtreat.met[[i]] = thisDEmet\n",
    "    DEmetFC[[i]] = thisDEmet$log2FC\n",
    "    names(DEmetFC[[i]]) = rownames(thisDEmet)\n",
    "    DEmetPvalue[[i]] = thisDEmet$Pvalue\n",
    "    names(DEmetPvalue[[i]])  = rownames(thisDEmet)\n",
    "}\n",
    "names(DEmetFC) = alltissues\n",
    "names(DEmetPvalue) = alltissues\n",
    "names(DEtreat.met) = alltissues\n",
    "DEmetFC_matrix = list_to_matrix(DEmetFC,alltissues)\n",
    "DEmetPvalue_matrix = list_to_matrix(DEmetPvalue,alltissues)"
   ]
  },
  {
   "cell_type": "code",
   "execution_count": 76,
   "metadata": {},
   "outputs": [],
   "source": [
    "#write DEtreat mrna\n",
    "#sort outlist\n",
    "outlist.v = list()\n",
    "for(i in 1:length(alltissues)){\n",
    "    xi = num_omics.v$tissues[i]\n",
    "    tmp = DEtreat.met[[xi]]\n",
    "    tmp = tmp[!is.na(tmp$Pvalue),]\n",
    "    idx  =sort.int(tmp$Pvalue,decreasing = F,index.return = T)$ix\n",
    "    tmp = tmp[idx,]\n",
    "    tmp = tmp[tmp$Pvalue < 0.05,-5]\n",
    "    outlist.v[[i]] = tmp\n",
    "}\n",
    "names(outlist.v) = num_omics.v$tissues\n",
    "openxlsx::write.xlsx(outlist.v, file = \"./out/20220519_treatment/Tissue_DEG/Data S6_DEG_treatment_met.xlsx\")"
   ]
  },
  {
   "cell_type": "code",
   "execution_count": 71,
   "metadata": {},
   "outputs": [
    {
     "data": {
      "text/html": [
       "152"
      ],
      "text/latex": [
       "152"
      ],
      "text/markdown": [
       "152"
      ],
      "text/plain": [
       "[1] 152"
      ]
     },
     "metadata": {},
     "output_type": "display_data"
    },
    {
     "data": {
      "text/html": [
       "179"
      ],
      "text/latex": [
       "179"
      ],
      "text/markdown": [
       "179"
      ],
      "text/plain": [
       "[1] 179"
      ]
     },
     "metadata": {},
     "output_type": "display_data"
    }
   ],
   "source": [
    "MSC_met_sigup_matrix = (DEmetFC_matrix > 0.58 & DEmetPvalue_matrix < 0.05) +0\n",
    "MSC_met_sigdown_matrix = -((DEmetFC_matrix < -0.58 & DEmetPvalue_matrix < 0.05) +0)\n",
    "MSC_met_sigall_matrix = MSC_met_sigup_matrix + MSC_met_sigdown_matrix\n",
    "\n",
    "MSC_met_updown = data.frame(stringsAsFactors = F,num.up = colSums(MSC_met_sigup_matrix,na.rm =T)/colSums(!is.na(MSC_met_sigup_matrix)),\n",
    "                              num.down = colSums(MSC_met_sigdown_matrix,na.rm =T)/colSums(!is.na(MSC_met_sigdown_matrix)),\n",
    "                              num.all = colSums(abs(MSC_met_sigall_matrix),na.rm =T)/colSums(!is.na(MSC_met_sigall_matrix)),\n",
    "                             tissues = colnames(MSC_met_sigup_matrix),\n",
    "                             tissue_systems = tissue.systems)\n",
    "rownames(MSC_met_updown) = MSC_met_updown$tissues\n",
    "\n",
    "upmets = rownames(MSC_met_sigall_matrix)[rowSums(MSC_met_sigall_matrix > 0,na.rm = T) > 1]\n",
    "length(upmets)\n",
    "downmets = rownames(MSC_met_sigall_matrix)[rowSums(MSC_met_sigall_matrix < 0,na.rm = T) > 1]\n",
    "length(downmets)\n",
    "\n",
    "writetxt(upmets,filename = './out/20220519_treatment/Common_DEG/met_common_up.txt',col.names = F)\n",
    "writetxt(downmets,filename = './out/20220519_treatment/Common_DEG/met_common_down.txt',col.names = F)"
   ]
  },
  {
   "cell_type": "code",
   "execution_count": 83,
   "metadata": {},
   "outputs": [
    {
     "data": {
      "text/html": [
       "0.0457672747262989"
      ],
      "text/latex": [
       "0.0457672747262989"
      ],
      "text/markdown": [
       "0.0457672747262989"
      ],
      "text/plain": [
       "[1] 0.04576727"
      ]
     },
     "metadata": {},
     "output_type": "display_data"
    }
   ],
   "source": [
    "mean(MSC_met_updown$num.all)"
   ]
  },
  {
   "cell_type": "markdown",
   "metadata": {},
   "source": [
    "## Figure #overall change after treatment"
   ]
  },
  {
   "cell_type": "code",
   "execution_count": 79,
   "metadata": {},
   "outputs": [
    {
     "data": {
      "text/html": [
       "<table>\n",
       "<caption>A data.frame: 30 × 5</caption>\n",
       "<thead>\n",
       "\t<tr><th></th><th scope=col>num.up</th><th scope=col>num.down</th><th scope=col>num.all</th><th scope=col>tissues</th><th scope=col>tissue_systems</th></tr>\n",
       "\t<tr><th></th><th scope=col>&lt;dbl&gt;</th><th scope=col>&lt;dbl&gt;</th><th scope=col>&lt;dbl&gt;</th><th scope=col>&lt;chr&gt;</th><th scope=col>&lt;chr&gt;</th></tr>\n",
       "</thead>\n",
       "<tbody>\n",
       "\t<tr><th scope=row>Hypothalamus</th><td>0.009026435</td><td>-0.011605416</td><td>0.02063185</td><td>Hypothalamus           </td><td>Brain         </td></tr>\n",
       "\t<tr><th scope=row>Supramarginal_gyrus</th><td>0.011648601</td><td>-0.009060023</td><td>0.02070862</td><td>Supramarginal_gyrus    </td><td>Brain         </td></tr>\n",
       "\t<tr><th scope=row>Hippocampus</th><td>0.017099863</td><td>-0.004787962</td><td>0.02188782</td><td>Hippocampus            </td><td>Brain         </td></tr>\n",
       "\t<tr><th scope=row>Frontal_pole</th><td>0.009405388</td><td>-0.016260163</td><td>0.02566555</td><td>Frontal_pole           </td><td>Brain         </td></tr>\n",
       "\t<tr><th scope=row>Superior_temporal_gyrus</th><td>0.016382481</td><td>-0.009695754</td><td>0.02607823</td><td>Superior_temporal_gyrus</td><td>Brain         </td></tr>\n",
       "\t<tr><th scope=row>Aortic_arch</th><td>0.018601919</td><td>-0.012336009</td><td>0.03093793</td><td>Aortic_arch            </td><td>Cardiovascular</td></tr>\n",
       "\t<tr><th scope=row>Arteria_carotis</th><td>0.010863125</td><td>-0.027849101</td><td>0.03871223</td><td>Arteria_carotis        </td><td>Cardiovascular</td></tr>\n",
       "\t<tr><th scope=row>Femoral_vein</th><td>0.032940546</td><td>-0.011783610</td><td>0.04472416</td><td>Femoral_vein           </td><td>Cardiovascular</td></tr>\n",
       "\t<tr><th scope=row>Arteria_cruralis</th><td>0.027720207</td><td>-0.027202073</td><td>0.05492228</td><td>Arteria_cruralis       </td><td>Cardiovascular</td></tr>\n",
       "\t<tr><th scope=row>Ileocecum</th><td>0.012070411</td><td>-0.022967309</td><td>0.03503772</td><td>Ileocecum              </td><td>Digestive     </td></tr>\n",
       "\t<tr><th scope=row>Cecum</th><td>0.010034447</td><td>-0.029354501</td><td>0.03938895</td><td>Cecum                  </td><td>Digestive     </td></tr>\n",
       "\t<tr><th scope=row>Duodenum</th><td>0.025966091</td><td>-0.020925615</td><td>0.04689171</td><td>Duodenum               </td><td>Digestive     </td></tr>\n",
       "\t<tr><th scope=row>Liver</th><td>0.022173392</td><td>-0.028166201</td><td>0.05033959</td><td>Liver                  </td><td>Digestive     </td></tr>\n",
       "\t<tr><th scope=row>Stomach</th><td>0.037237330</td><td>-0.020859085</td><td>0.05809642</td><td>Stomach                </td><td>Digestive     </td></tr>\n",
       "\t<tr><th scope=row>Pituitary</th><td>0.013198240</td><td>-0.013464871</td><td>0.02666311</td><td>Pituitary              </td><td>Endocrine     </td></tr>\n",
       "\t<tr><th scope=row>Pancreas</th><td>0.024560239</td><td>-0.005642217</td><td>0.03020246</td><td>Pancreas               </td><td>Endocrine     </td></tr>\n",
       "\t<tr><th scope=row>Adrenal_gland</th><td>0.013845719</td><td>-0.019073185</td><td>0.03291890</td><td>Adrenal_gland          </td><td>Endocrine     </td></tr>\n",
       "\t<tr><th scope=row>Thyroid_gland</th><td>0.017606293</td><td>-0.020977711</td><td>0.03858400</td><td>Thyroid_gland          </td><td>Endocrine     </td></tr>\n",
       "\t<tr><th scope=row>Spleen</th><td>0.017966830</td><td>-0.011056511</td><td>0.02902334</td><td>Spleen                 </td><td>Immune        </td></tr>\n",
       "\t<tr><th scope=row>Adipose</th><td>0.018476904</td><td>-0.015980025</td><td>0.03445693</td><td>Adipose                </td><td>Immune        </td></tr>\n",
       "\t<tr><th scope=row>Thymus</th><td>0.034961608</td><td>-0.004411044</td><td>0.03937265</td><td>Thymus                 </td><td>Immune        </td></tr>\n",
       "\t<tr><th scope=row>Facial_skin</th><td>0.021573604</td><td>-0.017766497</td><td>0.03934010</td><td>Facial_skin            </td><td>Integumentary </td></tr>\n",
       "\t<tr><th scope=row>Skin_of_back</th><td>0.025440669</td><td>-0.035798655</td><td>0.06123932</td><td>Skin_of_back           </td><td>Integumentary </td></tr>\n",
       "\t<tr><th scope=row>Heart</th><td>0.009722619</td><td>-0.018301401</td><td>0.02802402</td><td>Heart                  </td><td>Muscle        </td></tr>\n",
       "\t<tr><th scope=row>Muscle</th><td>0.033149171</td><td>-0.022099448</td><td>0.05524862</td><td>Muscle                 </td><td>Muscle        </td></tr>\n",
       "\t<tr><th scope=row>Kidney</th><td>0.013426156</td><td>-0.010774076</td><td>0.02420023</td><td>Kidney                 </td><td>Renal         </td></tr>\n",
       "\t<tr><th scope=row>Fallopian_tube</th><td>0.033532537</td><td>-0.012616202</td><td>0.04614874</td><td>Fallopian_tube         </td><td>Reproductive  </td></tr>\n",
       "\t<tr><th scope=row>Ovary</th><td>0.024869635</td><td>-0.024468512</td><td>0.04933815</td><td>Ovary                  </td><td>Reproductive  </td></tr>\n",
       "\t<tr><th scope=row>Uterus</th><td>0.027901404</td><td>-0.023279699</td><td>0.05118110</td><td>Uterus                 </td><td>Reproductive  </td></tr>\n",
       "\t<tr><th scope=row>Lung</th><td>0.016129032</td><td>-0.014691792</td><td>0.03082082</td><td>Lung                   </td><td>Respiratory   </td></tr>\n",
       "</tbody>\n",
       "</table>\n"
      ],
      "text/latex": [
       "A data.frame: 30 × 5\n",
       "\\begin{tabular}{r|lllll}\n",
       "  & num.up & num.down & num.all & tissues & tissue\\_systems\\\\\n",
       "  & <dbl> & <dbl> & <dbl> & <chr> & <chr>\\\\\n",
       "\\hline\n",
       "\tHypothalamus & 0.009026435 & -0.011605416 & 0.02063185 & Hypothalamus            & Brain         \\\\\n",
       "\tSupramarginal\\_gyrus & 0.011648601 & -0.009060023 & 0.02070862 & Supramarginal\\_gyrus     & Brain         \\\\\n",
       "\tHippocampus & 0.017099863 & -0.004787962 & 0.02188782 & Hippocampus             & Brain         \\\\\n",
       "\tFrontal\\_pole & 0.009405388 & -0.016260163 & 0.02566555 & Frontal\\_pole            & Brain         \\\\\n",
       "\tSuperior\\_temporal\\_gyrus & 0.016382481 & -0.009695754 & 0.02607823 & Superior\\_temporal\\_gyrus & Brain         \\\\\n",
       "\tAortic\\_arch & 0.018601919 & -0.012336009 & 0.03093793 & Aortic\\_arch             & Cardiovascular\\\\\n",
       "\tArteria\\_carotis & 0.010863125 & -0.027849101 & 0.03871223 & Arteria\\_carotis         & Cardiovascular\\\\\n",
       "\tFemoral\\_vein & 0.032940546 & -0.011783610 & 0.04472416 & Femoral\\_vein            & Cardiovascular\\\\\n",
       "\tArteria\\_cruralis & 0.027720207 & -0.027202073 & 0.05492228 & Arteria\\_cruralis        & Cardiovascular\\\\\n",
       "\tIleocecum & 0.012070411 & -0.022967309 & 0.03503772 & Ileocecum               & Digestive     \\\\\n",
       "\tCecum & 0.010034447 & -0.029354501 & 0.03938895 & Cecum                   & Digestive     \\\\\n",
       "\tDuodenum & 0.025966091 & -0.020925615 & 0.04689171 & Duodenum                & Digestive     \\\\\n",
       "\tLiver & 0.022173392 & -0.028166201 & 0.05033959 & Liver                   & Digestive     \\\\\n",
       "\tStomach & 0.037237330 & -0.020859085 & 0.05809642 & Stomach                 & Digestive     \\\\\n",
       "\tPituitary & 0.013198240 & -0.013464871 & 0.02666311 & Pituitary               & Endocrine     \\\\\n",
       "\tPancreas & 0.024560239 & -0.005642217 & 0.03020246 & Pancreas                & Endocrine     \\\\\n",
       "\tAdrenal\\_gland & 0.013845719 & -0.019073185 & 0.03291890 & Adrenal\\_gland           & Endocrine     \\\\\n",
       "\tThyroid\\_gland & 0.017606293 & -0.020977711 & 0.03858400 & Thyroid\\_gland           & Endocrine     \\\\\n",
       "\tSpleen & 0.017966830 & -0.011056511 & 0.02902334 & Spleen                  & Immune        \\\\\n",
       "\tAdipose & 0.018476904 & -0.015980025 & 0.03445693 & Adipose                 & Immune        \\\\\n",
       "\tThymus & 0.034961608 & -0.004411044 & 0.03937265 & Thymus                  & Immune        \\\\\n",
       "\tFacial\\_skin & 0.021573604 & -0.017766497 & 0.03934010 & Facial\\_skin             & Integumentary \\\\\n",
       "\tSkin\\_of\\_back & 0.025440669 & -0.035798655 & 0.06123932 & Skin\\_of\\_back            & Integumentary \\\\\n",
       "\tHeart & 0.009722619 & -0.018301401 & 0.02802402 & Heart                   & Muscle        \\\\\n",
       "\tMuscle & 0.033149171 & -0.022099448 & 0.05524862 & Muscle                  & Muscle        \\\\\n",
       "\tKidney & 0.013426156 & -0.010774076 & 0.02420023 & Kidney                  & Renal         \\\\\n",
       "\tFallopian\\_tube & 0.033532537 & -0.012616202 & 0.04614874 & Fallopian\\_tube          & Reproductive  \\\\\n",
       "\tOvary & 0.024869635 & -0.024468512 & 0.04933815 & Ovary                   & Reproductive  \\\\\n",
       "\tUterus & 0.027901404 & -0.023279699 & 0.05118110 & Uterus                  & Reproductive  \\\\\n",
       "\tLung & 0.016129032 & -0.014691792 & 0.03082082 & Lung                    & Respiratory   \\\\\n",
       "\\end{tabular}\n"
      ],
      "text/markdown": [
       "\n",
       "A data.frame: 30 × 5\n",
       "\n",
       "| <!--/--> | num.up &lt;dbl&gt; | num.down &lt;dbl&gt; | num.all &lt;dbl&gt; | tissues &lt;chr&gt; | tissue_systems &lt;chr&gt; |\n",
       "|---|---|---|---|---|---|\n",
       "| Hypothalamus | 0.009026435 | -0.011605416 | 0.02063185 | Hypothalamus            | Brain          |\n",
       "| Supramarginal_gyrus | 0.011648601 | -0.009060023 | 0.02070862 | Supramarginal_gyrus     | Brain          |\n",
       "| Hippocampus | 0.017099863 | -0.004787962 | 0.02188782 | Hippocampus             | Brain          |\n",
       "| Frontal_pole | 0.009405388 | -0.016260163 | 0.02566555 | Frontal_pole            | Brain          |\n",
       "| Superior_temporal_gyrus | 0.016382481 | -0.009695754 | 0.02607823 | Superior_temporal_gyrus | Brain          |\n",
       "| Aortic_arch | 0.018601919 | -0.012336009 | 0.03093793 | Aortic_arch             | Cardiovascular |\n",
       "| Arteria_carotis | 0.010863125 | -0.027849101 | 0.03871223 | Arteria_carotis         | Cardiovascular |\n",
       "| Femoral_vein | 0.032940546 | -0.011783610 | 0.04472416 | Femoral_vein            | Cardiovascular |\n",
       "| Arteria_cruralis | 0.027720207 | -0.027202073 | 0.05492228 | Arteria_cruralis        | Cardiovascular |\n",
       "| Ileocecum | 0.012070411 | -0.022967309 | 0.03503772 | Ileocecum               | Digestive      |\n",
       "| Cecum | 0.010034447 | -0.029354501 | 0.03938895 | Cecum                   | Digestive      |\n",
       "| Duodenum | 0.025966091 | -0.020925615 | 0.04689171 | Duodenum                | Digestive      |\n",
       "| Liver | 0.022173392 | -0.028166201 | 0.05033959 | Liver                   | Digestive      |\n",
       "| Stomach | 0.037237330 | -0.020859085 | 0.05809642 | Stomach                 | Digestive      |\n",
       "| Pituitary | 0.013198240 | -0.013464871 | 0.02666311 | Pituitary               | Endocrine      |\n",
       "| Pancreas | 0.024560239 | -0.005642217 | 0.03020246 | Pancreas                | Endocrine      |\n",
       "| Adrenal_gland | 0.013845719 | -0.019073185 | 0.03291890 | Adrenal_gland           | Endocrine      |\n",
       "| Thyroid_gland | 0.017606293 | -0.020977711 | 0.03858400 | Thyroid_gland           | Endocrine      |\n",
       "| Spleen | 0.017966830 | -0.011056511 | 0.02902334 | Spleen                  | Immune         |\n",
       "| Adipose | 0.018476904 | -0.015980025 | 0.03445693 | Adipose                 | Immune         |\n",
       "| Thymus | 0.034961608 | -0.004411044 | 0.03937265 | Thymus                  | Immune         |\n",
       "| Facial_skin | 0.021573604 | -0.017766497 | 0.03934010 | Facial_skin             | Integumentary  |\n",
       "| Skin_of_back | 0.025440669 | -0.035798655 | 0.06123932 | Skin_of_back            | Integumentary  |\n",
       "| Heart | 0.009722619 | -0.018301401 | 0.02802402 | Heart                   | Muscle         |\n",
       "| Muscle | 0.033149171 | -0.022099448 | 0.05524862 | Muscle                  | Muscle         |\n",
       "| Kidney | 0.013426156 | -0.010774076 | 0.02420023 | Kidney                  | Renal          |\n",
       "| Fallopian_tube | 0.033532537 | -0.012616202 | 0.04614874 | Fallopian_tube          | Reproductive   |\n",
       "| Ovary | 0.024869635 | -0.024468512 | 0.04933815 | Ovary                   | Reproductive   |\n",
       "| Uterus | 0.027901404 | -0.023279699 | 0.05118110 | Uterus                  | Reproductive   |\n",
       "| Lung | 0.016129032 | -0.014691792 | 0.03082082 | Lung                    | Respiratory    |\n",
       "\n"
      ],
      "text/plain": [
       "                        num.up      num.down     num.all   \n",
       "Hypothalamus            0.009026435 -0.011605416 0.02063185\n",
       "Supramarginal_gyrus     0.011648601 -0.009060023 0.02070862\n",
       "Hippocampus             0.017099863 -0.004787962 0.02188782\n",
       "Frontal_pole            0.009405388 -0.016260163 0.02566555\n",
       "Superior_temporal_gyrus 0.016382481 -0.009695754 0.02607823\n",
       "Aortic_arch             0.018601919 -0.012336009 0.03093793\n",
       "Arteria_carotis         0.010863125 -0.027849101 0.03871223\n",
       "Femoral_vein            0.032940546 -0.011783610 0.04472416\n",
       "Arteria_cruralis        0.027720207 -0.027202073 0.05492228\n",
       "Ileocecum               0.012070411 -0.022967309 0.03503772\n",
       "Cecum                   0.010034447 -0.029354501 0.03938895\n",
       "Duodenum                0.025966091 -0.020925615 0.04689171\n",
       "Liver                   0.022173392 -0.028166201 0.05033959\n",
       "Stomach                 0.037237330 -0.020859085 0.05809642\n",
       "Pituitary               0.013198240 -0.013464871 0.02666311\n",
       "Pancreas                0.024560239 -0.005642217 0.03020246\n",
       "Adrenal_gland           0.013845719 -0.019073185 0.03291890\n",
       "Thyroid_gland           0.017606293 -0.020977711 0.03858400\n",
       "Spleen                  0.017966830 -0.011056511 0.02902334\n",
       "Adipose                 0.018476904 -0.015980025 0.03445693\n",
       "Thymus                  0.034961608 -0.004411044 0.03937265\n",
       "Facial_skin             0.021573604 -0.017766497 0.03934010\n",
       "Skin_of_back            0.025440669 -0.035798655 0.06123932\n",
       "Heart                   0.009722619 -0.018301401 0.02802402\n",
       "Muscle                  0.033149171 -0.022099448 0.05524862\n",
       "Kidney                  0.013426156 -0.010774076 0.02420023\n",
       "Fallopian_tube          0.033532537 -0.012616202 0.04614874\n",
       "Ovary                   0.024869635 -0.024468512 0.04933815\n",
       "Uterus                  0.027901404 -0.023279699 0.05118110\n",
       "Lung                    0.016129032 -0.014691792 0.03082082\n",
       "                        tissues                 tissue_systems\n",
       "Hypothalamus            Hypothalamus            Brain         \n",
       "Supramarginal_gyrus     Supramarginal_gyrus     Brain         \n",
       "Hippocampus             Hippocampus             Brain         \n",
       "Frontal_pole            Frontal_pole            Brain         \n",
       "Superior_temporal_gyrus Superior_temporal_gyrus Brain         \n",
       "Aortic_arch             Aortic_arch             Cardiovascular\n",
       "Arteria_carotis         Arteria_carotis         Cardiovascular\n",
       "Femoral_vein            Femoral_vein            Cardiovascular\n",
       "Arteria_cruralis        Arteria_cruralis        Cardiovascular\n",
       "Ileocecum               Ileocecum               Digestive     \n",
       "Cecum                   Cecum                   Digestive     \n",
       "Duodenum                Duodenum                Digestive     \n",
       "Liver                   Liver                   Digestive     \n",
       "Stomach                 Stomach                 Digestive     \n",
       "Pituitary               Pituitary               Endocrine     \n",
       "Pancreas                Pancreas                Endocrine     \n",
       "Adrenal_gland           Adrenal_gland           Endocrine     \n",
       "Thyroid_gland           Thyroid_gland           Endocrine     \n",
       "Spleen                  Spleen                  Immune        \n",
       "Adipose                 Adipose                 Immune        \n",
       "Thymus                  Thymus                  Immune        \n",
       "Facial_skin             Facial_skin             Integumentary \n",
       "Skin_of_back            Skin_of_back            Integumentary \n",
       "Heart                   Heart                   Muscle        \n",
       "Muscle                  Muscle                  Muscle        \n",
       "Kidney                  Kidney                  Renal         \n",
       "Fallopian_tube          Fallopian_tube          Reproductive  \n",
       "Ovary                   Ovary                   Reproductive  \n",
       "Uterus                  Uterus                  Reproductive  \n",
       "Lung                    Lung                    Respiratory   "
      ]
     },
     "metadata": {},
     "output_type": "display_data"
    }
   ],
   "source": [
    "MSC_pro_updown.v"
   ]
  },
  {
   "cell_type": "code",
   "execution_count": 77,
   "metadata": {},
   "outputs": [],
   "source": [
    "plotMSCNum = list()\n",
    "idx = sort.int(MSC_pro_updown$num.all,decreasing = F,index.return = T)$ix\n",
    "MSC_pro_updown.v = MSC_pro_updown[idx,]\n",
    "idx = sort.int(MSC_pro_updown.v$tissue_systems,decreasing = F,index.return = T)$ix\n",
    "MSC_pro_updown.v = MSC_pro_updown.v[idx,]\n",
    "tissueindex = rownames(MSC_pro_updown.v)\n",
    "MSC_met_updown.v = MSC_met_updown[tissueindex,]\n",
    "\n",
    "p1 = ggplot(MSC_met_updown.v,aes(x = factor(tissues,level = tissues),y = num.up,\n",
    "                       color = tissue_systems,fill = tissue_systems))+ geom_bar(stat=\"identity\",alpha = 0.8)#+\n",
    "#theme_classic()+lghplot.addtheme(legend.position = 'none',hjust = 1,size = 13.5)+\n",
    "#theme(axis.text.y = element_text(size = 9.5, face = \"bold\", color = \"black\"))+scale_color_aaas()+\n",
    "#scale_fill_aaas()+\n",
    "#ylab('Number of coding mRNAs')+ xlab('')#+ylim(0,8200)\n",
    "plotMSCNum[[1]] = p1+ geom_bar(stat=\"identity\",aes(y = num.down),alpha = 0.6)+geom_hline(yintercept = 0)+\n",
    "theme_classic()+lghplot.addtheme(legend.position = 'none',hjust = 1,size = 13.5)+\n",
    "theme(axis.text.y = element_text(size = 9.5, face = \"bold\", color = \"black\"))+scale_color_aaas(alpha = 0.6)+\n",
    "scale_fill_aaas(alpha = 0.6)+theme(axis.ticks.x = element_blank(),\n",
    "        axis.text.x = element_blank(),axis.line.x =element_blank())+\n",
    "scale_y_continuous(labels = fmt_dcimals(2))+\n",
    "ylab('Metabolites')+ xlab('')#+ylim(0,8200)\n",
    "\n",
    "\n",
    "#idx = sort.int(MSC_pro_updown$num.all,decreasing = F,index.return = T)$ix\n",
    "#MSC_pro_updown.v = MSC_pro_updown[idx,]\n",
    "#idx = sort.int(MSC_pro_updown.v$tissue_systems,decreasing = F,index.return = T)$ix\n",
    "MSC_pro_updown.v = MSC_pro_updown[tissueindex,]\n",
    "\n",
    "p1 = ggplot(MSC_pro_updown.v,aes(x = factor(tissues,level = tissues),y = num.up,\n",
    "                       color = tissue_systems,fill = tissue_systems))+ geom_bar(stat=\"identity\",alpha = 0.8)#+\n",
    "#theme_classic()+lghplot.addtheme(legend.position = 'none',hjust = 1,size = 13.5)+\n",
    "#theme(axis.text.y = element_text(size = 9.5, face = \"bold\", color = \"black\"))+scale_color_aaas()+\n",
    "#scale_fill_aaas()+\n",
    "#ylab('Number of coding mRNAs')+ xlab('')#+ylim(0,8200)\n",
    "plotMSCNum[[2]] = p1+ geom_bar(stat=\"identity\",aes(y = num.down),alpha = 0.6)+geom_hline(yintercept = 0)+\n",
    "theme_classic()+lghplot.addtheme(legend.position = 'none',hjust = 1,size = 13.5)+\n",
    "theme(axis.text.y = element_text(size = 9.5, face = \"bold\", color = \"black\"))+scale_color_aaas(alpha = 0.6)+\n",
    "scale_fill_aaas(alpha = 0.6)+  theme(axis.ticks.x = element_blank(),\n",
    "        axis.text.x = element_blank(),axis.line.x =element_blank())+scale_y_continuous(labels = fmt_dcimals(2))+\n",
    "ylab('Proteins')+ xlab('')#+ylim(0,8200)+scale_y_log10\n",
    "\n",
    "#idx = sort.int(MSC_mrna_updown$num.all,decreasing = F,index.return = T)$ix\n",
    "#MSC_mrna_updown.v = MSC_mrna_updown[idx,]\n",
    "#idx = sort.int(MSC_mrna_updown.v$tissue_systems,decreasing = F,index.return = T)$ix\n",
    "MSC_mrna_updown.v = MSC_mrna_updown[tissueindex,]\n",
    "\n",
    "p1 = ggplot(MSC_mrna_updown.v,aes(x = factor(tissues,level = tissues),y = num.up,\n",
    "                       color = tissue_systems,fill = tissue_systems))+ geom_bar(stat=\"identity\",alpha = 0.8)#+\n",
    "#theme_classic()+lghplot.addtheme(legend.position = 'none',hjust = 1,size = 13.5)+\n",
    "#theme(axis.text.y = element_text(size = 9.5, face = \"bold\", color = \"black\"))+scale_color_aaas()+\n",
    "#scale_fill_aaas()+\n",
    "#ylab('Number of coding mRNAs')+ xlab('')#+ylim(0,8200)\n",
    "plotMSCNum[[3]] = p1+ geom_bar(stat=\"identity\",aes(y = num.down),alpha = 0.6)+geom_hline(yintercept = 0)+\n",
    "theme_classic()+lghplot.addtheme(legend.position = 'none',hjust = 1,size = 13.5)+\n",
    "theme(axis.text.y = element_text(size = 9.5, face = \"bold\", color = \"black\"))+scale_color_aaas(alpha = 0.6)+\n",
    "scale_fill_aaas(alpha = 0.6)+scale_y_continuous(labels = fmt_dcimals(2))+\n",
    "ylab('mRNAs')+ xlab('')#+ylim(0,8200)"
   ]
  },
  {
   "cell_type": "code",
   "execution_count": 124,
   "metadata": {},
   "outputs": [
    {
     "data": {
      "text/html": [
       "<strong>png:</strong> 2"
      ],
      "text/latex": [
       "\\textbf{png:} 2"
      ],
      "text/markdown": [
       "**png:** 2"
      ],
      "text/plain": [
       "png \n",
       "  2 "
      ]
     },
     "metadata": {},
     "output_type": "display_data"
    }
   ],
   "source": [
    "pdf(file = './out/20220519_treatment/Tissue_DEG/MSCplot_DEnumber_barplot.pdf',width = 12,height = 9)\n",
    "grid.arrange(arrangeGrob(grobs = plotMSCNum,ncol = 1,heights = c(2.4,2.4,4.2)))\n",
    "dev.off()"
   ]
  },
  {
   "cell_type": "markdown",
   "metadata": {},
   "source": [
    "## top 15"
   ]
  },
  {
   "cell_type": "code",
   "execution_count": 125,
   "metadata": {},
   "outputs": [],
   "source": [
    "tmpid = sort.int(rowSums(MSC_mrna_sigall_matrix,na.rm = T),decreasing = T,index.return = T)$ix\n",
    "top20up = rownames(MSC_mrna_sigall_matrix)[tmpid[1:15]]\n",
    "tmpid = sort.int(rowSums(MSC_mrna_sigall_matrix,na.rm = T),decreasing = F,index.return = T)$ix\n",
    "top20down = rownames(MSC_mrna_sigall_matrix)[tmpid[1:15]]\n",
    "xx = MSC_mrna_sigall_matrix[c(top20up,top20down),]\n",
    "xx[is.na(xx)] = 0\n",
    "#pdf(file =\"./Figures/v20210402/figure2/Figure2B_commome_mRNAA.pdf\",height = 4,width = 3)\n",
    "\n",
    "pheatmap::pheatmap(xx,cluster_rows = T,fontsize_row = 8,fontsize_col = 8,treeheight_row = 20,treeheight_col = 20,legend = F,\n",
    "                  color=colorRampPalette(c('#3B4992','gray95','#BB0021'))(6),\n",
    "                  file =\"./out/20220519_treatment/Common_DEG/MSCplot_commome_mRNA_top15.pdf\",\n",
    "                  ,height = 5,width = 4.6)"
   ]
  },
  {
   "cell_type": "code",
   "execution_count": 73,
   "metadata": {},
   "outputs": [],
   "source": [
    "tmpid = sort.int(rowSums(MSC_mrna_sigall_matrix[,sixtissues],na.rm = T),decreasing = T,index.return = T)$ix\n",
    "top20up = rownames(MSC_mrna_sigall_matrix[,sixtissues])[tmpid[1:10]]\n",
    "tmpid = sort.int(rowSums(MSC_mrna_sigall_matrix[,sixtissues],na.rm = T),decreasing = F,index.return = T)$ix\n",
    "top20down = rownames(MSC_mrna_sigall_matrix[,sixtissues])[tmpid[1:10]]\n",
    "xx = MSC_mrna_sigall_matrix[c(top20up,top20down),sixtissues]\n",
    "xx[is.na(xx)] = 0\n",
    "#pdf(file =\"./Figures/v20210402/figure2/Figure2B_commome_mRNAA.pdf\",height = 4,width = 3)\n",
    "\n",
    "pheatmap::pheatmap(xx,cluster_rows = T,fontsize_row = 8,fontsize_col = 8,treeheight_row = 20,treeheight_col = 20,legend = F,\n",
    "                  color=colorRampPalette(c('#3B4992','gray95','#BB0021'))(6),\n",
    "                  file =\"./out/20220519_treatment/Common_DEG/MSCplot_commome_mRNA_top15_6tissues.pdf\",\n",
    "                  ,height = 4,width = 3)"
   ]
  },
  {
   "cell_type": "code",
   "execution_count": 75,
   "metadata": {},
   "outputs": [],
   "source": [
    "tmpid = sort.int(rowSums(MSC_pro_sigall_matrix[,sixtissues],na.rm = T),decreasing = T,index.return = T)$ix\n",
    "top20up = rownames(MSC_pro_sigall_matrix[,sixtissues])[tmpid[1:10]]\n",
    "tmpid = sort.int(rowSums(MSC_pro_sigall_matrix[,sixtissues],na.rm = T),decreasing = F,index.return = T)$ix\n",
    "top20down = rownames(MSC_pro_sigall_matrix[,sixtissues])[tmpid[1:10]]\n",
    "xx = MSC_pro_sigall_matrix[c(top20up,top20down),sixtissues]\n",
    "xx[is.na(xx)] = 0\n",
    "#pdf(file =\"./Figures/v20210402/figure2/Figure2B_commome_proA.pdf\",height = 4,width = 3)\n",
    "\n",
    "pheatmap::pheatmap(xx,cluster_rows = T,fontsize_row = 9,fontsize_col = 9,treeheight_row = 20,treeheight_col = 20,legend = F,\n",
    "                  color=colorRampPalette(c('#3B4992','gray95','#BB0021'))(6),\n",
    "                  file =\"./out/20220519_treatment/Common_DEG/MSCplot_commome_pro_top15_6tissues.pdf\",\n",
    "                  ,height = 4,width = 3)"
   ]
  },
  {
   "cell_type": "code",
   "execution_count": 21,
   "metadata": {},
   "outputs": [],
   "source": [
    "graphics.off()"
   ]
  },
  {
   "cell_type": "raw",
   "metadata": {},
   "source": []
  },
  {
   "cell_type": "code",
   "execution_count": 26,
   "metadata": {},
   "outputs": [],
   "source": [
    "tmpid = sort.int(rowSums(MSC_met_sigall_matrix,na.rm = T),decreasing = T,index.return = T)$ix\n",
    "top20up = rownames(MSC_met_sigall_matrix)[tmpid[1:15]]\n",
    "tmpid = sort.int(rowSums(MSC_met_sigall_matrix,na.rm = T),decreasing = F,index.return = T)$ix\n",
    "top20down = rownames(MSC_met_sigall_matrix)[tmpid[1:15]]\n",
    "xx = MSC_met_sigall_matrix[c(top20up,top20down),]\n",
    "#xx[is.na(xx)] = 0\n",
    "aa = c('6-(3-hydroxybutan-2-yl)-5-(hydroxymethyl)-4-methoxy-2H-pyran-2-one',\n",
    "       '2-[4-(tert-butyl)-2,3-dihydro-1,3-thiazol-2-yliden]-3-oxobutanenitrile',\n",
    "       '2-hydroxy-6-[(8Z,11Z)-pentadeca-8,11,14-trien-1-yl]benzoic acid',\n",
    "       '2-(2-amino-3-methylbutanamido)-3-phenylpropanoic acid',\n",
    "       '3-(methylsulfonyl)-2H-chromen-2-one',\n",
    "       'N-[2-chloro-6-(trifluoromethoxy)phenyl]-2,2-dimethylpropanamide',\n",
    "      'methyl 3,4,5-trihydroxycyclohex-1-ene-1-carboxylate',\n",
    "      '5-amino-2-(dimethylamino)benzoic acid',\n",
    "      '1-(3,4-dimethoxyphenyl)ethan-1-one oxime',\n",
    "      \"3'-Adenosine monophosphate (3'-AMP)\")\n",
    "bb = c('Chlamydospordiol',\n",
    "       'Oxobutanenitrile',\n",
    "       'CHEMBL455368',\n",
    "       'L-Val-L-Phe',\n",
    "       'SCHEMBL831132',\n",
    "      'Dimethylpropanamide',\n",
    "      'NSC280656',\n",
    "      'Dimethylaminobenzoic acid',\n",
    "      'Dimethoxyacetophenoneoxime',\n",
    "      \"3'-AMP\")\n",
    "tx = rownames(xx)\n",
    "list[IA,IB] = ismember(tx,aa)\n",
    "tx[IA] = bb[IB]\n",
    "rownames(xx) = tx\n",
    "pheatmap::pheatmap(xx,cluster_rows = T,fontsize_row = 9,fontsize_col = 9,treeheight_row = 20,treeheight_col = 20,legend = F,\n",
    "                  color=colorRampPalette(c('#3B4992','gray95','#BB0021'))(6),\n",
    "                  file =\"./out/20220519_treatment/Common_DEG/MSCplot_commome_met_top15.pdf\",\n",
    "                  ,height = 6.5,width = 6)"
   ]
  },
  {
   "cell_type": "code",
   "execution_count": 25,
   "metadata": {},
   "outputs": [
    {
     "data": {
      "text/html": [
       "<ol class=list-inline>\n",
       "\t<li>'Hippuric acid'</li>\n",
       "\t<li>'indoline-2-carboxylic acid'</li>\n",
       "\t<li>'D-(+)-Maltose'</li>\n",
       "\t<li>'PC (16:0/18:1)'</li>\n",
       "\t<li>'PC (18:0/20:4)'</li>\n",
       "\t<li>'D-Erythrose 4-phosphate'</li>\n",
       "\t<li>'D-(-)-Mannitol'</li>\n",
       "\t<li>'3\\'-Adenosine monophosphate (3\\'-AMP)'</li>\n",
       "\t<li>'Methyl indole-3-acetate'</li>\n",
       "\t<li>'S-Adenosylhomocysteine'</li>\n",
       "\t<li>'PC (16:0/17:1)'</li>\n",
       "\t<li>'Maltopentaose'</li>\n",
       "\t<li>'D-Panthenol'</li>\n",
       "\t<li>'N-[2-chloro-6-(trifluoromethoxy)phenyl]-2,2-dimethylpropanamide'</li>\n",
       "\t<li>'Kanosamine'</li>\n",
       "\t<li>'Progesterone'</li>\n",
       "\t<li>'ACar 14:1'</li>\n",
       "\t<li>'Desoxycortone'</li>\n",
       "\t<li>'Pilocarpine'</li>\n",
       "\t<li>'5-amino-2-(dimethylamino)benzoic acid'</li>\n",
       "\t<li>'LPE 22:1'</li>\n",
       "\t<li>'12-epi Leukotriene B4'</li>\n",
       "\t<li>'PC (19:2/18:3)'</li>\n",
       "\t<li>'methyl 3,4,5-trihydroxycyclohex-1-ene-1-carboxylate'</li>\n",
       "\t<li>'ACar 20:0'</li>\n",
       "\t<li>'ACar 16:3'</li>\n",
       "\t<li>'1-(3,4-dimethoxyphenyl)ethan-1-one oxime'</li>\n",
       "\t<li>'β-Cortolone'</li>\n",
       "\t<li>'ACar 22:2'</li>\n",
       "\t<li>'ACar 24:2'</li>\n",
       "</ol>\n"
      ],
      "text/latex": [
       "\\begin{enumerate*}\n",
       "\\item 'Hippuric acid'\n",
       "\\item 'indoline-2-carboxylic acid'\n",
       "\\item 'D-(+)-Maltose'\n",
       "\\item 'PC (16:0/18:1)'\n",
       "\\item 'PC (18:0/20:4)'\n",
       "\\item 'D-Erythrose 4-phosphate'\n",
       "\\item 'D-(-)-Mannitol'\n",
       "\\item '3\\textbackslash{}'-Adenosine monophosphate (3\\textbackslash{}'-AMP)'\n",
       "\\item 'Methyl indole-3-acetate'\n",
       "\\item 'S-Adenosylhomocysteine'\n",
       "\\item 'PC (16:0/17:1)'\n",
       "\\item 'Maltopentaose'\n",
       "\\item 'D-Panthenol'\n",
       "\\item 'N-{[}2-chloro-6-(trifluoromethoxy)phenyl{]}-2,2-dimethylpropanamide'\n",
       "\\item 'Kanosamine'\n",
       "\\item 'Progesterone'\n",
       "\\item 'ACar 14:1'\n",
       "\\item 'Desoxycortone'\n",
       "\\item 'Pilocarpine'\n",
       "\\item '5-amino-2-(dimethylamino)benzoic acid'\n",
       "\\item 'LPE 22:1'\n",
       "\\item '12-epi Leukotriene B4'\n",
       "\\item 'PC (19:2/18:3)'\n",
       "\\item 'methyl 3,4,5-trihydroxycyclohex-1-ene-1-carboxylate'\n",
       "\\item 'ACar 20:0'\n",
       "\\item 'ACar 16:3'\n",
       "\\item '1-(3,4-dimethoxyphenyl)ethan-1-one oxime'\n",
       "\\item 'β-Cortolone'\n",
       "\\item 'ACar 22:2'\n",
       "\\item 'ACar 24:2'\n",
       "\\end{enumerate*}\n"
      ],
      "text/markdown": [
       "1. 'Hippuric acid'\n",
       "2. 'indoline-2-carboxylic acid'\n",
       "3. 'D-(+)-Maltose'\n",
       "4. 'PC (16:0/18:1)'\n",
       "5. 'PC (18:0/20:4)'\n",
       "6. 'D-Erythrose 4-phosphate'\n",
       "7. 'D-(-)-Mannitol'\n",
       "8. '3\\'-Adenosine monophosphate (3\\'-AMP)'\n",
       "9. 'Methyl indole-3-acetate'\n",
       "10. 'S-Adenosylhomocysteine'\n",
       "11. 'PC (16:0/17:1)'\n",
       "12. 'Maltopentaose'\n",
       "13. 'D-Panthenol'\n",
       "14. 'N-[2-chloro-6-(trifluoromethoxy)phenyl]-2,2-dimethylpropanamide'\n",
       "15. 'Kanosamine'\n",
       "16. 'Progesterone'\n",
       "17. 'ACar 14:1'\n",
       "18. 'Desoxycortone'\n",
       "19. 'Pilocarpine'\n",
       "20. '5-amino-2-(dimethylamino)benzoic acid'\n",
       "21. 'LPE 22:1'\n",
       "22. '12-epi Leukotriene B4'\n",
       "23. 'PC (19:2/18:3)'\n",
       "24. 'methyl 3,4,5-trihydroxycyclohex-1-ene-1-carboxylate'\n",
       "25. 'ACar 20:0'\n",
       "26. 'ACar 16:3'\n",
       "27. '1-(3,4-dimethoxyphenyl)ethan-1-one oxime'\n",
       "28. 'β-Cortolone'\n",
       "29. 'ACar 22:2'\n",
       "30. 'ACar 24:2'\n",
       "\n",
       "\n"
      ],
      "text/plain": [
       " [1] \"Hippuric acid\"                                                  \n",
       " [2] \"indoline-2-carboxylic acid\"                                     \n",
       " [3] \"D-(+)-Maltose\"                                                  \n",
       " [4] \"PC (16:0/18:1)\"                                                 \n",
       " [5] \"PC (18:0/20:4)\"                                                 \n",
       " [6] \"D-Erythrose 4-phosphate\"                                        \n",
       " [7] \"D-(-)-Mannitol\"                                                 \n",
       " [8] \"3'-Adenosine monophosphate (3'-AMP)\"                            \n",
       " [9] \"Methyl indole-3-acetate\"                                        \n",
       "[10] \"S-Adenosylhomocysteine\"                                         \n",
       "[11] \"PC (16:0/17:1)\"                                                 \n",
       "[12] \"Maltopentaose\"                                                  \n",
       "[13] \"D-Panthenol\"                                                    \n",
       "[14] \"N-[2-chloro-6-(trifluoromethoxy)phenyl]-2,2-dimethylpropanamide\"\n",
       "[15] \"Kanosamine\"                                                     \n",
       "[16] \"Progesterone\"                                                   \n",
       "[17] \"ACar 14:1\"                                                      \n",
       "[18] \"Desoxycortone\"                                                  \n",
       "[19] \"Pilocarpine\"                                                    \n",
       "[20] \"5-amino-2-(dimethylamino)benzoic acid\"                          \n",
       "[21] \"LPE 22:1\"                                                       \n",
       "[22] \"12-epi Leukotriene B4\"                                          \n",
       "[23] \"PC (19:2/18:3)\"                                                 \n",
       "[24] \"methyl 3,4,5-trihydroxycyclohex-1-ene-1-carboxylate\"            \n",
       "[25] \"ACar 20:0\"                                                      \n",
       "[26] \"ACar 16:3\"                                                      \n",
       "[27] \"1-(3,4-dimethoxyphenyl)ethan-1-one oxime\"                       \n",
       "[28] \"β-Cortolone\"                                                    \n",
       "[29] \"ACar 22:2\"                                                      \n",
       "[30] \"ACar 24:2\"                                                      "
      ]
     },
     "metadata": {},
     "output_type": "display_data"
    },
    {
     "data": {
      "text/html": [
       "<ol class=list-inline>\n",
       "\t<li>'6-(3-hydroxybutan-2-yl)-5-(hydroxymethyl)-4-methoxy-2H-pyran-2-one'</li>\n",
       "\t<li>'2-[4-(tert-butyl)-2,3-dihydro-1,3-thiazol-2-yliden]-3-oxobutanenitrile'</li>\n",
       "\t<li>'2-hydroxy-6-[(8Z,11Z)-pentadeca-8,11,14-trien-1-yl]benzoic acid'</li>\n",
       "\t<li>'2-(2-amino-3-methylbutanamido)-3-phenylpropanoic acid'</li>\n",
       "\t<li>'3-(methylsulfonyl)-2H-chromen-2-one'</li>\n",
       "\t<li>'N&lt;U+2212&gt;[2&lt;U+2212&gt;chloro&lt;U+2212&gt;6&lt;U+2212&gt;(trifluoromethoxy)phenyl]&lt;U+2212&gt;2,2&lt;U+2212&gt;dimethylpropanamide'</li>\n",
       "\t<li>'methyl 3,4,5&lt;U+2212&gt;trihydroxycyclohex&lt;U+2212&gt;1&lt;U+2212&gt;ene&lt;U+2212&gt;1&lt;U+2212&gt;carboxylate'</li>\n",
       "\t<li>'5&lt;U+2212&gt;amino&lt;U+2212&gt;2&lt;U+2212&gt;(dimethylamino)benzoic acid'</li>\n",
       "\t<li>'1&lt;U+2212&gt;(3,4&lt;U+2212&gt;dimethoxyphenyl)ethan&lt;U+2212&gt;1&lt;U+2212&gt;one oxime'</li>\n",
       "\t<li>'3\\'&lt;U+2212&gt;Adenosine monophosphate (3\\'&lt;U+2212&gt;AMP)'</li>\n",
       "</ol>\n"
      ],
      "text/latex": [
       "\\begin{enumerate*}\n",
       "\\item '6-(3-hydroxybutan-2-yl)-5-(hydroxymethyl)-4-methoxy-2H-pyran-2-one'\n",
       "\\item '2-{[}4-(tert-butyl)-2,3-dihydro-1,3-thiazol-2-yliden{]}-3-oxobutanenitrile'\n",
       "\\item '2-hydroxy-6-{[}(8Z,11Z)-pentadeca-8,11,14-trien-1-yl{]}benzoic acid'\n",
       "\\item '2-(2-amino-3-methylbutanamido)-3-phenylpropanoic acid'\n",
       "\\item '3-(methylsulfonyl)-2H-chromen-2-one'\n",
       "\\item 'N<U+2212>{[}2<U+2212>chloro<U+2212>6<U+2212>(trifluoromethoxy)phenyl{]}<U+2212>2,2<U+2212>dimethylpropanamide'\n",
       "\\item 'methyl 3,4,5<U+2212>trihydroxycyclohex<U+2212>1<U+2212>ene<U+2212>1<U+2212>carboxylate'\n",
       "\\item '5<U+2212>amino<U+2212>2<U+2212>(dimethylamino)benzoic acid'\n",
       "\\item '1<U+2212>(3,4<U+2212>dimethoxyphenyl)ethan<U+2212>1<U+2212>one oxime'\n",
       "\\item '3\\textbackslash{}'<U+2212>Adenosine monophosphate (3\\textbackslash{}'<U+2212>AMP)'\n",
       "\\end{enumerate*}\n"
      ],
      "text/markdown": [
       "1. '6-(3-hydroxybutan-2-yl)-5-(hydroxymethyl)-4-methoxy-2H-pyran-2-one'\n",
       "2. '2-[4-(tert-butyl)-2,3-dihydro-1,3-thiazol-2-yliden]-3-oxobutanenitrile'\n",
       "3. '2-hydroxy-6-[(8Z,11Z)-pentadeca-8,11,14-trien-1-yl]benzoic acid'\n",
       "4. '2-(2-amino-3-methylbutanamido)-3-phenylpropanoic acid'\n",
       "5. '3-(methylsulfonyl)-2H-chromen-2-one'\n",
       "6. 'N&lt;U+2212&gt;[2&lt;U+2212&gt;chloro&lt;U+2212&gt;6&lt;U+2212&gt;(trifluoromethoxy)phenyl]&lt;U+2212&gt;2,2&lt;U+2212&gt;dimethylpropanamide'\n",
       "7. 'methyl 3,4,5&lt;U+2212&gt;trihydroxycyclohex&lt;U+2212&gt;1&lt;U+2212&gt;ene&lt;U+2212&gt;1&lt;U+2212&gt;carboxylate'\n",
       "8. '5&lt;U+2212&gt;amino&lt;U+2212&gt;2&lt;U+2212&gt;(dimethylamino)benzoic acid'\n",
       "9. '1&lt;U+2212&gt;(3,4&lt;U+2212&gt;dimethoxyphenyl)ethan&lt;U+2212&gt;1&lt;U+2212&gt;one oxime'\n",
       "10. '3\\'&lt;U+2212&gt;Adenosine monophosphate (3\\'&lt;U+2212&gt;AMP)'\n",
       "\n",
       "\n"
      ],
      "text/plain": [
       " [1] \"6-(3-hydroxybutan-2-yl)-5-(hydroxymethyl)-4-methoxy-2H-pyran-2-one\"                                       \n",
       " [2] \"2-[4-(tert-butyl)-2,3-dihydro-1,3-thiazol-2-yliden]-3-oxobutanenitrile\"                                   \n",
       " [3] \"2-hydroxy-6-[(8Z,11Z)-pentadeca-8,11,14-trien-1-yl]benzoic acid\"                                          \n",
       " [4] \"2-(2-amino-3-methylbutanamido)-3-phenylpropanoic acid\"                                                    \n",
       " [5] \"3-(methylsulfonyl)-2H-chromen-2-one\"                                                                      \n",
       " [6] \"N<U+2212>[2<U+2212>chloro<U+2212>6<U+2212>(trifluoromethoxy)phenyl]<U+2212>2,2<U+2212>dimethylpropanamide\"\n",
       " [7] \"methyl 3,4,5<U+2212>trihydroxycyclohex<U+2212>1<U+2212>ene<U+2212>1<U+2212>carboxylate\"                   \n",
       " [8] \"5<U+2212>amino<U+2212>2<U+2212>(dimethylamino)benzoic acid\"                                               \n",
       " [9] \"1<U+2212>(3,4<U+2212>dimethoxyphenyl)ethan<U+2212>1<U+2212>one oxime\"                                     \n",
       "[10] \"3'<U+2212>Adenosine monophosphate (3'<U+2212>AMP)\"                                                        "
      ]
     },
     "metadata": {},
     "output_type": "display_data"
    },
    {
     "data": {
      "text/html": [
       "<ol class=list-inline>\n",
       "\t<li>'Chlamydospordiol'</li>\n",
       "\t<li>'Oxobutanenitrile'</li>\n",
       "\t<li>'CHEMBL455368'</li>\n",
       "\t<li>'L-Val-L-Phe'</li>\n",
       "\t<li>'SCHEMBL831132'</li>\n",
       "\t<li>'Dimethylpropanamide'</li>\n",
       "\t<li>'NSC280656'</li>\n",
       "\t<li>'Dimethylaminobenzoic acid'</li>\n",
       "\t<li>'Dimethoxyacetophenoneoxime'</li>\n",
       "\t<li>'3\\'&lt;U+2212&gt;AMP'</li>\n",
       "</ol>\n"
      ],
      "text/latex": [
       "\\begin{enumerate*}\n",
       "\\item 'Chlamydospordiol'\n",
       "\\item 'Oxobutanenitrile'\n",
       "\\item 'CHEMBL455368'\n",
       "\\item 'L-Val-L-Phe'\n",
       "\\item 'SCHEMBL831132'\n",
       "\\item 'Dimethylpropanamide'\n",
       "\\item 'NSC280656'\n",
       "\\item 'Dimethylaminobenzoic acid'\n",
       "\\item 'Dimethoxyacetophenoneoxime'\n",
       "\\item '3\\textbackslash{}'<U+2212>AMP'\n",
       "\\end{enumerate*}\n"
      ],
      "text/markdown": [
       "1. 'Chlamydospordiol'\n",
       "2. 'Oxobutanenitrile'\n",
       "3. 'CHEMBL455368'\n",
       "4. 'L-Val-L-Phe'\n",
       "5. 'SCHEMBL831132'\n",
       "6. 'Dimethylpropanamide'\n",
       "7. 'NSC280656'\n",
       "8. 'Dimethylaminobenzoic acid'\n",
       "9. 'Dimethoxyacetophenoneoxime'\n",
       "10. '3\\'&lt;U+2212&gt;AMP'\n",
       "\n",
       "\n"
      ],
      "text/plain": [
       " [1] \"Chlamydospordiol\"           \"Oxobutanenitrile\"          \n",
       " [3] \"CHEMBL455368\"               \"L-Val-L-Phe\"               \n",
       " [5] \"SCHEMBL831132\"              \"Dimethylpropanamide\"       \n",
       " [7] \"NSC280656\"                  \"Dimethylaminobenzoic acid\" \n",
       " [9] \"Dimethoxyacetophenoneoxime\" \"3'<U+2212>AMP\"             "
      ]
     },
     "metadata": {},
     "output_type": "display_data"
    }
   ],
   "source": [
    "tx\n",
    "aa\n",
    "bb"
   ]
  },
  {
   "cell_type": "markdown",
   "metadata": {},
   "source": [
    "## Enrichment"
   ]
  },
  {
   "cell_type": "markdown",
   "metadata": {},
   "source": [
    "### protein"
   ]
  },
  {
   "cell_type": "code",
   "execution_count": 129,
   "metadata": {},
   "outputs": [],
   "source": [
    "tpath = './out/20210428_treatment/enrichment/pro_common_up_metascape/metascape_result.xlsx'\n",
    "my_data <- read_excel(tpath, sheet = \"Enrichment\")\n",
    "idx = regexpr('Summary',my_data$GroupID) >0\n",
    "outids = my_data$Term[idx]\n",
    "my_data = my_data[idx,]\n",
    "goup = -my_data$`Log(q-value)`\n",
    "names(goup) = my_data$Description\n",
    "\n",
    "tpath = './out/20210428_treatment/enrichment/pro_common_down_metascape//metascape_result.xlsx'\n",
    "my_data <- read_excel(tpath, sheet = \"Enrichment\")\n",
    "idx = regexpr('Summary',my_data$GroupID) >0\n",
    "outids = my_data$Term[idx]\n",
    "my_data = my_data[idx,]\n",
    "godown = -my_data$`Log(q-value)`\n",
    "names(godown) = my_data$Description"
   ]
  },
  {
   "cell_type": "code",
   "execution_count": 130,
   "metadata": {},
   "outputs": [
    {
     "data": {
      "text/html": [
       "<strong>png:</strong> 2"
      ],
      "text/latex": [
       "\\textbf{png:} 2"
      ],
      "text/markdown": [
       "**png:** 2"
      ],
      "text/plain": [
       "png \n",
       "  2 "
      ]
     },
     "metadata": {},
     "output_type": "display_data"
    }
   ],
   "source": [
    "pdf('./out/20220519_treatment/Common_DEG/MSCplot_commome_pro_Enrichment.pdf',width = 4,height = 4)\n",
    "p = plot_enrich(goup, godown,n_char = 40)\n",
    "print(p)\n",
    "dev.off()"
   ]
  },
  {
   "cell_type": "markdown",
   "metadata": {},
   "source": [
    "### mRNA"
   ]
  },
  {
   "cell_type": "code",
   "execution_count": 131,
   "metadata": {},
   "outputs": [],
   "source": [
    "tpath = './out/20210428_treatment/enrichment/mrna_common_up_metascape/metascape_result.xlsx'\n",
    "my_data <- read_excel(tpath, sheet = \"Enrichment\")\n",
    "idx = regexpr('Summary',my_data$GroupID) >0\n",
    "outids = my_data$Term[idx]\n",
    "my_data = my_data[idx,]\n",
    "goup = -my_data$`Log(q-value)`\n",
    "names(goup) = my_data$Description\n",
    "\n",
    "tpath = './out/20210428_treatment/enrichment/mrna_common_down_metascape//metascape_result.xlsx'\n",
    "my_data <- read_excel(tpath, sheet = \"Enrichment\")\n",
    "idx = regexpr('Summary',my_data$GroupID) >0\n",
    "outids = my_data$Term[idx]\n",
    "my_data = my_data[idx,]\n",
    "godown = -my_data$`Log(q-value)`\n",
    "names(godown) = my_data$Description"
   ]
  },
  {
   "cell_type": "code",
   "execution_count": 132,
   "metadata": {},
   "outputs": [
    {
     "data": {
      "text/html": [
       "<strong>png:</strong> 2"
      ],
      "text/latex": [
       "\\textbf{png:} 2"
      ],
      "text/markdown": [
       "**png:** 2"
      ],
      "text/plain": [
       "png \n",
       "  2 "
      ]
     },
     "metadata": {},
     "output_type": "display_data"
    }
   ],
   "source": [
    "pdf('./out/20220519_treatment/Common_DEG/MSCplot_commome_mrna_Enrichment.pdf',width = 4,height = 4)\n",
    "p = plot_enrich(goup, godown,n_char = 40)\n",
    "print(p)\n",
    "dev.off()"
   ]
  },
  {
   "cell_type": "code",
   "execution_count": 133,
   "metadata": {},
   "outputs": [],
   "source": [
    "graphics.off()"
   ]
  },
  {
   "cell_type": "markdown",
   "metadata": {},
   "source": [
    "### metabolism"
   ]
  },
  {
   "cell_type": "code",
   "execution_count": 134,
   "metadata": {},
   "outputs": [
    {
     "data": {
      "text/html": [
       "<strong>png:</strong> 2"
      ],
      "text/latex": [
       "\\textbf{png:} 2"
      ],
      "text/markdown": [
       "**png:** 2"
      ],
      "text/plain": [
       "png \n",
       "  2 "
      ]
     },
     "metadata": {},
     "output_type": "display_data"
    }
   ],
   "source": [
    "tmp = met.class_enrichment(upmets,met.header.all.hmdb.v)\n",
    "idx = tmp$p.adjust < 0.01\n",
    "metupgo = -log10(tmp$p.adjust[idx])\n",
    "names(metupgo) = tmp$Description[idx]\n",
    "\n",
    "tmp = met.class_enrichment(downmets,met.header.all.hmdb.v)\n",
    "idx = tmp$p.adjust < 0.01\n",
    "metdowngo = -log10(tmp$p.adjust[idx])\n",
    "names(metdowngo) = tmp$Description[idx]\n",
    "p = plot_enrich(metupgo, metdowngo,n_char = 40)\n",
    "\n",
    "pdf('./out/20220519_treatment/Common_DEG/MSCplot_commome_met_Enrichment.pdf',width = 4,height = 2.5)\n",
    "print(p)\n",
    "dev.off()"
   ]
  },
  {
   "cell_type": "markdown",
   "metadata": {},
   "source": [
    "# Figure new 7 common DEchanges in six tissues"
   ]
  },
  {
   "cell_type": "code",
   "execution_count": 23,
   "metadata": {},
   "outputs": [],
   "source": [
    "sixtissues= c('Lung','Thymus','Ovary','Spleen','Kidney','Stomach')"
   ]
  },
  {
   "cell_type": "code",
   "execution_count": 16,
   "metadata": {},
   "outputs": [],
   "source": [
    "list_to_matrix <- function(DEproFC,alltissues){\n",
    "    DEproFC_matrix = list()\n",
    "    for(i in 1:length(alltissues)){\n",
    "        tmp = matrix(DEproFC[[i]],1,length(DEproFC[[i]]))\n",
    "        tmp = as.data.frame(tmp)\n",
    "        colnames(tmp) = names(DEproFC[[i]])\n",
    "        DEproFC_matrix[[i]] = tmp\n",
    "    }\n",
    "    DEproFC_matrix = t(as.matrix(rbindlist(DEproFC_matrix,fill = T)))\n",
    "    colnames(DEproFC_matrix) = names(DEproFC)\n",
    "    #vid = rowSums(is.na(DEproFC_matrix)) < ncol(DEproFC_matrix)/2\n",
    "    #DEproFC_matrix = DEproFC_matrix[vid,]\n",
    "    return(DEproFC_matrix)\n",
    "}"
   ]
  },
  {
   "cell_type": "markdown",
   "metadata": {},
   "source": [
    "## mRNA"
   ]
  },
  {
   "cell_type": "code",
   "execution_count": 106,
   "metadata": {},
   "outputs": [],
   "source": [
    "DEmrnaFC = list()\n",
    "DEmrnaPvalue = list()\n",
    "DEtreat.mrna = list()\n",
    "for(i in 1:length(alltissues)){\n",
    "    #Mfuzz\n",
    "    thistissue = alltissues[i]\n",
    "    thismrna = mrna.tissues[[thistissue]]\n",
    "    #thismrna.header = mrna.tissues.header[[thistissue]]\n",
    "    thismrna.info = mrna.tissues.info[[thistissue]]\n",
    "    if (sum(thismrna.info$stage == 1) ==1){ \n",
    "        thismrna = cbind(thismrna[,thismrna.info$stage == 1],thismrna)\n",
    "        thismrna.info = rbind(thismrna.info[thismrna.info$stage == 1,],thismrna.info)\n",
    "    }\n",
    "    if (sum(thismrna.info$stage == 4) ==1){ \n",
    "        thismrna = cbind(thismrna,thismrna[,thismrna.info$stage == 4])\n",
    "        thismrna.info = rbind(thismrna.info,thismrna.info[thismrna.info$stage == 4,])\n",
    "    }\n",
    "    \n",
    "    thisDEmrna = DEGenes.simplified(thismrna,catagory = thismrna.info$stage == 5,\n",
    "                               subset = thismrna.info$stage == 4 | thismrna.info$stage == 5)\n",
    "    DEtreat.mrna[[i]] = thisDEmrna\n",
    "    DEmrnaFC[[i]] = thisDEmrna$log2FC\n",
    "    names(DEmrnaFC[[i]]) = rownames(thisDEmrna)\n",
    "    DEmrnaPvalue[[i]] = thisDEmrna$Pvalue\n",
    "    names(DEmrnaPvalue[[i]])  = rownames(thisDEmrna)\n",
    "}\n",
    "names(DEmrnaFC) = alltissues\n",
    "names(DEmrnaPvalue) = alltissues\n",
    "names(DEtreat.mrna) = alltissues\n",
    "DEmrnaFC_matrix = list_to_matrix(DEmrnaFC,alltissues)\n",
    "DEmrnaPvalue_matrix = list_to_matrix(DEmrnaPvalue,alltissues)"
   ]
  },
  {
   "cell_type": "code",
   "execution_count": 107,
   "metadata": {},
   "outputs": [],
   "source": [
    "DEmrnaFCage = list()\n",
    "DEmrnaPvalueage = list()\n",
    "DEage.mrna = list()\n",
    "for(i in 1:length(alltissues)){\n",
    "    #Mfuzz\n",
    "    thistissue = alltissues[i]\n",
    "    thismrna = mrna.tissues[[thistissue]]\n",
    "    #thismrna.header = mrna.tissues.header[[thistissue]]\n",
    "    thismrna.info = mrna.tissues.info[[thistissue]]\n",
    "    if (sum(thismrna.info$stage == 1) ==1){ \n",
    "        thismrna = cbind(thismrna[,thismrna.info$stage == 1],thismrna)\n",
    "        thismrna.info = rbind(thismrna.info[thismrna.info$stage == 1,],thismrna.info)\n",
    "    }\n",
    "    if (sum(thismrna.info$stage == 4) ==1){ \n",
    "        thismrna = cbind(thismrna,thismrna[,thismrna.info$stage == 4])\n",
    "        thismrna.info = rbind(thismrna.info,thismrna.info[thismrna.info$stage == 4,])\n",
    "    }\n",
    "    \n",
    "    thisDEmrna = DEGenes.simplified(thismrna,catagory = thismrna.info$stage == 4,\n",
    "                               subset = thismrna.info$stage == 4 | thismrna.info$stage == 2)\n",
    "    DEage.mrna[[i]] = thisDEmrna\n",
    "    DEmrnaFCage[[i]] = thisDEmrna$log2FC\n",
    "    names(DEmrnaFCage[[i]]) = rownames(thisDEmrna)\n",
    "    DEmrnaPvalueage[[i]] = thisDEmrna$Pvalue\n",
    "    names(DEmrnaPvalueage[[i]])  = rownames(thisDEmrna)\n",
    "}\n",
    "names(DEmrnaFCage) = alltissues\n",
    "names(DEmrnaPvalueage) = alltissues\n",
    "names(DEage.mrna) = alltissues\n",
    "DEmrnaFCage_matrix = list_to_matrix(DEmrnaFCage,alltissues)\n",
    "DEmrnaPvalueage_matrix = list_to_matrix(DEmrnaPvalueage,alltissues)"
   ]
  },
  {
   "cell_type": "code",
   "execution_count": 111,
   "metadata": {},
   "outputs": [
    {
     "data": {
      "text/html": [
       "129"
      ],
      "text/latex": [
       "129"
      ],
      "text/markdown": [
       "129"
      ],
      "text/plain": [
       "[1] 129"
      ]
     },
     "metadata": {},
     "output_type": "display_data"
    },
    {
     "data": {
      "text/html": [
       "213"
      ],
      "text/latex": [
       "213"
      ],
      "text/markdown": [
       "213"
      ],
      "text/plain": [
       "[1] 213"
      ]
     },
     "metadata": {},
     "output_type": "display_data"
    }
   ],
   "source": [
    "MSC_mrna_sigup_matrix = (DEmrnaFC_matrix > 0.58 & DEmrnaPvalue_matrix < 0.05 & \n",
    "                         DEmrnaFCage_matrix < -0.58 & DEmrnaPvalueage_matrix < 0.05 ) +0\n",
    "MSC_mrna_sigdown_matrix = -((DEmrnaFC_matrix < -0.58 & DEmrnaPvalue_matrix < 0.05 &\n",
    "                            DEmrnaFCage_matrix > 0.58 & DEmrnaPvalueage_matrix < 0.05 ) +0)\n",
    "MSC_mrna_sigall_matrix = MSC_mrna_sigup_matrix + MSC_mrna_sigdown_matrix\n",
    "\n",
    "MSC_mrna_updown = data.frame(stringsAsFactors = F,num.up = colSums(MSC_mrna_sigup_matrix,na.rm =T)/colSums(!is.na(MSC_mrna_sigup_matrix)),\n",
    "                              num.down = colSums(MSC_mrna_sigdown_matrix,na.rm =T)/colSums(!is.na(MSC_mrna_sigdown_matrix)),\n",
    "                              num.all = colSums(abs(MSC_mrna_sigall_matrix),na.rm =T)/colSums(!is.na(MSC_mrna_sigall_matrix)),\n",
    "                             tissues = colnames(MSC_mrna_sigup_matrix),\n",
    "                             tissue_systems = tissue.systems)\n",
    "rownames(MSC_mrna_updown) = MSC_mrna_updown$tissues\n",
    "\n",
    "upgenes.mrna = rownames(MSC_mrna_sigall_matrix)[rowSums(MSC_mrna_sigall_matrix > 0,na.rm = T) > 1]\n",
    "downgenes.mrna = rownames(MSC_mrna_sigall_matrix)[rowSums(MSC_mrna_sigall_matrix < 0,na.rm = T) > 1]\n",
    "length(upgenes.mrna)\n",
    "length(downgenes.mrna)\n",
    "\n",
    "writetxt(upgenes.mrna,filename = './out/20220519_treatment/Common_DEG/mRNA_common_up_reverse_aging.txt',col.names = F)\n",
    "writetxt(downgenes.mrna,filename = './out/20220519_treatment/Common_DEG/mRNA_common_down_reverse_aging.txt',col.names = F)"
   ]
  },
  {
   "cell_type": "code",
   "execution_count": 110,
   "metadata": {},
   "outputs": [
    {
     "data": {
      "text/html": [
       "129"
      ],
      "text/latex": [
       "129"
      ],
      "text/markdown": [
       "129"
      ],
      "text/plain": [
       "[1] 129"
      ]
     },
     "metadata": {},
     "output_type": "display_data"
    },
    {
     "data": {
      "text/html": [
       "213"
      ],
      "text/latex": [
       "213"
      ],
      "text/markdown": [
       "213"
      ],
      "text/plain": [
       "[1] 213"
      ]
     },
     "metadata": {},
     "output_type": "display_data"
    },
    {
     "data": {
      "text/html": [
       "205"
      ],
      "text/latex": [
       "205"
      ],
      "text/markdown": [
       "205"
      ],
      "text/plain": [
       "[1] 205"
      ]
     },
     "metadata": {},
     "output_type": "display_data"
    },
    {
     "data": {
      "text/html": [
       "172"
      ],
      "text/latex": [
       "172"
      ],
      "text/markdown": [
       "172"
      ],
      "text/plain": [
       "[1] 172"
      ]
     },
     "metadata": {},
     "output_type": "display_data"
    }
   ],
   "source": [
    "upgenes.mrna = rownames(MSC_mrna_sigall_matrix)[rowSums(MSC_mrna_sigall_matrix > 0,na.rm = T) > 0]\n",
    "downgenes.mrna = rownames(MSC_mrna_sigall_matrix)[rowSums(MSC_mrna_sigall_matrix < 0,na.rm = T) > 1]\n",
    "length(upgenes.mrna)\n",
    "length(downgenes.mrna)\n",
    "\n",
    "MSC_mrna_sigall_matrix.6tissues = MSC_mrna_sigall_matrix[,sixtissues]\n",
    "upgenes.mrna.6tissues = rownames(MSC_mrna_sigall_matrix.6tissues)[rowSums(MSC_mrna_sigall_matrix.6tissues > 0,na.rm = T) > 0]\n",
    "downgenes.mrna.6tissues = rownames(MSC_mrna_sigall_matrix.6tissues)[rowSums(MSC_mrna_sigall_matrix.6tissues < 0,na.rm = T) > 0]\n",
    "length(upgenes.mrna.6tissues)\n",
    "length(downgenes.mrna.6tissues)\n",
    "#writetxt(upgenes.mrna.6tissues,filename = './out/20220519_treatment/Common_DEG/mRNA_common_up_reverse_aging_6tissue.txt',col.names = F)\n",
    "#writetxt(downgenes.mrna.6tissues,filename = './out/20220519_treatment/Common_DEG/mRNA_common_down_reverse_aging_6tissue.txt',col.names = F)"
   ]
  },
  {
   "cell_type": "code",
   "execution_count": 102,
   "metadata": {},
   "outputs": [
    {
     "data": {
      "text/html": [
       "<strong>png:</strong> 2"
      ],
      "text/latex": [
       "\\textbf{png:} 2"
      ],
      "text/markdown": [
       "**png:** 2"
      ],
      "text/plain": [
       "png \n",
       "  2 "
      ]
     },
     "metadata": {},
     "output_type": "display_data"
    }
   ],
   "source": [
    "# plot\n",
    "tpath = './out/20220519_treatment/Common_DEG/enrichment/mrna_6tissues_reverse_aging_up/metascape_result.xlsx'\n",
    "my_data <- read_excel(tpath, sheet = \"Enrichment\")\n",
    "idx = regexpr('Summary',my_data$GroupID) >0\n",
    "outids = my_data$Term[idx]\n",
    "my_data = my_data[idx,]\n",
    "goup = -my_data$`Log(q-value)`\n",
    "names(goup) = my_data$Description\n",
    "\n",
    "tpath = './out/20220519_treatment/Common_DEG/enrichment/mrna_6tissues_reverse_aging_down/metascape_result.xlsx'\n",
    "my_data <- read_excel(tpath, sheet = \"Enrichment\")\n",
    "idx = regexpr('Summary',my_data$GroupID) >0\n",
    "outids = my_data$Term[idx]\n",
    "my_data = my_data[idx,]\n",
    "godown = -my_data$`Log(q-value)`\n",
    "names(godown) = my_data$Description\n",
    "\n",
    "\n",
    "pdf('./out/20220519_treatment/Common_DEG/MSCplot_mrna__reverse_aging_Enrichment.pdf',width = 4,height = 4)\n",
    "p = plot_enrich(goup, godown,n_char = 40)\n",
    "print(p)\n",
    "dev.off()"
   ]
  },
  {
   "cell_type": "markdown",
   "metadata": {},
   "source": [
    "## protein"
   ]
  },
  {
   "cell_type": "code",
   "execution_count": 31,
   "metadata": {},
   "outputs": [],
   "source": [
    "DEproFC = list()\n",
    "DEproPvalue = list()\n",
    "DEtreat.pro = list()\n",
    "for(i in 1:length(alltissues)){\n",
    "    #Mfuzz\n",
    "    thistissue = alltissues[i]\n",
    "    thispro = pro.tissues[[thistissue]]\n",
    "    thispro.header = pro.tissues.header[[thistissue]]\n",
    "    thispro = delete_dup_genes_forprotein(thispro,pro.tissues.header[[thistissue]])\n",
    "    thispro.info = pro.tissues.info[[thistissue]]\n",
    "    thisDEpro = DEGenes.simplified(thispro,catagory = thispro.info$stage == 5,\n",
    "                               subset = thispro.info$stage == 4 | thispro.info$stage == 5)\n",
    "    DEtreat.pro[[i]] = thisDEpro\n",
    "    DEproFC[[i]] = thisDEpro$log2FC\n",
    "    names(DEproFC[[i]]) = rownames(thisDEpro)\n",
    "    DEproPvalue[[i]] = thisDEpro$Pvalue\n",
    "    names(DEproPvalue[[i]])  = rownames(thisDEpro)\n",
    "}\n",
    "names(DEproFC) = alltissues\n",
    "names(DEproPvalue) = alltissues\n",
    "names(DEtreat.pro) = alltissues"
   ]
  },
  {
   "cell_type": "code",
   "execution_count": 94,
   "metadata": {},
   "outputs": [],
   "source": [
    "DEproFCage = list()\n",
    "DEproPvalueage = list()\n",
    "DEage.pro = list()\n",
    "for(i in 1:length(alltissues)){\n",
    "    #Mfuzz\n",
    "    thistissue = alltissues[i]\n",
    "    thispro = pro.tissues[[thistissue]]\n",
    "    thispro.header = pro.tissues.header[[thistissue]]\n",
    "    thispro = delete_dup_genes_forprotein(thispro,pro.tissues.header[[thistissue]])\n",
    "    thispro.info = pro.tissues.info[[thistissue]]\n",
    "    thisDEpro = DEGenes.simplified(thispro,catagory = thispro.info$stage == 4,\n",
    "                               subset = thispro.info$stage == 4 | thispro.info$stage == 2)\n",
    "    DEage.pro[[i]] = thisDEpro\n",
    "    DEproFCage[[i]] = thisDEpro$log2FC\n",
    "    names(DEproFCage[[i]]) = rownames(thisDEpro)\n",
    "    DEproPvalueage[[i]] = thisDEpro$Pvalue\n",
    "    names(DEproPvalueage[[i]])  = rownames(thisDEpro)\n",
    "}\n",
    "names(DEproFCage) = alltissues\n",
    "names(DEproPvalueage) = alltissues\n",
    "names(DEage.pro) = alltissues"
   ]
  },
  {
   "cell_type": "code",
   "execution_count": 95,
   "metadata": {},
   "outputs": [],
   "source": [
    "DEproFCage_matrix = list_to_matrix(DEproFCage,alltissues)\n",
    "DEproPvalueage_matrix = list_to_matrix(DEproPvalueage,alltissues)"
   ]
  },
  {
   "cell_type": "code",
   "execution_count": 32,
   "metadata": {},
   "outputs": [],
   "source": [
    "DEproFC_matrix = list_to_matrix(DEproFC,alltissues)\n",
    "DEproPvalue_matrix = list_to_matrix(DEproPvalue,alltissues)"
   ]
  },
  {
   "cell_type": "code",
   "execution_count": 96,
   "metadata": {},
   "outputs": [],
   "source": [
    "MSC_pro_sigup_matrix = (DEproFC_matrix > 0.58 & DEproPvalue_matrix < 0.05 & \n",
    "                         DEproFCage_matrix < -0.58 & DEproPvalueage_matrix < 0.05 ) +0\n",
    "MSC_pro_sigdown_matrix = -((DEproFC_matrix < -0.58 & DEproPvalue_matrix < 0.05 & \n",
    "                         DEproFCage_matrix > 0.58 & DEproPvalueage_matrix < 0.05 ) +0)\n",
    "MSC_pro_sigall_matrix = MSC_pro_sigup_matrix + MSC_pro_sigdown_matrix\n",
    "\n",
    "MSC_pro_updown = data.frame(stringsAsFactors = F,num.up = colSums(MSC_pro_sigup_matrix,na.rm =T)/colSums(!is.na(MSC_pro_sigup_matrix)),\n",
    "                              num.down = colSums(MSC_pro_sigdown_matrix,na.rm =T)/colSums(!is.na(MSC_pro_sigdown_matrix)),\n",
    "                              num.all = colSums(abs(MSC_pro_sigall_matrix),na.rm =T)/colSums(!is.na(MSC_pro_sigall_matrix)),\n",
    "                             tissues = colnames(MSC_pro_sigup_matrix),\n",
    "                             tissue_systems = tissue.systems)\n",
    "rownames(MSC_pro_updown) = MSC_pro_updown$tissues"
   ]
  },
  {
   "cell_type": "code",
   "execution_count": 115,
   "metadata": {},
   "outputs": [
    {
     "data": {
      "text/html": [
       "711"
      ],
      "text/latex": [
       "711"
      ],
      "text/markdown": [
       "711"
      ],
      "text/plain": [
       "[1] 711"
      ]
     },
     "metadata": {},
     "output_type": "display_data"
    },
    {
     "data": {
      "text/html": [
       "684"
      ],
      "text/latex": [
       "684"
      ],
      "text/markdown": [
       "684"
      ],
      "text/plain": [
       "[1] 684"
      ]
     },
     "metadata": {},
     "output_type": "display_data"
    },
    {
     "data": {
      "text/html": [
       "216"
      ],
      "text/latex": [
       "216"
      ],
      "text/markdown": [
       "216"
      ],
      "text/plain": [
       "[1] 216"
      ]
     },
     "metadata": {},
     "output_type": "display_data"
    },
    {
     "data": {
      "text/html": [
       "168"
      ],
      "text/latex": [
       "168"
      ],
      "text/markdown": [
       "168"
      ],
      "text/plain": [
       "[1] 168"
      ]
     },
     "metadata": {},
     "output_type": "display_data"
    }
   ],
   "source": [
    "upgenes = rownames(MSC_pro_sigall_matrix)[rowSums(MSC_pro_sigall_matrix > 0,na.rm = T) > 0]\n",
    "downgenes = rownames(MSC_pro_sigall_matrix)[rowSums(MSC_pro_sigall_matrix < 0,na.rm = T) > 0]\n",
    "length(upgenes)\n",
    "length(downgenes)\n",
    "\n",
    "MSC_pro_sigall_matrix.6tissues = MSC_pro_sigall_matrix[,sixtissues]\n",
    "upgenes.pro.6tissues = rownames(MSC_pro_sigall_matrix.6tissues)[rowSums(MSC_pro_sigall_matrix.6tissues > 0,na.rm = T) > 0]\n",
    "downgenes.pro.6tissues = rownames(MSC_pro_sigall_matrix.6tissues)[rowSums(MSC_pro_sigall_matrix.6tissues < 0,na.rm = T) > 0]\n",
    "length(upgenes.pro.6tissues)\n",
    "length(downgenes.pro.6tissues)\n",
    "#writetxt(upgenes.pro.6tissues,filename = './out/20220519_treatment/Common_DEG/pro_common_up_reverse_aging_6tissue.txt',col.names = F)\n",
    "#writetxt(downgenes.pro.6tissues,filename = './out/20220519_treatment/Common_DEG/pro_common_down_reverse_aging_6tissue.txt',col.names = F)\n"
   ]
  },
  {
   "cell_type": "code",
   "execution_count": 103,
   "metadata": {},
   "outputs": [
    {
     "data": {
      "text/html": [
       "<strong>png:</strong> 2"
      ],
      "text/latex": [
       "\\textbf{png:} 2"
      ],
      "text/markdown": [
       "**png:** 2"
      ],
      "text/plain": [
       "png \n",
       "  2 "
      ]
     },
     "metadata": {},
     "output_type": "display_data"
    }
   ],
   "source": [
    "# plot\n",
    "# plot\n",
    "tpath = './out/20220519_treatment/Common_DEG/enrichment/pro_6tissues_reverse_aging_up/metascape_result.xlsx'\n",
    "my_data <- read_excel(tpath, sheet = \"Enrichment\")\n",
    "idx = regexpr('Summary',my_data$GroupID) >0\n",
    "outids = my_data$Term[idx]\n",
    "my_data = my_data[idx,]\n",
    "goup = -my_data$`Log(q-value)`\n",
    "names(goup) = my_data$Description\n",
    "\n",
    "tpath = './out/20220519_treatment/Common_DEG/enrichment/pro_6tissues_reverse_aging_down/metascape_result.xlsx'\n",
    "my_data <- read_excel(tpath, sheet = \"Enrichment\")\n",
    "idx = regexpr('Summary',my_data$GroupID) >0\n",
    "outids = my_data$Term[idx]\n",
    "my_data = my_data[idx,]\n",
    "godown = -my_data$`Log(q-value)`\n",
    "names(godown) = my_data$Description\n",
    "\n",
    "\n",
    "pdf('./out/20220519_treatment/Common_DEG/MSCplot_pro__reverse_aging_Enrichment.pdf',width = 4,height = 4)\n",
    "p = plot_enrich(goup, godown,n_char = 40)\n",
    "print(p)\n",
    "dev.off()"
   ]
  },
  {
   "cell_type": "markdown",
   "metadata": {},
   "source": [
    "## metabolism"
   ]
  },
  {
   "cell_type": "code",
   "execution_count": 121,
   "metadata": {},
   "outputs": [],
   "source": [
    "DEmetFC = list()\n",
    "DEmetPvalue = list()\n",
    "DEtreat.met = list()\n",
    "for(i in 1:length(alltissues)){\n",
    "    #Mfuzz\n",
    "    thistissue = alltissues[i]\n",
    "    thismet = met.tissues[[thistissue]]\n",
    "    thismet.header = met.tissues.header[[thistissue]]\n",
    "    thismet.info = met.tissues.info[[thistissue]]\n",
    "    if (sum(thismet.info$stage == 1) ==1){ \n",
    "        thismet = cbind(thismet[,thismet.info$stage == 1],thismet)\n",
    "        thismet.info = rbind(thismet.info[thismet.info$stage == 1,],thismet.info)\n",
    "    }\n",
    "    if (sum(thismet.info$stage == 4) ==1){ \n",
    "        thismet = cbind(thismet,thismet[,thismet.info$stage == 4])\n",
    "        thismet.info = rbind(thismet.info,thismet.info[thismet.info$stage == 4,])\n",
    "    }\n",
    "    \n",
    "    thisDEmet = DEGenes.simplified(thismet,catagory = thismet.info$stage == 5,\n",
    "                               subset = thismet.info$stage == 5 | thismet.info$stage == 4)\n",
    "    DEtreat.met[[i]] = thisDEmet\n",
    "    DEmetFC[[i]] = thisDEmet$log2FC\n",
    "    names(DEmetFC[[i]]) = rownames(thisDEmet)\n",
    "    DEmetPvalue[[i]] = thisDEmet$Pvalue\n",
    "    names(DEmetPvalue[[i]])  = rownames(thisDEmet)\n",
    "}\n",
    "names(DEmetFC) = alltissues\n",
    "names(DEmetPvalue) = alltissues\n",
    "names(DEtreat.met) = alltissues\n",
    "DEmetFC_matrix = list_to_matrix(DEmetFC,alltissues)\n",
    "DEmetPvalue_matrix = list_to_matrix(DEmetPvalue,alltissues)"
   ]
  },
  {
   "cell_type": "code",
   "execution_count": 122,
   "metadata": {},
   "outputs": [],
   "source": [
    "DEmetFCage = list()\n",
    "DEmetPvalueage = list()\n",
    "DEage.met = list()\n",
    "for(i in 1:length(alltissues)){\n",
    "    #Mfuzz\n",
    "    thistissue = alltissues[i]\n",
    "    thismet = met.tissues[[thistissue]]\n",
    "    thismet.header = met.tissues.header[[thistissue]]\n",
    "    thismet.info = met.tissues.info[[thistissue]]\n",
    "    if (sum(thismet.info$stage == 1) ==1){ \n",
    "        thismet = cbind(thismet[,thismet.info$stage == 1],thismet)\n",
    "        thismet.info = rbind(thismet.info[thismet.info$stage == 1,],thismet.info)\n",
    "    }\n",
    "    if (sum(thismet.info$stage == 4) ==1){ \n",
    "        thismet = cbind(thismet,thismet[,thismet.info$stage == 4])\n",
    "        thismet.info = rbind(thismet.info,thismet.info[thismet.info$stage == 4,])\n",
    "    }\n",
    "    \n",
    "    thisDEmet = DEGenes.simplified(thismet,catagory = thismet.info$stage == 4,\n",
    "                               subset = thismet.info$stage == 2 | thismet.info$stage == 4)\n",
    "    DEage.met[[i]] = thisDEmet\n",
    "    DEmetFCage[[i]] = thisDEmet$log2FC\n",
    "    names(DEmetFCage[[i]]) = rownames(thisDEmet)\n",
    "    DEmetPvalueage[[i]] = thisDEmet$Pvalue\n",
    "    names(DEmetPvalueage[[i]])  = rownames(thisDEmet)\n",
    "}\n",
    "names(DEmetFCage) = alltissues\n",
    "names(DEmetPvalueage) = alltissues\n",
    "names(DEage.met) = alltissues\n",
    "DEmetFCage_matrix = list_to_matrix(DEmetFCage,alltissues)\n",
    "DEmetPvalueage_matrix = list_to_matrix(DEmetPvalueage,alltissues)"
   ]
  },
  {
   "cell_type": "code",
   "execution_count": 124,
   "metadata": {},
   "outputs": [
    {
     "data": {
      "text/html": [
       "248"
      ],
      "text/latex": [
       "248"
      ],
      "text/markdown": [
       "248"
      ],
      "text/plain": [
       "[1] 248"
      ]
     },
     "metadata": {},
     "output_type": "display_data"
    },
    {
     "data": {
      "text/html": [
       "271"
      ],
      "text/latex": [
       "271"
      ],
      "text/markdown": [
       "271"
      ],
      "text/plain": [
       "[1] 271"
      ]
     },
     "metadata": {},
     "output_type": "display_data"
    },
    {
     "data": {
      "text/html": [
       "77"
      ],
      "text/latex": [
       "77"
      ],
      "text/markdown": [
       "77"
      ],
      "text/plain": [
       "[1] 77"
      ]
     },
     "metadata": {},
     "output_type": "display_data"
    },
    {
     "data": {
      "text/html": [
       "49"
      ],
      "text/latex": [
       "49"
      ],
      "text/markdown": [
       "49"
      ],
      "text/plain": [
       "[1] 49"
      ]
     },
     "metadata": {},
     "output_type": "display_data"
    }
   ],
   "source": [
    "MSC_met_sigup_matrix = (DEmetFC_matrix > 0.58 & DEmetPvalue_matrix < 0.05 & \n",
    "                         DEmetFCage_matrix < -0.58 & DEmetPvalueage_matrix < 0.05 ) +0\n",
    "MSC_met_sigdown_matrix = -((DEmetFC_matrix < -0.58 & DEmetPvalue_matrix < 0.05& \n",
    "                         DEmetFCage_matrix > 0.58 & DEmetPvalueage_matrix < 0.05 ) +0)\n",
    "MSC_met_sigall_matrix = MSC_met_sigup_matrix + MSC_met_sigdown_matrix\n",
    "\n",
    "MSC_met_updown = data.frame(stringsAsFactors = F,num.up = colSums(MSC_met_sigup_matrix,na.rm =T)/colSums(!is.na(MSC_met_sigup_matrix)),\n",
    "                              num.down = colSums(MSC_met_sigdown_matrix,na.rm =T)/colSums(!is.na(MSC_met_sigdown_matrix)),\n",
    "                              num.all = colSums(abs(MSC_met_sigall_matrix),na.rm =T)/colSums(!is.na(MSC_met_sigall_matrix)),\n",
    "                             tissues = colnames(MSC_met_sigup_matrix),\n",
    "                             tissue_systems = tissue.systems)\n",
    "rownames(MSC_met_updown) = MSC_met_updown$tissues\n",
    "\n",
    "upmets = rownames(MSC_met_sigall_matrix)[rowSums(MSC_met_sigall_matrix > 0,na.rm = T) > 0]\n",
    "length(upmets)\n",
    "downmets = rownames(MSC_met_sigall_matrix)[rowSums(MSC_met_sigall_matrix < 0,na.rm = T) > 0]\n",
    "length(downmets)\n",
    "\n",
    "#writetxt(upmets,filename = './out/20220519_treatment/Common_DEG/met_common_up.txt',col.names = F)\n",
    "#writetxt(downmets,filename = './out/20220519_treatment/Common_DEG/met_common_down.txt',col.names = F)\n",
    "\n",
    "MSC_met_sigall_matrix.6tissues = MSC_met_sigall_matrix[,sixtissues]\n",
    "upgenes.met.6tissues = rownames(MSC_met_sigall_matrix.6tissues)[rowSums(MSC_met_sigall_matrix.6tissues > 0,na.rm = T) > 0]\n",
    "downgenes.met.6tissues = rownames(MSC_met_sigall_matrix.6tissues)[rowSums(MSC_met_sigall_matrix.6tissues < 0,na.rm = T) > 0]\n",
    "length(upgenes.met.6tissues)\n",
    "length(downgenes.met.6tissues)"
   ]
  },
  {
   "cell_type": "code",
   "execution_count": 126,
   "metadata": {},
   "outputs": [
    {
     "data": {
      "text/html": [
       "<strong>png:</strong> 2"
      ],
      "text/latex": [
       "\\textbf{png:} 2"
      ],
      "text/markdown": [
       "**png:** 2"
      ],
      "text/plain": [
       "png \n",
       "  2 "
      ]
     },
     "metadata": {},
     "output_type": "display_data"
    }
   ],
   "source": [
    "tmp = met.class_enrichment(upgenes.met.6tissues,met.header.all.hmdb.v)\n",
    "idx = tmp$p.adjust < 0.05\n",
    "metupgo = -log10(tmp$p.adjust[idx])\n",
    "names(metupgo) = tmp$Description[idx]\n",
    "\n",
    "tmp = met.class_enrichment(downgenes.met.6tissues,met.header.all.hmdb.v)\n",
    "idx = tmp$p.adjust < 0.05\n",
    "metdowngo = -log10(tmp$p.adjust[idx])\n",
    "names(metdowngo) = tmp$Description[idx]\n",
    "p = plot_enrich(metupgo, metdowngo,n_char = 40)\n",
    "\n",
    "pdf('./out/20220519_treatment/Common_DEG/MSCplot_commome_met_Enrichment_reverse_aging_6tissues.pdf',width = 4,height = 2.5)\n",
    "print(p)\n",
    "dev.off()"
   ]
  },
  {
   "cell_type": "code",
   "execution_count": null,
   "metadata": {},
   "outputs": [],
   "source": []
  }
 ],
 "metadata": {
  "kernelspec": {
   "display_name": "R",
   "language": "R",
   "name": "ir"
  },
  "language_info": {
   "codemirror_mode": "r",
   "file_extension": ".r",
   "mimetype": "text/x-r-source",
   "name": "R",
   "pygments_lexer": "r",
   "version": "3.6.0"
  },
  "toc": {
   "base_numbering": 1,
   "nav_menu": {},
   "number_sections": true,
   "sideBar": true,
   "skip_h1_title": false,
   "title_cell": "Table of Contents",
   "title_sidebar": "Contents",
   "toc_cell": false,
   "toc_position": {
    "height": "483.667px",
    "left": "487px",
    "top": "272.333px",
    "width": "479.467px"
   },
   "toc_section_display": true,
   "toc_window_display": true
  }
 },
 "nbformat": 4,
 "nbformat_minor": 2
}
